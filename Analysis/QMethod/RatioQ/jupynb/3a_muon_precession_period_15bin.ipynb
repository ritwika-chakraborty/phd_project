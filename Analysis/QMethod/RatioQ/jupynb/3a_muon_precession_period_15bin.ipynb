{
 "cells": [
  {
   "cell_type": "code",
   "execution_count": 1,
   "id": "77a6320d",
   "metadata": {},
   "outputs": [
    {
     "name": "stdout",
     "output_type": "stream",
     "text": [
      "Welcome to JupyROOT 6.24/06\n"
     ]
    }
   ],
   "source": [
    "import numpy as np\n",
    "import ROOT\n",
    "from math import exp as expo\n",
    "from math import cos as cosine\n",
    "from math import sin as sine\n",
    "sin=np.vectorize(sine)\n",
    "exp=np.vectorize(expo)\n",
    "cos=np.vectorize(cosine)\n",
    "import matplotlib.pylab as plt\n",
    "from matplotlib.pyplot import figure\n",
    "from BlindersPy3 import Blinders\n",
    "from BlindersPy3 import FitType\n",
    "import scipy.optimize as opt"
   ]
  },
  {
   "cell_type": "code",
   "execution_count": 2,
   "id": "b44a65f5",
   "metadata": {},
   "outputs": [],
   "source": [
    "file_1 = ROOT.TFile.Open(\"run3a_NE_nbinshift_15.root\")\n",
    "hist_1 = ROOT.TH1D()\n",
    "hcov_1 = ROOT.TH2D()\n",
    "hist_1 = file_1.Get(\"calo_histogram_sum_ratio\")\n",
    "hcov_1 = file_1.Get(\"hcov\")\n",
    "\n",
    "\n",
    "\n"
   ]
  },
  {
   "cell_type": "code",
   "execution_count": 3,
   "id": "3dc8e579",
   "metadata": {},
   "outputs": [],
   "source": [
    "fit_start=30000\n",
    "fit_stop=305000\n",
    "fit_range=hist_1.FindBin(fit_stop)-hist_1.FindBin(fit_start)+1\n",
    "y_val=np.empty(shape=(21,fit_range))\n",
    "y_err=np.empty(shape=(21,fit_range))\n",
    "x_val=np.empty(shape=(21,fit_range))\n",
    "y_cov=np.empty(shape=(21,fit_range,fit_range))  "
   ]
  },
  {
   "cell_type": "code",
   "execution_count": 4,
   "id": "ac3e125e",
   "metadata": {},
   "outputs": [
    {
     "name": "stdout",
     "output_type": "stream",
     "text": [
      "CPU times: user 6.67 s, sys: 1.34 s, total: 8.01 s\n",
      "Wall time: 8.01 s\n"
     ]
    }
   ],
   "source": [
    "%%time\n",
    "for ibin in range (0,fit_range):\n",
    "    y_val[0][ibin]=hist_1.GetBinContent(ibin+hist_1.FindBin(fit_start))\n",
    "    y_err[0][ibin]=hist_1.GetBinError(ibin+hist_1.FindBin(fit_start))\n",
    "    x_val[0][ibin]=hist_1.GetBinCenter(ibin+hist_1.FindBin(fit_start))\n",
    "\n",
    "for irow in range (0, fit_range):\n",
    "    for icol in range(0, fit_range):\n",
    "        y_cov[0][irow][icol]=hcov_1.GetBinContent(irow+hist_1.FindBin(fit_start),icol+hist_1.FindBin(fit_start))\n",
    "        \n",
    "\n",
    "\n",
    "        \n",
    "\n"
   ]
  },
  {
   "cell_type": "code",
   "execution_count": 5,
   "id": "ebf31c5f",
   "metadata": {},
   "outputs": [],
   "source": [
    "for icalo in range(0,1):\n",
    "    mat=np.linalg.eigvalsh(y_cov[icalo])\n",
    "    for irow in range (0, fit_range):\n",
    "        if mat[irow]<=0:\n",
    "            print(icalo,irow,\"\\n\")"
   ]
  },
  {
   "cell_type": "code",
   "execution_count": 6,
   "id": "bb2e9e33",
   "metadata": {},
   "outputs": [
    {
     "name": "stdout",
     "output_type": "stream",
     "text": [
      " + ++++++++++++++++++++++++++++++++++++++++++++++++++++++++++++++++++++ +\n",
      " +                                                                      +\n",
      " +           You have chose to blind your fitting according to          +\n",
      " +                omega_ref * (1 + (R +/- deltaR) *10^{-6})             +\n",
      " +                                                                      +\n",
      " + ++++++++++++++++++++++++++++++++++++++++++++++++++++++++++++++++++++ +\n"
     ]
    }
   ],
   "source": [
    "getBlinded = Blinders(FitType.Omega_a, \"Ritwika's new  Blinding\")"
   ]
  },
  {
   "cell_type": "code",
   "execution_count": 7,
   "id": "55ef9479",
   "metadata": {},
   "outputs": [],
   "source": [
    "T_a_true=4365.411\n",
    "#nbinshift=int((0.5*T_a_true)/hist_2.GetBinWidth(1))\n",
    "nbinshift=15\n",
    "T_a=2*nbinshift*hist_1.GetBinWidth(1)\n",
    "\n",
    "asym=np.empty(1)\n",
    "dasym=np.empty(1)\n",
    "rval=np.empty(1)\n",
    "drval=np.empty(1)\n",
    "phi=np.empty(1)\n",
    "dphi=np.empty(1)\n",
    "\n",
    "calonum=np.empty(1)\n",
    "red_chi2=np.empty(1)\n"
   ]
  },
  {
   "cell_type": "code",
   "execution_count": 8,
   "id": "84ee54d5",
   "metadata": {},
   "outputs": [],
   "source": [
    "def fit_func(time: np.double,\n",
    "             asym: np.double = 0.0, \n",
    "             R: np.double = 0.0, \n",
    "             phi: np.double = 0.0,\n",
    "             asym_cbo = 0.0,\n",
    "             tau_cbo = 0.0,\n",
    "             omega_cbo = 0.0,\n",
    "             phi_cbo = 0.0,\n",
    "             asym_cbo_A = 0.0,\n",
    "             phi_cbo_A=0.0,\n",
    "             A_cbo_phi= 0.0,\n",
    "             phi_cbo_phi=0.0,\n",
    "             asym_vw= 0.0,\n",
    "             tau_vw = 0.0,\n",
    "             omega_vw = 0.0,\n",
    "             phi_vw = 0.0,\n",
    "             asym_vbo= 0.0,\n",
    "             tau_vbo = 0.0,\n",
    "             omega_vbo = 0.0,\n",
    "             phi_vbo = 0.0,\n",
    "             asym_2cbo= 0.0,\n",
    "             phi_2cbo = 0.0,\n",
    "             tau_rlx = 0.0,\n",
    "             A_cbot = 0.0,\n",
    "             tau_cbot = 0.0,\n",
    "             A_cbovw = 0.0,\n",
    "             phi_cbovw = 0.0)-> np.double:\n",
    "    \n",
    "    tau_cbovw = 17680,\n",
    "    omega_cbovw = 0.012,\n",
    "    \n",
    "    omega_cbot=omega_cbo*(1+A_cbot*exp(-time/tau_cbot))\n",
    "    omega_cbotf=omega_cbo*(1+A_cbot*exp(-(time+T_a/2)/tau_cbot))\n",
    "    omega_cbotb=omega_cbo*(1+A_cbot*exp(-(time-T_a/2)/tau_cbot))\n",
    "    \n",
    "    Ncbo=(1 + asym_cbo*exp(-time/tau_cbo)*cos(omega_cbot*time - phi_cbo))\n",
    "    Ncbof=(1+ asym_cbo*exp(-(time + T_a/2)/tau_cbo)*cos(omega_cbotf*(time + T_a/2) - phi_cbo))\n",
    "    Ncbob=(1+ asym_cbo*exp(-(time - T_a/2)/tau_cbo)*cos(omega_cbotb*(time - T_a/2) - phi_cbo))\n",
    "    \n",
    "    Acbo=(1+ asym_cbo_A*exp(-time/tau_cbo)*cos(omega_cbot*time - phi_cbo_A));\n",
    "    Acbof=(1+ asym_cbo_A*exp(-(time + T_a/2)/tau_cbo)*cos(omega_cbotf*(time + T_a/2) - phi_cbo_A))\n",
    "    Acbob=(1+ asym_cbo_A*exp(-(time - T_a/2)/tau_cbo)*cos(omega_cbotb*(time - T_a/2) - phi_cbo_A))\n",
    "    \n",
    "    phicbo=(A_cbo_phi*exp(-time/tau_cbo)*cos(omega_cbot*time - phi_cbo_phi))\n",
    "    phicbof=(A_cbo_phi*exp(-(time + T_a/2)/tau_cbo)*cos(omega_cbotf*(time + T_a/2) - phi_cbo_phi))\n",
    "    phicbob=(A_cbo_phi*exp(-(time - T_a/2)/tau_cbo)*cos(omega_cbotb*(time - T_a/2) - phi_cbo_phi))\n",
    "    \n",
    "    Nvw=(1+ asym_vw*exp(-time/tau_vw)*cos(omega_vw*time - phi_vw))\n",
    "    Nvwf=(1+ asym_vw*exp(-(time + T_a/2)/tau_vw)*cos(omega_vw*(time + T_a/2) - phi_vw))\n",
    "    Nvwb=(1+ asym_vw*exp(-(time - T_a/2)/tau_vw)*cos(omega_vw*(time - T_a/2) - phi_vw))\n",
    "    \n",
    "    Nvbo=(1+ asym_vbo*exp(-time/tau_vbo)*cos(omega_vbo*time - phi_vbo))\n",
    "    Nvbof=(1+ asym_vbo*exp(-(time + T_a/2)/tau_vbo)*cos(omega_vbo*(time + T_a/2) - phi_vbo))\n",
    "    Nvbob=(1+ asym_vbo*exp(-(time - T_a/2)/tau_vbo)*cos(omega_vbo*(time - T_a/2) - phi_vbo))\n",
    "    \n",
    "    N2cbo=(asym_2cbo*exp(-2*time/tau_cbo)*cos(2*omega_cbot*time - phi_2cbo))\n",
    "    N2cbof=(asym_2cbo*exp(-2*(time + T_a/2)/tau_cbo)*cos(2*omega_cbotf*(time + T_a/2) - phi_2cbo))\n",
    "    N2cbob=(asym_2cbo*exp(-2*(time - T_a/2)/tau_cbo)*cos(2*omega_cbotb*(time - T_a/2) - phi_2cbo))\n",
    "    \n",
    "    Ncbovw=(1+ A_cbovw*exp(-time/tau_cbovw)*cos(omega_cbovw*time - phi_cbovw))\n",
    "    Ncbovwf=(1+ A_cbovw*exp(-(time + T_a/2)/tau_cbovw)*cos(omega_cbovw*(time + T_a/2) - phi_cbovw))\n",
    "    Ncbovwb=(1+ A_cbovw*exp(-(time - T_a/2)/tau_cbovw)*cos(omega_cbovw*(time - T_a/2) - phi_cbovw))\n",
    "\n",
    "    \n",
    "    Ncbo=Ncbo+N2cbo\n",
    "    Ncbof=Ncbof+N2cbof\n",
    "    Ncbob=Ncbob+N2cbob\n",
    "\n",
    "    \n",
    "    f=(1+ asym*exp(-time/tau_rlx)*Acbo*cos((getBlinded.paramToFreq(R)/1000.)*time - phi - phicbo))\n",
    "\n",
    "    ff=(1+ asym*exp(-(time+T_a/2)/tau_rlx)*Acbof*cos((getBlinded.paramToFreq(R)/1000.)*(time + T_a/2) - phi - phicbof))\n",
    "\n",
    "    fb=(1+ asym*exp(-(time-T_a/2)/tau_rlx)*Acbob*cos((getBlinded.paramToFreq(R)/1000.)*(time - T_a/2) - phi - phicbob))\n",
    "\n",
    "    \n",
    "    return (2*f*Ncbo*Nvw*Nvbo*Ncbovw - ff*Ncbof*Nvwf*Nvbof*Ncbovwf - fb*Ncbob*Nvwb*Nvbob*Ncbovwb)/(2*f*Ncbo*Nvw*Nvbo*Ncbovw + ff*Ncbof*Nvwf*Nvbof*Ncbovwf + fb*Ncbob*Nvwb*Nvbob*Ncbovwb)"
   ]
  },
  {
   "cell_type": "code",
   "execution_count": 9,
   "id": "ac13f1d9",
   "metadata": {},
   "outputs": [],
   "source": [
    "p_init=[2.28839e-01,\n",
    "        0.000000,\n",
    "        4.02000e+00,\n",
    "        2.42604e-03,\n",
    "        2.54062e+05,\n",
    "        2.330e-03,\n",
    "        5.56481e-01,\n",
    "        6.91318e-04,\n",
    "        -5.78075e+00,\n",
    "        6.39026e-05,\n",
    "        3.52887e+01,\n",
    "        2.36536e-04,\n",
    "        1.38419e+05,\n",
    "        1.389e-02,\n",
    "        2.73495e-01,\n",
    "        -1.00112e-03,\n",
    "        3.48295e+04,\n",
    "        1.407e-02,\n",
    "        -1.99555e+01,\n",
    "        1.10668e-04,\n",
    "        3.06805e+00,\n",
    "        3.7000e+08,\n",
    "        0.0047,\n",
    "        23100,\n",
    "        0.00014,\n",
    "        4.2]"
   ]
  },
  {
   "cell_type": "code",
   "execution_count": 10,
   "id": "42d7ab1a",
   "metadata": {},
   "outputs": [
    {
     "name": "stdout",
     "output_type": "stream",
     "text": [
      "CPU times: user 10.6 s, sys: 1.32 s, total: 11.9 s\n",
      "Wall time: 8.27 s\n"
     ]
    }
   ],
   "source": [
    "%%time\n",
    "for icalo in range(0,1): \n",
    "    \n",
    "    p_init_final=p_init\n",
    "    \n",
    "    pars2, cov_final = opt.curve_fit(f=fit_func, xdata=x_val[icalo], ydata=y_val[icalo], p0=p_init_final, sigma=y_cov[icalo])\n",
    "    \n",
    "    \n",
    "    stdevs=np.sqrt(np.diag(cov_final))\n",
    "    \n",
    "    chi2=np.dot((np.transpose(y_val[icalo]-fit_func(x_val[icalo], *pars2))),(np.dot((np.linalg.inv(y_cov[icalo])),(y_val[icalo]-fit_func(x_val[icalo], *pars2)))))\n",
    "    red_chi2[icalo]=chi2/(fit_range-len(pars2))\n",
    "    calonum[icalo]=icalo+1\n",
    "    \n",
    "    asym[icalo]=pars2[0]\n",
    "    dasym[icalo]=stdevs[0]\n",
    "    rval[icalo]=pars2[1]\n",
    "    drval[icalo]=stdevs[1]\n",
    "    phi[icalo]=pars2[2]\n",
    "    dphi[icalo]=stdevs[2]\n",
    "    \n",
    "    \n",
    "    p_init_final=pars2    \n",
    "    \n"
   ]
  },
  {
   "cell_type": "code",
   "execution_count": 11,
   "id": "6b117795",
   "metadata": {},
   "outputs": [
    {
     "data": {
      "text/plain": [
       "array([-35.22624838])"
      ]
     },
     "execution_count": 11,
     "metadata": {},
     "output_type": "execute_result"
    }
   ],
   "source": [
    "rval"
   ]
  },
  {
   "cell_type": "code",
   "execution_count": 12,
   "id": "45fd3c6c",
   "metadata": {},
   "outputs": [
    {
     "data": {
      "text/plain": [
       "array([0.38089461])"
      ]
     },
     "execution_count": 12,
     "metadata": {},
     "output_type": "execute_result"
    }
   ],
   "source": [
    "drval"
   ]
  },
  {
   "cell_type": "code",
   "execution_count": 13,
   "id": "b78a9fab",
   "metadata": {},
   "outputs": [
    {
     "data": {
      "text/plain": [
       "array([1.01055958])"
      ]
     },
     "execution_count": 13,
     "metadata": {},
     "output_type": "execute_result"
    }
   ],
   "source": [
    "red_chi2"
   ]
  },
  {
   "cell_type": "code",
   "execution_count": null,
   "id": "3c8e6a38",
   "metadata": {},
   "outputs": [],
   "source": []
  },
  {
   "cell_type": "code",
   "execution_count": null,
   "id": "e586b979",
   "metadata": {},
   "outputs": [],
   "source": []
  }
 ],
 "metadata": {
  "kernelspec": {
   "display_name": "Python 3",
   "language": "python",
   "name": "python3"
  },
  "language_info": {
   "codemirror_mode": {
    "name": "ipython",
    "version": 3
   },
   "file_extension": ".py",
   "mimetype": "text/x-python",
   "name": "python",
   "nbconvert_exporter": "python",
   "pygments_lexer": "ipython3",
   "version": "3.6.9"
  }
 },
 "nbformat": 4,
 "nbformat_minor": 5
}
