{
 "cells": [
  {
   "cell_type": "code",
   "execution_count": 1,
   "id": "77a6320d",
   "metadata": {},
   "outputs": [
    {
     "name": "stdout",
     "output_type": "stream",
     "text": [
      "Welcome to JupyROOT 6.24/06\n"
     ]
    }
   ],
   "source": [
    "import numpy as np\n",
    "import ROOT\n",
    "from math import exp as expo\n",
    "from math import cos as cosine\n",
    "from math import sin as sine\n",
    "sin=np.vectorize(sine)\n",
    "exp=np.vectorize(expo)\n",
    "cos=np.vectorize(cosine)\n",
    "import matplotlib.pylab as plt\n",
    "from matplotlib.pyplot import figure\n",
    "from BlindersPy3 import Blinders\n",
    "from BlindersPy3 import FitType\n",
    "import scipy.optimize as opt"
   ]
  },
  {
   "cell_type": "code",
   "execution_count": 2,
   "id": "b44a65f5",
   "metadata": {},
   "outputs": [],
   "source": [
    "file_1 = ROOT.TFile.Open(\"run2H_NE_scalingtest_1001.root\")\n",
    "hist_1 = ROOT.TH1D()\n",
    "hcov_1 = ROOT.TH2D()\n",
    "hist_1 = file_1.Get(\"calo_histogram_sum_ratio\")\n",
    "hcov_1 = file_1.Get(\"hcov\")\n",
    "file_2 = ROOT.TFile.Open(\"run2H_NE_scalingtest_1002.root\")\n",
    "hist_2 = ROOT.TH1D()\n",
    "hcov_2 = ROOT.TH2D()\n",
    "hist_2 = file_2.Get(\"calo_histogram_sum_ratio\")\n",
    "hcov_2 = file_2.Get(\"hcov\")\n",
    "file_3 = ROOT.TFile.Open(\"run2H_NE_scalingtest_1003.root\")\n",
    "hist_3 = ROOT.TH1D()\n",
    "hcov_3 = ROOT.TH2D()\n",
    "hist_3 = file_3.Get(\"calo_histogram_sum_ratio\")\n",
    "hcov_3 = file_3.Get(\"hcov\")\n",
    "file_4 = ROOT.TFile.Open(\"run2H_NE_scalingtest_1004.root\")\n",
    "hist_4 = ROOT.TH1D()\n",
    "hcov_4 = ROOT.TH2D()\n",
    "hist_4 = file_4.Get(\"calo_histogram_sum_ratio\")\n",
    "hcov_4 = file_4.Get(\"hcov\")\n",
    "file_5 = ROOT.TFile.Open(\"run2H_NE_scalingtest_1005.root\")\n",
    "hist_5 = ROOT.TH1D()\n",
    "hcov_5 = ROOT.TH2D()\n",
    "hist_5 = file_5.Get(\"calo_histogram_sum_ratio\")\n",
    "hcov_5 = file_5.Get(\"hcov\")\n",
    "file_6 = ROOT.TFile.Open(\"run2H_NE_scalingtest_1006.root\")\n",
    "hist_6 = ROOT.TH1D()\n",
    "hcov_6 = ROOT.TH2D()\n",
    "hist_6 = file_6.Get(\"calo_histogram_sum_ratio\")\n",
    "hcov_6 = file_6.Get(\"hcov\")\n",
    "file_7 = ROOT.TFile.Open(\"run2H_NE_scalingtest_1007.root\")\n",
    "hist_7 = ROOT.TH1D()\n",
    "hcov_7 = ROOT.TH2D()\n",
    "hist_7 = file_7.Get(\"calo_histogram_sum_ratio\")\n",
    "hcov_7 = file_7.Get(\"hcov\")\n",
    "file_8 = ROOT.TFile.Open(\"run2H_NE_scalingtest_1008.root\")\n",
    "hist_8 = ROOT.TH1D()\n",
    "hcov_8 = ROOT.TH2D()\n",
    "hist_8 = file_8.Get(\"calo_histogram_sum_ratio\")\n",
    "hcov_8 = file_8.Get(\"hcov\")\n",
    "file_9 = ROOT.TFile.Open(\"run2H_NE_scalingtest_1009.root\")\n",
    "hist_9 = ROOT.TH1D()\n",
    "hcov_9 = ROOT.TH2D()\n",
    "hist_9 = file_9.Get(\"calo_histogram_sum_ratio\")\n",
    "hcov_9 = file_9.Get(\"hcov\")"
   ]
  },
  {
   "cell_type": "code",
   "execution_count": 3,
   "id": "3dc8e579",
   "metadata": {},
   "outputs": [],
   "source": [
    "fit_start=30000\n",
    "fit_stop=305000\n",
    "fit_range=hist_1.FindBin(fit_stop)-hist_1.FindBin(fit_start)+1\n",
    "y_val=np.empty(shape=(16,fit_range))\n",
    "y_err=np.empty(shape=(16,fit_range))\n",
    "x_val=np.empty(shape=(16,fit_range))\n",
    "y_cov=np.empty(shape=(16,fit_range,fit_range))  "
   ]
  },
  {
   "cell_type": "code",
   "execution_count": 4,
   "id": "ac3e125e",
   "metadata": {},
   "outputs": [
    {
     "name": "stdout",
     "output_type": "stream",
     "text": [
      "CPU times: user 57.9 s, sys: 13.1 s, total: 1min 10s\n",
      "Wall time: 1min 10s\n"
     ]
    }
   ],
   "source": [
    "%%time\n",
    "for ibin in range (0,fit_range):\n",
    "    y_val[0][ibin]=hist_1.GetBinContent(ibin+hist_1.FindBin(fit_start))\n",
    "    y_err[0][ibin]=hist_1.GetBinError(ibin+hist_1.FindBin(fit_start))\n",
    "    x_val[0][ibin]=hist_1.GetBinCenter(ibin+hist_1.FindBin(fit_start))\n",
    "\n",
    "for irow in range (0, fit_range):\n",
    "    for icol in range(0, fit_range):\n",
    "        y_cov[0][irow][icol]=hcov_1.GetBinContent(irow+hist_1.FindBin(fit_start),icol+hist_1.FindBin(fit_start))\n",
    "        \n",
    "\n",
    "for ibin in range (0,fit_range):\n",
    "    y_val[1][ibin]=hist_2.GetBinContent(ibin+hist_2.FindBin(fit_start))\n",
    "    y_err[1][ibin]=hist_2.GetBinError(ibin+hist_2.FindBin(fit_start))\n",
    "    x_val[1][ibin]=hist_2.GetBinCenter(ibin+hist_2.FindBin(fit_start))\n",
    "\n",
    "for irow in range (0, fit_range):\n",
    "    for icol in range(0, fit_range):\n",
    "        y_cov[1][irow][icol]=hcov_2.GetBinContent(irow+hist_2.FindBin(fit_start),icol+hist_2.FindBin(fit_start))\n",
    "        \n",
    "\n",
    "for ibin in range (0,fit_range):\n",
    "    y_val[2][ibin]=hist_3.GetBinContent(ibin+hist_3.FindBin(fit_start))\n",
    "    y_err[2][ibin]=hist_3.GetBinError(ibin+hist_3.FindBin(fit_start))\n",
    "    x_val[2][ibin]=hist_3.GetBinCenter(ibin+hist_3.FindBin(fit_start))\n",
    "\n",
    "for irow in range (0, fit_range):\n",
    "    for icol in range(0, fit_range):\n",
    "        y_cov[2][irow][icol]=hcov_3.GetBinContent(irow+hist_3.FindBin(fit_start),icol+hist_3.FindBin(fit_start))\n",
    "        \n",
    "\n",
    "for ibin in range (0,fit_range):\n",
    "    y_val[3][ibin]=hist_4.GetBinContent(ibin+hist_4.FindBin(fit_start))\n",
    "    y_err[3][ibin]=hist_4.GetBinError(ibin+hist_4.FindBin(fit_start))\n",
    "    x_val[3][ibin]=hist_4.GetBinCenter(ibin+hist_4.FindBin(fit_start))\n",
    "\n",
    "for irow in range (0, fit_range):\n",
    "    for icol in range(0, fit_range):\n",
    "        y_cov[3][irow][icol]=hcov_4.GetBinContent(irow+hist_4.FindBin(fit_start),icol+hist_4.FindBin(fit_start))\n",
    "        \n",
    "\n",
    "for ibin in range (0,fit_range):\n",
    "    y_val[4][ibin]=hist_5.GetBinContent(ibin+hist_5.FindBin(fit_start))\n",
    "    y_err[4][ibin]=hist_5.GetBinError(ibin+hist_5.FindBin(fit_start))\n",
    "    x_val[4][ibin]=hist_5.GetBinCenter(ibin+hist_5.FindBin(fit_start))\n",
    "\n",
    "for irow in range (0, fit_range):\n",
    "    for icol in range(0, fit_range):\n",
    "        y_cov[4][irow][icol]=hcov_5.GetBinContent(irow+hist_5.FindBin(fit_start),icol+hist_5.FindBin(fit_start))\n",
    "        \n",
    "\n",
    "for ibin in range (0,fit_range):\n",
    "    y_val[5][ibin]=hist_6.GetBinContent(ibin+hist_6.FindBin(fit_start))\n",
    "    y_err[5][ibin]=hist_6.GetBinError(ibin+hist_6.FindBin(fit_start))\n",
    "    x_val[5][ibin]=hist_6.GetBinCenter(ibin+hist_6.FindBin(fit_start))\n",
    "\n",
    "for irow in range (0, fit_range):\n",
    "    for icol in range(0, fit_range):\n",
    "        y_cov[5][irow][icol]=hcov_6.GetBinContent(irow+hist_6.FindBin(fit_start),icol+hist_6.FindBin(fit_start))\n",
    "\n",
    "\n",
    "for ibin in range (0,fit_range):\n",
    "    y_val[6][ibin]=hist_7.GetBinContent(ibin+hist_7.FindBin(fit_start))\n",
    "    y_err[6][ibin]=hist_7.GetBinError(ibin+hist_7.FindBin(fit_start))\n",
    "    x_val[6][ibin]=hist_7.GetBinCenter(ibin+hist_7.FindBin(fit_start))\n",
    "\n",
    "for irow in range (0, fit_range):\n",
    "    for icol in range(0, fit_range):\n",
    "        y_cov[6][irow][icol]=hcov_7.GetBinContent(irow+hist_7.FindBin(fit_start),icol+hist_7.FindBin(fit_start))\n",
    "        \n",
    "\n",
    "for ibin in range (0,fit_range):\n",
    "    y_val[7][ibin]=hist_8.GetBinContent(ibin+hist_8.FindBin(fit_start))\n",
    "    y_err[7][ibin]=hist_8.GetBinError(ibin+hist_8.FindBin(fit_start))\n",
    "    x_val[7][ibin]=hist_8.GetBinCenter(ibin+hist_8.FindBin(fit_start))\n",
    "\n",
    "for irow in range (0, fit_range):\n",
    "    for icol in range(0, fit_range):\n",
    "        y_cov[7][irow][icol]=hcov_8.GetBinContent(irow+hist_8.FindBin(fit_start),icol+hist_8.FindBin(fit_start))\n",
    "        \n",
    "\n",
    "for ibin in range (0,fit_range):\n",
    "    y_val[8][ibin]=hist_9.GetBinContent(ibin+hist_9.FindBin(fit_start))\n",
    "    y_err[8][ibin]=hist_9.GetBinError(ibin+hist_9.FindBin(fit_start))\n",
    "    x_val[8][ibin]=hist_9.GetBinCenter(ibin+hist_9.FindBin(fit_start))\n",
    "\n",
    "for irow in range (0, fit_range):\n",
    "    for icol in range(0, fit_range):\n",
    "        y_cov[8][irow][icol]=hcov_9.GetBinContent(irow+hist_9.FindBin(fit_start),icol+hist_9.FindBin(fit_start))\n",
    "        \n",
    "\n"
   ]
  },
  {
   "cell_type": "code",
   "execution_count": 5,
   "id": "bb2e9e33",
   "metadata": {},
   "outputs": [
    {
     "name": "stdout",
     "output_type": "stream",
     "text": [
      " + ++++++++++++++++++++++++++++++++++++++++++++++++++++++++++++++++++++ +\n",
      " +                                                                      +\n",
      " +           You have chose to blind your fitting according to          +\n",
      " +                omega_ref * (1 + (R +/- deltaR) *10^{-6})             +\n",
      " +                                                                      +\n",
      " + ++++++++++++++++++++++++++++++++++++++++++++++++++++++++++++++++++++ +\n"
     ]
    }
   ],
   "source": [
    "getBlinded = Blinders(FitType.Omega_a, \"Ritwika's new  Blinding\")"
   ]
  },
  {
   "cell_type": "code",
   "execution_count": 6,
   "id": "55ef9479",
   "metadata": {},
   "outputs": [],
   "source": [
    "T_a_true=4365.411\n",
    "nbinshift=int((0.5*T_a_true)/hist_2.GetBinWidth(1))\n",
    "T_a=2*nbinshift*hist_2.GetBinWidth(1)\n",
    "\n",
    "asym=np.empty(16)\n",
    "dasym=np.empty(16)\n",
    "rval=np.empty(16)\n",
    "drval=np.empty(16)\n",
    "phi=np.empty(16)\n",
    "dphi=np.empty(16)\n",
    "A_cbo=np.empty(16)\n",
    "dA_cbo=np.empty(16)\n",
    "tau_cbo=np.empty(16)\n",
    "dtau_cbo=np.empty(16)\n",
    "omega_cbo=np.empty(16)\n",
    "domega_cbo=np.empty(16)\n",
    "phi_cbo=np.empty(16)\n",
    "dphi_cbo=np.empty(16)\n",
    "A_cbo_A=np.empty(16)\n",
    "dA_cbo_A=np.empty(16)\n",
    "phi_cbo_A=np.empty(16)\n",
    "dphi_cbo_A=np.empty(16)\n",
    "A_cbo_phi=np.empty(16)\n",
    "dA_cbo_phi=np.empty(16)\n",
    "phi_cbo_phi=np.empty(16)\n",
    "dphi_cbo_phi=np.empty(16)\n",
    "A_vw=np.empty(16)\n",
    "dA_vw=np.empty(16)\n",
    "tau_vw=np.empty(16)\n",
    "dtau_vw=np.empty(16)\n",
    "omega_vw=np.empty(16)\n",
    "domega_vw=np.empty(16)\n",
    "phi_vw=np.empty(16)\n",
    "dphi_vw=np.empty(16)\n",
    "A_y=np.empty(16)\n",
    "dA_y=np.empty(16)\n",
    "tau_y=np.empty(16)\n",
    "dtau_y=np.empty(16)\n",
    "omega_y=np.empty(16)\n",
    "domega_y=np.empty(16)\n",
    "phi_y=np.empty(16)\n",
    "dphi_y=np.empty(16)\n",
    "A_2cbo=np.empty(16)\n",
    "dA_2cbo=np.empty(16)\n",
    "tau_2cbo=np.empty(16)\n",
    "dtau_2cbo=np.empty(16)\n",
    "omega_2cbo=np.empty(16)\n",
    "domega_2cbo=np.empty(16)\n",
    "phi_2cbo=np.empty(16)\n",
    "dphi_2cbo=np.empty(16)\n",
    "calonum=np.empty(16)\n",
    "red_chi2=np.empty(16)\n"
   ]
  },
  {
   "cell_type": "code",
   "execution_count": 7,
   "id": "e00cdfd4",
   "metadata": {},
   "outputs": [],
   "source": [
    "def fit_func(time: np.double,\n",
    "             asym: np.double = 0.0, \n",
    "             R: np.double = 0.0, \n",
    "             phi: np.double = 0.0,\n",
    "             asym_cbo = 0.0,\n",
    "             tau_cbo = 0.0,\n",
    "             omega_cbo = 0.0,\n",
    "             phi_cbo = 0.0,\n",
    "             asym_cbo_A = 0.0,\n",
    "             phi_cbo_A=0.0,\n",
    "             A_cbo_phi= 0.0,\n",
    "             phi_cbo_phi=0.0,\n",
    "             asym_vw= 0.0,\n",
    "             tau_vw = 0.0,\n",
    "             omega_vw = 0.0,\n",
    "             phi_vw = 0.0,\n",
    "             asym_vbo= 0.0,\n",
    "             tau_vbo = 0.0,\n",
    "             omega_vbo = 0.0,\n",
    "             phi_vbo = 0.0,\n",
    "             asym_2cbo= 0.0,\n",
    "             phi_2cbo = 0.0)-> np.double:\n",
    "    \n",
    "    Ncbo=(1 + asym_cbo*exp(-time/tau_cbo)*cos(omega_cbo*time - phi_cbo))\n",
    "    Ncbof=(1+ asym_cbo*exp(-(time + T_a/2)/tau_cbo)*cos(omega_cbo*(time + T_a/2) - phi_cbo))\n",
    "    Ncbob=(1+ asym_cbo*exp(-(time - T_a/2)/tau_cbo)*cos(omega_cbo*(time - T_a/2) - phi_cbo))\n",
    "    Acbo=(1+ asym_cbo_A*exp(-time/tau_cbo)*cos(omega_cbo*time - phi_cbo_A));\n",
    "    Acbof=(1+ asym_cbo_A*exp(-(time + T_a/2)/tau_cbo)*cos(omega_cbo*(time + T_a/2) - phi_cbo_A))\n",
    "    Acbob=(1+ asym_cbo_A*exp(-(time - T_a/2)/tau_cbo)*cos(omega_cbo*(time - T_a/2) - phi_cbo_A))\n",
    "    phicbo=(A_cbo_phi*exp(-time/tau_cbo)*cos(omega_cbo*time - phi_cbo_phi))\n",
    "    phicbof=(A_cbo_phi*exp(-(time + T_a/2)/tau_cbo)*cos(omega_cbo*(time + T_a/2) - phi_cbo_phi))\n",
    "    phicbob=(A_cbo_phi*exp(-(time - T_a/2)/tau_cbo)*cos(omega_cbo*(time - T_a/2) - phi_cbo_phi))\n",
    "    Nvw=(1+ asym_vw*exp(-time/tau_vw)*cos(omega_vw*time - phi_vw))\n",
    "    Nvwf=(1+ asym_vw*exp(-(time + T_a/2)/tau_vw)*cos(omega_vw*(time + T_a/2) - phi_vw))\n",
    "    Nvwb=(1+ asym_vw*exp(-(time - T_a/2)/tau_vw)*cos(omega_vw*(time - T_a/2) - phi_vw))\n",
    "    Nvbo=(1+ asym_vbo*exp(-time/tau_vbo)*cos(omega_vbo*time - phi_vbo))\n",
    "    Nvbof=(1+ asym_vbo*exp(-(time + T_a/2)/tau_vbo)*cos(omega_vbo*(time + T_a/2) - phi_vbo))\n",
    "    Nvbob=(1+ asym_vbo*exp(-(time - T_a/2)/tau_vbo)*cos(omega_vbo*(time - T_a/2) - phi_vbo))\n",
    "    N2cbo=(asym_2cbo*exp(-2*time/tau_cbo)*cos(2*omega_cbo*time - phi_2cbo))\n",
    "    N2cbof=(asym_2cbo*exp(-2*(time + T_a/2)/tau_cbo)*cos(2*omega_cbo*(time + T_a/2) - phi_2cbo))\n",
    "    N2cbob=(asym_2cbo*exp(-2*(time - T_a/2)/tau_cbo)*cos(2*omega_cbo*(time - T_a/2) - phi_2cbo))\n",
    "    \n",
    "    Ncbo=Ncbo+N2cbo\n",
    "    Ncbof=Ncbof+N2cbof\n",
    "    Ncbob=Ncbob+N2cbob\n",
    "\n",
    "    \n",
    "    f=(1+ asym*Acbo*cos((getBlinded.paramToFreq(R)/1000.)*time - phi - phicbo))\n",
    "\n",
    "    ff=(1+ asym*Acbof*cos((getBlinded.paramToFreq(R)/1000.)*(time + T_a/2) - phi - phicbof))\n",
    "\n",
    "    fb=(1+ asym*Acbob*cos((getBlinded.paramToFreq(R)/1000.)*(time - T_a/2) - phi - phicbob))\n",
    "\n",
    "    \n",
    "    return (2*f*Ncbo*Nvw*Nvbo - ff*Ncbof*Nvwf*Nvbof - fb*Ncbob*Nvwb*Nvbob)/(2*f*Ncbo*Nvw*Nvbo + ff*Ncbof*Nvwf*Nvbof + fb*Ncbob*Nvwb*Nvbob)"
   ]
  },
  {
   "cell_type": "code",
   "execution_count": 8,
   "id": "f9ce37ab",
   "metadata": {},
   "outputs": [],
   "source": [
    "p_init=[2.28839e-01,\n",
    "        0.000000,\n",
    "        4.02000e+00,\n",
    "        2.42604e-03,\n",
    "        2.70e+05,\n",
    "        2.3404e-03,\n",
    "        5.56481e-01,\n",
    "        6.91318e-04,\n",
    "        5.78e+00,\n",
    "        6.39e-05,\n",
    "        3.52e+01,\n",
    "        2.36e-04,\n",
    "        175334,\n",
    "        1.393e-02,\n",
    "        2.73e-01,\n",
    "        1.001e-03,\n",
    "        28138,\n",
    "        1.4037e-02,\n",
    "        1.5,\n",
    "        1.106e-04,\n",
    "        3.06e+00]"
   ]
  },
  {
   "cell_type": "code",
   "execution_count": 9,
   "id": "4aa030a5",
   "metadata": {},
   "outputs": [],
   "source": [
    "scaling=[1.001,1.002,1.003,1.004,1.005,1.006,1.007,1.008,1.009]"
   ]
  },
  {
   "cell_type": "code",
   "execution_count": 10,
   "id": "42d7ab1a",
   "metadata": {},
   "outputs": [
    {
     "ename": "ValueError",
     "evalue": "`sigma` must be positive definite.",
     "output_type": "error",
     "traceback": [
      "\u001b[0;31m---------------------------------------------------------------------------\u001b[0m",
      "\u001b[0;31mLinAlgError\u001b[0m                               Traceback (most recent call last)",
      "\u001b[0;32m~/.local/lib/python3.6/site-packages/scipy/optimize/minpack.py\u001b[0m in \u001b[0;36mcurve_fit\u001b[0;34m(f, xdata, ydata, p0, sigma, absolute_sigma, check_finite, bounds, method, jac, **kwargs)\u001b[0m\n\u001b[1;32m    760\u001b[0m                 \u001b[0;31m# scipy.linalg.cholesky requires lower=True to return L L^T = A\u001b[0m\u001b[0;34m\u001b[0m\u001b[0;34m\u001b[0m\u001b[0;34m\u001b[0m\u001b[0m\n\u001b[0;32m--> 761\u001b[0;31m                 \u001b[0mtransform\u001b[0m \u001b[0;34m=\u001b[0m \u001b[0mcholesky\u001b[0m\u001b[0;34m(\u001b[0m\u001b[0msigma\u001b[0m\u001b[0;34m,\u001b[0m \u001b[0mlower\u001b[0m\u001b[0;34m=\u001b[0m\u001b[0;32mTrue\u001b[0m\u001b[0;34m)\u001b[0m\u001b[0;34m\u001b[0m\u001b[0;34m\u001b[0m\u001b[0m\n\u001b[0m\u001b[1;32m    762\u001b[0m             \u001b[0;32mexcept\u001b[0m \u001b[0mLinAlgError\u001b[0m\u001b[0;34m:\u001b[0m\u001b[0;34m\u001b[0m\u001b[0;34m\u001b[0m\u001b[0m\n",
      "\u001b[0;32m~/.local/lib/python3.6/site-packages/scipy/linalg/decomp_cholesky.py\u001b[0m in \u001b[0;36mcholesky\u001b[0;34m(a, lower, overwrite_a, check_finite)\u001b[0m\n\u001b[1;32m     88\u001b[0m     c, lower = _cholesky(a, lower=lower, overwrite_a=overwrite_a, clean=True,\n\u001b[0;32m---> 89\u001b[0;31m                          check_finite=check_finite)\n\u001b[0m\u001b[1;32m     90\u001b[0m     \u001b[0;32mreturn\u001b[0m \u001b[0mc\u001b[0m\u001b[0;34m\u001b[0m\u001b[0;34m\u001b[0m\u001b[0m\n",
      "\u001b[0;32m~/.local/lib/python3.6/site-packages/scipy/linalg/decomp_cholesky.py\u001b[0m in \u001b[0;36m_cholesky\u001b[0;34m(a, lower, overwrite_a, clean, check_finite)\u001b[0m\n\u001b[1;32m     37\u001b[0m         raise LinAlgError(\"%d-th leading minor of the array is not positive \"\n\u001b[0;32m---> 38\u001b[0;31m                           \"definite\" % info)\n\u001b[0m\u001b[1;32m     39\u001b[0m     \u001b[0;32mif\u001b[0m \u001b[0minfo\u001b[0m \u001b[0;34m<\u001b[0m \u001b[0;36m0\u001b[0m\u001b[0;34m:\u001b[0m\u001b[0;34m\u001b[0m\u001b[0;34m\u001b[0m\u001b[0m\n",
      "\u001b[0;31mLinAlgError\u001b[0m: 188-th leading minor of the array is not positive definite",
      "\nDuring handling of the above exception, another exception occurred:\n",
      "\u001b[0;31mValueError\u001b[0m                                Traceback (most recent call last)",
      "\u001b[0;32m<timed exec>\u001b[0m in \u001b[0;36m<module>\u001b[0;34m\u001b[0m\n",
      "\u001b[0;32m~/.local/lib/python3.6/site-packages/scipy/optimize/minpack.py\u001b[0m in \u001b[0;36mcurve_fit\u001b[0;34m(f, xdata, ydata, p0, sigma, absolute_sigma, check_finite, bounds, method, jac, **kwargs)\u001b[0m\n\u001b[1;32m    761\u001b[0m                 \u001b[0mtransform\u001b[0m \u001b[0;34m=\u001b[0m \u001b[0mcholesky\u001b[0m\u001b[0;34m(\u001b[0m\u001b[0msigma\u001b[0m\u001b[0;34m,\u001b[0m \u001b[0mlower\u001b[0m\u001b[0;34m=\u001b[0m\u001b[0;32mTrue\u001b[0m\u001b[0;34m)\u001b[0m\u001b[0;34m\u001b[0m\u001b[0;34m\u001b[0m\u001b[0m\n\u001b[1;32m    762\u001b[0m             \u001b[0;32mexcept\u001b[0m \u001b[0mLinAlgError\u001b[0m\u001b[0;34m:\u001b[0m\u001b[0;34m\u001b[0m\u001b[0;34m\u001b[0m\u001b[0m\n\u001b[0;32m--> 763\u001b[0;31m                 \u001b[0;32mraise\u001b[0m \u001b[0mValueError\u001b[0m\u001b[0;34m(\u001b[0m\u001b[0;34m\"`sigma` must be positive definite.\"\u001b[0m\u001b[0;34m)\u001b[0m\u001b[0;34m\u001b[0m\u001b[0;34m\u001b[0m\u001b[0m\n\u001b[0m\u001b[1;32m    764\u001b[0m         \u001b[0;32melse\u001b[0m\u001b[0;34m:\u001b[0m\u001b[0;34m\u001b[0m\u001b[0;34m\u001b[0m\u001b[0m\n\u001b[1;32m    765\u001b[0m             \u001b[0;32mraise\u001b[0m \u001b[0mValueError\u001b[0m\u001b[0;34m(\u001b[0m\u001b[0;34m\"`sigma` has incorrect shape.\"\u001b[0m\u001b[0;34m)\u001b[0m\u001b[0;34m\u001b[0m\u001b[0;34m\u001b[0m\u001b[0m\n",
      "\u001b[0;31mValueError\u001b[0m: `sigma` must be positive definite."
     ]
    }
   ],
   "source": [
    "%%time\n",
    "for icalo in range(0,9): \n",
    "    \n",
    "    pars23, cov23 = opt.curve_fit(f=fit_func, xdata=x_val[icalo], ydata=y_val[icalo], p0=p_init, sigma=y_err[icalo])\n",
    "\n",
    "    p_init_final=pars23\n",
    "    \n",
    "    pars2, cov_final = opt.curve_fit(f=fit_func, xdata=x_val[icalo], ydata=y_val[icalo], p0=p_init_final, sigma=y_cov[icalo])\n",
    "    \n",
    "    \n",
    "    stdevs=np.sqrt(np.diag(cov_final))\n",
    "    \n",
    "    chi2=np.dot((np.transpose(y_val[icalo]-fit_func(x_val[icalo], *pars2))),(np.dot((np.linalg.inv(y_cov[icalo])),(y_val[icalo]-fit_func(x_val[icalo], *pars2)))))\n",
    "    red_chi2[icalo]=chi2/(fit_range-len(pars2))\n",
    "    calonum[icalo]=icalo+1\n",
    "    \n",
    "    asym[icalo]=pars2[0]\n",
    "    dasym[icalo]=stdevs[0]\n",
    "    rval[icalo]=pars2[1]\n",
    "    drval[icalo]=stdevs[1]\n",
    "    phi[icalo]=pars2[2]\n",
    "    dphi[icalo]=stdevs[2]\n",
    "    A_cbo[icalo]=pars2[3]\n",
    "    dA_cbo[icalo]=stdevs[3]\n",
    "    tau_cbo[icalo]=pars2[4]\n",
    "    dtau_cbo[icalo]=stdevs[4]\n",
    "    omega_cbo[icalo]=pars2[5]\n",
    "    domega_cbo[icalo]=stdevs[5]\n",
    "    phi_cbo[icalo]=pars2[6]\n",
    "    dphi_cbo[icalo]=stdevs[6]\n",
    "    A_cbo_A[icalo]=pars2[7]\n",
    "    dA_cbo_A[icalo]=stdevs[7]\n",
    "    phi_cbo_A[icalo]=pars2[8]\n",
    "    dphi_cbo_A[icalo]=stdevs[8]\n",
    "    A_cbo_phi[icalo]=pars2[9]\n",
    "    dA_cbo_phi[icalo]=stdevs[9]\n",
    "    phi_cbo_phi[icalo]=pars2[10]\n",
    "    dphi_cbo_phi[icalo]=stdevs[10]\n",
    "    A_y[icalo]=pars2[11]\n",
    "    dA_y[icalo]=stdevs[11]\n",
    "    tau_y[icalo]=pars2[12]\n",
    "    dtau_y[icalo]=stdevs[12]\n",
    "    omega_y[icalo]=pars2[13]\n",
    "    domega_y[icalo]=stdevs[13]\n",
    "    phi_y[icalo]=pars2[14]\n",
    "    dphi_y[icalo]=stdevs[14]\n",
    "    A_vw[icalo]=pars2[15]\n",
    "    dA_vw[icalo]=stdevs[15]\n",
    "    tau_y[icalo]=pars2[16]\n",
    "    dtau_y[icalo]=stdevs[16]\n",
    "    omega_y[icalo]=pars2[17]\n",
    "    domega_y[icalo]=stdevs[17]\n",
    "    phi_vw[icalo]=pars2[18]\n",
    "    dphi_vw[icalo]=stdevs[18]\n",
    "        \n",
    "    \n"
   ]
  },
  {
   "cell_type": "code",
   "execution_count": 11,
   "id": "6b117795",
   "metadata": {},
   "outputs": [
    {
     "data": {
      "text/plain": [
       "array([4.17140726e-05, 2.29932303e+00, 3.50993039e-04, 1.13257904e-04,\n",
       "       4.14095715e+04, 5.19124181e-07, 4.41546487e-02, 3.44548577e-04,\n",
       "       5.69448638e-01, 3.47579649e-04, 1.20340599e+00, 4.53211018e-05,\n",
       "       2.13842572e+05, 6.70606371e-06, 1.14284918e+00, 2.72740997e-03,\n",
       "       4.89609990e+03, 1.65861571e-05, 6.17399630e-01, 7.25153268e-05,\n",
       "       3.41120001e-01])"
      ]
     },
     "execution_count": 11,
     "metadata": {},
     "output_type": "execute_result"
    }
   ],
   "source": [
    "stdevs"
   ]
  },
  {
   "cell_type": "code",
   "execution_count": 13,
   "id": "e58b6999",
   "metadata": {},
   "outputs": [
    {
     "data": {
      "text/plain": [
       "array([-39.3618521,   0.       ,   0.       ,   0.       ,   0.       ,\n",
       "         0.       ,   0.       ,   0.       ,   0.       ,   0.       ,\n",
       "         0.       ,   0.       ,   0.       ,   0.       ,   0.       ,\n",
       "         0.       ])"
      ]
     },
     "execution_count": 13,
     "metadata": {},
     "output_type": "execute_result"
    }
   ],
   "source": [
    "rval"
   ]
  },
  {
   "cell_type": "code",
   "execution_count": 14,
   "id": "43e2b6ec",
   "metadata": {},
   "outputs": [
    {
     "data": {
      "text/plain": [
       "array([8.94966702e-001, 6.93357759e-310, 1.14587773e-312, 4.86290618e+284,\n",
       "       2.08111928e-115, 2.46880143e-154, 1.38201327e+267, 2.05090338e-115,\n",
       "       9.47067358e-154, 8.90390235e+252, 1.43554364e+166, 1.40157701e+012,\n",
       "       1.10343781e-312, 1.10565410e+160, 2.10935579e-110, 6.01347499e-154])"
      ]
     },
     "execution_count": 14,
     "metadata": {},
     "output_type": "execute_result"
    }
   ],
   "source": [
    "red_chi2"
   ]
  },
  {
   "cell_type": "code",
   "execution_count": 12,
   "id": "dde0c359",
   "metadata": {
    "scrolled": false
   },
   "outputs": [
    {
     "ename": "ValueError",
     "evalue": "'x' and 'y' must have the same size",
     "output_type": "error",
     "traceback": [
      "\u001b[0;31m---------------------------------------------------------------------------\u001b[0m",
      "\u001b[0;31mValueError\u001b[0m                                Traceback (most recent call last)",
      "\u001b[0;32m<ipython-input-12-23e7aba10ea2>\u001b[0m in \u001b[0;36m<module>\u001b[0;34m\u001b[0m\n\u001b[1;32m      2\u001b[0m \u001b[0mplt\u001b[0m\u001b[0;34m.\u001b[0m\u001b[0mrc\u001b[0m\u001b[0;34m(\u001b[0m\u001b[0;34m'xtick'\u001b[0m\u001b[0;34m,\u001b[0m \u001b[0mlabelsize\u001b[0m\u001b[0;34m=\u001b[0m\u001b[0;36m20\u001b[0m\u001b[0;34m)\u001b[0m\u001b[0;34m\u001b[0m\u001b[0;34m\u001b[0m\u001b[0m\n\u001b[1;32m      3\u001b[0m \u001b[0mplt\u001b[0m\u001b[0;34m.\u001b[0m\u001b[0mrc\u001b[0m\u001b[0;34m(\u001b[0m\u001b[0;34m'ytick'\u001b[0m\u001b[0;34m,\u001b[0m \u001b[0mlabelsize\u001b[0m\u001b[0;34m=\u001b[0m\u001b[0;36m20\u001b[0m\u001b[0;34m)\u001b[0m\u001b[0;34m\u001b[0m\u001b[0;34m\u001b[0m\u001b[0m\n\u001b[0;32m----> 4\u001b[0;31m \u001b[0mplt\u001b[0m\u001b[0;34m.\u001b[0m\u001b[0merrorbar\u001b[0m\u001b[0;34m(\u001b[0m\u001b[0mscaling\u001b[0m\u001b[0;34m,\u001b[0m \u001b[0mrval\u001b[0m\u001b[0;34m,\u001b[0m \u001b[0myerr\u001b[0m\u001b[0;34m=\u001b[0m\u001b[0mdrval\u001b[0m\u001b[0;34m,\u001b[0m \u001b[0mfmt\u001b[0m\u001b[0;34m=\u001b[0m\u001b[0;34m\"o\"\u001b[0m\u001b[0;34m)\u001b[0m\u001b[0;34m\u001b[0m\u001b[0;34m\u001b[0m\u001b[0m\n\u001b[0m\u001b[1;32m      5\u001b[0m \u001b[0mplt\u001b[0m\u001b[0;34m.\u001b[0m\u001b[0maxhline\u001b[0m\u001b[0;34m(\u001b[0m\u001b[0my\u001b[0m\u001b[0;34m=\u001b[0m\u001b[0;34m-\u001b[0m\u001b[0;36m44.55418088\u001b[0m\u001b[0;34m,\u001b[0m \u001b[0mcolor\u001b[0m\u001b[0;34m=\u001b[0m\u001b[0;34m'black'\u001b[0m\u001b[0;34m,\u001b[0m \u001b[0mlinestyle\u001b[0m\u001b[0;34m=\u001b[0m\u001b[0;34m'dotted'\u001b[0m\u001b[0;34m)\u001b[0m\u001b[0;34m\u001b[0m\u001b[0;34m\u001b[0m\u001b[0m\n\u001b[1;32m      6\u001b[0m \u001b[0mplt\u001b[0m\u001b[0;34m.\u001b[0m\u001b[0maxvline\u001b[0m\u001b[0;34m(\u001b[0m\u001b[0mx\u001b[0m\u001b[0;34m=\u001b[0m\u001b[0;36m1.0\u001b[0m\u001b[0;34m,\u001b[0m \u001b[0mcolor\u001b[0m\u001b[0;34m=\u001b[0m\u001b[0;34m'black'\u001b[0m\u001b[0;34m,\u001b[0m \u001b[0mlinestyle\u001b[0m\u001b[0;34m=\u001b[0m\u001b[0;34m'dotted'\u001b[0m\u001b[0;34m)\u001b[0m\u001b[0;34m\u001b[0m\u001b[0;34m\u001b[0m\u001b[0m\n",
      "\u001b[0;32m~/.local/lib/python3.6/site-packages/matplotlib/pyplot.py\u001b[0m in \u001b[0;36merrorbar\u001b[0;34m(x, y, yerr, xerr, fmt, ecolor, elinewidth, capsize, barsabove, lolims, uplims, xlolims, xuplims, errorevery, capthick, data, **kwargs)\u001b[0m\n\u001b[1;32m   2607\u001b[0m         \u001b[0mlolims\u001b[0m\u001b[0;34m=\u001b[0m\u001b[0mlolims\u001b[0m\u001b[0;34m,\u001b[0m \u001b[0muplims\u001b[0m\u001b[0;34m=\u001b[0m\u001b[0muplims\u001b[0m\u001b[0;34m,\u001b[0m \u001b[0mxlolims\u001b[0m\u001b[0;34m=\u001b[0m\u001b[0mxlolims\u001b[0m\u001b[0;34m,\u001b[0m\u001b[0;34m\u001b[0m\u001b[0;34m\u001b[0m\u001b[0m\n\u001b[1;32m   2608\u001b[0m         \u001b[0mxuplims\u001b[0m\u001b[0;34m=\u001b[0m\u001b[0mxuplims\u001b[0m\u001b[0;34m,\u001b[0m \u001b[0merrorevery\u001b[0m\u001b[0;34m=\u001b[0m\u001b[0merrorevery\u001b[0m\u001b[0;34m,\u001b[0m \u001b[0mcapthick\u001b[0m\u001b[0;34m=\u001b[0m\u001b[0mcapthick\u001b[0m\u001b[0;34m,\u001b[0m\u001b[0;34m\u001b[0m\u001b[0;34m\u001b[0m\u001b[0m\n\u001b[0;32m-> 2609\u001b[0;31m         **({\"data\": data} if data is not None else {}), **kwargs)\n\u001b[0m\u001b[1;32m   2610\u001b[0m \u001b[0;34m\u001b[0m\u001b[0m\n\u001b[1;32m   2611\u001b[0m \u001b[0;34m\u001b[0m\u001b[0m\n",
      "\u001b[0;32m~/.local/lib/python3.6/site-packages/matplotlib/__init__.py\u001b[0m in \u001b[0;36minner\u001b[0;34m(ax, data, *args, **kwargs)\u001b[0m\n\u001b[1;32m   1445\u001b[0m     \u001b[0;32mdef\u001b[0m \u001b[0minner\u001b[0m\u001b[0;34m(\u001b[0m\u001b[0max\u001b[0m\u001b[0;34m,\u001b[0m \u001b[0;34m*\u001b[0m\u001b[0margs\u001b[0m\u001b[0;34m,\u001b[0m \u001b[0mdata\u001b[0m\u001b[0;34m=\u001b[0m\u001b[0;32mNone\u001b[0m\u001b[0;34m,\u001b[0m \u001b[0;34m**\u001b[0m\u001b[0mkwargs\u001b[0m\u001b[0;34m)\u001b[0m\u001b[0;34m:\u001b[0m\u001b[0;34m\u001b[0m\u001b[0;34m\u001b[0m\u001b[0m\n\u001b[1;32m   1446\u001b[0m         \u001b[0;32mif\u001b[0m \u001b[0mdata\u001b[0m \u001b[0;32mis\u001b[0m \u001b[0;32mNone\u001b[0m\u001b[0;34m:\u001b[0m\u001b[0;34m\u001b[0m\u001b[0;34m\u001b[0m\u001b[0m\n\u001b[0;32m-> 1447\u001b[0;31m             \u001b[0;32mreturn\u001b[0m \u001b[0mfunc\u001b[0m\u001b[0;34m(\u001b[0m\u001b[0max\u001b[0m\u001b[0;34m,\u001b[0m \u001b[0;34m*\u001b[0m\u001b[0mmap\u001b[0m\u001b[0;34m(\u001b[0m\u001b[0msanitize_sequence\u001b[0m\u001b[0;34m,\u001b[0m \u001b[0margs\u001b[0m\u001b[0;34m)\u001b[0m\u001b[0;34m,\u001b[0m \u001b[0;34m**\u001b[0m\u001b[0mkwargs\u001b[0m\u001b[0;34m)\u001b[0m\u001b[0;34m\u001b[0m\u001b[0;34m\u001b[0m\u001b[0m\n\u001b[0m\u001b[1;32m   1448\u001b[0m \u001b[0;34m\u001b[0m\u001b[0m\n\u001b[1;32m   1449\u001b[0m         \u001b[0mbound\u001b[0m \u001b[0;34m=\u001b[0m \u001b[0mnew_sig\u001b[0m\u001b[0;34m.\u001b[0m\u001b[0mbind\u001b[0m\u001b[0;34m(\u001b[0m\u001b[0max\u001b[0m\u001b[0;34m,\u001b[0m \u001b[0;34m*\u001b[0m\u001b[0margs\u001b[0m\u001b[0;34m,\u001b[0m \u001b[0;34m**\u001b[0m\u001b[0mkwargs\u001b[0m\u001b[0;34m)\u001b[0m\u001b[0;34m\u001b[0m\u001b[0;34m\u001b[0m\u001b[0m\n",
      "\u001b[0;32m~/.local/lib/python3.6/site-packages/matplotlib/axes/_axes.py\u001b[0m in \u001b[0;36merrorbar\u001b[0;34m(self, x, y, yerr, xerr, fmt, ecolor, elinewidth, capsize, barsabove, lolims, uplims, xlolims, xuplims, errorevery, capthick, **kwargs)\u001b[0m\n\u001b[1;32m   3296\u001b[0m \u001b[0;34m\u001b[0m\u001b[0m\n\u001b[1;32m   3297\u001b[0m         \u001b[0;32mif\u001b[0m \u001b[0mlen\u001b[0m\u001b[0;34m(\u001b[0m\u001b[0mx\u001b[0m\u001b[0;34m)\u001b[0m \u001b[0;34m!=\u001b[0m \u001b[0mlen\u001b[0m\u001b[0;34m(\u001b[0m\u001b[0my\u001b[0m\u001b[0;34m)\u001b[0m\u001b[0;34m:\u001b[0m\u001b[0;34m\u001b[0m\u001b[0;34m\u001b[0m\u001b[0m\n\u001b[0;32m-> 3298\u001b[0;31m             \u001b[0;32mraise\u001b[0m \u001b[0mValueError\u001b[0m\u001b[0;34m(\u001b[0m\u001b[0;34m\"'x' and 'y' must have the same size\"\u001b[0m\u001b[0;34m)\u001b[0m\u001b[0;34m\u001b[0m\u001b[0;34m\u001b[0m\u001b[0m\n\u001b[0m\u001b[1;32m   3299\u001b[0m \u001b[0;34m\u001b[0m\u001b[0m\n\u001b[1;32m   3300\u001b[0m         \u001b[0;32mif\u001b[0m \u001b[0mxerr\u001b[0m \u001b[0;32mis\u001b[0m \u001b[0;32mnot\u001b[0m \u001b[0;32mNone\u001b[0m\u001b[0;34m:\u001b[0m\u001b[0;34m\u001b[0m\u001b[0;34m\u001b[0m\u001b[0m\n",
      "\u001b[0;31mValueError\u001b[0m: 'x' and 'y' must have the same size"
     ]
    },
    {
     "data": {
      "image/png": "[encoded data removed]",
      "text/plain": [
       "<Figure size 1080x576 with 1 Axes>"
      ]
     },
     "metadata": {
      "needs_background": "light"
     },
     "output_type": "display_data"
    }
   ],
   "source": [
    "plt.figure(figsize=(15,8))\n",
    "plt.rc('xtick', labelsize=20) \n",
    "plt.rc('ytick', labelsize=20) \n",
    "plt.errorbar(scaling, rval, yerr=drval, fmt=\"o\")\n",
    "plt.axhline(y=-44.55418088, color='black', linestyle='dotted')\n",
    "plt.axvline(x=1.0, color='black', linestyle='dotted')\n",
    "plt.axvline(x=1.0011, color='red', linestyle='dotted')\n",
    "plt.xlabel('Scaling factor',fontsize=25)\n",
    "plt.ylabel('R [ppm]',fontsize=25)\n",
    "plt.ylim(-42,-37)\n",
    "plt.show()\n",
    "#plt.savefig('run2_caloscan_R.jpg')"
   ]
  },
  {
   "cell_type": "code",
   "execution_count": 60,
   "id": "398d4019",
   "metadata": {},
   "outputs": [
    {
     "data": {
      "image/png": "[encoded data removed]",
      "text/plain": [
       "<Figure size 864x576 with 1 Axes>"
      ]
     },
     "metadata": {
      "needs_background": "light"
     },
     "output_type": "display_data"
    }
   ],
   "source": [
    "plt.figure(figsize=(12,8))\n",
    "plt.rc('xtick', labelsize=20) \n",
    "plt.rc('ytick', labelsize=20) \n",
    "plt.errorbar(scaling, rval, yerr=0, fmt=\"o\")\n",
    "plt.axhline(y=-44.55418088, color='black', linestyle='dotted')\n",
    "plt.axvline(x=1.0, color='black', linestyle='dotted')\n",
    "plt.axvline(x=1.0011, color='red', linestyle='dotted')\n",
    "plt.xlabel('Scaling factor',fontsize=25)\n",
    "plt.ylabel('R [ppm]',fontsize=25)\n",
    "plt.ylim(-39.4,-39.2)\n",
    "plt.show()\n",
    "plt.rcParams[\"axes.formatter.useoffset\"] = False"
   ]
  },
  {
   "cell_type": "code",
   "execution_count": 65,
   "id": "84d52749",
   "metadata": {},
   "outputs": [
    {
     "data": {
      "image/png": "[encoded data removed]",
      "text/plain": [
       "<Figure size 864x576 with 1 Axes>"
      ]
     },
     "metadata": {
      "needs_background": "light"
     },
     "output_type": "display_data"
    }
   ],
   "source": [
    "plt.figure(figsize=(12,8))\n",
    "plt.rc('xtick', labelsize=20) \n",
    "plt.rc('ytick', labelsize=20) \n",
    "plt.errorbar(scaling, drval, yerr=0, fmt=\"o\")\n",
    "plt.axhline(y=0.49154985, color='black', linestyle='dotted')\n",
    "plt.axvline(x=1.0, color='black', linestyle='dotted')\n",
    "plt.axvline(x=1.0011, color='red', linestyle='dotted')\n",
    "plt.xlabel('Scaling factor',fontsize=25)\n",
    "plt.ylabel(' σ_R [ppm]',fontsize=25)\n",
    "plt.ylim(1.95,2.3)\n",
    "plt.show()"
   ]
  },
  {
   "cell_type": "code",
   "execution_count": 68,
   "id": "0fab15be",
   "metadata": {},
   "outputs": [
    {
     "data": {
      "image/png": "[encoded data removed]",
      "text/plain": [
       "<Figure size 1080x576 with 1 Axes>"
      ]
     },
     "metadata": {
      "needs_background": "light"
     },
     "output_type": "display_data"
    }
   ],
   "source": [
    "plt.figure(figsize=(15,8))\n",
    "plt.rc('xtick', labelsize=20) \n",
    "plt.rc('ytick', labelsize=20) \n",
    "plt.errorbar(scaling, red_chi2, yerr=0, fmt=\"o\")\n",
    "plt.axhline(y=0.96519427, color='black', linestyle='dotted')\n",
    "plt.axhline(y=1.0, color='green', linestyle='dotted')\n",
    "plt.axvline(x=1.0, color='black', linestyle='dotted')\n",
    "plt.axvline(x=1.0011, color='red', linestyle='dotted')\n",
    "plt.xlabel('Scaling Factor',fontsize=25)\n",
    "plt.ylabel('chi2/ndf',fontsize=25)\n",
    "plt.ylim(0.7,1.0)\n",
    "plt.show()"
   ]
  },
  {
   "cell_type": "code",
   "execution_count": 72,
   "id": "cc23aeac",
   "metadata": {},
   "outputs": [
    {
     "data": {
      "image/png": "[encoded data removed]",
      "text/plain": [
       "<Figure size 1080x576 with 1 Axes>"
      ]
     },
     "metadata": {
      "needs_background": "light"
     },
     "output_type": "display_data"
    }
   ],
   "source": [
    "plt.figure(figsize=(15,8))\n",
    "plt.rc('xtick', labelsize=20) \n",
    "plt.rc('ytick', labelsize=20) \n",
    "plt.errorbar(scaling, red_chi2*(fit_range-len(pars2)), yerr=0, fmt=\"o\")\n",
    "plt.axhline(y=1748.93201648, color='black', linestyle='dotted')\n",
    "plt.axhline(y=1812, color='green', linestyle='dotted')\n",
    "plt.axvline(x=1.0, color='black', linestyle='dotted')\n",
    "plt.axvline(x=1.0011, color='red', linestyle='dotted')\n",
    "plt.xlabel('Scaling factor',fontsize=25)\n",
    "plt.ylabel('chi2',fontsize=25)\n",
    "plt.ylim(1300,1700)\n",
    "plt.show()"
   ]
  },
  {
   "cell_type": "code",
   "execution_count": 73,
   "id": "3a0aaa0d",
   "metadata": {},
   "outputs": [
    {
     "data": {
      "text/plain": [
       "array([-39.32597981, -39.3310682 , -39.33565849, -39.34101252,\n",
       "       -39.34653535, -39.35146978, -39.35672407, -39.36318754,\n",
       "       -39.36758278, -39.37427936, -39.37913567, -39.38372718,\n",
       "       -39.38509199, -39.38038659, -39.35350697,   0.        ])"
      ]
     },
     "execution_count": 73,
     "metadata": {},
     "output_type": "execute_result"
    }
   ],
   "source": [
    "rval"
   ]
  },
  {
   "cell_type": "code",
   "execution_count": 74,
   "id": "bc67fe10",
   "metadata": {},
   "outputs": [
    {
     "data": {
      "text/plain": [
       "array([1.97605074e+000, 1.98646751e+000, 1.99730780e+000, 2.00867856e+000,\n",
       "       2.02014012e+000, 2.03273807e+000, 2.04614958e+000, 2.06007153e+000,\n",
       "       2.07560952e+000, 2.09233323e+000, 2.11051351e+000, 2.13278541e+000,\n",
       "       2.16073942e+000, 2.19644308e+000, 2.26365221e+000, 1.10323749e-312])"
      ]
     },
     "execution_count": 74,
     "metadata": {},
     "output_type": "execute_result"
    }
   ],
   "source": [
    "drval"
   ]
  },
  {
   "cell_type": "code",
   "execution_count": 75,
   "id": "32e6b801",
   "metadata": {},
   "outputs": [
    {
     "data": {
      "text/plain": [
       "array([0.72558155, 0.72759634, 0.72994412, 0.73267138, 0.7358364 ,\n",
       "       0.73951413, 0.7438026 , 0.74883471, 0.75479629, 0.76196039,\n",
       "       0.77075372, 0.78190496, 0.79683968, 0.81911803, 0.86766191,\n",
       "              nan])"
      ]
     },
     "execution_count": 75,
     "metadata": {},
     "output_type": "execute_result"
    }
   ],
   "source": [
    "red_chi2"
   ]
  },
  {
   "cell_type": "code",
   "execution_count": 76,
   "id": "94cbcbdf",
   "metadata": {},
   "outputs": [
    {
     "data": {
      "text/plain": [
       "array([1316.20492803, 1319.85976861, 1324.11863974, 1329.06588952,\n",
       "       1334.80723271, 1341.47864004, 1349.25791241, 1358.38616583,\n",
       "       1369.20047001, 1382.19615279, 1398.1472423 , 1418.37559457,\n",
       "       1445.46717679, 1485.88010743, 1573.9387138 ,           nan])"
      ]
     },
     "execution_count": 76,
     "metadata": {},
     "output_type": "execute_result"
    }
   ],
   "source": [
    "red_chi2*(fit_range-len(pars2))"
   ]
  },
  {
   "cell_type": "code",
   "execution_count": null,
   "id": "913c1e61",
   "metadata": {},
   "outputs": [],
   "source": []
  },
  {
   "cell_type": "code",
   "execution_count": null,
   "id": "a7a6ee92",
   "metadata": {},
   "outputs": [],
   "source": []
  },
  {
   "cell_type": "code",
   "execution_count": null,
   "id": "b78a9fab",
   "metadata": {},
   "outputs": [],
   "source": []
  },
  {
   "cell_type": "code",
   "execution_count": null,
   "id": "3c8e6a38",
   "metadata": {},
   "outputs": [],
   "source": []
  },
  {
   "cell_type": "code",
   "execution_count": null,
   "id": "e586b979",
   "metadata": {},
   "outputs": [],
   "source": []
  }
 ],
 "metadata": {
  "kernelspec": {
   "display_name": "Python 3",
   "language": "python",
   "name": "python3"
  },
  "language_info": {
   "codemirror_mode": {
    "name": "ipython",
    "version": 3
   },
   "file_extension": ".py",
   "mimetype": "text/x-python",
   "name": "python",
   "nbconvert_exporter": "python",
   "pygments_lexer": "ipython3",
   "version": "3.6.9"
  }
 },
 "nbformat": 4,
 "nbformat_minor": 5
}
