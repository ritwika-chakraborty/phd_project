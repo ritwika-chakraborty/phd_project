{
 "cells": [
  {
   "cell_type": "code",
   "execution_count": 23,
   "id": "7d0760d0",
   "metadata": {},
   "outputs": [],
   "source": [
    "import numpy as np\n",
    "import ROOT\n",
    "from math import exp as expo\n",
    "from math import cos as cosine\n",
    "from math import sin as sine\n",
    "sin=np.vectorize(sine)\n",
    "exp=np.vectorize(expo)\n",
    "cos=np.vectorize(cosine)\n",
    "import matplotlib.pylab as plt\n",
    "from matplotlib.pyplot import figure\n",
    "from BlindersPy3 import Blinders\n",
    "from BlindersPy3 import FitType\n",
    "import scipy.optimize as opt"
   ]
  },
  {
   "cell_type": "code",
   "execution_count": 24,
   "id": "009e1c41",
   "metadata": {},
   "outputs": [],
   "source": [
    "#file = ROOT.TFile.Open(\"run3btom_4hcopy_ratio_noFR_percalo_cov_mat.root\")\n",
    "file = ROOT.TFile.Open(\"run3btom_4hcopy_ratio_noFR_percalo_cov_mat_15binshift_tim.root\")\n",
    "hist_tmp = ROOT.TH1D()\n",
    "hist_tmp = file.Get(\"hcalo_ratio_1\")"
   ]
  },
  {
   "cell_type": "code",
   "execution_count": 25,
   "id": "a963dbc8",
   "metadata": {},
   "outputs": [],
   "source": [
    "fit_start=30000\n",
    "fit_stop=300000\n",
    "fit_range=hist_tmp.FindBin(fit_stop)-hist_tmp.FindBin(fit_start)+1\n",
    "y_val=np.empty(shape=(24,fit_range))\n",
    "y_err=np.empty(shape=(24,fit_range))\n",
    "x_val=np.empty(shape=(24,fit_range))\n",
    "y_cov=np.empty(shape=(24,fit_range,fit_range))  "
   ]
  },
  {
   "cell_type": "code",
   "execution_count": 26,
   "id": "409cf571",
   "metadata": {},
   "outputs": [
    {
     "name": "stdout",
     "output_type": "stream",
     "text": [
      "CPU times: user 2min 41s, sys: 35.2 s, total: 3min 16s\n",
      "Wall time: 3min 16s\n"
     ]
    }
   ],
   "source": [
    "%%time\n",
    "for icalo in range(0,24):\n",
    "    hist = ROOT.TH1D()\n",
    "    hcov = ROOT.TH2D()\n",
    "    hist = file.Get(\"hcalo_ratio_\"+str(icalo+1))\n",
    "    for ibin in range (0,fit_range):\n",
    "        y_val[icalo][ibin]=hist.GetBinContent(ibin+hist.FindBin(fit_start))\n",
    "        y_err[icalo][ibin]=hist.GetBinError(ibin+hist.FindBin(fit_start))\n",
    "        x_val[icalo][ibin]=hist.GetBinCenter(ibin+hist.FindBin(fit_start))\n",
    "        \n",
    "    hcov = file.Get(\"hcov_\"+str(icalo+1))\n",
    "    for irow in range (0, fit_range):\n",
    "        for icol in range(0, fit_range):\n",
    "            y_cov[icalo][irow][icol]=hcov.GetBinContent(irow+hist.FindBin(fit_start),icol+hist.FindBin(fit_start))\n",
    "            \n",
    "    hist.Reset()\n",
    "    hcov.Reset()"
   ]
  },
  {
   "cell_type": "code",
   "execution_count": 27,
   "id": "a5286a57",
   "metadata": {},
   "outputs": [],
   "source": [
    "for icalo in range(0,24):\n",
    "    mat=np.linalg.eigvalsh(y_cov[icalo])\n",
    "    for irow in range (0, fit_range):\n",
    "        if mat[irow]<=0:\n",
    "            print(icalo,irow,\"\\n\")"
   ]
  },
  {
   "cell_type": "code",
   "execution_count": 28,
   "id": "cb143716",
   "metadata": {},
   "outputs": [
    {
     "name": "stdout",
     "output_type": "stream",
     "text": [
      " + ++++++++++++++++++++++++++++++++++++++++++++++++++++++++++++++++++++ +\n",
      " +                                                                      +\n",
      " +           You have chose to blind your fitting according to          +\n",
      " +                omega_ref * (1 + (R +/- deltaR) *10^{-6})             +\n",
      " +                                                                      +\n",
      " + ++++++++++++++++++++++++++++++++++++++++++++++++++++++++++++++++++++ +\n"
     ]
    }
   ],
   "source": [
    "getBlinded = Blinders(FitType.Omega_a, \"Ritwika's new  Blinding\")"
   ]
  },
  {
   "cell_type": "code",
   "execution_count": 29,
   "id": "1c36e7e2",
   "metadata": {},
   "outputs": [],
   "source": [
    "T_a_true=4365.411\n",
    "nbinshift=int((0.5*T_a_true)/hist.GetBinWidth(1))\n",
    "T_a=2*nbinshift*hist.GetBinWidth(1)\n",
    "\n",
    "asym=np.empty(24)\n",
    "dasym=np.empty(24)\n",
    "rval=np.empty(24)\n",
    "drval=np.empty(24)\n",
    "phi=np.empty(24)\n",
    "dphi=np.empty(24)\n",
    "A_cbo=np.empty(24)\n",
    "dA_cbo=np.empty(24)\n",
    "tau_cbo=np.empty(24)\n",
    "dtau_cbo=np.empty(24)\n",
    "omega_cbo=np.empty(24)\n",
    "domega_cbo=np.empty(24)\n",
    "phi_cbo=np.empty(24)\n",
    "dphi_cbo=np.empty(24)\n",
    "A_cbo_A=np.empty(24)\n",
    "dA_cbo_A=np.empty(24)\n",
    "phi_cbo_A=np.empty(24)\n",
    "dphi_cbo_A=np.empty(24)\n",
    "A_cbo_phi=np.empty(24)\n",
    "dA_cbo_phi=np.empty(24)\n",
    "phi_cbo_phi=np.empty(24)\n",
    "dphi_cbo_phi=np.empty(24)\n",
    "A_vw=np.empty(24)\n",
    "dA_vw=np.empty(24)\n",
    "tau_vw=np.empty(24)\n",
    "dtau_vw=np.empty(24)\n",
    "omega_vw=np.empty(24)\n",
    "domega_vw=np.empty(24)\n",
    "phi_vw=np.empty(24)\n",
    "dphi_vw=np.empty(24)\n",
    "A_y=np.empty(24)\n",
    "dA_y=np.empty(24)\n",
    "tau_y=np.empty(24)\n",
    "dtau_y=np.empty(24)\n",
    "omega_y=np.empty(24)\n",
    "domega_y=np.empty(24)\n",
    "phi_y=np.empty(24)\n",
    "dphi_y=np.empty(24)\n",
    "A_2cbo=np.empty(24)\n",
    "dA_2cbo=np.empty(24)\n",
    "tau_2cbo=np.empty(24)\n",
    "dtau_2cbo=np.empty(24)\n",
    "omega_2cbo=np.empty(24)\n",
    "domega_2cbo=np.empty(24)\n",
    "phi_2cbo=np.empty(24)\n",
    "dphi_2cbo=np.empty(24)\n",
    "calonum=np.empty(24)\n",
    "rval3=np.empty(24)\n",
    "drval3=np.empty(24)\n",
    "rval7=np.empty(24)\n",
    "drval7=np.empty(24)\n",
    "rval11=np.empty(24)\n",
    "drval11=np.empty(24)\n",
    "rval15=np.empty(24)\n",
    "drval15=np.empty(24)\n",
    "rval19=np.empty(24)\n",
    "drval19=np.empty(24)\n",
    "rval23=np.empty(24)\n",
    "drval23=np.empty(24)\n",
    "rval27=np.empty(24)\n",
    "drval27=np.empty(24)"
   ]
  },
  {
   "cell_type": "code",
   "execution_count": 30,
   "id": "9bfa2aac",
   "metadata": {},
   "outputs": [],
   "source": [
    "def fit_func3(time: np.double,\n",
    "              asym: np.double = 0.0, \n",
    "              R: np.double = 0.0, \n",
    "              phi: np.double = 0.0)-> np.double:\n",
    "    \n",
    "    f=(1+ asym*cos((getBlinded.paramToFreq(R)/1000.)*time - phi))\n",
    "\n",
    "    ff=(1+ asym*cos((getBlinded.paramToFreq(R)/1000.)*(time + T_a/2) - phi))\n",
    "\n",
    "    fb=(1+ asym*cos((getBlinded.paramToFreq(R)/1000.)*(time - T_a/2) - phi))\n",
    "\n",
    "    \n",
    "    return (2*f - ff - fb)/(2*f + ff + fb) "
   ]
  },
  {
   "cell_type": "code",
   "execution_count": 31,
   "id": "45879f7b",
   "metadata": {},
   "outputs": [],
   "source": [
    "def fit_func7(time: np.double,\n",
    "              asym: np.double = 0.0, \n",
    "              R: np.double = 0.0, \n",
    "              phi: np.double = 0.0,\n",
    "              asym_cbo = 0.0,\n",
    "              tau_cbo = 0.0,\n",
    "              omega_cbo = 0.0,\n",
    "              phi_cbo = 0.0)-> np.double:\n",
    "    \n",
    "    Ncbo=(1 + asym_cbo*exp(-time/tau_cbo)*cos(omega_cbo*time - phi_cbo))\n",
    "    Ncbof=(1+ asym_cbo*exp(-(time + T_a/2)/tau_cbo)*cos(omega_cbo*(time + T_a/2) - phi_cbo))\n",
    "    Ncbob=(1+ asym_cbo*exp(-(time - T_a/2)/tau_cbo)*cos(omega_cbo*(time - T_a/2) - phi_cbo))\n",
    "\n",
    "    f=(1+ asym*cos((getBlinded.paramToFreq(R)/1000.)*time - phi))\n",
    "\n",
    "    ff=(1+ asym*cos((getBlinded.paramToFreq(R)/1000.)*(time + T_a/2) - phi))\n",
    "\n",
    "    fb=(1+ asym*cos((getBlinded.paramToFreq(R)/1000.)*(time - T_a/2) - phi))\n",
    "\n",
    "    \n",
    "    return (2*f*Ncbo - ff*Ncbof - fb*Ncbob)/(2*f*Ncbo + ff*Ncbof + fb*Ncbob)"
   ]
  },
  {
   "cell_type": "code",
   "execution_count": 32,
   "id": "012f86b5",
   "metadata": {},
   "outputs": [],
   "source": [
    "def fit_func11(time: np.double,\n",
    "               asym: np.double = 0.0, \n",
    "               R: np.double = 0.0, \n",
    "               phi: np.double = 0.0,\n",
    "               asym_cbo = 0.0,\n",
    "               tau_cbo = 0.0,\n",
    "               omega_cbo = 0.0,\n",
    "               phi_cbo = 0.0,\n",
    "               asym_cbo_A = 0.0,\n",
    "               phi_cbo_A=0.0,\n",
    "               A_cbo_phi= 0.0,\n",
    "               phi_cbo_phi=0.0)-> np.double:\n",
    "    \n",
    "    Ncbo=(1 + asym_cbo*exp(-time/tau_cbo)*cos(omega_cbo*time - phi_cbo))\n",
    "    Ncbof=(1+ asym_cbo*exp(-(time + T_a/2)/tau_cbo)*cos(omega_cbo*(time + T_a/2) - phi_cbo))\n",
    "    Ncbob=(1+ asym_cbo*exp(-(time - T_a/2)/tau_cbo)*cos(omega_cbo*(time - T_a/2) - phi_cbo))\n",
    "    Acbo=(1+ asym_cbo_A*exp(-time/tau_cbo)*cos(omega_cbo*time - phi_cbo_A));\n",
    "    Acbof=(1+ asym_cbo_A*exp(-(time + T_a/2)/tau_cbo)*cos(omega_cbo*(time + T_a/2) - phi_cbo_A))\n",
    "    Acbob=(1+ asym_cbo_A*exp(-(time - T_a/2)/tau_cbo)*cos(omega_cbo*(time - T_a/2) - phi_cbo_A))\n",
    "    phicbo=(A_cbo_phi*exp(-time/tau_cbo)*cos(omega_cbo*time - phi_cbo_phi))\n",
    "    phicbof=(A_cbo_phi*exp(-(time + T_a/2)/tau_cbo)*cos(omega_cbo*(time + T_a/2) - phi_cbo_phi))\n",
    "    phicbob=(A_cbo_phi*exp(-(time - T_a/2)/tau_cbo)*cos(omega_cbo*(time - T_a/2) - phi_cbo_phi))\n",
    "\n",
    "\n",
    "    f=(1+ asym*Acbo*cos((getBlinded.paramToFreq(R)/1000.)*time - phi - phicbo))\n",
    "\n",
    "    ff=(1+ asym*Acbof*cos((getBlinded.paramToFreq(R)/1000.)*(time + T_a/2) - phi - phicbof))\n",
    "\n",
    "    fb=(1+ asym*Acbob*cos((getBlinded.paramToFreq(R)/1000.)*(time - T_a/2) - phi - phicbob))\n",
    "\n",
    "    \n",
    "    return (2*f*Ncbo - ff*Ncbof - fb*Ncbob)/(2*f*Ncbo + ff*Ncbof + fb*Ncbob)"
   ]
  },
  {
   "cell_type": "code",
   "execution_count": 33,
   "id": "c282d103",
   "metadata": {},
   "outputs": [],
   "source": [
    "def fit_func15(time: np.double,\n",
    "               asym: np.double = 0.0, \n",
    "               R: np.double = 0.0, \n",
    "               phi: np.double = 0.0,\n",
    "               asym_cbo = 0.0,\n",
    "               tau_cbo = 0.0,\n",
    "               omega_cbo = 0.0,\n",
    "               phi_cbo = 0.0,\n",
    "               asym_cbo_A = 0.0,\n",
    "               phi_cbo_A=0.0,\n",
    "               A_cbo_phi= 0.0,\n",
    "               phi_cbo_phi=0.0,\n",
    "               asym_2cbo= 0.0,\n",
    "               phi_2cbo = 0.0)-> np.double:\n",
    "    \n",
    "    Ncbo=(1 + asym_cbo*exp(-time/tau_cbo)*cos(omega_cbo*time - phi_cbo))\n",
    "    Ncbof=(1+ asym_cbo*exp(-(time + T_a/2)/tau_cbo)*cos(omega_cbo*(time + T_a/2) - phi_cbo))\n",
    "    Ncbob=(1+ asym_cbo*exp(-(time - T_a/2)/tau_cbo)*cos(omega_cbo*(time - T_a/2) - phi_cbo))\n",
    "    Acbo=(1+ asym_cbo_A*exp(-time/tau_cbo)*cos(omega_cbo*time - phi_cbo_A));\n",
    "    Acbof=(1+ asym_cbo_A*exp(-(time + T_a/2)/tau_cbo)*cos(omega_cbo*(time + T_a/2) - phi_cbo_A))\n",
    "    Acbob=(1+ asym_cbo_A*exp(-(time - T_a/2)/tau_cbo)*cos(omega_cbo*(time - T_a/2) - phi_cbo_A))\n",
    "    phicbo=(A_cbo_phi*exp(-time/tau_cbo)*cos(omega_cbo*time - phi_cbo_phi))\n",
    "    phicbof=(A_cbo_phi*exp(-(time + T_a/2)/tau_cbo)*cos(omega_cbo*(time + T_a/2) - phi_cbo_phi))\n",
    "    phicbob=(A_cbo_phi*exp(-(time - T_a/2)/tau_cbo)*cos(omega_cbo*(time - T_a/2) - phi_cbo_phi))\n",
    "    N2cbo=(asym_2cbo*exp(-time/(tau_cbo/2))*cos(2*omega_cbo*time - phi_2cbo))\n",
    "    N2cbof=(asym_2cbo*exp(-(time + T_a/2)/(tau_cbo/2))*cos(2*omega_cbo*(time + T_a/2) - phi_2cbo))\n",
    "    N2cbob=(asym_2cbo*exp(-(time - T_a/2)/(tau_cbo/2))*cos(2*omega_cbo*(time - T_a/2) - phi_2cbo))\n",
    "\n",
    "    Ncbo=Ncbo+N2cbo\n",
    "    Ncbof=Ncbof+N2cbof\n",
    "    Ncbob=Ncbob+N2cbob\n",
    "\n",
    "    f=(1+ asym*Acbo*cos((getBlinded.paramToFreq(R)/1000.)*time - phi - phicbo))\n",
    "\n",
    "    ff=(1+ asym*Acbof*cos((getBlinded.paramToFreq(R)/1000.)*(time + T_a/2) - phi - phicbof))\n",
    "\n",
    "    fb=(1+ asym*Acbob*cos((getBlinded.paramToFreq(R)/1000.)*(time - T_a/2) - phi - phicbob))\n",
    "\n",
    "    \n",
    "    return (2*f*Ncbo - ff*Ncbof - fb*Ncbob)/(2*f*Ncbo + ff*Ncbof + fb*Ncbob)"
   ]
  },
  {
   "cell_type": "code",
   "execution_count": 34,
   "id": "c039fcc0",
   "metadata": {},
   "outputs": [],
   "source": [
    "def fit_func19(time: np.double,\n",
    "               asym: np.double = 0.0, \n",
    "               R: np.double = 0.0, \n",
    "               phi: np.double = 0.0,\n",
    "               asym_cbo = 0.0,\n",
    "               tau_cbo = 0.0,\n",
    "               omega_cbo = 0.0,\n",
    "               phi_cbo = 0.0,\n",
    "               asym_cbo_A = 0.0,\n",
    "               phi_cbo_A=0.0,\n",
    "               A_cbo_phi= 0.0,\n",
    "               phi_cbo_phi=0.0,\n",
    "               asym_2cbo= 0.0,\n",
    "               phi_2cbo = 0.0,\n",
    "               asym_vw= 0.0,\n",
    "               phi_vw = 0.0)-> np.double:\n",
    "    \n",
    "    tau_vw = 75360\n",
    "    omega_vw = 0.01389\n",
    "\n",
    "    \n",
    "    Ncbo=(1 + asym_cbo*exp(-time/tau_cbo)*cos(omega_cbo*time - phi_cbo))\n",
    "    Ncbof=(1+ asym_cbo*exp(-(time + T_a/2)/tau_cbo)*cos(omega_cbo*(time + T_a/2) - phi_cbo))\n",
    "    Ncbob=(1+ asym_cbo*exp(-(time - T_a/2)/tau_cbo)*cos(omega_cbo*(time - T_a/2) - phi_cbo))\n",
    "    Acbo=(1+ asym_cbo_A*exp(-time/tau_cbo)*cos(omega_cbo*time - phi_cbo_A));\n",
    "    Acbof=(1+ asym_cbo_A*exp(-(time + T_a/2)/tau_cbo)*cos(omega_cbo*(time + T_a/2) - phi_cbo_A))\n",
    "    Acbob=(1+ asym_cbo_A*exp(-(time - T_a/2)/tau_cbo)*cos(omega_cbo*(time - T_a/2) - phi_cbo_A))\n",
    "    phicbo=(A_cbo_phi*exp(-time/tau_cbo)*cos(omega_cbo*time - phi_cbo_phi))\n",
    "    phicbof=(A_cbo_phi*exp(-(time + T_a/2)/tau_cbo)*cos(omega_cbo*(time + T_a/2) - phi_cbo_phi))\n",
    "    phicbob=(A_cbo_phi*exp(-(time - T_a/2)/tau_cbo)*cos(omega_cbo*(time - T_a/2) - phi_cbo_phi))\n",
    "    N2cbo=(asym_2cbo*exp(-time/(tau_cbo/2))*cos(2*omega_cbo*time - phi_2cbo))\n",
    "    N2cbof=(asym_2cbo*exp(-(time + T_a/2)/(tau_cbo/2))*cos(2*omega_cbo*(time + T_a/2) - phi_2cbo))\n",
    "    N2cbob=(asym_2cbo*exp(-(time - T_a/2)/(tau_cbo/2))*cos(2*omega_cbo*(time - T_a/2) - phi_2cbo))\n",
    "    Nvw=(1+ asym_vw*exp(-time/tau_vw)*cos(omega_vw*time - phi_vw))\n",
    "    Nvwf=(1+ asym_vw*exp(-(time + T_a/2)/tau_vw)*cos(omega_vw*(time + T_a/2) - phi_vw))\n",
    "    Nvwb=(1+ asym_vw*exp(-(time - T_a/2)/tau_vw)*cos(omega_vw*(time - T_a/2) - phi_vw))\n",
    "\n",
    "    \n",
    "    Ncbo=Ncbo+N2cbo\n",
    "    Ncbof=Ncbof+N2cbof\n",
    "    Ncbob=Ncbob+N2cbob\n",
    "\n",
    "    f=(1+ asym*Acbo*cos((getBlinded.paramToFreq(R)/1000.)*time - phi - phicbo))\n",
    "\n",
    "    ff=(1+ asym*Acbof*cos((getBlinded.paramToFreq(R)/1000.)*(time + T_a/2) - phi - phicbof))\n",
    "\n",
    "    fb=(1+ asym*Acbob*cos((getBlinded.paramToFreq(R)/1000.)*(time - T_a/2) - phi - phicbob))\n",
    "\n",
    "    \n",
    "    return (2*f*Ncbo*Nvw - ff*Ncbof*Nvwf - fb*Ncbob*Nvwb)/(2*f*Ncbo*Nvw + ff*Ncbof*Nvwf + fb*Ncbob*Nvwb)"
   ]
  },
  {
   "cell_type": "code",
   "execution_count": 35,
   "id": "be3de1c8",
   "metadata": {},
   "outputs": [],
   "source": [
    "def fit_func23(time: np.double,\n",
    "               asym: np.double = 0.0, \n",
    "               R: np.double = 0.0, \n",
    "               phi: np.double = 0.0,\n",
    "               asym_cbo = 0.0,\n",
    "               tau_cbo = 0.0,\n",
    "               omega_cbo = 0.0,\n",
    "               phi_cbo = 0.0,\n",
    "               asym_cbo_A = 0.0,\n",
    "               phi_cbo_A=0.0,\n",
    "               A_cbo_phi= 0.0,\n",
    "               phi_cbo_phi=0.0,\n",
    "               asym_2cbo= 0.0,\n",
    "               phi_2cbo = 0.0,\n",
    "               asym_vw= 0.0,\n",
    "               phi_vw = 0.0,\n",
    "               asym_vbo= 0.0,\n",
    "               phi_vbo = 0.0)-> np.double:\n",
    "    \n",
    "    tau_vw = 75360\n",
    "    omega_vw = 0.01389\n",
    "    \n",
    "    tau_vbo = 5500\n",
    "    omega_vbo = 0.0140986\n",
    "\n",
    "    \n",
    "    Ncbo=(1 + asym_cbo*exp(-time/tau_cbo)*cos(omega_cbo*time - phi_cbo))\n",
    "    Ncbof=(1+ asym_cbo*exp(-(time + T_a/2)/tau_cbo)*cos(omega_cbo*(time + T_a/2) - phi_cbo))\n",
    "    Ncbob=(1+ asym_cbo*exp(-(time - T_a/2)/tau_cbo)*cos(omega_cbo*(time - T_a/2) - phi_cbo))\n",
    "    Acbo=(1+ asym_cbo_A*exp(-time/tau_cbo)*cos(omega_cbo*time - phi_cbo_A));\n",
    "    Acbof=(1+ asym_cbo_A*exp(-(time + T_a/2)/tau_cbo)*cos(omega_cbo*(time + T_a/2) - phi_cbo_A))\n",
    "    Acbob=(1+ asym_cbo_A*exp(-(time - T_a/2)/tau_cbo)*cos(omega_cbo*(time - T_a/2) - phi_cbo_A))\n",
    "    phicbo=(A_cbo_phi*exp(-time/tau_cbo)*cos(omega_cbo*time - phi_cbo_phi))\n",
    "    phicbof=(A_cbo_phi*exp(-(time + T_a/2)/tau_cbo)*cos(omega_cbo*(time + T_a/2) - phi_cbo_phi))\n",
    "    phicbob=(A_cbo_phi*exp(-(time - T_a/2)/tau_cbo)*cos(omega_cbo*(time - T_a/2) - phi_cbo_phi))\n",
    "    N2cbo=(asym_2cbo*exp(-time/(tau_cbo/2))*cos(2*omega_cbo*time - phi_2cbo))\n",
    "    N2cbof=(asym_2cbo*exp(-(time + T_a/2)/(tau_cbo/2))*cos(2*omega_cbo*(time + T_a/2) - phi_2cbo))\n",
    "    N2cbob=(asym_2cbo*exp(-(time - T_a/2)/(tau_cbo/2))*cos(2*omega_cbo*(time - T_a/2) - phi_2cbo))\n",
    "    Nvw=(1+ asym_vw*exp(-time/tau_vw)*cos(omega_vw*time - phi_vw))\n",
    "    Nvwf=(1+ asym_vw*exp(-(time + T_a/2)/tau_vw)*cos(omega_vw*(time + T_a/2) - phi_vw))\n",
    "    Nvwb=(1+ asym_vw*exp(-(time - T_a/2)/tau_vw)*cos(omega_vw*(time - T_a/2) - phi_vw))\n",
    "    Nvbo=(1+ asym_vbo*exp(-time/tau_vbo)*cos(omega_vbo*time - phi_vbo))\n",
    "    Nvbof=(1+ asym_vbo*exp(-(time + T_a/2)/tau_vbo)*cos(omega_vbo*(time + T_a/2) - phi_vbo))\n",
    "    Nvbob=(1+ asym_vbo*exp(-(time - T_a/2)/tau_vbo)*cos(omega_vbo*(time - T_a/2) - phi_vbo))\n",
    "\n",
    "\n",
    "    \n",
    "    Ncbo=Ncbo+N2cbo\n",
    "    Ncbof=Ncbof+N2cbof\n",
    "    Ncbob=Ncbob+N2cbob\n",
    "\n",
    "    f=(1+ asym*Acbo*cos((getBlinded.paramToFreq(R)/1000.)*time - phi - phicbo))\n",
    "\n",
    "    ff=(1+ asym*Acbof*cos((getBlinded.paramToFreq(R)/1000.)*(time + T_a/2) - phi - phicbof))\n",
    "\n",
    "    fb=(1+ asym*Acbob*cos((getBlinded.paramToFreq(R)/1000.)*(time - T_a/2) - phi - phicbob))\n",
    "\n",
    "    \n",
    "    return (2*f*Ncbo*Nvw*Nvbo - ff*Ncbof*Nvwf*Nvbof - fb*Ncbob*Nvwb*Nvbob)/(2*f*Ncbo*Nvw*Nvbo + ff*Ncbof*Nvwf*Nvbof + fb*Ncbob*Nvwb*Nvbob)"
   ]
  },
  {
   "cell_type": "code",
   "execution_count": 36,
   "id": "2d6fef06",
   "metadata": {},
   "outputs": [],
   "source": [
    "def fit_func27(time: np.double,\n",
    "               asym: np.double = 0.0, \n",
    "               R: np.double = 0.0, \n",
    "               phi: np.double = 0.0,\n",
    "               asym_cbo = 0.0,\n",
    "               tau_cbo = 0.0,\n",
    "               omega_cbo = 0.0,\n",
    "               phi_cbo = 0.0,\n",
    "               asym_cbo_A = 0.0,\n",
    "               phi_cbo_A=0.0,\n",
    "               A_cbo_phi= 0.0,\n",
    "               phi_cbo_phi=0.0,\n",
    "               asym_2cbo= 0.0,\n",
    "               phi_2cbo = 0.0,\n",
    "               asym_vw= 0.0,\n",
    "               phi_vw = 0.0,\n",
    "               asym_vbo= 0.0,\n",
    "               phi_vbo = 0.0,\n",
    "               asym_new= 0.0,\n",
    "               phi_new = 0.0,)-> np.double:\n",
    "    \n",
    "    tau_vw = 75360\n",
    "    omega_vw = 0.01389\n",
    "    \n",
    "    tau_vbo = 5500\n",
    "    omega_vbo = 0.0140986\n",
    "    \n",
    "    tau_new = 28000\n",
    "    omega_new = 0.01428\n",
    "\n",
    "    \n",
    "    Ncbo=(1 + asym_cbo*exp(-time/tau_cbo)*cos(omega_cbo*time - phi_cbo))\n",
    "    Ncbof=(1+ asym_cbo*exp(-(time + T_a/2)/tau_cbo)*cos(omega_cbo*(time + T_a/2) - phi_cbo))\n",
    "    Ncbob=(1+ asym_cbo*exp(-(time - T_a/2)/tau_cbo)*cos(omega_cbo*(time - T_a/2) - phi_cbo))\n",
    "    Acbo=(1+ asym_cbo_A*exp(-time/tau_cbo)*cos(omega_cbo*time - phi_cbo_A));\n",
    "    Acbof=(1+ asym_cbo_A*exp(-(time + T_a/2)/tau_cbo)*cos(omega_cbo*(time + T_a/2) - phi_cbo_A))\n",
    "    Acbob=(1+ asym_cbo_A*exp(-(time - T_a/2)/tau_cbo)*cos(omega_cbo*(time - T_a/2) - phi_cbo_A))\n",
    "    phicbo=(A_cbo_phi*exp(-time/tau_cbo)*cos(omega_cbo*time - phi_cbo_phi))\n",
    "    phicbof=(A_cbo_phi*exp(-(time + T_a/2)/tau_cbo)*cos(omega_cbo*(time + T_a/2) - phi_cbo_phi))\n",
    "    phicbob=(A_cbo_phi*exp(-(time - T_a/2)/tau_cbo)*cos(omega_cbo*(time - T_a/2) - phi_cbo_phi))\n",
    "    N2cbo=(asym_2cbo*exp(-time/(tau_cbo/2))*cos(2*omega_cbo*time - phi_2cbo))\n",
    "    N2cbof=(asym_2cbo*exp(-(time + T_a/2)/(tau_cbo/2))*cos(2*omega_cbo*(time + T_a/2) - phi_2cbo))\n",
    "    N2cbob=(asym_2cbo*exp(-(time - T_a/2)/(tau_cbo/2))*cos(2*omega_cbo*(time - T_a/2) - phi_2cbo))\n",
    "    Nvw=(1+ asym_vw*exp(-time/tau_vw)*cos(omega_vw*time - phi_vw))\n",
    "    Nvwf=(1+ asym_vw*exp(-(time + T_a/2)/tau_vw)*cos(omega_vw*(time + T_a/2) - phi_vw))\n",
    "    Nvwb=(1+ asym_vw*exp(-(time - T_a/2)/tau_vw)*cos(omega_vw*(time - T_a/2) - phi_vw))\n",
    "    Nvbo=(1+ asym_vbo*exp(-time/tau_vbo)*cos(omega_vbo*time - phi_vbo))\n",
    "    Nvbof=(1+ asym_vbo*exp(-(time + T_a/2)/tau_vbo)*cos(omega_vbo*(time + T_a/2) - phi_vbo))\n",
    "    Nvbob=(1+ asym_vbo*exp(-(time - T_a/2)/tau_vbo)*cos(omega_vbo*(time - T_a/2) - phi_vbo))\n",
    "    Nnew=(1+ asym_new*exp(-time/tau_new)*cos(omega_new*time - phi_new))\n",
    "    Nnewf=(1+ asym_new*exp(-(time + T_a/2)/tau_new)*cos(omega_new*(time + T_a/2) - phi_new))\n",
    "    Nnewb=(1+ asym_new*exp(-(time - T_a/2)/tau_new)*cos(omega_new*(time - T_a/2) - phi_new))\n",
    "\n",
    "\n",
    "\n",
    "    \n",
    "    Ncbo=Ncbo+N2cbo\n",
    "    Ncbof=Ncbof+N2cbof\n",
    "    Ncbob=Ncbob+N2cbob\n",
    "\n",
    "    f=(1+ asym*Acbo*cos((getBlinded.paramToFreq(R)/1000.)*time - phi - phicbo))\n",
    "\n",
    "    ff=(1+ asym*Acbof*cos((getBlinded.paramToFreq(R)/1000.)*(time + T_a/2) - phi - phicbof))\n",
    "\n",
    "    fb=(1+ asym*Acbob*cos((getBlinded.paramToFreq(R)/1000.)*(time - T_a/2) - phi - phicbob))\n",
    "\n",
    "    \n",
    "    return (2*f*Ncbo*Nvw*Nvbo*Nnew - ff*Ncbof*Nvwf*Nvbof*Nnewf - fb*Ncbob*Nvwb*Nvbob*Nnewb)/(2*f*Ncbo*Nvw*Nvbo*Nnew + ff*Ncbof*Nvwf*Nvbof*Nnewf + fb*Ncbob*Nvwb*Nvbob*Nnewb)"
   ]
  },
  {
   "cell_type": "code",
   "execution_count": 37,
   "id": "ea83a6e3",
   "metadata": {},
   "outputs": [],
   "source": [
    "p_init3=[2.28839e-01,\n",
    "        0.000000,\n",
    "        4.02055e+00]"
   ]
  },
  {
   "cell_type": "code",
   "execution_count": 38,
   "id": "9ff4246a",
   "metadata": {},
   "outputs": [
    {
     "name": "stdout",
     "output_type": "stream",
     "text": [
      "CPU times: user 18.7 s, sys: 13.5 s, total: 32.2 s\n",
      "Wall time: 4.37 s\n"
     ]
    }
   ],
   "source": [
    "%%time\n",
    "for icalo in range(0,24): \n",
    "    pars3, cov3 = opt.curve_fit(f=fit_func3, xdata=x_val[icalo], ydata=y_val[icalo], p0=p_init3, sigma=y_cov[icalo]) \n",
    "    \n",
    "    stdevs3=np.sqrt(np.diag(cov3))\n",
    "    calonum[icalo]=icalo+1\n",
    "    rval3[icalo]=pars3[1]\n",
    "    drval3[icalo]=stdevs3[1]"
   ]
  },
  {
   "cell_type": "code",
   "execution_count": 39,
   "id": "04a6c589",
   "metadata": {},
   "outputs": [],
   "source": [
    "p_init7=[pars3[0],\n",
    "             pars3[1],\n",
    "             pars3[2],\n",
    "             0.02,\n",
    "             230000,\n",
    "             0.002329,\n",
    "             1.99+(icalo*(6.28/24))]"
   ]
  },
  {
   "cell_type": "code",
   "execution_count": 40,
   "id": "887fcc77",
   "metadata": {},
   "outputs": [
    {
     "name": "stdout",
     "output_type": "stream",
     "text": [
      "CPU times: user 24.9 s, sys: 13.5 s, total: 38.4 s\n",
      "Wall time: 10.5 s\n"
     ]
    }
   ],
   "source": [
    "%%time\n",
    "for icalo in range(0,24): \n",
    "    pars7, cov7 = opt.curve_fit(f=fit_func7, xdata=x_val[icalo], ydata=y_val[icalo], p0=p_init7, sigma=y_cov[icalo]) \n",
    "    \n",
    "    stdevs7=np.sqrt(np.diag(cov7))\n",
    "    calonum[icalo]=icalo+1\n",
    "    rval7[icalo]=pars7[1]\n",
    "    drval7[icalo]=stdevs7[1]"
   ]
  },
  {
   "cell_type": "code",
   "execution_count": 41,
   "id": "c6a6296a",
   "metadata": {},
   "outputs": [],
   "source": [
    "p_init11=[pars7[0],\n",
    "              pars7[1],\n",
    "              pars7[2],\n",
    "              pars7[3],\n",
    "              pars7[4],\n",
    "              pars7[5],\n",
    "              pars7[6],\n",
    "              0.017,\n",
    "              1.1,\n",
    "              0.0027,\n",
    "              0.99]"
   ]
  },
  {
   "cell_type": "code",
   "execution_count": 42,
   "id": "2bdf8cea",
   "metadata": {},
   "outputs": [
    {
     "name": "stdout",
     "output_type": "stream",
     "text": [
      "CPU times: user 38.9 s, sys: 13.4 s, total: 52.3 s\n",
      "Wall time: 24.7 s\n"
     ]
    }
   ],
   "source": [
    "%%time\n",
    "for icalo in range(0,24): \n",
    "    pars11, cov11 = opt.curve_fit(f=fit_func11, xdata=x_val[icalo], ydata=y_val[icalo], p0=p_init11, sigma=y_cov[icalo]) \n",
    "    \n",
    "    stdevs11=np.sqrt(np.diag(cov11))\n",
    "    calonum[icalo]=icalo+1\n",
    "    rval11[icalo]=pars11[1]\n",
    "    drval11[icalo]=stdevs11[1]"
   ]
  },
  {
   "cell_type": "code",
   "execution_count": 43,
   "id": "fd63634a",
   "metadata": {},
   "outputs": [
    {
     "data": {
      "text/plain": [
       "array([-25.5483323 , -24.47637063, -23.81225884, -24.13351147,\n",
       "       -28.21189866, -25.86032288, -31.14765297, -32.7836202 ,\n",
       "       -31.87567629, -36.73176116, -35.21927497, -37.39880983,\n",
       "       -36.15650351, -40.40996454, -38.37351736, -35.73866222,\n",
       "       -34.51140066, -31.82431761, -33.74469634, -30.71435113,\n",
       "       -26.4065482 , -27.32385264, -28.29022724, -28.09838622])"
      ]
     },
     "execution_count": 43,
     "metadata": {},
     "output_type": "execute_result"
    }
   ],
   "source": [
    "rval11"
   ]
  },
  {
   "cell_type": "code",
   "execution_count": 44,
   "id": "b4123c01",
   "metadata": {},
   "outputs": [
    {
     "data": {
      "text/plain": [
       "array([3.28661302, 3.45177741, 3.55906984, 3.64069379, 3.54949192,\n",
       "       3.6393821 , 3.64046855, 3.78285546, 3.73699694, 3.78251259,\n",
       "       3.7400979 , 3.28352989, 3.50967895, 3.51165636, 3.64035155,\n",
       "       3.66838224, 3.73785131, 3.28719627, 3.49440941, 3.4498416 ,\n",
       "       3.64007351, 3.67096556, 3.72753634, 3.22947963])"
      ]
     },
     "execution_count": 44,
     "metadata": {},
     "output_type": "execute_result"
    }
   ],
   "source": [
    "drval11"
   ]
  },
  {
   "cell_type": "code",
   "execution_count": 21,
   "id": "20e55266",
   "metadata": {},
   "outputs": [],
   "source": [
    "p_init15=[pars11[0],\n",
    "              pars11[1],\n",
    "              pars11[2],\n",
    "              pars11[3],\n",
    "              pars11[4],\n",
    "              pars11[5],\n",
    "              pars11[6],\n",
    "              pars11[7],\n",
    "              pars11[8],\n",
    "              pars11[9],\n",
    "              pars11[10],\n",
    "              0.0007,\n",
    "              5.1]"
   ]
  },
  {
   "cell_type": "code",
   "execution_count": 22,
   "id": "f145518f",
   "metadata": {},
   "outputs": [
    {
     "name": "stdout",
     "output_type": "stream",
     "text": [
      "CPU times: user 46.5 s, sys: 13.5 s, total: 60 s\n",
      "Wall time: 32.7 s\n"
     ]
    }
   ],
   "source": [
    "%%time\n",
    "for icalo in range(0,24): \n",
    "    pars15, cov15 = opt.curve_fit(f=fit_func15, xdata=x_val[icalo], ydata=y_val[icalo], p0=p_init15, sigma=y_cov[icalo]) \n",
    "    \n",
    "    stdevs15=np.sqrt(np.diag(cov15))\n",
    "    calonum[icalo]=icalo+1\n",
    "    rval15[icalo]=pars15[1]\n",
    "    drval15[icalo]=stdevs15[1]"
   ]
  },
  {
   "cell_type": "code",
   "execution_count": 23,
   "id": "e7bb4160",
   "metadata": {},
   "outputs": [],
   "source": [
    "p_init19=[pars15[0],\n",
    "              pars15[1],\n",
    "              pars15[2],\n",
    "              pars15[3],\n",
    "              pars15[4],\n",
    "              pars15[5],\n",
    "              pars15[6],\n",
    "              pars15[7],\n",
    "              pars15[8],\n",
    "              pars15[9],\n",
    "              pars15[10],\n",
    "              pars15[11],\n",
    "              pars15[12],\n",
    "              0.0006,\n",
    "              5.1]"
   ]
  },
  {
   "cell_type": "code",
   "execution_count": 24,
   "id": "ef8d8258",
   "metadata": {},
   "outputs": [
    {
     "name": "stdout",
     "output_type": "stream",
     "text": [
      "CPU times: user 54.7 s, sys: 13.4 s, total: 1min 8s\n",
      "Wall time: 40.6 s\n"
     ]
    }
   ],
   "source": [
    "%%time\n",
    "for icalo in range(0,24): \n",
    "    pars19, cov19 = opt.curve_fit(f=fit_func19, xdata=x_val[icalo], ydata=y_val[icalo], p0=p_init19, sigma=y_cov[icalo]) \n",
    "    \n",
    "    stdevs19=np.sqrt(np.diag(cov19))\n",
    "    calonum[icalo]=icalo+1\n",
    "    rval19[icalo]=pars19[1]\n",
    "    drval19[icalo]=stdevs19[1]"
   ]
  },
  {
   "cell_type": "code",
   "execution_count": 25,
   "id": "d3418c7e",
   "metadata": {},
   "outputs": [],
   "source": [
    "p_init23=[pars19[0],\n",
    "              pars19[1],\n",
    "              pars19[2],\n",
    "              pars19[3],\n",
    "              pars19[4],\n",
    "              pars19[5],\n",
    "              pars19[6],\n",
    "              pars19[7],\n",
    "              pars19[8],\n",
    "              pars19[9],\n",
    "              pars19[10],\n",
    "              pars19[11],\n",
    "              pars19[12],\n",
    "              pars19[13],\n",
    "              pars19[14],\n",
    "              0.09,\n",
    "              3.9]"
   ]
  },
  {
   "cell_type": "code",
   "execution_count": 26,
   "id": "a1eec8e0",
   "metadata": {},
   "outputs": [
    {
     "name": "stdout",
     "output_type": "stream",
     "text": [
      "CPU times: user 1min 6s, sys: 13.7 s, total: 1min 19s\n",
      "Wall time: 51.6 s\n"
     ]
    }
   ],
   "source": [
    "%%time\n",
    "for icalo in range(0,24): \n",
    "    pars2, cov2 = opt.curve_fit(f=fit_func23, xdata=x_val[icalo], ydata=y_val[icalo], p0=p_init23, sigma=y_cov[icalo]) \n",
    "    \n",
    "    stdevs=np.sqrt(np.diag(cov2))\n",
    "    calonum[icalo]=icalo+1\n",
    "    rval23[icalo]=pars2[1]\n",
    "    drval23[icalo]=stdevs[1]\n",
    "    \n",
    "    asym[icalo]=pars2[0]\n",
    "    dasym[icalo]=stdevs[0]\n",
    "    rval[icalo]=pars2[1]\n",
    "    drval[icalo]=stdevs[1]\n",
    "    phi[icalo]=pars2[2]\n",
    "    dphi[icalo]=stdevs[2]\n",
    "    A_cbo[icalo]=pars2[3]\n",
    "    dA_cbo[icalo]=stdevs[3]\n",
    "    tau_cbo[icalo]=pars2[4]\n",
    "    dtau_cbo[icalo]=stdevs[4]\n",
    "    omega_cbo[icalo]=pars2[5]\n",
    "    domega_cbo[icalo]=stdevs[5]\n",
    "    phi_cbo[icalo]=pars2[6]\n",
    "    dphi_cbo[icalo]=stdevs[6]\n",
    "    A_cbo_A[icalo]=pars2[7]\n",
    "    dA_cbo_A[icalo]=stdevs[7]\n",
    "    phi_cbo_A[icalo]=pars2[8]\n",
    "    dphi_cbo_A[icalo]=stdevs[8]\n",
    "    A_cbo_phi[icalo]=pars2[9]\n",
    "    dA_cbo_phi[icalo]=stdevs[9]\n",
    "    phi_cbo_phi[icalo]=pars2[10]\n",
    "    dphi_cbo_phi[icalo]=stdevs[10]\n",
    "    A_2cbo[icalo]=pars2[11]\n",
    "    dA_2cbo[icalo]=stdevs[11]\n",
    "    phi_2cbo[icalo]=pars2[12]\n",
    "    dphi_2cbo[icalo]=stdevs[12]\n",
    "    A_y[icalo]=pars2[13]\n",
    "    dA_y[icalo]=stdevs[13]\n",
    "    phi_y[icalo]=pars2[14]\n",
    "    dphi_y[icalo]=stdevs[14]\n",
    "    A_vw[icalo]=pars2[15]\n",
    "    dA_vw[icalo]=stdevs[15]\n",
    "    phi_vw[icalo]=pars2[16]\n",
    "    dphi_vw[icalo]=stdevs[16]"
   ]
  },
  {
   "cell_type": "code",
   "execution_count": 27,
   "id": "bd043ba9",
   "metadata": {},
   "outputs": [],
   "source": [
    "def fit_Rwave(x: np.double,\n",
    "              amp: np.double = 0.0, \n",
    "              phase: np.double = 0.0, \n",
    "              offset: np.double = 0.0)-> np.double:\n",
    "    \n",
    "    Romega=0.2618\n",
    "    \n",
    "    return amp*sin(Romega*x+phase)+offset\n",
    "\n"
   ]
  },
  {
   "cell_type": "code",
   "execution_count": 28,
   "id": "a4617285",
   "metadata": {},
   "outputs": [
    {
     "data": {
      "image/png": "[encoded data removed]",
      "text/plain": [
       "<Figure size 864x576 with 1 Axes>"
      ]
     },
     "metadata": {
      "needs_background": "light"
     },
     "output_type": "display_data"
    },
    {
     "name": "stdout",
     "output_type": "stream",
     "text": [
      "chi2/ndf= 9.921826239031281 /21\n",
      "amplitude= 4.274184713632568  phase= 1.2583623354814124  offset= -35.35881910682877\n"
     ]
    }
   ],
   "source": [
    "p_0=[1.0,1.5,-35]\n",
    "\n",
    "rwave_p, rwave_cov = opt.curve_fit(f=fit_Rwave, xdata=calonum, ydata=rval3, p0=p_0, sigma=drval3)\n",
    "\n",
    "plt.figure(figsize=(12,8))\n",
    "plt.rc('xtick', labelsize=20) \n",
    "plt.rc('ytick', labelsize=20) \n",
    "plt.errorbar(calonum, rval3, yerr=drval3, fmt=\"o\")\n",
    "plt.plot(calonum, fit_Rwave(calonum, *rwave_p), linestyle='solid', linewidth=1, color='red')\n",
    "plt.xlabel('Calo index',fontsize=25)\n",
    "plt.ylabel('R [ppm]',fontsize=25)\n",
    "plt.show()\n",
    "chi2_1=np.empty(24)\n",
    "chi2_1=(fit_Rwave(calonum, *rwave_p)-rval3)*(fit_Rwave(calonum, *rwave_p)-rval)/(drval3*drval3)\n",
    "print('chi2/ndf=',sum(chi2_1),'/21')\n",
    "print('amplitude=',rwave_p[0],' phase=',rwave_p[1],' offset=',rwave_p[2])\n"
   ]
  },
  {
   "cell_type": "code",
   "execution_count": 29,
   "id": "fb12abf2",
   "metadata": {},
   "outputs": [
    {
     "data": {
      "image/png": "[encoded data removed]",
      "text/plain": [
       "<Figure size 864x576 with 1 Axes>"
      ]
     },
     "metadata": {
      "needs_background": "light"
     },
     "output_type": "display_data"
    },
    {
     "name": "stdout",
     "output_type": "stream",
     "text": [
      "chi2/ndf= 42.76780880208127 /21\n",
      "amplitude= 2.0287989004271374  phase= 1.2063859711759803  offset= -35.09153533219951\n"
     ]
    }
   ],
   "source": [
    "p_0=[1.0,1.5,-35]\n",
    "\n",
    "rwave_p, rwave_cov = opt.curve_fit(f=fit_Rwave, xdata=calonum, ydata=rval7, p0=p_0, sigma=drval7)\n",
    "\n",
    "plt.figure(figsize=(12,8))\n",
    "plt.rc('xtick', labelsize=20) \n",
    "plt.rc('ytick', labelsize=20) \n",
    "plt.errorbar(calonum, rval7, yerr=drval7, fmt=\"o\")\n",
    "plt.plot(calonum, fit_Rwave(calonum, *rwave_p), linestyle='solid', linewidth=1, color='red')\n",
    "plt.xlabel('Calo index',fontsize=25)\n",
    "plt.ylabel('R [ppm]',fontsize=25)\n",
    "plt.show()\n",
    "chi2_1=np.empty(24)\n",
    "chi2_1=(fit_Rwave(calonum, *rwave_p)-rval7)*(fit_Rwave(calonum, *rwave_p)-rval7)/(drval7*drval7)\n",
    "print('chi2/ndf=',sum(chi2_1),'/21')\n",
    "print('amplitude=',rwave_p[0],' phase=',rwave_p[1],' offset=',rwave_p[2])\n",
    "#plt.savefig('run3btom_caloscan_Rfit_sine.jpg')"
   ]
  },
  {
   "cell_type": "code",
   "execution_count": 30,
   "id": "d3775c6f",
   "metadata": {},
   "outputs": [
    {
     "data": {
      "image/png": "[encoded data removed]",
      "text/plain": [
       "<Figure size 864x576 with 1 Axes>"
      ]
     },
     "metadata": {
      "needs_background": "light"
     },
     "output_type": "display_data"
    },
    {
     "name": "stdout",
     "output_type": "stream",
     "text": [
      "chi2/ndf= 57.07632370539654 /21\n",
      "amplitude= 1.7300911728615567  phase= 1.280403405408836  offset= -35.1020705769702\n"
     ]
    }
   ],
   "source": [
    "p_0=[1.0,1.5,-35]\n",
    "\n",
    "rwave_p, rwave_cov = opt.curve_fit(f=fit_Rwave, xdata=calonum, ydata=rval11, p0=p_0, sigma=drval11)\n",
    "\n",
    "plt.figure(figsize=(12,8))\n",
    "plt.rc('xtick', labelsize=20) \n",
    "plt.rc('ytick', labelsize=20) \n",
    "plt.errorbar(calonum, rval11, yerr=drval11, fmt=\"o\")\n",
    "plt.plot(calonum, fit_Rwave(calonum, *rwave_p), linestyle='solid', linewidth=1, color='red')\n",
    "plt.xlabel('Calo index',fontsize=25)\n",
    "plt.ylabel('R [ppm]',fontsize=25)\n",
    "plt.show()\n",
    "chi2_1=np.empty(24)\n",
    "chi2_1=(fit_Rwave(calonum, *rwave_p)-rval11)*(fit_Rwave(calonum, *rwave_p)-rval11)/(drval11*drval11)\n",
    "print('chi2/ndf=',sum(chi2_1),'/21')\n",
    "print('amplitude=',rwave_p[0],' phase=',rwave_p[1],' offset=',rwave_p[2])\n",
    "#plt.savefig('run3btom_caloscan_Rfit_sine.jpg')"
   ]
  },
  {
   "cell_type": "code",
   "execution_count": 31,
   "id": "fa57881e",
   "metadata": {},
   "outputs": [
    {
     "data": {
      "image/png": "[encoded data removed]",
      "text/plain": [
       "<Figure size 864x576 with 1 Axes>"
      ]
     },
     "metadata": {
      "needs_background": "light"
     },
     "output_type": "display_data"
    },
    {
     "name": "stdout",
     "output_type": "stream",
     "text": [
      "chi2/ndf= 59.215252141347065 /21\n",
      "amplitude= 1.741507814619365  phase= 1.2910294561496427  offset= -35.11192884127771\n"
     ]
    }
   ],
   "source": [
    "p_0=[1.0,1.5,-35]\n",
    "\n",
    "rwave_p, rwave_cov = opt.curve_fit(f=fit_Rwave, xdata=calonum, ydata=rval15, p0=p_0, sigma=drval15)\n",
    "\n",
    "plt.figure(figsize=(12,8))\n",
    "plt.rc('xtick', labelsize=20) \n",
    "plt.rc('ytick', labelsize=20) \n",
    "plt.errorbar(calonum, rval15, yerr=drval15, fmt=\"o\")\n",
    "plt.plot(calonum, fit_Rwave(calonum, *rwave_p), linestyle='solid', linewidth=1, color='red')\n",
    "plt.xlabel('Calo index',fontsize=25)\n",
    "plt.ylabel('R [ppm]',fontsize=25)\n",
    "plt.show()\n",
    "chi2_1=np.empty(24)\n",
    "chi2_1=(fit_Rwave(calonum, *rwave_p)-rval15)*(fit_Rwave(calonum, *rwave_p)-rval15)/(drval15*drval15)\n",
    "print('chi2/ndf=',sum(chi2_1),'/21')\n",
    "print('amplitude=',rwave_p[0],' phase=',rwave_p[1],' offset=',rwave_p[2])\n",
    "#plt.savefig('run3btom_caloscan_Rfit_sine.jpg')"
   ]
  },
  {
   "cell_type": "code",
   "execution_count": 32,
   "id": "4c23da7a",
   "metadata": {},
   "outputs": [
    {
     "data": {
      "image/png": "[encoded data removed]",
      "text/plain": [
       "<Figure size 864x576 with 1 Axes>"
      ]
     },
     "metadata": {
      "needs_background": "light"
     },
     "output_type": "display_data"
    },
    {
     "name": "stdout",
     "output_type": "stream",
     "text": [
      "chi2/ndf= 60.513326499906434 /21\n",
      "amplitude= 1.7423224804242659  phase= 1.3113953283907003  offset= -35.14148477014968\n"
     ]
    }
   ],
   "source": [
    "p_0=[1.0,1.5,-35]\n",
    "\n",
    "rwave_p, rwave_cov = opt.curve_fit(f=fit_Rwave, xdata=calonum, ydata=rval19, p0=p_0, sigma=drval19)\n",
    "\n",
    "plt.figure(figsize=(12,8))\n",
    "plt.rc('xtick', labelsize=20) \n",
    "plt.rc('ytick', labelsize=20) \n",
    "plt.errorbar(calonum, rval19, yerr=drval19, fmt=\"o\")\n",
    "plt.plot(calonum, fit_Rwave(calonum, *rwave_p), linestyle='solid', linewidth=1, color='red')\n",
    "plt.xlabel('Calo index',fontsize=25)\n",
    "plt.ylabel('R [ppm]',fontsize=25)\n",
    "plt.show()\n",
    "chi2_1=np.empty(24)\n",
    "chi2_1=(fit_Rwave(calonum, *rwave_p)-rval19)*(fit_Rwave(calonum, *rwave_p)-rval19)/(drval19*drval19)\n",
    "print('chi2/ndf=',sum(chi2_1),'/21')\n",
    "print('amplitude=',rwave_p[0],' phase=',rwave_p[1],' offset=',rwave_p[2])\n",
    "#plt.savefig('run3btom_caloscan_Rfit_sine.jpg')"
   ]
  },
  {
   "cell_type": "code",
   "execution_count": 33,
   "id": "4896b784",
   "metadata": {},
   "outputs": [
    {
     "data": {
      "image/png": "[encoded data removed]",
      "text/plain": [
       "<Figure size 864x576 with 1 Axes>"
      ]
     },
     "metadata": {
      "needs_background": "light"
     },
     "output_type": "display_data"
    },
    {
     "name": "stdout",
     "output_type": "stream",
     "text": [
      "chi2/ndf= 60.79996012402529 /21\n",
      "amplitude= 1.76140959461296  phase= 1.3173314207786186  offset= -35.16635439257465\n"
     ]
    }
   ],
   "source": [
    "p_0=[1.0,1.5,-35]\n",
    "\n",
    "rwave_p, rwave_cov = opt.curve_fit(f=fit_Rwave, xdata=calonum, ydata=rval, p0=p_0, sigma=drval)\n",
    "\n",
    "plt.figure(figsize=(12,8))\n",
    "plt.rc('xtick', labelsize=20) \n",
    "plt.rc('ytick', labelsize=20) \n",
    "plt.errorbar(calonum, rval, yerr=drval, fmt=\"o\")\n",
    "plt.plot(calonum, fit_Rwave(calonum, *rwave_p), linestyle='solid', linewidth=1, color='red')\n",
    "plt.xlabel('Calo index',fontsize=25)\n",
    "plt.ylabel('R [ppm]',fontsize=25)\n",
    "plt.show()\n",
    "chi2_1=np.empty(24)\n",
    "chi2_1=(fit_Rwave(calonum, *rwave_p)-rval)*(fit_Rwave(calonum, *rwave_p)-rval)/(drval*drval)\n",
    "print('chi2/ndf=',sum(chi2_1),'/21')\n",
    "print('amplitude=',rwave_p[0],' phase=',rwave_p[1],' offset=',rwave_p[2])\n",
    "#plt.savefig('run3btom_caloscan_Rfit_sine.jpg')"
   ]
  },
  {
   "cell_type": "code",
   "execution_count": 34,
   "id": "591bf4fa",
   "metadata": {},
   "outputs": [
    {
     "data": {
      "text/plain": [
       "array([-32.67723633, -32.77257307, -31.9351849 , -34.67224965,\n",
       "       -36.22571663, -38.24890734, -35.33446056, -35.22031446,\n",
       "       -36.04694174, -33.96424206, -33.95799751, -34.58371882,\n",
       "       -34.19269146, -37.85956583, -43.46515258, -36.2699002 ,\n",
       "       -38.97958645, -30.44178415, -37.32610771, -35.87923994,\n",
       "       -31.96224474, -30.71832235, -36.60782695, -33.66020686])"
      ]
     },
     "execution_count": 34,
     "metadata": {},
     "output_type": "execute_result"
    }
   ],
   "source": [
    "rval11"
   ]
  },
  {
   "cell_type": "code",
   "execution_count": 35,
   "id": "0fb117bc",
   "metadata": {},
   "outputs": [
    {
     "data": {
      "text/plain": [
       "array([1.65884282, 1.61481161, 1.65575896, 1.69463168, 1.7821044 ,\n",
       "       1.75584454, 1.82500161, 1.82240705, 1.73405846, 1.76155594,\n",
       "       1.87445734, 1.57672546, 1.71626743, 1.59869335, 1.62222166,\n",
       "       1.6821921 , 1.77525353, 1.58010448, 1.69361501, 1.5871747 ,\n",
       "       1.6959845 , 1.73130304, 1.80386811, 1.62514195])"
      ]
     },
     "execution_count": 35,
     "metadata": {},
     "output_type": "execute_result"
    }
   ],
   "source": [
    "drval11"
   ]
  },
  {
   "cell_type": "code",
   "execution_count": 36,
   "id": "7ba69762",
   "metadata": {},
   "outputs": [
    {
     "data": {
      "text/plain": [
       "array([-29.9813081 , -30.47592068, -30.00271509, -33.37926163,\n",
       "       -34.96300803, -37.71197522, -35.38955074, -35.972259  ,\n",
       "       -37.08800018, -35.41527488, -35.84781224, -36.9026255 ,\n",
       "       -37.16901694, -40.32338166, -45.4859897 , -37.60295947,\n",
       "       -40.14700869, -32.48078895, -38.9389793 , -36.17404127,\n",
       "       -30.83896701, -29.25589051, -34.65855679, -31.3800855 ])"
      ]
     },
     "execution_count": 36,
     "metadata": {},
     "output_type": "execute_result"
    }
   ],
   "source": [
    "rval3"
   ]
  },
  {
   "cell_type": "code",
   "execution_count": null,
   "id": "f1edf1ba",
   "metadata": {},
   "outputs": [],
   "source": []
  }
 ],
 "metadata": {
  "kernelspec": {
   "display_name": "Python 3",
   "language": "python",
   "name": "python3"
  },
  "language_info": {
   "codemirror_mode": {
    "name": "ipython",
    "version": 3
   },
   "file_extension": ".py",
   "mimetype": "text/x-python",
   "name": "python",
   "nbconvert_exporter": "python",
   "pygments_lexer": "ipython3",
   "version": "3.6.9"
  }
 },
 "nbformat": 4,
 "nbformat_minor": 5
}
