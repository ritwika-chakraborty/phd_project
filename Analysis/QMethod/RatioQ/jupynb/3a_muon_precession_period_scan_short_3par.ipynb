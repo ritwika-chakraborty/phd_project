{
 "cells": [
  {
   "cell_type": "code",
   "execution_count": 1,
   "id": "77a6320d",
   "metadata": {},
   "outputs": [
    {
     "name": "stdout",
     "output_type": "stream",
     "text": [
      "Welcome to JupyROOT 6.24/06\n"
     ]
    }
   ],
   "source": [
    "import numpy as np\n",
    "import ROOT\n",
    "from math import exp as expo\n",
    "from math import cos as cosine\n",
    "from math import sin as sine\n",
    "sin=np.vectorize(sine)\n",
    "exp=np.vectorize(expo)\n",
    "cos=np.vectorize(cosine)\n",
    "import matplotlib.pylab as plt\n",
    "from matplotlib.pyplot import figure\n",
    "from BlindersPy3 import Blinders\n",
    "from BlindersPy3 import FitType\n",
    "import scipy.optimize as opt"
   ]
  },
  {
   "cell_type": "code",
   "execution_count": 2,
   "id": "b44a65f5",
   "metadata": {},
   "outputs": [],
   "source": [
    "file_1 = ROOT.TFile.Open(\"run3a_NE_nbinshift_13.root\")\n",
    "hist_1 = ROOT.TH1D()\n",
    "hcov_1 = ROOT.TH2D()\n",
    "hist_1 = file_1.Get(\"calo_histogram_sum_ratio\")\n",
    "hcov_1 = file_1.Get(\"hcov\")\n",
    "\n",
    "file_2 = ROOT.TFile.Open(\"run3a_NE_nbinshift_14.root\")\n",
    "hist_2 = ROOT.TH1D()\n",
    "hcov_2 = ROOT.TH2D()\n",
    "hist_2 = file_2.Get(\"calo_histogram_sum_ratio\")\n",
    "hcov_2 = file_2.Get(\"hcov\")\n",
    "\n",
    "file_3 = ROOT.TFile.Open(\"run3a_NE_nbinshift_15.root\")\n",
    "hist_3 = ROOT.TH1D()\n",
    "hcov_3 = ROOT.TH2D()\n",
    "hist_3 = file_3.Get(\"calo_histogram_sum_ratio\")\n",
    "hcov_3 = file_3.Get(\"hcov\")\n",
    "\n",
    "file_4 = ROOT.TFile.Open(\"run3a_NE_nbinshift_16.root\")\n",
    "hist_4 = ROOT.TH1D()\n",
    "hcov_4 = ROOT.TH2D()\n",
    "hist_4 = file_4.Get(\"calo_histogram_sum_ratio\")\n",
    "hcov_4 = file_4.Get(\"hcov\")\n",
    "\n"
   ]
  },
  {
   "cell_type": "code",
   "execution_count": 3,
   "id": "3dc8e579",
   "metadata": {},
   "outputs": [],
   "source": [
    "fit_start=30000\n",
    "fit_stop=305000\n",
    "fit_range=hist_1.FindBin(fit_stop)-hist_1.FindBin(fit_start)+1\n",
    "y_val=np.empty(shape=(21,fit_range))\n",
    "y_err=np.empty(shape=(21,fit_range))\n",
    "x_val=np.empty(shape=(21,fit_range))\n",
    "y_cov=np.empty(shape=(21,fit_range,fit_range))  "
   ]
  },
  {
   "cell_type": "code",
   "execution_count": 4,
   "id": "ac3e125e",
   "metadata": {},
   "outputs": [
    {
     "name": "stdout",
     "output_type": "stream",
     "text": [
      "CPU times: user 24 s, sys: 5.48 s, total: 29.5 s\n",
      "Wall time: 29.5 s\n"
     ]
    }
   ],
   "source": [
    "%%time\n",
    "for ibin in range (0,fit_range):\n",
    "    y_val[0][ibin]=hist_1.GetBinContent(ibin+hist_1.FindBin(fit_start))\n",
    "    y_err[0][ibin]=hist_1.GetBinError(ibin+hist_1.FindBin(fit_start))\n",
    "    x_val[0][ibin]=hist_1.GetBinCenter(ibin+hist_1.FindBin(fit_start))\n",
    "\n",
    "for irow in range (0, fit_range):\n",
    "    for icol in range(0, fit_range):\n",
    "        y_cov[0][irow][icol]=hcov_1.GetBinContent(irow+hist_1.FindBin(fit_start),icol+hist_1.FindBin(fit_start))\n",
    "        \n",
    "\n",
    "for ibin in range (0,fit_range):\n",
    "    y_val[1][ibin]=hist_2.GetBinContent(ibin+hist_2.FindBin(fit_start))\n",
    "    y_err[1][ibin]=hist_2.GetBinError(ibin+hist_2.FindBin(fit_start))\n",
    "    x_val[1][ibin]=hist_2.GetBinCenter(ibin+hist_2.FindBin(fit_start))\n",
    "\n",
    "for irow in range (0, fit_range):\n",
    "    for icol in range(0, fit_range):\n",
    "        y_cov[1][irow][icol]=hcov_2.GetBinContent(irow+hist_2.FindBin(fit_start),icol+hist_2.FindBin(fit_start))\n",
    "        \n",
    "\n",
    "for ibin in range (0,fit_range):\n",
    "    y_val[2][ibin]=hist_3.GetBinContent(ibin+hist_3.FindBin(fit_start))\n",
    "    y_err[2][ibin]=hist_3.GetBinError(ibin+hist_3.FindBin(fit_start))\n",
    "    x_val[2][ibin]=hist_3.GetBinCenter(ibin+hist_3.FindBin(fit_start))\n",
    "\n",
    "for irow in range (0, fit_range):\n",
    "    for icol in range(0, fit_range):\n",
    "        y_cov[2][irow][icol]=hcov_3.GetBinContent(irow+hist_3.FindBin(fit_start),icol+hist_3.FindBin(fit_start))\n",
    "        \n",
    "\n",
    "for ibin in range (0,fit_range):\n",
    "    y_val[3][ibin]=hist_4.GetBinContent(ibin+hist_4.FindBin(fit_start))\n",
    "    y_err[3][ibin]=hist_4.GetBinError(ibin+hist_4.FindBin(fit_start))\n",
    "    x_val[3][ibin]=hist_4.GetBinCenter(ibin+hist_4.FindBin(fit_start))\n",
    "\n",
    "for irow in range (0, fit_range):\n",
    "    for icol in range(0, fit_range):\n",
    "        y_cov[3][irow][icol]=hcov_4.GetBinContent(irow+hist_4.FindBin(fit_start),icol+hist_4.FindBin(fit_start))\n",
    "        \n",
    "\n"
   ]
  },
  {
   "cell_type": "code",
   "execution_count": 5,
   "id": "ebf31c5f",
   "metadata": {},
   "outputs": [],
   "source": [
    "for icalo in range(0,4):\n",
    "    mat=np.linalg.eigvalsh(y_cov[icalo])\n",
    "    for irow in range (0, fit_range):\n",
    "        if mat[irow]<=0:\n",
    "            print(icalo,irow,\"\\n\")"
   ]
  },
  {
   "cell_type": "code",
   "execution_count": 6,
   "id": "bb2e9e33",
   "metadata": {},
   "outputs": [
    {
     "name": "stdout",
     "output_type": "stream",
     "text": [
      " + ++++++++++++++++++++++++++++++++++++++++++++++++++++++++++++++++++++ +\n",
      " +                                                                      +\n",
      " +           You have chose to blind your fitting according to          +\n",
      " +                omega_ref * (1 + (R +/- deltaR) *10^{-6})             +\n",
      " +                                                                      +\n",
      " + ++++++++++++++++++++++++++++++++++++++++++++++++++++++++++++++++++++ +\n"
     ]
    }
   ],
   "source": [
    "getBlinded = Blinders(FitType.Omega_a, \"Ritwika's new  Blinding\")"
   ]
  },
  {
   "cell_type": "code",
   "execution_count": 7,
   "id": "55ef9479",
   "metadata": {},
   "outputs": [],
   "source": [
    "T_a_true=4365.411\n",
    "nbinshift=int((0.5*T_a_true)/hist_2.GetBinWidth(1))\n",
    "#T_a=2*nbinshift*hist_2.GetBinWidth(1)\n",
    "T_a=13\n",
    "\n",
    "asym=np.empty(4)\n",
    "dasym=np.empty(4)\n",
    "rval=np.empty(4)\n",
    "drval=np.empty(4)\n",
    "phi=np.empty(4)\n",
    "dphi=np.empty(4)\n",
    "\n",
    "calonum=np.empty(4)\n",
    "red_chi2=np.empty(4)\n"
   ]
  },
  {
   "cell_type": "code",
   "execution_count": 8,
   "id": "84ee54d5",
   "metadata": {},
   "outputs": [],
   "source": [
    "def fit_func(time: np.double,\n",
    "             asym: np.double = 0.0, \n",
    "             R: np.double = 0.0, \n",
    "             phi: np.double = 0.0,\n",
    "             asym_cbo = 0.0,\n",
    "             tau_cbo = 0.0,\n",
    "             omega_cbo = 0.0,\n",
    "             phi_cbo = 0.0)-> np.double:\n",
    "    \n",
    "    \n",
    "    Ncbo=(1 + asym_cbo*exp(-time/tau_cbo)*cos(omega_cbo*time - phi_cbo))\n",
    "    Ncbof=(1+ asym_cbo*exp(-(time + T_a/2)/tau_cbo)*cos(omega_cbo*(time + T_a/2) - phi_cbo))\n",
    "    Ncbob=(1+ asym_cbo*exp(-(time - T_a/2)/tau_cbo)*cos(omega_cbo*(time - T_a/2) - phi_cbo))\n",
    "    \n",
    "    f=(1+ asym*cos((getBlinded.paramToFreq(R)/1000.)*time - phi))\n",
    "\n",
    "    ff=(1+ asym*cos((getBlinded.paramToFreq(R)/1000.)*(time + T_a/2) - phi))\n",
    "\n",
    "    fb=(1+ asym*cos((getBlinded.paramToFreq(R)/1000.)*(time - T_a/2) - phi))\n",
    "\n",
    "    \n",
    "    return (2*f*Ncbo - ff*Ncbof - fb*Ncbob)/(2*f*Ncbo + ff*Ncbof + fb*Ncbob)"
   ]
  },
  {
   "cell_type": "code",
   "execution_count": 9,
   "id": "ac13f1d9",
   "metadata": {},
   "outputs": [],
   "source": [
    "p_init=[2.28839e-01,\n",
    "        0.000000,\n",
    "        4.02000e+00,\n",
    "        2.42604e-03,\n",
    "        2.54062e+05,\n",
    "        2.330e-03,\n",
    "        5.56481e-01]"
   ]
  },
  {
   "cell_type": "code",
   "execution_count": 10,
   "id": "42d7ab1a",
   "metadata": {},
   "outputs": [
    {
     "name": "stderr",
     "output_type": "stream",
     "text": [
      "/home/ritwika/.local/lib/python3.6/site-packages/scipy/optimize/minpack.py:829: OptimizeWarning: Covariance of the parameters could not be estimated\n",
      "  category=OptimizeWarning)\n"
     ]
    },
    {
     "name": "stdout",
     "output_type": "stream",
     "text": [
      "CPU times: user 16.5 s, sys: 3.47 s, total: 19.9 s\n",
      "Wall time: 8.91 s\n"
     ]
    }
   ],
   "source": [
    "%%time\n",
    "for icalo in range(0,4): \n",
    "    \n",
    "    p_init_final=p_init\n",
    "    \n",
    "    pars2, cov_final = opt.curve_fit(f=fit_func, xdata=x_val[icalo], ydata=y_val[icalo], p0=p_init_final, sigma=y_cov[icalo])\n",
    "    \n",
    "    \n",
    "    stdevs=np.sqrt(np.diag(cov_final))\n",
    "    \n",
    "    chi2=np.dot((np.transpose(y_val[icalo]-fit_func(x_val[icalo], *pars2))),(np.dot((np.linalg.inv(y_cov[icalo])),(y_val[icalo]-fit_func(x_val[icalo], *pars2)))))\n",
    "    red_chi2[icalo]=chi2/(fit_range-len(pars2))\n",
    "    calonum[icalo]=icalo+1\n",
    "    \n",
    "    asym[icalo]=pars2[0]\n",
    "    dasym[icalo]=stdevs[0]\n",
    "    rval[icalo]=pars2[1]\n",
    "    drval[icalo]=stdevs[1]\n",
    "    phi[icalo]=pars2[2]\n",
    "    dphi[icalo]=stdevs[2]\n",
    "    \n",
    "    \n",
    "    p_init_final=pars2 \n",
    "    T_a=T_a+1\n",
    "    \n"
   ]
  },
  {
   "cell_type": "code",
   "execution_count": 11,
   "id": "6b117795",
   "metadata": {},
   "outputs": [],
   "source": [
    "nbinshift=[1.950,2.100,2.250,2.400]"
   ]
  },
  {
   "cell_type": "code",
   "execution_count": 12,
   "id": "45fd3c6c",
   "metadata": {},
   "outputs": [
    {
     "data": {
      "text/plain": [
       "4"
      ]
     },
     "execution_count": 12,
     "metadata": {},
     "output_type": "execute_result"
    }
   ],
   "source": [
    "len(rval)"
   ]
  },
  {
   "cell_type": "code",
   "execution_count": 13,
   "id": "dde0c359",
   "metadata": {
    "scrolled": false
   },
   "outputs": [
    {
     "data": {
      "image/png": "[encoded data removed]",
      "text/plain": [
       "<Figure size 1080x576 with 1 Axes>"
      ]
     },
     "metadata": {
      "needs_background": "light"
     },
     "output_type": "display_data"
    }
   ],
   "source": [
    "plt.figure(figsize=(15,8))\n",
    "plt.rc('xtick', labelsize=20) \n",
    "plt.rc('ytick', labelsize=20) \n",
    "plt.errorbar(nbinshift, rval, yerr=drval, fmt=\"o\")\n",
    "plt.xlabel('Muon precession period [µs]',fontsize=25)\n",
    "plt.ylabel('R [ppm]',fontsize=25)\n",
    "plt.show()\n",
    "#plt.savefig('run2_caloscan_R.jpg')"
   ]
  },
  {
   "cell_type": "code",
   "execution_count": 14,
   "id": "0fab15be",
   "metadata": {},
   "outputs": [
    {
     "data": {
      "image/png": "[encoded data removed]",
      "text/plain": [
       "<Figure size 864x576 with 1 Axes>"
      ]
     },
     "metadata": {
      "needs_background": "light"
     },
     "output_type": "display_data"
    }
   ],
   "source": [
    "plt.figure(figsize=(12,8))\n",
    "plt.rc('xtick', labelsize=20) \n",
    "plt.rc('ytick', labelsize=20) \n",
    "plt.errorbar(nbinshift, red_chi2, yerr=0, fmt=\"o\")\n",
    "plt.xlabel('Muon precession period [µs]',fontsize=25)\n",
    "plt.ylabel('chi2/ndf',fontsize=25)\n",
    "plt.show()"
   ]
  },
  {
   "cell_type": "code",
   "execution_count": 15,
   "id": "3a0aaa0d",
   "metadata": {},
   "outputs": [
    {
     "data": {
      "text/plain": [
       "array([-2.36809224e+02, -1.82017679e+02,  9.15155556e+02, -7.17110180e-03])"
      ]
     },
     "execution_count": 15,
     "metadata": {},
     "output_type": "execute_result"
    }
   ],
   "source": [
    "rval"
   ]
  },
  {
   "cell_type": "code",
   "execution_count": 16,
   "id": "bc67fe10",
   "metadata": {},
   "outputs": [
    {
     "data": {
      "text/plain": [
       "array([766.6687489 , 289.39142588, 493.10897666,          inf])"
      ]
     },
     "execution_count": 16,
     "metadata": {},
     "output_type": "execute_result"
    }
   ],
   "source": [
    "drval"
   ]
  },
  {
   "cell_type": "code",
   "execution_count": 17,
   "id": "32e6b801",
   "metadata": {},
   "outputs": [
    {
     "data": {
      "image/png": "[encoded data removed]",
      "text/plain": [
       "<Figure size 1080x576 with 1 Axes>"
      ]
     },
     "metadata": {
      "needs_background": "light"
     },
     "output_type": "display_data"
    }
   ],
   "source": [
    "plt.figure(figsize=(15,8))\n",
    "plt.rc('xtick', labelsize=20) \n",
    "plt.rc('ytick', labelsize=20) \n",
    "plt.errorbar(nbinshift, asym, yerr=dasym, fmt=\"o\")\n",
    "plt.xlabel('Muon precession period [µs]',fontsize=25)\n",
    "plt.ylabel('A',fontsize=25)\n",
    "plt.show()"
   ]
  },
  {
   "cell_type": "code",
   "execution_count": 18,
   "id": "94cbcbdf",
   "metadata": {},
   "outputs": [
    {
     "data": {
      "image/png": "[encoded data removed]",
      "text/plain": [
       "<Figure size 864x576 with 1 Axes>"
      ]
     },
     "metadata": {
      "needs_background": "light"
     },
     "output_type": "display_data"
    }
   ],
   "source": [
    "plt.figure(figsize=(12,8))\n",
    "plt.rc('xtick', labelsize=20) \n",
    "plt.rc('ytick', labelsize=20) \n",
    "plt.errorbar(nbinshift, drval, yerr=0, fmt=\"o\")\n",
    "plt.xlabel('Muon precession period [µs]',fontsize=25)\n",
    "plt.ylabel('dR [ppm]',fontsize=25)\n",
    "plt.show()"
   ]
  },
  {
   "cell_type": "code",
   "execution_count": 19,
   "id": "b78a9fab",
   "metadata": {},
   "outputs": [
    {
     "data": {
      "text/plain": [
       "array([604809.23047843, 602488.29314859, 602763.74096489, 604881.49003426])"
      ]
     },
     "execution_count": 19,
     "metadata": {},
     "output_type": "execute_result"
    }
   ],
   "source": [
    "red_chi2"
   ]
  },
  {
   "cell_type": "code",
   "execution_count": null,
   "id": "3c8e6a38",
   "metadata": {},
   "outputs": [],
   "source": []
  },
  {
   "cell_type": "code",
   "execution_count": null,
   "id": "e586b979",
   "metadata": {},
   "outputs": [],
   "source": []
  }
 ],
 "metadata": {
  "kernelspec": {
   "display_name": "Python 3",
   "language": "python",
   "name": "python3"
  },
  "language_info": {
   "codemirror_mode": {
    "name": "ipython",
    "version": 3
   },
   "file_extension": ".py",
   "mimetype": "text/x-python",
   "name": "python",
   "nbconvert_exporter": "python",
   "pygments_lexer": "ipython3",
   "version": "3.6.9"
  }
 },
 "nbformat": 4,
 "nbformat_minor": 5
}
