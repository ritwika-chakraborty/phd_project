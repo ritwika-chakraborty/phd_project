{
 "cells": [
  {
   "cell_type": "code",
   "execution_count": 1,
   "id": "7d0760d0",
   "metadata": {},
   "outputs": [
    {
     "name": "stdout",
     "output_type": "stream",
     "text": [
      "Welcome to JupyROOT 6.24/06\n"
     ]
    }
   ],
   "source": [
    "import numpy as np\n",
    "import ROOT\n",
    "from math import exp as expo\n",
    "from math import cos as cosine\n",
    "from math import sin as sine\n",
    "sin=np.vectorize(sine)\n",
    "exp=np.vectorize(expo)\n",
    "cos=np.vectorize(cosine)\n",
    "import matplotlib.pylab as plt\n",
    "from matplotlib.pyplot import figure\n",
    "from BlindersPy3 import Blinders\n",
    "from BlindersPy3 import FitType\n",
    "import scipy.optimize as opt"
   ]
  },
  {
   "cell_type": "code",
   "execution_count": 2,
   "id": "009e1c41",
   "metadata": {},
   "outputs": [],
   "source": [
    "file = ROOT.TFile.Open(\"run3BtoM_4hcopy_ratioFR_percalo_cov_mat_1.root\")\n",
    "hist_tmp = ROOT.TH1D()\n",
    "hist_tmp = file.Get(\"hcalo_ratio_1\")"
   ]
  },
  {
   "cell_type": "code",
   "execution_count": 3,
   "id": "a963dbc8",
   "metadata": {},
   "outputs": [],
   "source": [
    "fit_start=30000\n",
    "fit_stop=300000\n",
    "fit_range=hist_tmp.FindBin(fit_stop)-hist_tmp.FindBin(fit_start)+1\n",
    "y_val=np.empty(shape=(24,fit_range))\n",
    "y_err=np.empty(shape=(24,fit_range))\n",
    "x_val=np.empty(shape=(24,fit_range))\n",
    "y_cov=np.empty(shape=(24,fit_range,fit_range))  "
   ]
  },
  {
   "cell_type": "code",
   "execution_count": 4,
   "id": "409cf571",
   "metadata": {},
   "outputs": [
    {
     "name": "stdout",
     "output_type": "stream",
     "text": [
      "CPU times: user 2min 30s, sys: 33.8 s, total: 3min 4s\n",
      "Wall time: 3min 4s\n"
     ]
    }
   ],
   "source": [
    "%%time\n",
    "for icalo in range(0,24):\n",
    "    hist = ROOT.TH1D()\n",
    "    hcov = ROOT.TH2D()\n",
    "    hist = file.Get(\"hcalo_ratio_\"+str(icalo+1))\n",
    "    for ibin in range (0,fit_range):\n",
    "        y_val[icalo][ibin]=hist.GetBinContent(ibin+hist.FindBin(fit_start))\n",
    "        y_err[icalo][ibin]=hist.GetBinError(ibin+hist.FindBin(fit_start))\n",
    "        x_val[icalo][ibin]=hist.GetBinCenter(ibin+hist.FindBin(fit_start))\n",
    "        \n",
    "    hcov = file.Get(\"hcov_\"+str(icalo+1))\n",
    "    for irow in range (0, fit_range):\n",
    "        for icol in range(0, fit_range):\n",
    "            y_cov[icalo][irow][icol]=hcov.GetBinContent(irow+hist.FindBin(fit_start),icol+hist.FindBin(fit_start))\n",
    "            \n",
    "    hist.Reset()\n",
    "    hcov.Reset()"
   ]
  },
  {
   "cell_type": "code",
   "execution_count": 5,
   "id": "a5286a57",
   "metadata": {},
   "outputs": [],
   "source": [
    "for icalo in range(0,24):\n",
    "    mat=np.linalg.eigvalsh(y_cov[icalo])\n",
    "    for irow in range (0, fit_range):\n",
    "        if mat[irow]<=0:\n",
    "            print(icalo,irow,\"\\n\")"
   ]
  },
  {
   "cell_type": "code",
   "execution_count": 6,
   "id": "cb143716",
   "metadata": {},
   "outputs": [
    {
     "name": "stdout",
     "output_type": "stream",
     "text": [
      " + ++++++++++++++++++++++++++++++++++++++++++++++++++++++++++++++++++++ +\n",
      " +                                                                      +\n",
      " +           You have chose to blind your fitting according to          +\n",
      " +                omega_ref * (1 + (R +/- deltaR) *10^{-6})             +\n",
      " +                                                                      +\n",
      " + ++++++++++++++++++++++++++++++++++++++++++++++++++++++++++++++++++++ +\n"
     ]
    }
   ],
   "source": [
    "getBlinded = Blinders(FitType.Omega_a, \"Ritwika's new  Blinding\")"
   ]
  },
  {
   "cell_type": "code",
   "execution_count": 7,
   "id": "1c36e7e2",
   "metadata": {},
   "outputs": [],
   "source": [
    "T_a_true=4365.411\n",
    "nbinshift=int((0.5*T_a_true)/hist.GetBinWidth(1))\n",
    "T_a=2*nbinshift*hist.GetBinWidth(1)\n",
    "\n",
    "asym=np.empty(24)\n",
    "dasym=np.empty(24)\n",
    "rval=np.empty(24)\n",
    "drval=np.empty(24)\n",
    "phi=np.empty(24)\n",
    "dphi=np.empty(24)\n",
    "A_cbo=np.empty(24)\n",
    "dA_cbo=np.empty(24)\n",
    "tau_cbo=np.empty(24)\n",
    "dtau_cbo=np.empty(24)\n",
    "omega_cbo=np.empty(24)\n",
    "domega_cbo=np.empty(24)\n",
    "phi_cbo=np.empty(24)\n",
    "dphi_cbo=np.empty(24)\n",
    "A_cbo_A=np.empty(24)\n",
    "dA_cbo_A=np.empty(24)\n",
    "phi_cbo_A=np.empty(24)\n",
    "dphi_cbo_A=np.empty(24)\n",
    "A_cbo_phi=np.empty(24)\n",
    "dA_cbo_phi=np.empty(24)\n",
    "phi_cbo_phi=np.empty(24)\n",
    "dphi_cbo_phi=np.empty(24)\n",
    "A_vw=np.empty(24)\n",
    "dA_vw=np.empty(24)\n",
    "tau_vw=np.empty(24)\n",
    "dtau_vw=np.empty(24)\n",
    "omega_vw=np.empty(24)\n",
    "domega_vw=np.empty(24)\n",
    "phi_vw=np.empty(24)\n",
    "dphi_vw=np.empty(24)\n",
    "A_y=np.empty(24)\n",
    "dA_y=np.empty(24)\n",
    "tau_y=np.empty(24)\n",
    "dtau_y=np.empty(24)\n",
    "omega_y=np.empty(24)\n",
    "domega_y=np.empty(24)\n",
    "phi_y=np.empty(24)\n",
    "dphi_y=np.empty(24)\n",
    "A_2cbo=np.empty(24)\n",
    "dA_2cbo=np.empty(24)\n",
    "tau_2cbo=np.empty(24)\n",
    "dtau_2cbo=np.empty(24)\n",
    "omega_2cbo=np.empty(24)\n",
    "domega_2cbo=np.empty(24)\n",
    "phi_2cbo=np.empty(24)\n",
    "dphi_2cbo=np.empty(24)\n",
    "A_new=np.empty(24)\n",
    "dA_new=np.empty(24)\n",
    "phi_new=np.empty(24)\n",
    "dphi_new=np.empty(24)\n",
    "A_cbo_t=np.empty(24)\n",
    "dA_cbo_t=np.empty(24)\n",
    "tau_cbo_t=np.empty(24)\n",
    "dtau_cbo_t=np.empty(24)\n",
    "A_new2=np.empty(24)\n",
    "dA_new2=np.empty(24)\n",
    "tau_new2=np.empty(24)\n",
    "dtau_new2=np.empty(24)\n",
    "omega_new2=np.empty(24)\n",
    "domega_new2=np.empty(24)\n",
    "phi_new2=np.empty(24)\n",
    "dphi_new2=np.empty(24)\n",
    "calonum=np.empty(24)\n"
   ]
  },
  {
   "cell_type": "code",
   "execution_count": 8,
   "id": "9bfa2aac",
   "metadata": {},
   "outputs": [],
   "source": [
    "def fit_func3(time: np.double,\n",
    "              asym: np.double = 0.0, \n",
    "              R: np.double = 0.0, \n",
    "              phi: np.double = 0.0)-> np.double:\n",
    "    \n",
    "    f=(1+ asym*cos((getBlinded.paramToFreq(R)/1000.)*time - phi))\n",
    "\n",
    "    ff=(1+ asym*cos((getBlinded.paramToFreq(R)/1000.)*(time + T_a/2) - phi))\n",
    "\n",
    "    fb=(1+ asym*cos((getBlinded.paramToFreq(R)/1000.)*(time - T_a/2) - phi))\n",
    "\n",
    "    \n",
    "    return (2*f - ff - fb)/(2*f + ff + fb) "
   ]
  },
  {
   "cell_type": "code",
   "execution_count": 9,
   "id": "45879f7b",
   "metadata": {},
   "outputs": [],
   "source": [
    "def fit_func7(time: np.double,\n",
    "              asym: np.double = 0.0, \n",
    "              R: np.double = 0.0, \n",
    "              phi: np.double = 0.0,\n",
    "              asym_cbo = 0.0,\n",
    "              tau_cbo = 0.0,\n",
    "              omega_cbo = 0.0,\n",
    "              phi_cbo = 0.0)-> np.double:\n",
    "    \n",
    "    Ncbo=(1 + asym_cbo*exp(-time/tau_cbo)*cos(omega_cbo*time - phi_cbo))\n",
    "    Ncbof=(1+ asym_cbo*exp(-(time + T_a/2)/tau_cbo)*cos(omega_cbo*(time + T_a/2) - phi_cbo))\n",
    "    Ncbob=(1+ asym_cbo*exp(-(time - T_a/2)/tau_cbo)*cos(omega_cbo*(time - T_a/2) - phi_cbo))\n",
    "\n",
    "    f=(1+ asym*cos((getBlinded.paramToFreq(R)/1000.)*time - phi))\n",
    "\n",
    "    ff=(1+ asym*cos((getBlinded.paramToFreq(R)/1000.)*(time + T_a/2) - phi))\n",
    "\n",
    "    fb=(1+ asym*cos((getBlinded.paramToFreq(R)/1000.)*(time - T_a/2) - phi))\n",
    "\n",
    "    \n",
    "    return (2*f*Ncbo - ff*Ncbof - fb*Ncbob)/(2*f*Ncbo + ff*Ncbof + fb*Ncbob)"
   ]
  },
  {
   "cell_type": "code",
   "execution_count": 10,
   "id": "012f86b5",
   "metadata": {},
   "outputs": [],
   "source": [
    "def fit_func11(time: np.double,\n",
    "               asym: np.double = 0.0, \n",
    "               R: np.double = 0.0, \n",
    "               phi: np.double = 0.0,\n",
    "               asym_cbo = 0.0,\n",
    "               tau_cbo = 0.0,\n",
    "               omega_cbo = 0.0,\n",
    "               phi_cbo = 0.0,\n",
    "               asym_cbo_A = 0.0,\n",
    "               phi_cbo_A=0.0,\n",
    "               A_cbo_phi= 0.0,\n",
    "               phi_cbo_phi=0.0)-> np.double:\n",
    "    \n",
    "    Ncbo=(1 + asym_cbo*exp(-time/tau_cbo)*cos(omega_cbo*time - phi_cbo))\n",
    "    Ncbof=(1+ asym_cbo*exp(-(time + T_a/2)/tau_cbo)*cos(omega_cbo*(time + T_a/2) - phi_cbo))\n",
    "    Ncbob=(1+ asym_cbo*exp(-(time - T_a/2)/tau_cbo)*cos(omega_cbo*(time - T_a/2) - phi_cbo))\n",
    "    Acbo=(1+ asym_cbo_A*exp(-time/tau_cbo)*cos(omega_cbo*time - phi_cbo_A));\n",
    "    Acbof=(1+ asym_cbo_A*exp(-(time + T_a/2)/tau_cbo)*cos(omega_cbo*(time + T_a/2) - phi_cbo_A))\n",
    "    Acbob=(1+ asym_cbo_A*exp(-(time - T_a/2)/tau_cbo)*cos(omega_cbo*(time - T_a/2) - phi_cbo_A))\n",
    "    phicbo=(A_cbo_phi*exp(-time/tau_cbo)*cos(omega_cbo*time - phi_cbo_phi))\n",
    "    phicbof=(A_cbo_phi*exp(-(time + T_a/2)/tau_cbo)*cos(omega_cbo*(time + T_a/2) - phi_cbo_phi))\n",
    "    phicbob=(A_cbo_phi*exp(-(time - T_a/2)/tau_cbo)*cos(omega_cbo*(time - T_a/2) - phi_cbo_phi))\n",
    "\n",
    "\n",
    "    f=(1+ asym*Acbo*cos((getBlinded.paramToFreq(R)/1000.)*time - phi - phicbo))\n",
    "\n",
    "    ff=(1+ asym*Acbof*cos((getBlinded.paramToFreq(R)/1000.)*(time + T_a/2) - phi - phicbof))\n",
    "\n",
    "    fb=(1+ asym*Acbob*cos((getBlinded.paramToFreq(R)/1000.)*(time - T_a/2) - phi - phicbob))\n",
    "\n",
    "    \n",
    "    return (2*f*Ncbo - ff*Ncbof - fb*Ncbob)/(2*f*Ncbo + ff*Ncbof + fb*Ncbob)"
   ]
  },
  {
   "cell_type": "code",
   "execution_count": 11,
   "id": "c282d103",
   "metadata": {},
   "outputs": [],
   "source": [
    "def fit_func15(time: np.double,\n",
    "               asym: np.double = 0.0, \n",
    "               R: np.double = 0.0, \n",
    "               phi: np.double = 0.0,\n",
    "               asym_cbo = 0.0,\n",
    "               tau_cbo = 0.0,\n",
    "               omega_cbo = 0.0,\n",
    "               phi_cbo = 0.0,\n",
    "               asym_cbo_A = 0.0,\n",
    "               phi_cbo_A=0.0,\n",
    "               A_cbo_phi= 0.0,\n",
    "               phi_cbo_phi=0.0,\n",
    "               asym_2cbo= 0.0,\n",
    "               phi_2cbo = 0.0)-> np.double:\n",
    "    \n",
    "    Ncbo=(1 + asym_cbo*exp(-time/tau_cbo)*cos(omega_cbo*time - phi_cbo))\n",
    "    Ncbof=(1+ asym_cbo*exp(-(time + T_a/2)/tau_cbo)*cos(omega_cbo*(time + T_a/2) - phi_cbo))\n",
    "    Ncbob=(1+ asym_cbo*exp(-(time - T_a/2)/tau_cbo)*cos(omega_cbo*(time - T_a/2) - phi_cbo))\n",
    "    Acbo=(1+ asym_cbo_A*exp(-time/tau_cbo)*cos(omega_cbo*time - phi_cbo_A));\n",
    "    Acbof=(1+ asym_cbo_A*exp(-(time + T_a/2)/tau_cbo)*cos(omega_cbo*(time + T_a/2) - phi_cbo_A))\n",
    "    Acbob=(1+ asym_cbo_A*exp(-(time - T_a/2)/tau_cbo)*cos(omega_cbo*(time - T_a/2) - phi_cbo_A))\n",
    "    phicbo=(A_cbo_phi*exp(-time/tau_cbo)*cos(omega_cbo*time - phi_cbo_phi))\n",
    "    phicbof=(A_cbo_phi*exp(-(time + T_a/2)/tau_cbo)*cos(omega_cbo*(time + T_a/2) - phi_cbo_phi))\n",
    "    phicbob=(A_cbo_phi*exp(-(time - T_a/2)/tau_cbo)*cos(omega_cbo*(time - T_a/2) - phi_cbo_phi))\n",
    "    N2cbo=(asym_2cbo*exp(-time/(tau_cbo/2))*cos(2*omega_cbo*time - phi_2cbo))\n",
    "    N2cbof=(asym_2cbo*exp(-(time + T_a/2)/(tau_cbo/2))*cos(2*omega_cbo*(time + T_a/2) - phi_2cbo))\n",
    "    N2cbob=(asym_2cbo*exp(-(time - T_a/2)/(tau_cbo/2))*cos(2*omega_cbo*(time - T_a/2) - phi_2cbo))\n",
    "\n",
    "    Ncbo=Ncbo+N2cbo\n",
    "    Ncbof=Ncbof+N2cbof\n",
    "    Ncbob=Ncbob+N2cbob\n",
    "\n",
    "    f=(1+ asym*Acbo*cos((getBlinded.paramToFreq(R)/1000.)*time - phi - phicbo))\n",
    "\n",
    "    ff=(1+ asym*Acbof*cos((getBlinded.paramToFreq(R)/1000.)*(time + T_a/2) - phi - phicbof))\n",
    "\n",
    "    fb=(1+ asym*Acbob*cos((getBlinded.paramToFreq(R)/1000.)*(time - T_a/2) - phi - phicbob))\n",
    "\n",
    "    \n",
    "    return (2*f*Ncbo - ff*Ncbof - fb*Ncbob)/(2*f*Ncbo + ff*Ncbof + fb*Ncbob)"
   ]
  },
  {
   "cell_type": "code",
   "execution_count": 12,
   "id": "c039fcc0",
   "metadata": {},
   "outputs": [],
   "source": [
    "def fit_func19(time: np.double,\n",
    "               asym: np.double = 0.0, \n",
    "               R: np.double = 0.0, \n",
    "               phi: np.double = 0.0,\n",
    "               asym_cbo = 0.0,\n",
    "               tau_cbo = 0.0,\n",
    "               omega_cbo = 0.0,\n",
    "               phi_cbo = 0.0,\n",
    "               asym_cbo_A = 0.0,\n",
    "               phi_cbo_A=0.0,\n",
    "               A_cbo_phi= 0.0,\n",
    "               phi_cbo_phi=0.0,\n",
    "               asym_2cbo= 0.0,\n",
    "               phi_2cbo = 0.0,\n",
    "               asym_vw= 0.0,\n",
    "               phi_vw = 0.0)-> np.double:\n",
    "    \n",
    "    tau_vw = 75360\n",
    "    omega_vw = 0.01389\n",
    "\n",
    "    \n",
    "    Ncbo=(1 + asym_cbo*exp(-time/tau_cbo)*cos(omega_cbo*time - phi_cbo))\n",
    "    Ncbof=(1+ asym_cbo*exp(-(time + T_a/2)/tau_cbo)*cos(omega_cbo*(time + T_a/2) - phi_cbo))\n",
    "    Ncbob=(1+ asym_cbo*exp(-(time - T_a/2)/tau_cbo)*cos(omega_cbo*(time - T_a/2) - phi_cbo))\n",
    "    Acbo=(1+ asym_cbo_A*exp(-time/tau_cbo)*cos(omega_cbo*time - phi_cbo_A));\n",
    "    Acbof=(1+ asym_cbo_A*exp(-(time + T_a/2)/tau_cbo)*cos(omega_cbo*(time + T_a/2) - phi_cbo_A))\n",
    "    Acbob=(1+ asym_cbo_A*exp(-(time - T_a/2)/tau_cbo)*cos(omega_cbo*(time - T_a/2) - phi_cbo_A))\n",
    "    phicbo=(A_cbo_phi*exp(-time/tau_cbo)*cos(omega_cbo*time - phi_cbo_phi))\n",
    "    phicbof=(A_cbo_phi*exp(-(time + T_a/2)/tau_cbo)*cos(omega_cbo*(time + T_a/2) - phi_cbo_phi))\n",
    "    phicbob=(A_cbo_phi*exp(-(time - T_a/2)/tau_cbo)*cos(omega_cbo*(time - T_a/2) - phi_cbo_phi))\n",
    "    N2cbo=(asym_2cbo*exp(-time/(tau_cbo/2))*cos(2*omega_cbo*time - phi_2cbo))\n",
    "    N2cbof=(asym_2cbo*exp(-(time + T_a/2)/(tau_cbo/2))*cos(2*omega_cbo*(time + T_a/2) - phi_2cbo))\n",
    "    N2cbob=(asym_2cbo*exp(-(time - T_a/2)/(tau_cbo/2))*cos(2*omega_cbo*(time - T_a/2) - phi_2cbo))\n",
    "    Nvw=(1+ asym_vw*exp(-time/tau_vw)*cos(omega_vw*time - phi_vw))\n",
    "    Nvwf=(1+ asym_vw*exp(-(time + T_a/2)/tau_vw)*cos(omega_vw*(time + T_a/2) - phi_vw))\n",
    "    Nvwb=(1+ asym_vw*exp(-(time - T_a/2)/tau_vw)*cos(omega_vw*(time - T_a/2) - phi_vw))\n",
    "\n",
    "    \n",
    "    Ncbo=Ncbo+N2cbo\n",
    "    Ncbof=Ncbof+N2cbof\n",
    "    Ncbob=Ncbob+N2cbob\n",
    "\n",
    "    f=(1+ asym*Acbo*cos((getBlinded.paramToFreq(R)/1000.)*time - phi - phicbo))\n",
    "\n",
    "    ff=(1+ asym*Acbof*cos((getBlinded.paramToFreq(R)/1000.)*(time + T_a/2) - phi - phicbof))\n",
    "\n",
    "    fb=(1+ asym*Acbob*cos((getBlinded.paramToFreq(R)/1000.)*(time - T_a/2) - phi - phicbob))\n",
    "\n",
    "    \n",
    "    return (2*f*Ncbo*Nvw - ff*Ncbof*Nvwf - fb*Ncbob*Nvwb)/(2*f*Ncbo*Nvw + ff*Ncbof*Nvwf + fb*Ncbob*Nvwb)"
   ]
  },
  {
   "cell_type": "code",
   "execution_count": 22,
   "id": "be3de1c8",
   "metadata": {},
   "outputs": [],
   "source": [
    "def fit_func23(time: np.double,\n",
    "               asym: np.double = 0.0, \n",
    "               R: np.double = 0.0, \n",
    "               phi: np.double = 0.0,\n",
    "               asym_cbo = 0.0,\n",
    "               tau_cbo = 0.0,\n",
    "               omega_cbo = 0.0,\n",
    "               phi_cbo = 0.0,\n",
    "               asym_cbo_A = 0.0,\n",
    "               phi_cbo_A=0.0,\n",
    "               A_cbo_phi= 0.0,\n",
    "               phi_cbo_phi=0.0,\n",
    "               asym_2cbo= 0.0,\n",
    "               phi_2cbo = 0.0,\n",
    "               asym_vw= 0.0,\n",
    "               phi_vw = 0.0,\n",
    "               asym_vbo= 0.0,\n",
    "               phi_vbo = 0.0)-> np.double:\n",
    "    \n",
    "    tau_vw = 75360\n",
    "    omega_vw = 0.01389\n",
    "    \n",
    "    tau_vbo = 5500\n",
    "    omega_vbo = 0.0140986\n",
    "\n",
    "    \n",
    "    Ncbo=(1 + asym_cbo*exp(-time/tau_cbo)*cos(omega_cbo*time - phi_cbo))\n",
    "    Ncbof=(1+ asym_cbo*exp(-(time + T_a/2)/tau_cbo)*cos(omega_cbo*(time + T_a/2) - phi_cbo))\n",
    "    Ncbob=(1+ asym_cbo*exp(-(time - T_a/2)/tau_cbo)*cos(omega_cbo*(time - T_a/2) - phi_cbo))\n",
    "    Acbo=(1+ asym_cbo_A*exp(-time/tau_cbo)*cos(omega_cbo*time - phi_cbo_A));\n",
    "    Acbof=(1+ asym_cbo_A*exp(-(time + T_a/2)/tau_cbo)*cos(omega_cbo*(time + T_a/2) - phi_cbo_A))\n",
    "    Acbob=(1+ asym_cbo_A*exp(-(time - T_a/2)/tau_cbo)*cos(omega_cbo*(time - T_a/2) - phi_cbo_A))\n",
    "    phicbo=(A_cbo_phi*exp(-time/tau_cbo)*cos(omega_cbo*time - phi_cbo_phi))\n",
    "    phicbof=(A_cbo_phi*exp(-(time + T_a/2)/tau_cbo)*cos(omega_cbo*(time + T_a/2) - phi_cbo_phi))\n",
    "    phicbob=(A_cbo_phi*exp(-(time - T_a/2)/tau_cbo)*cos(omega_cbo*(time - T_a/2) - phi_cbo_phi))\n",
    "    N2cbo=(asym_2cbo*exp(-time/(tau_cbo/2))*cos(2*omega_cbo*time - phi_2cbo))\n",
    "    N2cbof=(asym_2cbo*exp(-(time + T_a/2)/(tau_cbo/2))*cos(2*omega_cbo*(time + T_a/2) - phi_2cbo))\n",
    "    N2cbob=(asym_2cbo*exp(-(time - T_a/2)/(tau_cbo/2))*cos(2*omega_cbo*(time - T_a/2) - phi_2cbo))\n",
    "    Nvw=(1+ asym_vw*exp(-time/tau_vw)*cos(omega_vw*time - phi_vw))\n",
    "    Nvwf=(1+ asym_vw*exp(-(time + T_a/2)/tau_vw)*cos(omega_vw*(time + T_a/2) - phi_vw))\n",
    "    Nvwb=(1+ asym_vw*exp(-(time - T_a/2)/tau_vw)*cos(omega_vw*(time - T_a/2) - phi_vw))\n",
    "    Nvbo=(1+ asym_vbo*exp(-time/tau_vbo)*cos(omega_vbo*time - phi_vbo))\n",
    "    Nvbof=(1+ asym_vbo*exp(-(time + T_a/2)/tau_vbo)*cos(omega_vbo*(time + T_a/2) - phi_vbo))\n",
    "    Nvbob=(1+ asym_vbo*exp(-(time - T_a/2)/tau_vbo)*cos(omega_vbo*(time - T_a/2) - phi_vbo))\n",
    "\n",
    "\n",
    "    \n",
    "    Ncbo=Ncbo+N2cbo\n",
    "    Ncbof=Ncbof+N2cbof\n",
    "    Ncbob=Ncbob+N2cbob\n",
    "\n",
    "    f=(1+ asym*Acbo*cos((getBlinded.paramToFreq(R)/1000.)*time - phi - phicbo))\n",
    "\n",
    "    ff=(1+ asym*Acbof*cos((getBlinded.paramToFreq(R)/1000.)*(time + T_a/2) - phi - phicbof))\n",
    "\n",
    "    fb=(1+ asym*Acbob*cos((getBlinded.paramToFreq(R)/1000.)*(time - T_a/2) - phi - phicbob))\n",
    "\n",
    "    \n",
    "    return (2*f*Ncbo*Nvw*Nvbo - ff*Ncbof*Nvwf*Nvbof - fb*Ncbob*Nvwb*Nvbob)/(2*f*Ncbo*Nvw*Nvbo + ff*Ncbof*Nvwf*Nvbof + fb*Ncbob*Nvwb*Nvbob)"
   ]
  },
  {
   "cell_type": "code",
   "execution_count": 23,
   "id": "a77f58f3",
   "metadata": {},
   "outputs": [],
   "source": [
    "def fit_func24(time: np.double,\n",
    "               asym: np.double = 0.0, \n",
    "               R: np.double = 0.0, \n",
    "               phi: np.double = 0.0,\n",
    "               asym_cbo = 0.0,\n",
    "               tau_cbo = 0.0,\n",
    "               omega_cbo = 0.0,\n",
    "               phi_cbo = 0.0,\n",
    "               asym_cbo_A = 0.0,\n",
    "               phi_cbo_A=0.0,\n",
    "               A_cbo_phi= 0.0,\n",
    "               phi_cbo_phi=0.0,\n",
    "               asym_2cbo= 0.0,\n",
    "               phi_2cbo = 0.0,\n",
    "               asym_vw= 0.0,\n",
    "               phi_vw = 0.0,\n",
    "               asym_vbo= 0.0,\n",
    "               phi_vbo = 0.0,\n",
    "               A_cbot = 0.0)-> np.double:\n",
    "    \n",
    "    tau_vw = 75360\n",
    "    omega_vw = 0.01389\n",
    "    \n",
    "    tau_vbo = 5500\n",
    "    omega_vbo = 0.0140986\n",
    "    \n",
    "    tau_cbot= 5400\n",
    "    \n",
    "    omega_cbot=omega_cbo*(1+A_cbot*exp(-time/tau_cbot))\n",
    "    omega_cbotf=omega_cbo*(1+A_cbot*exp(-(time+T_a/2)/tau_cbot))\n",
    "    omega_cbotb=omega_cbo*(1+A_cbot*exp(-(time-T_a/2)/tau_cbot))\n",
    "\n",
    "    \n",
    "    Ncbo=(1 + asym_cbo*exp(-time/tau_cbo)*cos(omega_cbot*time - phi_cbo))\n",
    "    Ncbof=(1+ asym_cbo*exp(-(time + T_a/2)/tau_cbo)*cos(omega_cbotf*(time + T_a/2) - phi_cbo))\n",
    "    Ncbob=(1+ asym_cbo*exp(-(time - T_a/2)/tau_cbo)*cos(omega_cbotb*(time - T_a/2) - phi_cbo))\n",
    "    Acbo=(1+ asym_cbo_A*exp(-time/tau_cbo)*cos(omega_cbo*time - phi_cbo_A));\n",
    "    Acbof=(1+ asym_cbo_A*exp(-(time + T_a/2)/tau_cbo)*cos(omega_cbo*(time + T_a/2) - phi_cbo_A))\n",
    "    Acbob=(1+ asym_cbo_A*exp(-(time - T_a/2)/tau_cbo)*cos(omega_cbo*(time - T_a/2) - phi_cbo_A))\n",
    "    phicbo=(A_cbo_phi*exp(-time/tau_cbo)*cos(omega_cbo*time - phi_cbo_phi))\n",
    "    phicbof=(A_cbo_phi*exp(-(time + T_a/2)/tau_cbo)*cos(omega_cbo*(time + T_a/2) - phi_cbo_phi))\n",
    "    phicbob=(A_cbo_phi*exp(-(time - T_a/2)/tau_cbo)*cos(omega_cbo*(time - T_a/2) - phi_cbo_phi))\n",
    "    N2cbo=(asym_2cbo*exp(-time/(tau_cbo/2))*cos(2*omega_cbot*time - phi_2cbo))\n",
    "    N2cbof=(asym_2cbo*exp(-(time + T_a/2)/(tau_cbo/2))*cos(2*omega_cbotf*(time + T_a/2) - phi_2cbo))\n",
    "    N2cbob=(asym_2cbo*exp(-(time - T_a/2)/(tau_cbo/2))*cos(2*omega_cbotb*(time - T_a/2) - phi_2cbo))\n",
    "    Nvw=(1+ asym_vw*exp(-time/tau_vw)*cos(omega_vw*time - phi_vw))\n",
    "    Nvwf=(1+ asym_vw*exp(-(time + T_a/2)/tau_vw)*cos(omega_vw*(time + T_a/2) - phi_vw))\n",
    "    Nvwb=(1+ asym_vw*exp(-(time - T_a/2)/tau_vw)*cos(omega_vw*(time - T_a/2) - phi_vw))\n",
    "    Nvbo=(1+ asym_vbo*exp(-time/tau_vbo)*cos(omega_vbo*time - phi_vbo))\n",
    "    Nvbof=(1+ asym_vbo*exp(-(time + T_a/2)/tau_vbo)*cos(omega_vbo*(time + T_a/2) - phi_vbo))\n",
    "    Nvbob=(1+ asym_vbo*exp(-(time - T_a/2)/tau_vbo)*cos(omega_vbo*(time - T_a/2) - phi_vbo))\n",
    "\n",
    "\n",
    "    \n",
    "    Ncbo=Ncbo+N2cbo\n",
    "    Ncbof=Ncbof+N2cbof\n",
    "    Ncbob=Ncbob+N2cbob\n",
    "\n",
    "    f=(1+ asym*Acbo*cos((getBlinded.paramToFreq(R)/1000.)*time - phi - phicbo))\n",
    "\n",
    "    ff=(1+ asym*Acbof*cos((getBlinded.paramToFreq(R)/1000.)*(time + T_a/2) - phi - phicbof))\n",
    "\n",
    "    fb=(1+ asym*Acbob*cos((getBlinded.paramToFreq(R)/1000.)*(time - T_a/2) - phi - phicbob))\n",
    "\n",
    "    \n",
    "    return (2*f*Ncbo*Nvw*Nvbo - ff*Ncbof*Nvwf*Nvbof - fb*Ncbob*Nvwb*Nvbob)/(2*f*Ncbo*Nvw*Nvbo + ff*Ncbof*Nvwf*Nvbof + fb*Ncbob*Nvwb*Nvbob)"
   ]
  },
  {
   "cell_type": "code",
   "execution_count": 24,
   "id": "1db1d78f",
   "metadata": {},
   "outputs": [],
   "source": [
    "def fit_func28(time: np.double,\n",
    "               asym: np.double = 0.0, \n",
    "               R: np.double = 0.0, \n",
    "               phi: np.double = 0.0,\n",
    "               asym_cbo = 0.0,\n",
    "               tau_cbo = 0.0,\n",
    "               omega_cbo = 0.0,\n",
    "               phi_cbo = 0.0,\n",
    "               asym_cbo_A = 0.0,\n",
    "               phi_cbo_A=0.0,\n",
    "               A_cbo_phi= 0.0,\n",
    "               phi_cbo_phi=0.0,\n",
    "               asym_2cbo= 0.0,\n",
    "               phi_2cbo = 0.0,\n",
    "               asym_vw= 0.0,\n",
    "               phi_vw = 0.0,\n",
    "               asym_vbo= 0.0,\n",
    "               phi_vbo = 0.0,\n",
    "               A_cbot = 0.0,\n",
    "               #tau_cbot = 0.0,\n",
    "               asym_new2= 0.0,\n",
    "               tau_new2 = 0.0,\n",
    "               omega_new2 = 0.0,\n",
    "               phi_new2 = 0.0)-> np.double:\n",
    "    \n",
    "    tau_vw = 75360\n",
    "    omega_vw = 0.01389\n",
    "    \n",
    "    tau_vbo = 5500\n",
    "    omega_vbo = 0.0140986\n",
    "    \n",
    "    tau_cbot= 5400\n",
    "    \n",
    "    omega_cbot=omega_cbo*(1+A_cbot*exp(-time/tau_cbot))\n",
    "    omega_cbotf=omega_cbo*(1+A_cbot*exp(-(time+T_a/2)/tau_cbot))\n",
    "    omega_cbotb=omega_cbo*(1+A_cbot*exp(-(time-T_a/2)/tau_cbot))\n",
    "\n",
    "    \n",
    "    Ncbo=(1 + asym_cbo*exp(-time/tau_cbo)*cos(omega_cbot*time - phi_cbo))\n",
    "    Ncbof=(1+ asym_cbo*exp(-(time + T_a/2)/tau_cbo)*cos(omega_cbotf*(time + T_a/2) - phi_cbo))\n",
    "    Ncbob=(1+ asym_cbo*exp(-(time - T_a/2)/tau_cbo)*cos(omega_cbotb*(time - T_a/2) - phi_cbo))\n",
    "    Acbo=(1+ asym_cbo_A*exp(-time/tau_cbo)*cos(omega_cbo*time - phi_cbo_A));\n",
    "    Acbof=(1+ asym_cbo_A*exp(-(time + T_a/2)/tau_cbo)*cos(omega_cbo*(time + T_a/2) - phi_cbo_A))\n",
    "    Acbob=(1+ asym_cbo_A*exp(-(time - T_a/2)/tau_cbo)*cos(omega_cbo*(time - T_a/2) - phi_cbo_A))\n",
    "    phicbo=(A_cbo_phi*exp(-time/tau_cbo)*cos(omega_cbo*time - phi_cbo_phi))\n",
    "    phicbof=(A_cbo_phi*exp(-(time + T_a/2)/tau_cbo)*cos(omega_cbo*(time + T_a/2) - phi_cbo_phi))\n",
    "    phicbob=(A_cbo_phi*exp(-(time - T_a/2)/tau_cbo)*cos(omega_cbo*(time - T_a/2) - phi_cbo_phi))\n",
    "    N2cbo=(asym_2cbo*exp(-time/(tau_cbo/2))*cos(2*omega_cbot*time - phi_2cbo))\n",
    "    N2cbof=(asym_2cbo*exp(-(time + T_a/2)/(tau_cbo/2))*cos(2*omega_cbotf*(time + T_a/2) - phi_2cbo))\n",
    "    N2cbob=(asym_2cbo*exp(-(time - T_a/2)/(tau_cbo/2))*cos(2*omega_cbotb*(time - T_a/2) - phi_2cbo))\n",
    "    Nvw=(1+ asym_vw*exp(-time/tau_vw)*cos(omega_vw*time - phi_vw))\n",
    "    Nvwf=(1+ asym_vw*exp(-(time + T_a/2)/tau_vw)*cos(omega_vw*(time + T_a/2) - phi_vw))\n",
    "    Nvwb=(1+ asym_vw*exp(-(time - T_a/2)/tau_vw)*cos(omega_vw*(time - T_a/2) - phi_vw))\n",
    "    Nvbo=(1+ asym_vbo*exp(-time/tau_vbo)*cos(omega_vbo*time - phi_vbo))\n",
    "    Nvbof=(1+ asym_vbo*exp(-(time + T_a/2)/tau_vbo)*cos(omega_vbo*(time + T_a/2) - phi_vbo))\n",
    "    Nvbob=(1+ asym_vbo*exp(-(time - T_a/2)/tau_vbo)*cos(omega_vbo*(time - T_a/2) - phi_vbo))\n",
    "    Nnew2=(1+ asym_new2*exp(-time/tau_new2)*cos(omega_new2*time - phi_new2))\n",
    "    Nnewf2=(1+ asym_new2*exp(-(time + T_a/2)/tau_new2)*cos(omega_new2*(time + T_a/2) - phi_new2))\n",
    "    Nnewb2=(1+ asym_new2*exp(-(time - T_a/2)/tau_new2)*cos(omega_new2*(time - T_a/2) - phi_new2))\n",
    "\n",
    "    \n",
    "    Ncbo=Ncbo+N2cbo\n",
    "    Ncbof=Ncbof+N2cbof\n",
    "    Ncbob=Ncbob+N2cbob\n",
    "\n",
    "    f=(1+ asym*Acbo*cos((getBlinded.paramToFreq(R)/1000.)*time - phi - phicbo))\n",
    "\n",
    "    ff=(1+ asym*Acbof*cos((getBlinded.paramToFreq(R)/1000.)*(time + T_a/2) - phi - phicbof))\n",
    "\n",
    "    fb=(1+ asym*Acbob*cos((getBlinded.paramToFreq(R)/1000.)*(time - T_a/2) - phi - phicbob))\n",
    "\n",
    "    \n",
    "    return (2*f*Ncbo*Nvw*Nvbo*Nnew2 - ff*Ncbof*Nvwf*Nvbof*Nnewf2 - fb*Ncbob*Nvwb*Nvbob*Nnewb2)/(2*f*Ncbo*Nvw*Nvbo*Nnew2 + ff*Ncbof*Nvwf*Nvbof*Nnewf2 + fb*Ncbob*Nvwb*Nvbob*Nnewb2)"
   ]
  },
  {
   "cell_type": "code",
   "execution_count": 25,
   "id": "ea83a6e3",
   "metadata": {},
   "outputs": [],
   "source": [
    "p_init3=[2.28839e-01,\n",
    "        0.000000,\n",
    "        4.02055e+00]"
   ]
  },
  {
   "cell_type": "code",
   "execution_count": 26,
   "id": "2c750b0d",
   "metadata": {},
   "outputs": [
    {
     "name": "stdout",
     "output_type": "stream",
     "text": [
      "CPU times: user 4min 7s, sys: 45.1 s, total: 4min 52s\n",
      "Wall time: 3min 26s\n"
     ]
    }
   ],
   "source": [
    "%%time\n",
    "for icalo in range(0,24): \n",
    "    pars3, cov3 = opt.curve_fit(f=fit_func3, xdata=x_val[icalo], ydata=y_val[icalo], p0=p_init3, sigma=y_err[icalo]) \n",
    "    \n",
    "    p_init7=[pars3[0],\n",
    "             pars3[1],\n",
    "             pars3[2],\n",
    "             0.02,\n",
    "             230000,\n",
    "             0.002329,\n",
    "             1.99+(icalo*(6.28/24))]\n",
    "    \n",
    "    pars7, cov7 = opt.curve_fit(f=fit_func7, xdata=x_val[icalo], ydata=y_val[icalo], p0=p_init7, sigma=y_err[icalo])\n",
    "    \n",
    "    p_init11=[pars7[0],\n",
    "              pars7[1],\n",
    "              pars7[2],\n",
    "              pars7[3],\n",
    "              pars7[4],\n",
    "              pars7[5],\n",
    "              pars7[6],\n",
    "              0.017,\n",
    "              1.1,\n",
    "              0.0027,\n",
    "              0.99]\n",
    "    \n",
    "    pars11, cov11 = opt.curve_fit(f=fit_func11, xdata=x_val[icalo], ydata=y_val[icalo], p0=p_init11, sigma=y_err[icalo])\n",
    "    \n",
    "    p_init15=[pars11[0],\n",
    "              pars11[1],\n",
    "              pars11[2],\n",
    "              pars11[3],\n",
    "              pars11[4],\n",
    "              pars11[5],\n",
    "              pars11[6],\n",
    "              pars11[7],\n",
    "              pars11[8],\n",
    "              pars11[9],\n",
    "              pars11[10],\n",
    "              0.0007,\n",
    "              5.1]\n",
    "    \n",
    "    pars15, cov15 = opt.curve_fit(f=fit_func15, xdata=x_val[icalo], ydata=y_val[icalo], p0=p_init15, sigma=y_err[icalo])\n",
    "\n",
    "    p_init19=[pars15[0],\n",
    "              pars15[1],\n",
    "              pars15[2],\n",
    "              pars15[3],\n",
    "              pars15[4],\n",
    "              pars15[5],\n",
    "              pars15[6],\n",
    "              pars15[7],\n",
    "              pars15[8],\n",
    "              pars15[9],\n",
    "              pars15[10],\n",
    "              pars15[11],\n",
    "              pars15[12],\n",
    "              0.0006,\n",
    "              5.1]\n",
    "    \n",
    "    pars19, cov19 = opt.curve_fit(f=fit_func19, xdata=x_val[icalo], ydata=y_val[icalo], p0=p_init19, sigma=y_err[icalo])\n",
    "\n",
    "    p_init23=[pars19[0],\n",
    "              pars19[1],\n",
    "              pars19[2],\n",
    "              pars19[3],\n",
    "              pars19[4],\n",
    "              pars19[5],\n",
    "              pars19[6],\n",
    "              pars19[7],\n",
    "              pars19[8],\n",
    "              pars19[9],\n",
    "              pars19[10],\n",
    "              pars19[11],\n",
    "              pars19[12],\n",
    "              pars19[13],\n",
    "              pars19[14],\n",
    "              0.09,\n",
    "              3.9]\n",
    "    \n",
    "    pars23, cov23 = opt.curve_fit(f=fit_func23, xdata=x_val[icalo], ydata=y_val[icalo], p0=p_init23, sigma=y_err[icalo])\n",
    "\n",
    "    \n",
    "    p_init24=[pars23[0],\n",
    "              pars23[1],\n",
    "              pars23[2],\n",
    "              pars23[3],\n",
    "              pars23[4],\n",
    "              pars23[5],\n",
    "              pars23[6],\n",
    "              pars23[7],\n",
    "              pars23[8],\n",
    "              pars23[9],\n",
    "              pars23[10],\n",
    "              pars23[11],\n",
    "              pars23[12],\n",
    "              pars23[13],\n",
    "              pars23[14],\n",
    "              pars23[15],\n",
    "              pars23[16],\n",
    "              0.2]\n",
    "              #8400]\n",
    "              #0.002]\n",
    "    \n",
    "    pars24, cov24 = opt.curve_fit(f=fit_func24, xdata=x_val[icalo], ydata=y_val[icalo], p0=p_init24, sigma=y_err[icalo])\n",
    "\n",
    "    p_init28=[pars24[0],\n",
    "              pars24[1],\n",
    "              pars24[2],\n",
    "              pars24[3],\n",
    "              pars24[4],\n",
    "              pars24[5],\n",
    "              pars24[6],\n",
    "              pars24[7],\n",
    "              pars24[8],\n",
    "              pars24[9],\n",
    "              pars24[10],\n",
    "              pars24[11],\n",
    "              pars24[12],\n",
    "              pars24[13],\n",
    "              pars24[14],\n",
    "              pars24[15],\n",
    "              pars24[16],\n",
    "              pars24[17],\n",
    "              #pars24[18],\n",
    "              0.09,\n",
    "              28000,\n",
    "              0.01428,\n",
    "              3.9]\n",
    "    \n",
    "    pars28, cov28 = opt.curve_fit(f=fit_func28, xdata=x_val[icalo], ydata=y_val[icalo], p0=p_init28, sigma=y_err[icalo])\n",
    "\n",
    "    p_init_final=pars28\n",
    "    \n",
    "        \n",
    "    pars2, cov_final = opt.curve_fit(f=fit_func28, xdata=x_val[icalo], ydata=y_val[icalo], p0=p_init_final, sigma=y_cov[icalo])\n",
    "    \n",
    "    stdevs=np.sqrt(np.diag(cov_final))\n",
    "    \n",
    "    calonum[icalo]=icalo+1\n",
    "    \n",
    "    asym[icalo]=pars2[0]\n",
    "    dasym[icalo]=stdevs[0]\n",
    "    rval[icalo]=pars2[1]\n",
    "    drval[icalo]=stdevs[1]\n",
    "    phi[icalo]=pars2[2]\n",
    "    dphi[icalo]=stdevs[2]\n",
    "    A_cbo[icalo]=pars2[3]\n",
    "    dA_cbo[icalo]=stdevs[3]\n",
    "    tau_cbo[icalo]=pars2[4]\n",
    "    dtau_cbo[icalo]=stdevs[4]\n",
    "    omega_cbo[icalo]=pars2[5]\n",
    "    domega_cbo[icalo]=stdevs[5]\n",
    "    phi_cbo[icalo]=pars2[6]\n",
    "    dphi_cbo[icalo]=stdevs[6]\n",
    "    A_cbo_A[icalo]=pars2[7]\n",
    "    dA_cbo_A[icalo]=stdevs[7]\n",
    "    phi_cbo_A[icalo]=pars2[8]\n",
    "    dphi_cbo_A[icalo]=stdevs[8]\n",
    "    A_cbo_phi[icalo]=pars2[9]\n",
    "    dA_cbo_phi[icalo]=stdevs[9]\n",
    "    phi_cbo_phi[icalo]=pars2[10]\n",
    "    dphi_cbo_phi[icalo]=stdevs[10]\n",
    "    A_2cbo[icalo]=pars2[11]\n",
    "    dA_2cbo[icalo]=stdevs[11]\n",
    "    phi_2cbo[icalo]=pars2[12]\n",
    "    dphi_2cbo[icalo]=stdevs[12]\n",
    "    A_y[icalo]=pars2[13]\n",
    "    dA_y[icalo]=stdevs[13]\n",
    "    phi_y[icalo]=pars2[14]\n",
    "    dphi_y[icalo]=stdevs[14]\n",
    "    A_vw[icalo]=pars2[15]\n",
    "    dA_vw[icalo]=stdevs[15]\n",
    "    phi_vw[icalo]=pars2[16]\n",
    "    dphi_vw[icalo]=stdevs[16]\n",
    "    #A_new[icalo]=pars2[17]\n",
    "    #dA_new[icalo]=stdevs[17]\n",
    "    #phi_new[icalo]=pars2[18]\n",
    "    #dphi_new[icalo]=stdevs[18]\n",
    "    A_cbo_t[icalo]=pars2[17]\n",
    "    dA_cbo_t[icalo]=stdevs[17]\n",
    "    #tau_cbo_t[icalo]=pars2[18]\n",
    "    #dtau_cbo_t[icalo]=stdevs[18]\n",
    "    #A_new2[icalo]=pars2[19]\n",
    "    #dA_new2[icalo]=stdevs[19]\n",
    "    #tau_new2[icalo]=pars2[20]\n",
    "    #dtau_new2[icalo]=stdevs[20]\n",
    "    #omega_new2[icalo]=pars2[21]\n",
    "    #domega_new2[icalo]=stdevs[21]\n",
    "    #phi_new2[icalo]=pars2[22]\n",
    "    #dphi_new2[icalo]=stdevs[22]"
   ]
  },
  {
   "cell_type": "code",
   "execution_count": 27,
   "id": "b5a38734",
   "metadata": {},
   "outputs": [
    {
     "data": {
      "text/plain": [
       "array([3.23770117e-05, 1.76474711e+00, 2.68467256e-04, 9.14603329e-05,\n",
       "       3.09160193e+03, 5.44901467e-08, 5.07082890e-03, 2.72403507e-04,\n",
       "       1.60816375e-02, 2.72649753e-04, 8.95550688e-02, 5.78497054e-05,\n",
       "       1.16264909e-01, 7.26828301e-05, 2.18573635e-01, 4.58217597e-02,\n",
       "       2.88513798e-01, 2.85003536e-02, 3.20243795e-03, 1.77960771e+03,\n",
       "       6.08303105e-06, 2.51830585e-01])"
      ]
     },
     "execution_count": 27,
     "metadata": {},
     "output_type": "execute_result"
    }
   ],
   "source": [
    "stdevs"
   ]
  },
  {
   "cell_type": "code",
   "execution_count": 28,
   "id": "b36a831c",
   "metadata": {},
   "outputs": [
    {
     "data": {
      "image/png": "[encoded data removed]",
      "text/plain": [
       "<Figure size 864x576 with 1 Axes>"
      ]
     },
     "metadata": {
      "needs_background": "light"
     },
     "output_type": "display_data"
    }
   ],
   "source": [
    "plt.figure(figsize=(12,8))\n",
    "plt.rc('xtick', labelsize=20) \n",
    "plt.rc('ytick', labelsize=20) \n",
    "plt.errorbar(calonum, rval, yerr=drval, fmt=\"o\")\n",
    "plt.xlabel('Calo index',fontsize=25)\n",
    "plt.ylabel('R [ppm]',fontsize=25)\n",
    "plt.show()\n",
    "#plt.savefig('run3btom_caloscan_R.jpg')"
   ]
  },
  {
   "cell_type": "code",
   "execution_count": 29,
   "id": "bd043ba9",
   "metadata": {},
   "outputs": [],
   "source": [
    "def fit_Rwave(x: np.double,\n",
    "              amp: np.double = 0.0, \n",
    "              phase: np.double = 0.0, \n",
    "              offset: np.double = 0.0)-> np.double:\n",
    "    \n",
    "    Romega=0.2618\n",
    "    \n",
    "    return amp*sin(Romega*x+phase)+offset\n",
    "\n",
    "p_0=[1.0,1.5,-35]\n",
    "\n",
    "rwave_p, rwave_cov = opt.curve_fit(f=fit_Rwave, xdata=calonum, ydata=rval, p0=p_0, sigma=drval)"
   ]
  },
  {
   "cell_type": "code",
   "execution_count": 30,
   "id": "fb12abf2",
   "metadata": {},
   "outputs": [
    {
     "data": {
      "image/png": "[encoded data removed]",
      "text/plain": [
       "<Figure size 864x576 with 1 Axes>"
      ]
     },
     "metadata": {
      "needs_background": "light"
     },
     "output_type": "display_data"
    },
    {
     "name": "stdout",
     "output_type": "stream",
     "text": [
      "chi2/ndf= 18.11982576640005 /21\n",
      "amplitude= 0.8474000398248235  phase= 1.7224793332007602  offset= -35.374526877545186\n"
     ]
    }
   ],
   "source": [
    "plt.figure(figsize=(12,8))\n",
    "plt.rc('xtick', labelsize=20) \n",
    "plt.rc('ytick', labelsize=20) \n",
    "plt.errorbar(calonum, rval, yerr=drval, fmt=\"o\")\n",
    "plt.plot(calonum, fit_Rwave(calonum, *rwave_p), linestyle='solid', linewidth=1, color='red')\n",
    "plt.xlabel('Calo index',fontsize=25)\n",
    "plt.ylabel('R [ppm]',fontsize=25)\n",
    "plt.show()\n",
    "chi2_1=np.empty(24)\n",
    "chi2_1=(fit_Rwave(calonum, *rwave_p)-rval)*(fit_Rwave(calonum, *rwave_p)-rval)/(drval*drval)\n",
    "print('chi2/ndf=',sum(chi2_1),'/21')\n",
    "print('amplitude=',rwave_p[0],' phase=',rwave_p[1],' offset=',rwave_p[2])\n",
    "#plt.savefig('run3btom_caloscan_Rfit_sine.jpg')"
   ]
  },
  {
   "cell_type": "code",
   "execution_count": 31,
   "id": "d7ebdccd",
   "metadata": {},
   "outputs": [],
   "source": [
    "def fit_straight(x: np.double, \n",
    "                 offset: np.double = 0.0)-> np.double:\n",
    "    \n",
    "    return offset+0*x\n",
    "\n",
    "p2_0=[-35]\n",
    "\n",
    "rwave2_p, rwave2_cov = opt.curve_fit(f=fit_straight, xdata=calonum, ydata=rval, p0=p2_0, sigma=drval)"
   ]
  },
  {
   "cell_type": "code",
   "execution_count": 32,
   "id": "51c992b3",
   "metadata": {},
   "outputs": [
    {
     "data": {
      "image/png": "[encoded data removed]",
      "text/plain": [
       "<Figure size 864x576 with 1 Axes>"
      ]
     },
     "metadata": {
      "needs_background": "light"
     },
     "output_type": "display_data"
    },
    {
     "name": "stdout",
     "output_type": "stream",
     "text": [
      "chi2/ndf= 20.59434879575962 /23\n",
      "offset= -35.364854886839765\n"
     ]
    }
   ],
   "source": [
    "plt.figure(figsize=(12,8))\n",
    "plt.rc('xtick', labelsize=20) \n",
    "plt.rc('ytick', labelsize=20) \n",
    "plt.errorbar(calonum, rval, yerr=drval, fmt=\"o\")\n",
    "plt.plot(calonum, fit_straight(calonum, *rwave2_p), linestyle='solid', linewidth=1, color='red')\n",
    "plt.xlabel('Calo index',fontsize=25)\n",
    "plt.ylabel('R [ppm]',fontsize=25)\n",
    "plt.show()\n",
    "chi2_2=np.empty(24)\n",
    "chi2_2=(fit_straight(calonum, *rwave2_p)-rval)*(fit_straight(calonum, *rwave2_p)-rval)/(drval*drval)\n",
    "print('chi2/ndf=',sum(chi2_2),'/23')\n",
    "print('offset=',rwave2_p[0])\n",
    "#plt.savefig('run3btom_caloscan_Rfit_straight.jpg')"
   ]
  },
  {
   "cell_type": "code",
   "execution_count": 33,
   "id": "18724a55",
   "metadata": {},
   "outputs": [
    {
     "data": {
      "image/png": "[encoded data removed]",
      "text/plain": [
       "<Figure size 864x576 with 2 Axes>"
      ]
     },
     "metadata": {
      "needs_background": "light"
     },
     "output_type": "display_data"
    }
   ],
   "source": [
    "plt.figure(figsize=(12,8))\n",
    "# fist line:\n",
    "plt.subplot(211)\n",
    "plt.rc('xtick', labelsize=20) \n",
    "plt.rc('ytick', labelsize=20) \n",
    "plt.errorbar(calonum, asym, yerr=dasym, fmt=\"o\")\n",
    "plt.ylabel('A',fontsize=22)\n",
    " \n",
    "# second line\n",
    "plt.subplot(212)\n",
    "plt.rc('xtick', labelsize=20) \n",
    "plt.rc('ytick', labelsize=20) \n",
    "plt.errorbar(calonum, phi, yerr=dphi, fmt=\"o\")\n",
    "plt.xlabel('Calo index',fontsize=22)\n",
    "plt.ylabel('phi',fontsize=22)\n",
    "\n",
    "plt.show()\n",
    "#plt.savefig('run3btom_caloscan_A_phi.jpg')"
   ]
  },
  {
   "cell_type": "code",
   "execution_count": 34,
   "id": "ab861e81",
   "metadata": {},
   "outputs": [
    {
     "data": {
      "image/png": "[encoded data removed]",
      "text/plain": [
       "<Figure size 864x576 with 2 Axes>"
      ]
     },
     "metadata": {
      "needs_background": "light"
     },
     "output_type": "display_data"
    }
   ],
   "source": [
    "plt.figure(figsize=(12,8))\n",
    "# fist line:\n",
    "plt.subplot(211)\n",
    "plt.rc('xtick', labelsize=14) \n",
    "plt.rc('ytick', labelsize=14) \n",
    "plt.errorbar(calonum, tau_cbo, yerr=dtau_cbo, fmt=\"o\")\n",
    "plt.ylabel('tau_cbo',fontsize=18)\n",
    " \n",
    "# second line\n",
    "plt.subplot(212)\n",
    "plt.rc('xtick', labelsize=14) \n",
    "plt.rc('ytick', labelsize=14) \n",
    "plt.errorbar(calonum, omega_cbo, yerr=domega_cbo, fmt=\"o\")\n",
    "plt.xlabel('Calo index',fontsize=18)\n",
    "plt.ylabel('omega_cbo',fontsize=18)\n",
    "\n",
    "plt.show()\n",
    "#plt.savefig('run3btom_caloscan_tau_omega_cbo.jpg')"
   ]
  },
  {
   "cell_type": "code",
   "execution_count": 35,
   "id": "88b45d0b",
   "metadata": {},
   "outputs": [
    {
     "data": {
      "image/png": "[encoded data removed]",
      "text/plain": [
       "<Figure size 864x576 with 2 Axes>"
      ]
     },
     "metadata": {
      "needs_background": "light"
     },
     "output_type": "display_data"
    }
   ],
   "source": [
    "plt.figure(figsize=(12,8))\n",
    "# fist line:\n",
    "plt.subplot(211)\n",
    "plt.rc('xtick', labelsize=14) \n",
    "plt.rc('ytick', labelsize=14) \n",
    "plt.errorbar(calonum, A_cbo, yerr=dA_cbo, fmt=\"o\")\n",
    "plt.ylabel('A_cbo',fontsize=18)\n",
    "\n",
    "for icalo in range(0,24):\n",
    "    if phi_cbo[icalo]>6.28:\n",
    "        phi_cbo[icalo]=phi_cbo[icalo]-6.28\n",
    "\n",
    "# second line\n",
    "plt.subplot(212)\n",
    "plt.rc('xtick', labelsize=14) \n",
    "plt.rc('ytick', labelsize=14) \n",
    "plt.errorbar(calonum, phi_cbo, yerr=dphi_cbo, fmt=\"o\")\n",
    "plt.xlabel('Calo index',fontsize=18)\n",
    "plt.ylabel('phi_cbo',fontsize=18)\n",
    "\n",
    "plt.show()\n",
    "#plt.savefig('run3btom_caloscan_A_phi_cbo.jpg')"
   ]
  },
  {
   "cell_type": "code",
   "execution_count": 36,
   "id": "428af5df",
   "metadata": {},
   "outputs": [
    {
     "data": {
      "image/png": "[encoded data removed]",
      "text/plain": [
       "<Figure size 864x576 with 2 Axes>"
      ]
     },
     "metadata": {
      "needs_background": "light"
     },
     "output_type": "display_data"
    }
   ],
   "source": [
    "plt.figure(figsize=(12,8))\n",
    "# fist line:\n",
    "plt.subplot(211)\n",
    "plt.rc('xtick', labelsize=14) \n",
    "plt.rc('ytick', labelsize=14) \n",
    "plt.errorbar(calonum, np.abs(A_vw), yerr=dA_vw, fmt=\"o\")\n",
    "plt.ylabel('A_vw',fontsize=18)\n",
    "\n",
    "for icalo in range(0,24):\n",
    "    if phi_vw[icalo]>6.28:\n",
    "        phi_vw[icalo]=phi_vw[icalo]-6.28\n",
    "\n",
    "# second line\n",
    "plt.subplot(212)\n",
    "plt.rc('xtick', labelsize=14) \n",
    "plt.rc('ytick', labelsize=14) \n",
    "plt.errorbar(calonum, phi_vw, yerr=dphi_vw, fmt=\"o\")\n",
    "plt.xlabel('Calo index',fontsize=18)\n",
    "plt.ylabel('phi_vw',fontsize=18)\n",
    "\n",
    "plt.show()\n",
    "#plt.savefig('run3btom_caloscan_A_phi_vw.jpg')"
   ]
  },
  {
   "cell_type": "code",
   "execution_count": 37,
   "id": "ecae1cf6",
   "metadata": {},
   "outputs": [
    {
     "data": {
      "image/png": "[encoded data removed]",
      "text/plain": [
       "<Figure size 864x576 with 2 Axes>"
      ]
     },
     "metadata": {
      "needs_background": "light"
     },
     "output_type": "display_data"
    }
   ],
   "source": [
    "plt.figure(figsize=(12,8))\n",
    "# fist line:\n",
    "plt.subplot(211)\n",
    "plt.rc('xtick', labelsize=14) \n",
    "plt.rc('ytick', labelsize=14) \n",
    "plt.errorbar(calonum, np.abs(A_y), yerr=dA_y, fmt=\"o\")\n",
    "plt.ylabel('A_y',fontsize=18)\n",
    "\n",
    "for icalo in range(0,24):\n",
    "    if phi_y[icalo]>6.28:\n",
    "        phi_y[icalo]=phi_y[icalo]-6.28\n",
    "\n",
    "# second line\n",
    "plt.subplot(212)\n",
    "plt.rc('xtick', labelsize=14) \n",
    "plt.rc('ytick', labelsize=14) \n",
    "plt.errorbar(calonum, phi_y, yerr=dphi_y, fmt=\"o\")\n",
    "plt.xlabel('Calo index',fontsize=18)\n",
    "plt.ylabel('phi_y',fontsize=18)\n",
    "\n",
    "plt.show()\n",
    "#plt.savefig('run3btom_caloscan_A_phi_y.jpg')"
   ]
  },
  {
   "cell_type": "code",
   "execution_count": 38,
   "id": "8c112b1a",
   "metadata": {},
   "outputs": [
    {
     "data": {
      "text/plain": [
       "array([-34.36381966, -34.7111066 , -33.24338222, -34.56808987,\n",
       "       -37.57216274, -34.10865682, -36.98415033, -36.06447793,\n",
       "       -34.60886594, -37.52120721, -35.19817699, -34.48787434,\n",
       "       -34.86440959, -38.50144222, -39.49560557, -35.09304499,\n",
       "       -35.82242319, -31.37237473, -35.02201094, -35.76053802,\n",
       "       -33.66808079, -34.94191138, -35.52712427, -35.75046346])"
      ]
     },
     "execution_count": 38,
     "metadata": {},
     "output_type": "execute_result"
    }
   ],
   "source": [
    "rval"
   ]
  },
  {
   "cell_type": "code",
   "execution_count": 39,
   "id": "8c1be7ab",
   "metadata": {},
   "outputs": [
    {
     "data": {
      "image/png": "[encoded data removed]",
      "text/plain": [
       "<Figure size 864x576 with 2 Axes>"
      ]
     },
     "metadata": {
      "needs_background": "light"
     },
     "output_type": "display_data"
    }
   ],
   "source": [
    "plt.figure(figsize=(12,8))\n",
    "# fist line:\n",
    "plt.subplot(211)\n",
    "plt.rc('xtick', labelsize=14) \n",
    "plt.rc('ytick', labelsize=14) \n",
    "plt.errorbar(calonum, A_cbo_t, yerr=dA_cbo_t, fmt=\"o\")\n",
    "plt.ylabel('A_cbo_t',fontsize=18)\n",
    "#plt.ylim(-0.5,0.5)\n",
    "\n",
    "\n",
    "# second line\n",
    "plt.subplot(212)\n",
    "plt.rc('xtick', labelsize=14) \n",
    "plt.rc('ytick', labelsize=14) \n",
    "plt.errorbar(calonum, tau_cbo_t, yerr=dtau_cbo_t, fmt=\"o\")\n",
    "plt.xlabel('Calo index',fontsize=18)\n",
    "plt.ylabel('tau_cbo_t',fontsize=18)\n",
    "#plt.ylim(0,2000)\n",
    "plt.show()"
   ]
  },
  {
   "cell_type": "code",
   "execution_count": 40,
   "id": "a00985af",
   "metadata": {},
   "outputs": [
    {
     "data": {
      "image/png": "[encoded data removed]",
      "text/plain": [
       "<Figure size 1080x720 with 4 Axes>"
      ]
     },
     "metadata": {
      "needs_background": "light"
     },
     "output_type": "display_data"
    }
   ],
   "source": [
    "plt.figure(figsize=(15,10))\n",
    "# fist line:\n",
    "plt.subplot(221)\n",
    "plt.rc('xtick', labelsize=14) \n",
    "plt.rc('ytick', labelsize=14) \n",
    "plt.errorbar(calonum, A_new2, yerr=dA_new2, fmt=\"o\")\n",
    "plt.ylabel('A_new',fontsize=18)\n",
    "\n",
    "\n",
    "\n",
    "# second line\n",
    "plt.subplot(222)\n",
    "plt.rc('xtick', labelsize=14) \n",
    "plt.rc('ytick', labelsize=14) \n",
    "plt.errorbar(calonum, phi_new2, yerr=dphi_new2, fmt=\"o\")\n",
    "plt.xlabel('Calo index',fontsize=18)\n",
    "plt.ylabel('phi_new',fontsize=18)\n",
    "\n",
    "plt.subplot(223)\n",
    "plt.rc('xtick', labelsize=14) \n",
    "plt.rc('ytick', labelsize=14) \n",
    "plt.errorbar(calonum, omega_new2, yerr=domega_new2, fmt=\"o\")\n",
    "plt.xlabel('Calo index',fontsize=18)\n",
    "plt.ylabel('omega_new',fontsize=18)\n",
    "\n",
    "plt.subplot(224)\n",
    "plt.rc('xtick', labelsize=14) \n",
    "plt.rc('ytick', labelsize=14) \n",
    "plt.errorbar(calonum, tau_new2, yerr=dtau_new2, fmt=\"o\")\n",
    "plt.xlabel('Calo index',fontsize=18)\n",
    "plt.ylabel('tau_new',fontsize=18)\n",
    "\n",
    "\n",
    "plt.show()"
   ]
  },
  {
   "cell_type": "code",
   "execution_count": null,
   "id": "85585e6d",
   "metadata": {},
   "outputs": [],
   "source": []
  },
  {
   "cell_type": "code",
   "execution_count": null,
   "id": "2b97156f",
   "metadata": {},
   "outputs": [],
   "source": []
  },
  {
   "cell_type": "code",
   "execution_count": null,
   "id": "a333e25d",
   "metadata": {},
   "outputs": [],
   "source": []
  }
 ],
 "metadata": {
  "kernelspec": {
   "display_name": "Python 3",
   "language": "python",
   "name": "python3"
  },
  "language_info": {
   "codemirror_mode": {
    "name": "ipython",
    "version": 3
   },
   "file_extension": ".py",
   "mimetype": "text/x-python",
   "name": "python",
   "nbconvert_exporter": "python",
   "pygments_lexer": "ipython3",
   "version": "3.6.9"
  }
 },
 "nbformat": 4,
 "nbformat_minor": 5
}
