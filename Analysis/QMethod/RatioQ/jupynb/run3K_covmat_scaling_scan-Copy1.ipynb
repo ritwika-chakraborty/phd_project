{
 "cells": [
  {
   "cell_type": "code",
   "execution_count": 1,
   "id": "77a6320d",
   "metadata": {},
   "outputs": [
    {
     "name": "stdout",
     "output_type": "stream",
     "text": [
      "Welcome to JupyROOT 6.24/06\n"
     ]
    }
   ],
   "source": [
    "import numpy as np\n",
    "import ROOT\n",
    "from math import exp as expo\n",
    "from math import cos as cosine\n",
    "from math import sin as sine\n",
    "sin=np.vectorize(sine)\n",
    "exp=np.vectorize(expo)\n",
    "cos=np.vectorize(cosine)\n",
    "import matplotlib.pylab as plt\n",
    "from matplotlib.pyplot import figure\n",
    "from BlindersPy3 import Blinders\n",
    "from BlindersPy3 import FitType\n",
    "import scipy.optimize as opt"
   ]
  },
  {
   "cell_type": "code",
   "execution_count": 2,
   "id": "b44a65f5",
   "metadata": {},
   "outputs": [],
   "source": [
    "file_1 = ROOT.TFile.Open(\"run3K_NE_scalingtest_86.root\")\n",
    "hist_1 = ROOT.TH1D()\n",
    "hcov_1 = ROOT.TH2D()\n",
    "hist_1 = file_1.Get(\"calo_histogram_sum_ratio\")\n",
    "hcov_1 = file_1.Get(\"hcov\")\n",
    "file_2 = ROOT.TFile.Open(\"run3K_NE_scalingtest_87.root\")\n",
    "hist_2 = ROOT.TH1D()\n",
    "hcov_2 = ROOT.TH2D()\n",
    "hist_2 = file_2.Get(\"calo_histogram_sum_ratio\")\n",
    "hcov_2 = file_2.Get(\"hcov\")\n",
    "file_3 = ROOT.TFile.Open(\"run3K_NE_scalingtest_88.root\")\n",
    "hist_3 = ROOT.TH1D()\n",
    "hcov_3 = ROOT.TH2D()\n",
    "hist_3 = file_3.Get(\"calo_histogram_sum_ratio\")\n",
    "hcov_3 = file_3.Get(\"hcov\")\n",
    "file_4 = ROOT.TFile.Open(\"run3K_NE_scalingtest_89.root\")\n",
    "hist_4 = ROOT.TH1D()\n",
    "hcov_4 = ROOT.TH2D()\n",
    "hist_4 = file_4.Get(\"calo_histogram_sum_ratio\")\n",
    "hcov_4 = file_4.Get(\"hcov\")\n",
    "file_5 = ROOT.TFile.Open(\"run3K_NE_scalingtest_90.root\")\n",
    "hist_5 = ROOT.TH1D()\n",
    "hcov_5 = ROOT.TH2D()\n",
    "hist_5 = file_5.Get(\"calo_histogram_sum_ratio\")\n",
    "hcov_5 = file_5.Get(\"hcov\")\n",
    "file_6 = ROOT.TFile.Open(\"run3K_NE_scalingtest_91.root\")\n",
    "hist_6 = ROOT.TH1D()\n",
    "hcov_6 = ROOT.TH2D()\n",
    "hist_6 = file_6.Get(\"calo_histogram_sum_ratio\")\n",
    "hcov_6 = file_6.Get(\"hcov\")\n",
    "file_7 = ROOT.TFile.Open(\"run3K_NE_scalingtest_92.root\")\n",
    "hist_7 = ROOT.TH1D()\n",
    "hcov_7 = ROOT.TH2D()\n",
    "hist_7 = file_7.Get(\"calo_histogram_sum_ratio\")\n",
    "hcov_7 = file_7.Get(\"hcov\")\n",
    "file_8 = ROOT.TFile.Open(\"run3K_NE_scalingtest_93.root\")\n",
    "hist_8 = ROOT.TH1D()\n",
    "hcov_8 = ROOT.TH2D()\n",
    "hist_8 = file_8.Get(\"calo_histogram_sum_ratio\")\n",
    "hcov_8 = file_8.Get(\"hcov\")\n",
    "file_9 = ROOT.TFile.Open(\"run3K_NE_scalingtest_94.root\")\n",
    "hist_9 = ROOT.TH1D()\n",
    "hcov_9 = ROOT.TH2D()\n",
    "hist_9 = file_9.Get(\"calo_histogram_sum_ratio\")\n",
    "hcov_9 = file_9.Get(\"hcov\")\n",
    "file_10 = ROOT.TFile.Open(\"run3K_NE_scalingtest_95.root\")\n",
    "hist_10 = ROOT.TH1D()\n",
    "hcov_10 = ROOT.TH2D()\n",
    "hist_10 = file_10.Get(\"calo_histogram_sum_ratio\")\n",
    "hcov_10 = file_10.Get(\"hcov\")\n",
    "file_11 = ROOT.TFile.Open(\"run3K_NE_scalingtest_96.root\")\n",
    "hist_11 = ROOT.TH1D()\n",
    "hcov_11 = ROOT.TH2D()\n",
    "hist_11 = file_11.Get(\"calo_histogram_sum_ratio\")\n",
    "hcov_11 = file_11.Get(\"hcov\")\n",
    "file_12 = ROOT.TFile.Open(\"run3K_NE_scalingtest_97.root\")\n",
    "hist_12 = ROOT.TH1D()\n",
    "hcov_12 = ROOT.TH2D()\n",
    "hist_12 = file_12.Get(\"calo_histogram_sum_ratio\")\n",
    "hcov_12 = file_12.Get(\"hcov\")\n",
    "file_13 = ROOT.TFile.Open(\"run3K_NE_scalingtest_98.root\")\n",
    "hist_13 = ROOT.TH1D()\n",
    "hcov_13 = ROOT.TH2D()\n",
    "hist_13 = file_13.Get(\"calo_histogram_sum_ratio\")\n",
    "hcov_13 = file_13.Get(\"hcov\")\n",
    "file_14 = ROOT.TFile.Open(\"run3K_NE_scalingtest_99.root\")\n",
    "hist_14 = ROOT.TH1D()\n",
    "hcov_14 = ROOT.TH2D()\n",
    "hist_14 = file_14.Get(\"calo_histogram_sum_ratio\")\n",
    "hcov_14 = file_14.Get(\"hcov\")\n",
    "file_15 = ROOT.TFile.Open(\"run3K_NE_scalingtest_100.root\")\n",
    "hist_15 = ROOT.TH1D()\n",
    "hcov_15 = ROOT.TH2D()\n",
    "hist_15 = file_15.Get(\"calo_histogram_sum_ratio\")\n",
    "hcov_15 = file_15.Get(\"hcov\")\n",
    "file_16 = ROOT.TFile.Open(\"run3K_NE_scalingtest_101.root\")\n",
    "hist_16 = ROOT.TH1D()\n",
    "hcov_16 = ROOT.TH2D()\n",
    "hist_16 = file_16.Get(\"calo_histogram_sum_ratio\")\n",
    "hcov_16 = file_16.Get(\"hcov\")"
   ]
  },
  {
   "cell_type": "code",
   "execution_count": 3,
   "id": "3dc8e579",
   "metadata": {},
   "outputs": [],
   "source": [
    "fit_start=30000\n",
    "fit_stop=305000\n",
    "fit_range=hist_1.FindBin(fit_stop)-hist_1.FindBin(fit_start)+1\n",
    "y_val=np.empty(shape=(16,fit_range))\n",
    "y_err=np.empty(shape=(16,fit_range))\n",
    "x_val=np.empty(shape=(16,fit_range))\n",
    "y_cov=np.empty(shape=(16,fit_range,fit_range))  "
   ]
  },
  {
   "cell_type": "code",
   "execution_count": 4,
   "id": "ac3e125e",
   "metadata": {},
   "outputs": [
    {
     "name": "stdout",
     "output_type": "stream",
     "text": [
      "CPU times: user 1min 43s, sys: 23.6 s, total: 2min 7s\n",
      "Wall time: 2min 7s\n"
     ]
    }
   ],
   "source": [
    "%%time\n",
    "for ibin in range (0,fit_range):\n",
    "    y_val[0][ibin]=hist_1.GetBinContent(ibin+hist_1.FindBin(fit_start))\n",
    "    y_err[0][ibin]=hist_1.GetBinError(ibin+hist_1.FindBin(fit_start))\n",
    "    x_val[0][ibin]=hist_1.GetBinCenter(ibin+hist_1.FindBin(fit_start))\n",
    "\n",
    "for irow in range (0, fit_range):\n",
    "    for icol in range(0, fit_range):\n",
    "        y_cov[0][irow][icol]=hcov_1.GetBinContent(irow+hist_1.FindBin(fit_start),icol+hist_1.FindBin(fit_start))\n",
    "        \n",
    "\n",
    "for ibin in range (0,fit_range):\n",
    "    y_val[1][ibin]=hist_2.GetBinContent(ibin+hist_2.FindBin(fit_start))\n",
    "    y_err[1][ibin]=hist_2.GetBinError(ibin+hist_2.FindBin(fit_start))\n",
    "    x_val[1][ibin]=hist_2.GetBinCenter(ibin+hist_2.FindBin(fit_start))\n",
    "\n",
    "for irow in range (0, fit_range):\n",
    "    for icol in range(0, fit_range):\n",
    "        y_cov[1][irow][icol]=hcov_2.GetBinContent(irow+hist_2.FindBin(fit_start),icol+hist_2.FindBin(fit_start))\n",
    "        \n",
    "\n",
    "for ibin in range (0,fit_range):\n",
    "    y_val[2][ibin]=hist_3.GetBinContent(ibin+hist_3.FindBin(fit_start))\n",
    "    y_err[2][ibin]=hist_3.GetBinError(ibin+hist_3.FindBin(fit_start))\n",
    "    x_val[2][ibin]=hist_3.GetBinCenter(ibin+hist_3.FindBin(fit_start))\n",
    "\n",
    "for irow in range (0, fit_range):\n",
    "    for icol in range(0, fit_range):\n",
    "        y_cov[2][irow][icol]=hcov_3.GetBinContent(irow+hist_3.FindBin(fit_start),icol+hist_3.FindBin(fit_start))\n",
    "        \n",
    "\n",
    "for ibin in range (0,fit_range):\n",
    "    y_val[3][ibin]=hist_4.GetBinContent(ibin+hist_4.FindBin(fit_start))\n",
    "    y_err[3][ibin]=hist_4.GetBinError(ibin+hist_4.FindBin(fit_start))\n",
    "    x_val[3][ibin]=hist_4.GetBinCenter(ibin+hist_4.FindBin(fit_start))\n",
    "\n",
    "for irow in range (0, fit_range):\n",
    "    for icol in range(0, fit_range):\n",
    "        y_cov[3][irow][icol]=hcov_4.GetBinContent(irow+hist_4.FindBin(fit_start),icol+hist_4.FindBin(fit_start))\n",
    "        \n",
    "\n",
    "for ibin in range (0,fit_range):\n",
    "    y_val[4][ibin]=hist_5.GetBinContent(ibin+hist_5.FindBin(fit_start))\n",
    "    y_err[4][ibin]=hist_5.GetBinError(ibin+hist_5.FindBin(fit_start))\n",
    "    x_val[4][ibin]=hist_5.GetBinCenter(ibin+hist_5.FindBin(fit_start))\n",
    "\n",
    "for irow in range (0, fit_range):\n",
    "    for icol in range(0, fit_range):\n",
    "        y_cov[4][irow][icol]=hcov_5.GetBinContent(irow+hist_5.FindBin(fit_start),icol+hist_5.FindBin(fit_start))\n",
    "        \n",
    "\n",
    "for ibin in range (0,fit_range):\n",
    "    y_val[5][ibin]=hist_6.GetBinContent(ibin+hist_6.FindBin(fit_start))\n",
    "    y_err[5][ibin]=hist_6.GetBinError(ibin+hist_6.FindBin(fit_start))\n",
    "    x_val[5][ibin]=hist_6.GetBinCenter(ibin+hist_6.FindBin(fit_start))\n",
    "\n",
    "for irow in range (0, fit_range):\n",
    "    for icol in range(0, fit_range):\n",
    "        y_cov[5][irow][icol]=hcov_6.GetBinContent(irow+hist_6.FindBin(fit_start),icol+hist_6.FindBin(fit_start))\n",
    "\n",
    "\n",
    "for ibin in range (0,fit_range):\n",
    "    y_val[6][ibin]=hist_7.GetBinContent(ibin+hist_7.FindBin(fit_start))\n",
    "    y_err[6][ibin]=hist_7.GetBinError(ibin+hist_7.FindBin(fit_start))\n",
    "    x_val[6][ibin]=hist_7.GetBinCenter(ibin+hist_7.FindBin(fit_start))\n",
    "\n",
    "for irow in range (0, fit_range):\n",
    "    for icol in range(0, fit_range):\n",
    "        y_cov[6][irow][icol]=hcov_7.GetBinContent(irow+hist_7.FindBin(fit_start),icol+hist_7.FindBin(fit_start))\n",
    "        \n",
    "\n",
    "for ibin in range (0,fit_range):\n",
    "    y_val[7][ibin]=hist_8.GetBinContent(ibin+hist_8.FindBin(fit_start))\n",
    "    y_err[7][ibin]=hist_8.GetBinError(ibin+hist_8.FindBin(fit_start))\n",
    "    x_val[7][ibin]=hist_8.GetBinCenter(ibin+hist_8.FindBin(fit_start))\n",
    "\n",
    "for irow in range (0, fit_range):\n",
    "    for icol in range(0, fit_range):\n",
    "        y_cov[7][irow][icol]=hcov_8.GetBinContent(irow+hist_8.FindBin(fit_start),icol+hist_8.FindBin(fit_start))\n",
    "        \n",
    "\n",
    "for ibin in range (0,fit_range):\n",
    "    y_val[8][ibin]=hist_9.GetBinContent(ibin+hist_9.FindBin(fit_start))\n",
    "    y_err[8][ibin]=hist_9.GetBinError(ibin+hist_9.FindBin(fit_start))\n",
    "    x_val[8][ibin]=hist_9.GetBinCenter(ibin+hist_9.FindBin(fit_start))\n",
    "\n",
    "for irow in range (0, fit_range):\n",
    "    for icol in range(0, fit_range):\n",
    "        y_cov[8][irow][icol]=hcov_10.GetBinContent(irow+hist_10.FindBin(fit_start),icol+hist_10.FindBin(fit_start))\n",
    "        \n",
    "\n",
    "for ibin in range (0,fit_range):\n",
    "    y_val[9][ibin]=hist_10.GetBinContent(ibin+hist_10.FindBin(fit_start))\n",
    "    y_err[9][ibin]=hist_10.GetBinError(ibin+hist_10.FindBin(fit_start))\n",
    "    x_val[9][ibin]=hist_10.GetBinCenter(ibin+hist_10.FindBin(fit_start))\n",
    "\n",
    "for irow in range (0, fit_range):\n",
    "    for icol in range(0, fit_range):\n",
    "        y_cov[9][irow][icol]=hcov_10.GetBinContent(irow+hist_10.FindBin(fit_start),icol+hist_10.FindBin(fit_start))\n",
    "        \n",
    "\n",
    "for ibin in range (0,fit_range):\n",
    "    y_val[10][ibin]=hist_11.GetBinContent(ibin+hist_11.FindBin(fit_start))\n",
    "    y_err[10][ibin]=hist_11.GetBinError(ibin+hist_11.FindBin(fit_start))\n",
    "    x_val[10][ibin]=hist_11.GetBinCenter(ibin+hist_11.FindBin(fit_start))\n",
    "\n",
    "for irow in range (0, fit_range):\n",
    "    for icol in range(0, fit_range):\n",
    "        y_cov[10][irow][icol]=hcov_11.GetBinContent(irow+hist_11.FindBin(fit_start),icol+hist_11.FindBin(fit_start))\n",
    "        \n",
    "\n",
    "for ibin in range (0,fit_range):\n",
    "    y_val[11][ibin]=hist_12.GetBinContent(ibin+hist_12.FindBin(fit_start))\n",
    "    y_err[11][ibin]=hist_12.GetBinError(ibin+hist_12.FindBin(fit_start))\n",
    "    x_val[11][ibin]=hist_12.GetBinCenter(ibin+hist_12.FindBin(fit_start))\n",
    "\n",
    "for irow in range (0, fit_range):\n",
    "    for icol in range(0, fit_range):\n",
    "        y_cov[11][irow][icol]=hcov_12.GetBinContent(irow+hist_12.FindBin(fit_start),icol+hist_12.FindBin(fit_start))\n",
    "        \n",
    "        \n",
    "for ibin in range (0,fit_range):\n",
    "    y_val[12][ibin]=hist_13.GetBinContent(ibin+hist_13.FindBin(fit_start))\n",
    "    y_err[12][ibin]=hist_13.GetBinError(ibin+hist_13.FindBin(fit_start))\n",
    "    x_val[12][ibin]=hist_13.GetBinCenter(ibin+hist_13.FindBin(fit_start))\n",
    "\n",
    "for irow in range (0, fit_range):\n",
    "    for icol in range(0, fit_range):\n",
    "        y_cov[12][irow][icol]=hcov_13.GetBinContent(irow+hist_13.FindBin(fit_start),icol+hist_13.FindBin(fit_start))\n",
    "        \n",
    "\n",
    "for ibin in range (0,fit_range):\n",
    "    y_val[13][ibin]=hist_14.GetBinContent(ibin+hist_14.FindBin(fit_start))\n",
    "    y_err[13][ibin]=hist_14.GetBinError(ibin+hist_14.FindBin(fit_start))\n",
    "    x_val[13][ibin]=hist_14.GetBinCenter(ibin+hist_14.FindBin(fit_start))\n",
    "\n",
    "for irow in range (0, fit_range):\n",
    "    for icol in range(0, fit_range):\n",
    "        y_cov[13][irow][icol]=hcov_14.GetBinContent(irow+hist_14.FindBin(fit_start),icol+hist_14.FindBin(fit_start))\n",
    "        \n",
    "\n",
    "for ibin in range (0,fit_range):\n",
    "    y_val[14][ibin]=hist_15.GetBinContent(ibin+hist_15.FindBin(fit_start))\n",
    "    y_err[14][ibin]=hist_15.GetBinError(ibin+hist_15.FindBin(fit_start))\n",
    "    x_val[14][ibin]=hist_15.GetBinCenter(ibin+hist_15.FindBin(fit_start))\n",
    "\n",
    "for irow in range (0, fit_range):\n",
    "    for icol in range(0, fit_range):\n",
    "        y_cov[14][irow][icol]=hcov_15.GetBinContent(irow+hist_15.FindBin(fit_start),icol+hist_15.FindBin(fit_start))\n",
    "        \n",
    "\n",
    "for ibin in range (0,fit_range):\n",
    "    y_val[15][ibin]=hist_16.GetBinContent(ibin+hist_16.FindBin(fit_start))\n",
    "    y_err[15][ibin]=hist_16.GetBinError(ibin+hist_16.FindBin(fit_start))\n",
    "    x_val[15][ibin]=hist_16.GetBinCenter(ibin+hist_16.FindBin(fit_start))\n",
    "\n",
    "for irow in range (0, fit_range):\n",
    "    for icol in range(0, fit_range):\n",
    "        y_cov[15][irow][icol]=hcov_16.GetBinContent(irow+hist_16.FindBin(fit_start),icol+hist_16.FindBin(fit_start))\n"
   ]
  },
  {
   "cell_type": "code",
   "execution_count": 5,
   "id": "bb2e9e33",
   "metadata": {},
   "outputs": [
    {
     "name": "stdout",
     "output_type": "stream",
     "text": [
      " + ++++++++++++++++++++++++++++++++++++++++++++++++++++++++++++++++++++ +\n",
      " +                                                                      +\n",
      " +           You have chose to blind your fitting according to          +\n",
      " +                omega_ref * (1 + (R +/- deltaR) *10^{-6})             +\n",
      " +                                                                      +\n",
      " + ++++++++++++++++++++++++++++++++++++++++++++++++++++++++++++++++++++ +\n"
     ]
    }
   ],
   "source": [
    "getBlinded = Blinders(FitType.Omega_a, \"Ritwika's new  Blinding\")"
   ]
  },
  {
   "cell_type": "code",
   "execution_count": 6,
   "id": "55ef9479",
   "metadata": {},
   "outputs": [],
   "source": [
    "T_a_true=4365.411\n",
    "nbinshift=int((0.5*T_a_true)/hist_2.GetBinWidth(1))\n",
    "T_a=2*nbinshift*hist_2.GetBinWidth(1)\n",
    "\n",
    "asym=np.empty(16)\n",
    "dasym=np.empty(16)\n",
    "rval=np.empty(16)\n",
    "drval=np.empty(16)\n",
    "phi=np.empty(16)\n",
    "dphi=np.empty(16)\n",
    "A_cbo=np.empty(16)\n",
    "dA_cbo=np.empty(16)\n",
    "tau_cbo=np.empty(16)\n",
    "dtau_cbo=np.empty(16)\n",
    "omega_cbo=np.empty(16)\n",
    "domega_cbo=np.empty(16)\n",
    "phi_cbo=np.empty(16)\n",
    "dphi_cbo=np.empty(16)\n",
    "A_cbo_A=np.empty(16)\n",
    "dA_cbo_A=np.empty(16)\n",
    "phi_cbo_A=np.empty(16)\n",
    "dphi_cbo_A=np.empty(16)\n",
    "A_cbo_phi=np.empty(16)\n",
    "dA_cbo_phi=np.empty(16)\n",
    "phi_cbo_phi=np.empty(16)\n",
    "dphi_cbo_phi=np.empty(16)\n",
    "A_vw=np.empty(16)\n",
    "dA_vw=np.empty(16)\n",
    "tau_vw=np.empty(16)\n",
    "dtau_vw=np.empty(16)\n",
    "omega_vw=np.empty(16)\n",
    "domega_vw=np.empty(16)\n",
    "phi_vw=np.empty(16)\n",
    "dphi_vw=np.empty(16)\n",
    "A_y=np.empty(16)\n",
    "dA_y=np.empty(16)\n",
    "tau_y=np.empty(16)\n",
    "dtau_y=np.empty(16)\n",
    "omega_y=np.empty(16)\n",
    "domega_y=np.empty(16)\n",
    "phi_y=np.empty(16)\n",
    "dphi_y=np.empty(16)\n",
    "A_2cbo=np.empty(16)\n",
    "dA_2cbo=np.empty(16)\n",
    "tau_2cbo=np.empty(16)\n",
    "dtau_2cbo=np.empty(16)\n",
    "omega_2cbo=np.empty(16)\n",
    "domega_2cbo=np.empty(16)\n",
    "phi_2cbo=np.empty(16)\n",
    "dphi_2cbo=np.empty(16)\n",
    "calonum=np.empty(16)\n",
    "red_chi2=np.empty(16)\n"
   ]
  },
  {
   "cell_type": "code",
   "execution_count": 7,
   "id": "e00cdfd4",
   "metadata": {},
   "outputs": [],
   "source": [
    "def fit_func(time: np.double,\n",
    "             asym: np.double = 0.0, \n",
    "             R: np.double = 0.0, \n",
    "             phi: np.double = 0.0,\n",
    "             asym_cbo = 0.0,\n",
    "             tau_cbo = 0.0,\n",
    "             omega_cbo = 0.0,\n",
    "             phi_cbo = 0.0,\n",
    "             asym_cbo_A = 0.0,\n",
    "             phi_cbo_A=0.0,\n",
    "             A_cbo_phi= 0.0,\n",
    "             phi_cbo_phi=0.0,\n",
    "             asym_vw= 0.0,\n",
    "             tau_vw = 0.0,\n",
    "             omega_vw = 0.0,\n",
    "             phi_vw = 0.0,\n",
    "             asym_vbo= 0.0,\n",
    "             tau_vbo = 0.0,\n",
    "             omega_vbo = 0.0,\n",
    "             phi_vbo = 0.0,\n",
    "             asym_2cbo= 0.0,\n",
    "             phi_2cbo = 0.0)-> np.double:\n",
    "    \n",
    "    Ncbo=(1 + asym_cbo*exp(-time/tau_cbo)*cos(omega_cbo*time - phi_cbo))\n",
    "    Ncbof=(1+ asym_cbo*exp(-(time + T_a/2)/tau_cbo)*cos(omega_cbo*(time + T_a/2) - phi_cbo))\n",
    "    Ncbob=(1+ asym_cbo*exp(-(time - T_a/2)/tau_cbo)*cos(omega_cbo*(time - T_a/2) - phi_cbo))\n",
    "    Acbo=(1+ asym_cbo_A*exp(-time/tau_cbo)*cos(omega_cbo*time - phi_cbo_A));\n",
    "    Acbof=(1+ asym_cbo_A*exp(-(time + T_a/2)/tau_cbo)*cos(omega_cbo*(time + T_a/2) - phi_cbo_A))\n",
    "    Acbob=(1+ asym_cbo_A*exp(-(time - T_a/2)/tau_cbo)*cos(omega_cbo*(time - T_a/2) - phi_cbo_A))\n",
    "    phicbo=(A_cbo_phi*exp(-time/tau_cbo)*cos(omega_cbo*time - phi_cbo_phi))\n",
    "    phicbof=(A_cbo_phi*exp(-(time + T_a/2)/tau_cbo)*cos(omega_cbo*(time + T_a/2) - phi_cbo_phi))\n",
    "    phicbob=(A_cbo_phi*exp(-(time - T_a/2)/tau_cbo)*cos(omega_cbo*(time - T_a/2) - phi_cbo_phi))\n",
    "    Nvw=(1+ asym_vw*exp(-time/tau_vw)*cos(omega_vw*time - phi_vw))\n",
    "    Nvwf=(1+ asym_vw*exp(-(time + T_a/2)/tau_vw)*cos(omega_vw*(time + T_a/2) - phi_vw))\n",
    "    Nvwb=(1+ asym_vw*exp(-(time - T_a/2)/tau_vw)*cos(omega_vw*(time - T_a/2) - phi_vw))\n",
    "    Nvbo=(1+ asym_vbo*exp(-time/tau_vbo)*cos(omega_vbo*time - phi_vbo))\n",
    "    Nvbof=(1+ asym_vbo*exp(-(time + T_a/2)/tau_vbo)*cos(omega_vbo*(time + T_a/2) - phi_vbo))\n",
    "    Nvbob=(1+ asym_vbo*exp(-(time - T_a/2)/tau_vbo)*cos(omega_vbo*(time - T_a/2) - phi_vbo))\n",
    "    N2cbo=(asym_2cbo*exp(-2*time/tau_cbo)*cos(2*omega_cbo*time - phi_2cbo))\n",
    "    N2cbof=(asym_2cbo*exp(-2*(time + T_a/2)/tau_cbo)*cos(2*omega_cbo*(time + T_a/2) - phi_2cbo))\n",
    "    N2cbob=(asym_2cbo*exp(-2*(time - T_a/2)/tau_cbo)*cos(2*omega_cbo*(time - T_a/2) - phi_2cbo))\n",
    "    \n",
    "    Ncbo=Ncbo+N2cbo\n",
    "    Ncbof=Ncbof+N2cbof\n",
    "    Ncbob=Ncbob+N2cbob\n",
    "\n",
    "    \n",
    "    f=(1+ asym*Acbo*cos((getBlinded.paramToFreq(R)/1000.)*time - phi - phicbo))\n",
    "\n",
    "    ff=(1+ asym*Acbof*cos((getBlinded.paramToFreq(R)/1000.)*(time + T_a/2) - phi - phicbof))\n",
    "\n",
    "    fb=(1+ asym*Acbob*cos((getBlinded.paramToFreq(R)/1000.)*(time - T_a/2) - phi - phicbob))\n",
    "\n",
    "    \n",
    "    return (2*f*Ncbo*Nvw*Nvbo - ff*Ncbof*Nvwf*Nvbof - fb*Ncbob*Nvwb*Nvbob)/(2*f*Ncbo*Nvw*Nvbo + ff*Ncbof*Nvwf*Nvbof + fb*Ncbob*Nvwb*Nvbob)"
   ]
  },
  {
   "cell_type": "code",
   "execution_count": 8,
   "id": "f9ce37ab",
   "metadata": {},
   "outputs": [],
   "source": [
    "p_init=[2.28839e-01,\n",
    "        0.000000,\n",
    "        4.02000e+00,\n",
    "        2.42604e-03,\n",
    "        2.10e+05,\n",
    "        2.329e-03,\n",
    "        5.56481e-01,\n",
    "        6.91318e-04,\n",
    "        -5.78075e+00,\n",
    "        6.39026e-05,\n",
    "        3.52887e+01,\n",
    "        2.36536e-04,\n",
    "        85310,\n",
    "        1.3891e-02,\n",
    "        2.73495e-01,\n",
    "        -1.00112e-03,\n",
    "        15470,\n",
    "        1.4094e-02,\n",
    "        -1.99555e+01,\n",
    "        1.10668e-04,\n",
    "        3.06805e+00]"
   ]
  },
  {
   "cell_type": "code",
   "execution_count": 9,
   "id": "4aa030a5",
   "metadata": {},
   "outputs": [],
   "source": [
    "scaling=[0.86,0.87,0.88,0.89,0.90,0.91,0.92,0.93,0.94,0.95,0.96,0.97,0.98,0.99,1.00,1.01]"
   ]
  },
  {
   "cell_type": "code",
   "execution_count": 10,
   "id": "42d7ab1a",
   "metadata": {},
   "outputs": [
    {
     "name": "stdout",
     "output_type": "stream",
     "text": [
      "CPU times: user 9.43 s, sys: 1.6 s, total: 11 s\n",
      "Wall time: 6.99 s\n"
     ]
    }
   ],
   "source": [
    "%%time\n",
    "for icalo in range(14,15): \n",
    "    \n",
    "    pars23, cov23 = opt.curve_fit(f=fit_func, xdata=x_val[icalo], ydata=y_val[icalo], p0=p_init, sigma=y_err[icalo])\n",
    "\n",
    "    p_init_final=pars23\n",
    "    \n",
    "    pars2, cov_final = opt.curve_fit(f=fit_func, xdata=x_val[icalo], ydata=y_val[icalo], p0=p_init_final, sigma=y_cov[icalo])\n",
    "    \n",
    "    \n",
    "    stdevs=np.sqrt(np.diag(cov_final))\n",
    "    \n",
    "    chi2=np.dot((np.transpose(y_val[icalo]-fit_func(x_val[icalo], *pars2))),(np.dot((np.linalg.inv(y_cov[icalo])),(y_val[icalo]-fit_func(x_val[icalo], *pars2)))))\n",
    "    red_chi2[icalo]=chi2/(fit_range-len(pars2))\n",
    "    calonum[icalo]=icalo+1\n",
    "    \n",
    "    asym[icalo]=pars2[0]\n",
    "    dasym[icalo]=stdevs[0]\n",
    "    rval[icalo]=pars2[1]\n",
    "    drval[icalo]=stdevs[1]\n",
    "    phi[icalo]=pars2[2]\n",
    "    dphi[icalo]=stdevs[2]\n",
    "    A_cbo[icalo]=pars2[3]\n",
    "    dA_cbo[icalo]=stdevs[3]\n",
    "    tau_cbo[icalo]=pars2[4]\n",
    "    dtau_cbo[icalo]=stdevs[4]\n",
    "    omega_cbo[icalo]=pars2[5]\n",
    "    domega_cbo[icalo]=stdevs[5]\n",
    "    phi_cbo[icalo]=pars2[6]\n",
    "    dphi_cbo[icalo]=stdevs[6]\n",
    "    A_cbo_A[icalo]=pars2[7]\n",
    "    dA_cbo_A[icalo]=stdevs[7]\n",
    "    phi_cbo_A[icalo]=pars2[8]\n",
    "    dphi_cbo_A[icalo]=stdevs[8]\n",
    "    A_cbo_phi[icalo]=pars2[9]\n",
    "    dA_cbo_phi[icalo]=stdevs[9]\n",
    "    phi_cbo_phi[icalo]=pars2[10]\n",
    "    dphi_cbo_phi[icalo]=stdevs[10]\n",
    "    A_y[icalo]=pars2[11]\n",
    "    dA_y[icalo]=stdevs[11]\n",
    "    tau_y[icalo]=pars2[12]\n",
    "    dtau_y[icalo]=stdevs[12]\n",
    "    omega_y[icalo]=pars2[13]\n",
    "    domega_y[icalo]=stdevs[13]\n",
    "    phi_y[icalo]=pars2[14]\n",
    "    dphi_y[icalo]=stdevs[14]\n",
    "    A_vw[icalo]=pars2[15]\n",
    "    dA_vw[icalo]=stdevs[15]\n",
    "    tau_y[icalo]=pars2[16]\n",
    "    dtau_y[icalo]=stdevs[16]\n",
    "    omega_y[icalo]=pars2[17]\n",
    "    domega_y[icalo]=stdevs[17]\n",
    "    phi_vw[icalo]=pars2[18]\n",
    "    dphi_vw[icalo]=stdevs[18]\n",
    "        \n",
    "    \n"
   ]
  },
  {
   "cell_type": "code",
   "execution_count": 11,
   "id": "6b117795",
   "metadata": {},
   "outputs": [
    {
     "data": {
      "text/plain": [
       "array([3.08016163e-05, 1.70307358e+00, 2.59314816e-04, 9.26846988e-05,\n",
       "       2.99596836e+04, 6.69229429e-07, 5.32948378e-02, 2.76528118e-04,\n",
       "       5.47542843e-01, 2.76738062e-04, 6.27879454e+00, 7.38373769e-05,\n",
       "       4.38939145e+05, 5.11710937e-06, 4.57287898e-01, 1.28123127e-03,\n",
       "       5.05673725e+03, 1.19516583e-05, 4.66841289e-01, 6.09308195e-05,\n",
       "       6.14636583e-01])"
      ]
     },
     "execution_count": 11,
     "metadata": {},
     "output_type": "execute_result"
    }
   ],
   "source": [
    "stdevs"
   ]
  },
  {
   "cell_type": "code",
   "execution_count": 28,
   "id": "dde0c359",
   "metadata": {
    "scrolled": false
   },
   "outputs": [
    {
     "data": {
      "image/png": "[encoded data removed]",
      "text/plain": [
       "<Figure size 1080x576 with 1 Axes>"
      ]
     },
     "metadata": {
      "needs_background": "light"
     },
     "output_type": "display_data"
    }
   ],
   "source": [
    "plt.figure(figsize=(15,8))\n",
    "plt.rc('xtick', labelsize=20) \n",
    "plt.rc('ytick', labelsize=20) \n",
    "plt.errorbar(scaling, rval, yerr=drval, fmt=\"o\")\n",
    "plt.axhline(y=-44.55418088, color='black', linestyle='dotted')\n",
    "plt.axvline(x=1.0, color='black', linestyle='dotted')\n",
    "plt.axvline(x=1.0011, color='red', linestyle='dotted')\n",
    "plt.xlabel('Scaling factor',fontsize=25)\n",
    "plt.ylabel('R [ppm]',fontsize=25)\n",
    "plt.ylim(-37,-33)\n",
    "plt.show()\n",
    "#plt.savefig('run2_caloscan_R.jpg')"
   ]
  },
  {
   "cell_type": "code",
   "execution_count": 32,
   "id": "398d4019",
   "metadata": {},
   "outputs": [
    {
     "data": {
      "image/png": "[encoded data removed]",
      "text/plain": [
       "<Figure size 864x576 with 1 Axes>"
      ]
     },
     "metadata": {
      "needs_background": "light"
     },
     "output_type": "display_data"
    }
   ],
   "source": [
    "plt.figure(figsize=(12,8))\n",
    "plt.rc('xtick', labelsize=20) \n",
    "plt.rc('ytick', labelsize=20) \n",
    "plt.errorbar(scaling, rval, yerr=0, fmt=\"o\")\n",
    "plt.axhline(y=-44.55418088, color='black', linestyle='dotted')\n",
    "plt.axvline(x=1.0, color='black', linestyle='dotted')\n",
    "plt.axvline(x=1.0011, color='red', linestyle='dotted')\n",
    "plt.xlabel('Scaling factor',fontsize=25)\n",
    "plt.ylabel('R [ppm]',fontsize=25)\n",
    "plt.ylim(-35.25,-35.15)\n",
    "plt.show()\n",
    "plt.rcParams[\"axes.formatter.useoffset\"] = False"
   ]
  },
  {
   "cell_type": "code",
   "execution_count": 35,
   "id": "84d52749",
   "metadata": {},
   "outputs": [
    {
     "data": {
      "image/png": "[encoded data removed]",
      "text/plain": [
       "<Figure size 864x576 with 1 Axes>"
      ]
     },
     "metadata": {
      "needs_background": "light"
     },
     "output_type": "display_data"
    }
   ],
   "source": [
    "plt.figure(figsize=(12,8))\n",
    "plt.rc('xtick', labelsize=20) \n",
    "plt.rc('ytick', labelsize=20) \n",
    "plt.errorbar(scaling, drval, yerr=0, fmt=\"o\")\n",
    "plt.axhline(y=0.49154985, color='black', linestyle='dotted')\n",
    "plt.axvline(x=1.0, color='black', linestyle='dotted')\n",
    "plt.axvline(x=1.0011, color='red', linestyle='dotted')\n",
    "plt.xlabel('Scaling factor',fontsize=25)\n",
    "plt.ylabel(' σ_R [ppm]',fontsize=25)\n",
    "plt.ylim(1.45,1.75)\n",
    "plt.show()"
   ]
  },
  {
   "cell_type": "code",
   "execution_count": 37,
   "id": "0fab15be",
   "metadata": {},
   "outputs": [
    {
     "data": {
      "image/png": "[encoded data removed]",
      "text/plain": [
       "<Figure size 1080x576 with 1 Axes>"
      ]
     },
     "metadata": {
      "needs_background": "light"
     },
     "output_type": "display_data"
    }
   ],
   "source": [
    "plt.figure(figsize=(15,8))\n",
    "plt.rc('xtick', labelsize=20) \n",
    "plt.rc('ytick', labelsize=20) \n",
    "plt.errorbar(scaling, red_chi2, yerr=0, fmt=\"o\")\n",
    "plt.axhline(y=0.96519427, color='black', linestyle='dotted')\n",
    "plt.axhline(y=1.0, color='green', linestyle='dotted')\n",
    "plt.axvline(x=1.0, color='black', linestyle='dotted')\n",
    "plt.axvline(x=1.0011, color='red', linestyle='dotted')\n",
    "plt.xlabel('Scaling Factor',fontsize=25)\n",
    "plt.ylabel('chi2/ndf',fontsize=25)\n",
    "plt.ylim(0.75,1.0)\n",
    "plt.show()"
   ]
  },
  {
   "cell_type": "code",
   "execution_count": 38,
   "id": "cc23aeac",
   "metadata": {},
   "outputs": [
    {
     "data": {
      "image/png": "[encoded data removed]",
      "text/plain": [
       "<Figure size 1080x576 with 1 Axes>"
      ]
     },
     "metadata": {
      "needs_background": "light"
     },
     "output_type": "display_data"
    }
   ],
   "source": [
    "plt.figure(figsize=(15,8))\n",
    "plt.rc('xtick', labelsize=20) \n",
    "plt.rc('ytick', labelsize=20) \n",
    "plt.errorbar(scaling, red_chi2*(fit_range-len(pars2)), yerr=0, fmt=\"o\")\n",
    "plt.axhline(y=1748.93201648, color='black', linestyle='dotted')\n",
    "plt.axhline(y=1812, color='green', linestyle='dotted')\n",
    "plt.axvline(x=1.0, color='black', linestyle='dotted')\n",
    "plt.axvline(x=1.0011, color='red', linestyle='dotted')\n",
    "plt.xlabel('Scaling factor',fontsize=25)\n",
    "plt.ylabel('chi2',fontsize=25)\n",
    "plt.ylim(1400,1750)\n",
    "plt.show()"
   ]
  },
  {
   "cell_type": "code",
   "execution_count": 12,
   "id": "3a0aaa0d",
   "metadata": {},
   "outputs": [
    {
     "data": {
      "text/plain": [
       "array([ 7.90329699e-316,  0.00000000e+000,  0.00000000e+000,\n",
       "        0.00000000e+000,  0.00000000e+000,  0.00000000e+000,\n",
       "        0.00000000e+000,  0.00000000e+000,  0.00000000e+000,\n",
       "        0.00000000e+000,  0.00000000e+000,  0.00000000e+000,\n",
       "        0.00000000e+000,  0.00000000e+000, -3.51686179e+001,\n",
       "        0.00000000e+000])"
      ]
     },
     "execution_count": 12,
     "metadata": {},
     "output_type": "execute_result"
    }
   ],
   "source": [
    "rval"
   ]
  },
  {
   "cell_type": "code",
   "execution_count": 13,
   "id": "bc67fe10",
   "metadata": {},
   "outputs": [
    {
     "data": {
      "text/plain": [
       "array([7.94095586e-316, 0.00000000e+000, 6.93176482e-310, 7.86105240e-316,\n",
       "       6.93176483e-310, 7.94490760e-316, 6.93176483e-310, 7.85923266e-316,\n",
       "       6.93176482e-310, 7.90395469e-316,             nan, 3.65604426e+198,\n",
       "       7.62909728e-316, 6.01729627e+175, 1.70307358e+000, 1.02281629e-259])"
      ]
     },
     "execution_count": 13,
     "metadata": {},
     "output_type": "execute_result"
    }
   ],
   "source": [
    "drval"
   ]
  },
  {
   "cell_type": "code",
   "execution_count": 14,
   "id": "32e6b801",
   "metadata": {},
   "outputs": [
    {
     "data": {
      "text/plain": [
       "array([6.93184984e-310, 6.93184984e-310, 7.94085942e-316, 3.07942896e-316,\n",
       "       7.89666228e-316, 4.44659081e-323, 7.69847146e+218, 4.99006302e-322,\n",
       "       6.93176423e-310, 0.00000000e+000,             nan, 7.94156416e-316,\n",
       "                   nan, 1.19069821e-321, 9.50781255e-001, 3.08084712e-316])"
      ]
     },
     "execution_count": 14,
     "metadata": {},
     "output_type": "execute_result"
    }
   ],
   "source": [
    "red_chi2"
   ]
  },
  {
   "cell_type": "code",
   "execution_count": 15,
   "id": "94cbcbdf",
   "metadata": {},
   "outputs": [
    {
     "data": {
      "text/plain": [
       "array([1.25743756e-306, 1.25743756e-306, 1.44047190e-312, 5.58608413e-313,\n",
       "       1.43245454e-312, 8.06611573e-320, 1.39650272e+222, 9.05197432e-319,\n",
       "       1.25742203e-306, 0.00000000e+000,             nan, 1.44059974e-312,\n",
       "                   nan, 2.15992655e-318, 1.72471720e+003, 5.58865668e-313])"
      ]
     },
     "execution_count": 15,
     "metadata": {},
     "output_type": "execute_result"
    }
   ],
   "source": [
    "red_chi2*(fit_range-len(pars2))"
   ]
  },
  {
   "cell_type": "code",
   "execution_count": null,
   "id": "913c1e61",
   "metadata": {},
   "outputs": [],
   "source": []
  },
  {
   "cell_type": "code",
   "execution_count": null,
   "id": "a7a6ee92",
   "metadata": {},
   "outputs": [],
   "source": []
  },
  {
   "cell_type": "code",
   "execution_count": null,
   "id": "b78a9fab",
   "metadata": {},
   "outputs": [],
   "source": []
  },
  {
   "cell_type": "code",
   "execution_count": null,
   "id": "3c8e6a38",
   "metadata": {},
   "outputs": [],
   "source": []
  },
  {
   "cell_type": "code",
   "execution_count": null,
   "id": "e586b979",
   "metadata": {},
   "outputs": [],
   "source": []
  }
 ],
 "metadata": {
  "kernelspec": {
   "display_name": "Python 3",
   "language": "python",
   "name": "python3"
  },
  "language_info": {
   "codemirror_mode": {
    "name": "ipython",
    "version": 3
   },
   "file_extension": ".py",
   "mimetype": "text/x-python",
   "name": "python",
   "nbconvert_exporter": "python",
   "pygments_lexer": "ipython3",
   "version": "3.6.9"
  }
 },
 "nbformat": 4,
 "nbformat_minor": 5
}
