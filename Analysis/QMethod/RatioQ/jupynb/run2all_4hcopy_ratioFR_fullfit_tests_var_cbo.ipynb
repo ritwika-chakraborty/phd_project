{
 "cells": [
  {
   "cell_type": "code",
   "execution_count": 1,
   "id": "1b6cffdb",
   "metadata": {},
   "outputs": [
    {
     "name": "stdout",
     "output_type": "stream",
     "text": [
      "Welcome to JupyROOT 6.24/06\n"
     ]
    }
   ],
   "source": [
    "import numpy as np\n",
    "import ROOT\n",
    "from math import exp as expo\n",
    "from math import cos as cosine\n",
    "exp=np.vectorize(expo)\n",
    "cos=np.vectorize(cosine)\n",
    "import matplotlib.pylab as plt\n",
    "from matplotlib.pyplot import figure\n",
    "from BlindersPy3 import Blinders\n",
    "from BlindersPy3 import FitType\n",
    "import scipy.optimize as opt"
   ]
  },
  {
   "cell_type": "code",
   "execution_count": 2,
   "id": "740a700c",
   "metadata": {},
   "outputs": [],
   "source": [
    "file = ROOT.TFile.Open(\"run2_4hcopy_ratioFR_cov_mat_final.root\")\n",
    "#direc = file.Get(\"QFillByFillAnalyzerDB\")\n",
    "hist = ROOT.TH1D()\n",
    "hist = file.Get(\"calo_histogram_sum_ratio\")\n",
    "hcov = ROOT.TH2D()\n",
    "hcov = file.Get(\"hcov\")"
   ]
  },
  {
   "cell_type": "code",
   "execution_count": 3,
   "id": "b3055fac",
   "metadata": {},
   "outputs": [
    {
     "name": "stdout",
     "output_type": "stream",
     "text": [
      " + ++++++++++++++++++++++++++++++++++++++++++++++++++++++++++++++++++++ +\n",
      " +                                                                      +\n",
      " +           You have chose to blind your fitting according to          +\n",
      " +                omega_ref * (1 + (R +/- deltaR) *10^{-6})             +\n",
      " +                                                                      +\n",
      " + ++++++++++++++++++++++++++++++++++++++++++++++++++++++++++++++++++++ +\n"
     ]
    }
   ],
   "source": [
    "getBlinded = Blinders(FitType.Omega_a, \"Ritwika's new  Blinding\")"
   ]
  },
  {
   "cell_type": "code",
   "execution_count": 4,
   "id": "cd76e7d8",
   "metadata": {},
   "outputs": [],
   "source": [
    "fit_start=30000\n",
    "fit_stop=300000\n",
    "fit_range=hist.FindBin(fit_stop)-hist.FindBin(fit_start)+1\n",
    "\n",
    "T_a_true=4365.411\n",
    "nbinshift=int((0.5*T_a_true)/hist.GetBinWidth(1))\n",
    "T_a=2*nbinshift*hist.GetBinWidth(1)\n",
    "\n",
    "y_val=np.empty(fit_range)\n",
    "y_err=np.empty(fit_range)\n",
    "x_val=np.empty(fit_range)\n",
    "\n",
    "for ibin in range (0,fit_range):\n",
    "    y_val[ibin]=hist.GetBinContent(ibin+hist.FindBin(fit_start))\n",
    "    y_err[ibin]=hist.GetBinError(ibin+hist.FindBin(fit_start))\n",
    "    x_val[ibin]=hist.GetBinCenter(ibin+hist.FindBin(fit_start))\n",
    "\n",
    "y_cov = np.empty(shape=(fit_range,fit_range))\n",
    "\n",
    "for irow in range (0, fit_range):\n",
    "      for icol in range(0, fit_range):\n",
    "            y_cov[irow][icol]=hcov.GetBinContent(irow+hist.FindBin(fit_start),icol+hist.FindBin(fit_start))"
   ]
  },
  {
   "cell_type": "code",
   "execution_count": 5,
   "id": "980f0e2a",
   "metadata": {},
   "outputs": [
    {
     "name": "stdout",
     "output_type": "stream",
     "text": [
      "5.600302282849907e-09\n"
     ]
    }
   ],
   "source": [
    "print(y_cov[0][0])\n",
    "mat=np.linalg.eigvalsh(y_cov)\n",
    "for irow in range (0, fit_range):\n",
    "    if mat[irow]<=0:\n",
    "        print(irow,\"\\n\")"
   ]
  },
  {
   "cell_type": "code",
   "execution_count": 6,
   "id": "39d83609",
   "metadata": {},
   "outputs": [],
   "source": [
    "def fit_func(time: np.double,\n",
    "             asym: np.double = 0.0, \n",
    "             R: np.double = 0.0, \n",
    "             phi: np.double = 0.0,\n",
    "             asym_cbo = 0.0,\n",
    "             tau_cbo = 0.0,\n",
    "             omega_cbo = 0.0,\n",
    "             phi_cbo = 0.0,\n",
    "             asym_cbo_A = 0.0,\n",
    "             phi_cbo_A=0.0,\n",
    "             A_cbo_phi= 0.0,\n",
    "             phi_cbo_phi=0.0,\n",
    "             asym_vw= 0.0,\n",
    "             tau_vw = 0.0,\n",
    "             omega_vw = 0.0,\n",
    "             phi_vw = 0.0,\n",
    "             asym_vbo= 0.0,\n",
    "             tau_vbo = 0.0,\n",
    "             omega_vbo = 0.0,\n",
    "             phi_vbo = 0.0,\n",
    "             asym_2cbo= 0.0,\n",
    "             tau_2cbo = 0.0,\n",
    "             omega_2cbo = 0.0,\n",
    "             phi_2cbo = 0.0,\n",
    "             A_cbot = 0.0,\n",
    "             tau_cbot = 0.0)-> np.double:\n",
    "    \n",
    "    omega_cbot=omega_cbo*(1+A_cbot*exp(-time/tau_cbot))\n",
    "    omega_cbotf=omega_cbo*(1+A_cbot*exp(-(time+T_a/2)/tau_cbot))\n",
    "    omega_cbotb=omega_cbo*(1+A_cbot*exp(-(time-T_a/2)/tau_cbot))\n",
    "    \n",
    "    Ncbo=(1 + asym_cbo*exp(-time/tau_cbo)*cos(omega_cbot*time - phi_cbo))\n",
    "    Ncbof=(1+ asym_cbo*exp(-(time + T_a/2)/tau_cbo)*cos(omega_cbotf*(time + T_a/2) - phi_cbo))\n",
    "    Ncbob=(1+ asym_cbo*exp(-(time - T_a/2)/tau_cbo)*cos(omega_cbotb*(time - T_a/2) - phi_cbo))\n",
    "    Acbo=(1+ asym_cbo_A*exp(-time/tau_cbo)*cos(omega_cbo*time - phi_cbo_A));\n",
    "    Acbof=(1+ asym_cbo_A*exp(-(time + T_a/2)/tau_cbo)*cos(omega_cbo*(time + T_a/2) - phi_cbo_A))\n",
    "    Acbob=(1+ asym_cbo_A*exp(-(time - T_a/2)/tau_cbo)*cos(omega_cbo*(time - T_a/2) - phi_cbo_A))\n",
    "    phicbo=(A_cbo_phi*exp(-time/tau_cbo)*cos(omega_cbo*time - phi_cbo_phi))\n",
    "    phicbof=(A_cbo_phi*exp(-(time + T_a/2)/tau_cbo)*cos(omega_cbo*(time + T_a/2) - phi_cbo_phi))\n",
    "    phicbob=(A_cbo_phi*exp(-(time - T_a/2)/tau_cbo)*cos(omega_cbo*(time - T_a/2) - phi_cbo_phi))\n",
    "    Nvw=(1+ asym_vw*exp(-time/tau_vw)*cos(omega_vw*time - phi_vw))\n",
    "    Nvwf=(1+ asym_vw*exp(-(time + T_a/2)/tau_vw)*cos(omega_vw*(time + T_a/2) - phi_vw))\n",
    "    Nvwb=(1+ asym_vw*exp(-(time - T_a/2)/tau_vw)*cos(omega_vw*(time - T_a/2) - phi_vw))\n",
    "    Nvbo=(1+ asym_vbo*exp(-time/tau_vbo)*cos(omega_vbo*time - phi_vbo))\n",
    "    Nvbof=(1+ asym_vbo*exp(-(time + T_a/2)/tau_vbo)*cos(omega_vbo*(time + T_a/2) - phi_vbo))\n",
    "    Nvbob=(1+ asym_vbo*exp(-(time - T_a/2)/tau_vbo)*cos(omega_vbo*(time - T_a/2) - phi_vbo))\n",
    "    N2cbo=(asym_2cbo*exp(-time/tau_2cbo)*cos(omega_2cbo*time - phi_2cbo))\n",
    "    N2cbof=(asym_2cbo*exp(-(time + T_a/2)/tau_2cbo)*cos(omega_2cbo*(time + T_a/2) - phi_2cbo))\n",
    "    N2cbob=(asym_2cbo*exp(-(time - T_a/2)/tau_2cbo)*cos(omega_2cbo*(time - T_a/2) - phi_2cbo))\n",
    "    \n",
    "    Ncbo=Ncbo+N2cbo\n",
    "    Ncbof=Ncbof+N2cbof\n",
    "    Ncbob=Ncbob+N2cbob\n",
    "\n",
    "    \n",
    "    f=(1+ asym*Acbo*cos((getBlinded.paramToFreq(R)/1000.)*time - phi - phicbo))\n",
    "\n",
    "    ff=(1+ asym*Acbof*cos((getBlinded.paramToFreq(R)/1000.)*(time + T_a/2) - phi - phicbof))\n",
    "\n",
    "    fb=(1+ asym*Acbob*cos((getBlinded.paramToFreq(R)/1000.)*(time - T_a/2) - phi - phicbob))\n",
    "\n",
    "    \n",
    "    return (2*f*Ncbo*Nvw*Nvbo - ff*Ncbof*Nvwf*Nvbof - fb*Ncbob*Nvwb*Nvbob)/(2*f*Ncbo*Nvw*Nvbo + ff*Ncbof*Nvwf*Nvbof + fb*Ncbob*Nvwb*Nvbob)"
   ]
  },
  {
   "cell_type": "code",
   "execution_count": 14,
   "id": "8386ef9d",
   "metadata": {},
   "outputs": [],
   "source": [
    "p_init=[2.28839e-01,\n",
    "        0.000000,\n",
    "        4.02000e+00,\n",
    "        2.42604e-03,\n",
    "        2.54062e+05,\n",
    "        2.34062e-03,\n",
    "        5.56481e-01,\n",
    "        6.91318e-04,\n",
    "        -5.78075e+00,\n",
    "        6.39026e-05,\n",
    "        3.52887e+01,\n",
    "        2.36536e-04,\n",
    "        1.38419e+05,\n",
    "        1.39311e-02,\n",
    "        2.73495e-01,\n",
    "        -1.00112e-03,\n",
    "        3.48295e+04,\n",
    "        1.40369e-02,\n",
    "        -1.99555e+01,\n",
    "        1.10668e-04,\n",
    "        1.70775e+05,\n",
    "        4.69116e-03,\n",
    "        3.06805e+00,\n",
    "        #0.001,\n",
    "        #9000]\n",
    "        0.005,\n",
    "        24400]"
   ]
  },
  {
   "cell_type": "code",
   "execution_count": 15,
   "id": "e21e9780",
   "metadata": {},
   "outputs": [],
   "source": [
    "pars2, cov2 = opt.curve_fit(f=fit_func, xdata=x_val, ydata=y_val, p0=p_init, sigma=y_err)"
   ]
  },
  {
   "cell_type": "code",
   "execution_count": 16,
   "id": "6922907a",
   "metadata": {},
   "outputs": [],
   "source": [
    "p_init=pars2"
   ]
  },
  {
   "cell_type": "code",
   "execution_count": 17,
   "id": "c06024a0",
   "metadata": {},
   "outputs": [],
   "source": [
    "pars_final, cov_final = opt.curve_fit(f=fit_func, xdata=x_val, ydata=y_val, p0=p_init, sigma=y_cov)"
   ]
  },
  {
   "cell_type": "code",
   "execution_count": 18,
   "id": "d47ff9d1",
   "metadata": {},
   "outputs": [],
   "source": [
    "# Get the standard deviations of the parameters (square roots of the # diagonal of the covariance)\n",
    "stdevs = np.sqrt(np.diag(cov_final))"
   ]
  },
  {
   "cell_type": "code",
   "execution_count": 19,
   "id": "3ad76d5b",
   "metadata": {},
   "outputs": [
    {
     "name": "stdout",
     "output_type": "stream",
     "text": [
      "0.22886080455061186        +-   8.886648232541637e-06   \n",
      "\n",
      "-44.49142274115737        +-   0.4970144186618436   \n",
      "\n",
      "4.014182694342609        +-   7.571816687666657e-05   \n",
      "\n",
      "0.002302808929380617        +-   2.5273405660960434e-05   \n",
      "\n",
      "252440.6819812197        +-   8445.380190386551   \n",
      "\n",
      "0.002341054397477021        +-   3.435738935627858e-07   \n",
      "\n",
      "-0.5233400743890413        +-   0.052288210991942245   \n",
      "\n",
      "0.0008333942662676931        +-   7.609342828561301e-05   \n",
      "\n",
      "-6.884707868496453        +-   0.09312644533301022   \n",
      "\n",
      "8.323542944409781e-05        +-   7.59759956294877e-05   \n",
      "\n",
      "30.935189470762534        +-   0.9294932476818688   \n",
      "\n",
      "0.00019704683839676736        +-   3.141359650323867e-05   \n",
      "\n",
      "175829.81461213424        +-   57094.770910841646   \n",
      "\n",
      "0.01392963899608027        +-   1.850154438385528e-06   \n",
      "\n",
      "-0.38914993787758784        +-   0.15992222252697894   \n",
      "\n",
      "0.0014539756871735684        +-   0.00021844176978504112   \n",
      "\n",
      "27861.69796981355        +-   2636.219791234944   \n",
      "\n",
      "0.014037417526104422        +-   3.398051707506257e-06   \n",
      "\n",
      "-20.851786778308213        +-   0.1505543638510724   \n",
      "\n",
      "0.00012180408390640075        +-   3.233293121970506e-05   \n",
      "\n",
      "138164.4901315116        +-   71856.13649690336   \n",
      "\n",
      "0.004688955672756298        +-   3.756836404557173e-06   \n",
      "\n",
      "3.0823985519864925        +-   0.2645083117920196   \n",
      "\n",
      "0.006983423904547188        +-   0.0031375179533037175   \n",
      "\n",
      "18606.243616964985        +-   6877.42059710247   \n",
      "\n"
     ]
    }
   ],
   "source": [
    "for ipar in range(0,len(p_init)):\n",
    "    print(pars_final[ipar],\"       +-  \",stdevs[ipar],\"  \\n\")"
   ]
  },
  {
   "cell_type": "code",
   "execution_count": null,
   "id": "52c72999",
   "metadata": {},
   "outputs": [],
   "source": [
    "pars_final"
   ]
  },
  {
   "cell_type": "code",
   "execution_count": null,
   "id": "d9bc6399",
   "metadata": {},
   "outputs": [],
   "source": [
    "stdevs"
   ]
  },
  {
   "cell_type": "code",
   "execution_count": null,
   "id": "e1e296c2",
   "metadata": {},
   "outputs": [],
   "source": [
    "# Plot the noisy exponential data\n",
    "plt.figure(figsize=(12,8))\n",
    "plt.rc('xtick', labelsize=20) \n",
    "plt.rc('ytick', labelsize=20) \n",
    "plt.scatter(x_val, y_val, s=0.1, color='#00b3b3', label='Data')\n",
    "plt.plot(x_val, fit_func(x_val, *pars_final), linestyle='--', linewidth=1, color='red')\n",
    "plt.xlabel('Time [ns]',fontsize=25)\n",
    "plt.ylabel('ratio',fontsize=25)\n",
    "#plt.ylim([0.0, 6000000000])\n",
    "#plt.xlim([100000,150000])\n",
    "plt.show()"
   ]
  },
  {
   "cell_type": "code",
   "execution_count": null,
   "id": "05163e64",
   "metadata": {},
   "outputs": [],
   "source": [
    "# Calculate the residuals\n",
    "res = (y_val - fit_func(x_val, *pars_final))/y_err"
   ]
  },
  {
   "cell_type": "code",
   "execution_count": null,
   "id": "95f47eb3",
   "metadata": {},
   "outputs": [],
   "source": [
    "# Plot the noisy exponential data\n",
    "plt.figure(figsize=(12,8))\n",
    "plt.rc('xtick', labelsize=20) \n",
    "plt.rc('ytick', labelsize=20) \n",
    "plt.plot(x_val, res, linestyle='solid', linewidth=1, color='black')\n",
    "plt.xlabel('Time [ns]',fontsize=25)\n",
    "plt.ylabel('data-fit/sigma',fontsize=25)\n",
    "plt.savefig('run2all_res.jpg')"
   ]
  },
  {
   "cell_type": "code",
   "execution_count": null,
   "id": "e9cfaf51",
   "metadata": {},
   "outputs": [],
   "source": [
    "stdevs"
   ]
  },
  {
   "cell_type": "code",
   "execution_count": null,
   "id": "91176d03",
   "metadata": {},
   "outputs": [],
   "source": [
    "fou=abs(np.fft.fft(res))"
   ]
  },
  {
   "cell_type": "code",
   "execution_count": null,
   "id": "b5bc42d3",
   "metadata": {},
   "outputs": [],
   "source": [
    "#xfft=np.empty(fit_range)\n",
    "xfft= np.linspace(0,6.667,num=1801)\n",
    "xfft[800]"
   ]
  },
  {
   "cell_type": "code",
   "execution_count": null,
   "id": "2a0e6b06",
   "metadata": {},
   "outputs": [],
   "source": [
    "plt.figure(figsize=(12,8))\n",
    "plt.rc('xtick', labelsize=20) \n",
    "plt.rc('ytick', labelsize=20) \n",
    "plt.plot(xfft, fou, linestyle='solid', linewidth=1, color='blue')\n",
    "plt.xlim([0,6.667/2])\n",
    "plt.xlabel('Freq [MhZ]',fontsize=25)\n",
    "plt.ylabel('FFT Mag [arb. units]',fontsize=25)\n",
    "plt.savefig('run2all_fft.jpg')"
   ]
  },
  {
   "cell_type": "code",
   "execution_count": null,
   "id": "c80e5f7c",
   "metadata": {},
   "outputs": [],
   "source": [
    "chi2=np.dot((np.transpose(y_val-fit_func(x_val, *pars_final))),(np.dot((np.linalg.inv(y_cov)),(y_val-fit_func(x_val, *pars_final)))))"
   ]
  },
  {
   "cell_type": "code",
   "execution_count": null,
   "id": "a7bf6841",
   "metadata": {},
   "outputs": [],
   "source": [
    "chi2"
   ]
  },
  {
   "cell_type": "code",
   "execution_count": null,
   "id": "61715caf",
   "metadata": {},
   "outputs": [],
   "source": [
    "ndf=fit_range-len(pars_final)"
   ]
  },
  {
   "cell_type": "code",
   "execution_count": null,
   "id": "e4af7ae5",
   "metadata": {},
   "outputs": [],
   "source": [
    "red_chi2=chi2/ndf"
   ]
  },
  {
   "cell_type": "code",
   "execution_count": null,
   "id": "cd84687d",
   "metadata": {},
   "outputs": [],
   "source": [
    "red_chi2"
   ]
  },
  {
   "cell_type": "code",
   "execution_count": null,
   "id": "c218050d",
   "metadata": {},
   "outputs": [],
   "source": []
  }
 ],
 "metadata": {
  "kernelspec": {
   "display_name": "Python 3",
   "language": "python",
   "name": "python3"
  },
  "language_info": {
   "codemirror_mode": {
    "name": "ipython",
    "version": 3
   },
   "file_extension": ".py",
   "mimetype": "text/x-python",
   "name": "python",
   "nbconvert_exporter": "python",
   "pygments_lexer": "ipython3",
   "version": "3.6.9"
  }
 },
 "nbformat": 4,
 "nbformat_minor": 5
}
