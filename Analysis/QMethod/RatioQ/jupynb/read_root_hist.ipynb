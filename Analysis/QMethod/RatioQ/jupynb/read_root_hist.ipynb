{
 "cells": [
  {
   "cell_type": "code",
   "execution_count": 1,
   "id": "15942c90",
   "metadata": {},
   "outputs": [
    {
     "name": "stdout",
     "output_type": "stream",
     "text": [
      "Welcome to JupyROOT 6.24/06\n"
     ]
    }
   ],
   "source": [
    "import numpy as np\n",
    "import ROOT\n",
    "import math\n",
    "from math import exp as expo\n",
    "from math import cos as cosine\n",
    "exp=np.vectorize(expo)\n",
    "cos=np.vectorize(cosine)"
   ]
  },
  {
   "cell_type": "code",
   "execution_count": 2,
   "id": "68d4419a",
   "metadata": {},
   "outputs": [],
   "source": [
    "from ROOT import TDirectory as gDirectory"
   ]
  },
  {
   "cell_type": "code",
   "execution_count": 3,
   "id": "8299570c",
   "metadata": {},
   "outputs": [],
   "source": [
    "file=ROOT.TFile(\"run2_thresh300_fbfDQC.root\")"
   ]
  },
  {
   "cell_type": "code",
   "execution_count": 4,
   "id": "d2628422",
   "metadata": {},
   "outputs": [],
   "source": [
    "file = ROOT.TFile.Open(\"run2_thresh300_fbfDQC.root\")\n",
    "direc = file.Get(\"QFillByFillAnalyzerDB\")\n",
    "hist = ROOT.TH1D()\n",
    "hist = direc.Get(\"qHist1D_sig_22_0\")\n"
   ]
  },
  {
   "cell_type": "code",
   "execution_count": 5,
   "id": "13fde5e3",
   "metadata": {},
   "outputs": [],
   "source": [
    "c = ROOT.TCanvas(\"c\")\n",
    "hist.Draw()"
   ]
  },
  {
   "cell_type": "code",
   "execution_count": 6,
   "id": "1222f73a",
   "metadata": {},
   "outputs": [
    {
     "data": {
      "image/png": "[encoded data removed]",
      "text/plain": [
       "<IPython.core.display.Image object>"
      ]
     },
     "metadata": {},
     "output_type": "display_data"
    }
   ],
   "source": [
    "c.Draw()"
   ]
  },
  {
   "cell_type": "code",
   "execution_count": 7,
   "id": "8f9650ac",
   "metadata": {
    "scrolled": true
   },
   "outputs": [],
   "source": [
    "x_values = 1,2,3,4,5\n",
    "y_values = 2,4,6,8,10\n",
    "\n",
    "\n",
    "def objective(x, a, b, c, d, e):\n",
    "    return a * x + b + c + d + e\n",
    "    \n",
    "def objective1(time, norm, life, asym, R, phi):\n",
    "    return norm *expo(-time/life) * (1 + asym*(cosine(R)*time + phi))\n",
    "\n",
    "f2=np.vectorize(objective1)"
   ]
  },
  {
   "cell_type": "code",
   "execution_count": 9,
   "id": "95abf570",
   "metadata": {},
   "outputs": [],
   "source": [
    "#for ibin in range (0,hist.GetNbinsX()):\n",
    " # y_val[ibin]=hist.GetBinContent(ibin)\n",
    "  #y_err[ibin]=hist.GetBinError(ibin)\n",
    "  #x_val[ibin]=hist.GetBinCenter(ibin)"
   ]
  },
  {
   "cell_type": "code",
   "execution_count": 225,
   "id": "91a96c72",
   "metadata": {},
   "outputs": [
    {
     "data": {
      "text/plain": [
       "3872.7140629291534"
      ]
     },
     "execution_count": 225,
     "metadata": {},
     "output_type": "execute_result"
    }
   ],
   "source": [
    "y_val[30]"
   ]
  },
  {
   "cell_type": "code",
   "execution_count": 226,
   "id": "a20679ad",
   "metadata": {},
   "outputs": [
    {
     "data": {
      "text/plain": [
       "1301.745223283788"
      ]
     },
     "execution_count": 226,
     "metadata": {},
     "output_type": "execute_result"
    }
   ],
   "source": [
    "y_err[30]"
   ]
  },
  {
   "cell_type": "code",
   "execution_count": 227,
   "id": "1df60090",
   "metadata": {},
   "outputs": [
    {
     "data": {
      "text/plain": [
       "131478.5"
      ]
     },
     "execution_count": 227,
     "metadata": {},
     "output_type": "execute_result"
    }
   ],
   "source": [
    "x_val[2099]"
   ]
  },
  {
   "cell_type": "code",
   "execution_count": 8,
   "id": "fd0df0bf",
   "metadata": {},
   "outputs": [
    {
     "ename": "NameError",
     "evalue": "name 'x_val' is not defined",
     "output_type": "error",
     "traceback": [
      "\u001b[0;31m---------------------------------------------------------------------------\u001b[0m",
      "\u001b[0;31mNameError\u001b[0m                                 Traceback (most recent call last)",
      "\u001b[0;32m<ipython-input-8-79201f8a06b3>\u001b[0m in \u001b[0;36m<module>\u001b[0;34m\u001b[0m\n\u001b[1;32m      6\u001b[0m \u001b[0;34m\u001b[0m\u001b[0m\n\u001b[1;32m      7\u001b[0m \u001b[0mplt\u001b[0m\u001b[0;34m.\u001b[0m\u001b[0mfigure\u001b[0m\u001b[0;34m(\u001b[0m\u001b[0;34m)\u001b[0m\u001b[0;34m\u001b[0m\u001b[0;34m\u001b[0m\u001b[0m\n\u001b[0;32m----> 8\u001b[0;31m \u001b[0mplt\u001b[0m\u001b[0;34m.\u001b[0m\u001b[0mplot\u001b[0m\u001b[0;34m(\u001b[0m\u001b[0mx_val\u001b[0m\u001b[0;34m,\u001b[0m\u001b[0my_val\u001b[0m\u001b[0;34m,\u001b[0m \u001b[0;34m'o'\u001b[0m\u001b[0;34m,\u001b[0m \u001b[0mcolor\u001b[0m\u001b[0;34m=\u001b[0m \u001b[0;34m'k'\u001b[0m\u001b[0;34m,\u001b[0m \u001b[0mlinewidth\u001b[0m\u001b[0;34m=\u001b[0m\u001b[0;36m0.000001\u001b[0m\u001b[0;34m,\u001b[0m \u001b[0mmarkersize\u001b[0m\u001b[0;34m=\u001b[0m\u001b[0;36m0.000001\u001b[0m\u001b[0;34m)\u001b[0m\u001b[0;34m\u001b[0m\u001b[0;34m\u001b[0m\u001b[0m\n\u001b[0m\u001b[1;32m      9\u001b[0m \u001b[0mplt\u001b[0m\u001b[0;34m.\u001b[0m\u001b[0merrorbar\u001b[0m\u001b[0;34m(\u001b[0m\u001b[0mx_val\u001b[0m\u001b[0;34m,\u001b[0m\u001b[0my_val\u001b[0m\u001b[0;34m,\u001b[0m \u001b[0myerr\u001b[0m\u001b[0;34m=\u001b[0m \u001b[0my_err\u001b[0m\u001b[0;34m,\u001b[0m \u001b[0mfmt\u001b[0m\u001b[0;34m=\u001b[0m\u001b[0;34m'o'\u001b[0m\u001b[0;34m,\u001b[0m \u001b[0mcapsize\u001b[0m\u001b[0;34m=\u001b[0m \u001b[0;36m0.001\u001b[0m\u001b[0;34m,\u001b[0m \u001b[0mcapthick\u001b[0m\u001b[0;34m=\u001b[0m \u001b[0;36m0.001\u001b[0m\u001b[0;34m,\u001b[0m \u001b[0mecolor\u001b[0m\u001b[0;34m=\u001b[0m\u001b[0;34m'k'\u001b[0m\u001b[0;34m)\u001b[0m\u001b[0;34m\u001b[0m\u001b[0;34m\u001b[0m\u001b[0m\n\u001b[1;32m     10\u001b[0m \u001b[0mplt\u001b[0m\u001b[0;34m.\u001b[0m\u001b[0mxlim\u001b[0m\u001b[0;34m(\u001b[0m\u001b[0;34m[\u001b[0m\u001b[0;36m150000\u001b[0m\u001b[0;34m,\u001b[0m\u001b[0;36m350000\u001b[0m\u001b[0;34m]\u001b[0m\u001b[0;34m)\u001b[0m\u001b[0;34m\u001b[0m\u001b[0;34m\u001b[0m\u001b[0m\n",
      "\u001b[0;31mNameError\u001b[0m: name 'x_val' is not defined"
     ]
    },
    {
     "data": {
      "text/plain": [
       "<Figure size 960x1280 with 0 Axes>"
      ]
     },
     "metadata": {},
     "output_type": "display_data"
    },
    {
     "data": {
      "text/plain": [
       "<Figure size 432x288 with 0 Axes>"
      ]
     },
     "metadata": {},
     "output_type": "display_data"
    }
   ],
   "source": [
    "import matplotlib.pylab as plt\n",
    "from matplotlib.pyplot import figure\n",
    "\n",
    "figure(figsize=(12, 16), dpi=80)\n",
    "\n",
    "\n",
    "plt.figure()\n",
    "plt.plot(x_val,y_val, 'o', color= 'k', linewidth=0.000001, markersize=0.000001)\n",
    "plt.errorbar(x_val,y_val, yerr= y_err, fmt='o', capsize= 0.001, capthick= 0.001, ecolor='k')\n",
    "plt.xlim([150000,350000])\n",
    "plt.ylim([0,3000000000])\n",
    "plt.show()"
   ]
  },
  {
   "cell_type": "code",
   "execution_count": 9,
   "id": "b20facd9",
   "metadata": {},
   "outputs": [],
   "source": [
    "from BlindersPy3 import Blinders\n",
    "from BlindersPy3 import FitType\n"
   ]
  },
  {
   "cell_type": "code",
   "execution_count": 10,
   "id": "336062bc",
   "metadata": {},
   "outputs": [
    {
     "name": "stdout",
     "output_type": "stream",
     "text": [
      " + ++++++++++++++++++++++++++++++++++++++++++++++++++++++++++++++++++++ +\n",
      " +                                                                      +\n",
      " +           You have chose to blind your fitting according to          +\n",
      " +                omega_ref * (1 + (R +/- deltaR) *10^{-6})             +\n",
      " +                                                                      +\n",
      " + ++++++++++++++++++++++++++++++++++++++++++++++++++++++++++++++++++++ +\n"
     ]
    }
   ],
   "source": [
    "getBlinded = Blinders(FitType.Omega_a, \"Ritwika's new  Blinding\")"
   ]
  },
  {
   "cell_type": "code",
   "execution_count": 11,
   "id": "6476a741",
   "metadata": {},
   "outputs": [],
   "source": [
    "def blinded_wiggle(x, p):\n",
    "    norm  = p[0]\n",
    "    life  = p[1]\n",
    "    asym  = p[2]\n",
    "    R     = p[3]\n",
    "    phi   = p[4]\n",
    "    \n",
    "    time  = x[0]\n",
    "    omega = 0.001*getBlinded.paramToFreq(R)\n",
    "#    omega = myBlinder.paramToFreq(R) unblind version\n",
    "    \n",
    "    return norm * exp(-time/life) * (1 + asym*cos(omega*time + phi))"
   ]
  },
  {
   "cell_type": "code",
   "execution_count": 12,
   "id": "cafe4fce",
   "metadata": {},
   "outputs": [],
   "source": [
    "func = ROOT.TF1(\"func\", blinded_wiggle, 30000,300000,5)\n",
    "func.SetParNames('N','tau','A','R','phi')\n",
    "func.SetParameters(5060000000,64420,0.23,0.0,2.16)\n",
    "func.SetLineColor(2)\n",
    "func.SetNpx(10000000)"
   ]
  },
  {
   "cell_type": "code",
   "execution_count": 13,
   "id": "021b2495",
   "metadata": {
    "scrolled": true
   },
   "outputs": [
    {
     "data": {
      "text/plain": [
       "<cppyy.gbl.TH1D object at 0x7747c60>"
      ]
     },
     "execution_count": 13,
     "metadata": {},
     "output_type": "execute_result"
    }
   ],
   "source": [
    "rawBinToNs = 1.25\n",
    "inject_time = 104800\n",
    "binwidth=hist.GetBinWidth(1)\n",
    "nbins=hist.GetNbinsX()\n",
    "binlowedge=hist.GetBinLowEdge(1)\n",
    "binhighedge=hist.GetBinLowEdge(nbins)+binwidth\n",
    "hist.SetBins(nbins, rawBinToNs*(binlowedge-inject_time), rawBinToNs*(binhighedge-inject_time));\n",
    "\n",
    "hist.Rebin(8)\n"
   ]
  },
  {
   "cell_type": "code",
   "execution_count": 21,
   "id": "6de37e10",
   "metadata": {},
   "outputs": [
    {
     "name": "stdout",
     "output_type": "stream",
     "text": [
      " FCN=59058.7 FROM MINOS     STATUS=SUCCESSFUL     36 CALLS         312 TOTAL\n",
      "                     EDM=7.75578e-15    STRATEGY= 1      ERROR MATRIX ACCURATE \n",
      "  EXT PARAMETER                                   STEP         FIRST   \n",
      "  NO.   NAME      VALUE            ERROR          SIZE      DERIVATIVE \n",
      "   1  N            5.28265e+09   3.41349e+05  -1.29535e+01   8.23215e-14\n",
      "   2  tau          6.44091e+04   2.50335e+00   3.39549e-05   1.82356e-09\n",
      "   3  A            2.27642e-01   4.56310e-05  -4.66306e-09   8.15121e-05\n",
      "   4  R           -2.99902e+01   2.57001e+00   1.87815e-06  -2.80414e-09\n",
      "   5  phi          2.21335e+00   3.94233e-04   3.94233e-04   8.96043e-05\n"
     ]
    },
    {
     "data": {
      "image/png": "[encoded data removed]",
      "text/plain": [
       "<IPython.core.display.Image object>"
      ]
     },
     "metadata": {},
     "output_type": "display_data"
    }
   ],
   "source": [
    "nbins\n",
    "hist.GetYaxis().SetRangeUser(0,4000000000)\n",
    "hist.GetXaxis().SetRangeUser(30000,300000)\n",
    "ROOT.gStyle.SetOptFit(1111)\n",
    "hist.Draw()\n",
    "hist.Fit('func','RE','',30000,300000)\n",
    "#func.Draw()\n",
    "c.Draw()"
   ]
  },
  {
   "cell_type": "code",
   "execution_count": 19,
   "id": "b3106874",
   "metadata": {},
   "outputs": [],
   "source": [
    "def fit_wiggle(\n",
    "    time: float,\n",
    "    norm: float = 1.0,\n",
    "    life: float = 1.0,\n",
    "    asym: float = 0.0,\n",
    "    R:    float = 0.0,\n",
    "    phi:  float = 0.0) -> float:\n",
    "\n",
    "    omega = getBlinded.paramToFreq(R)/1000.\n",
    "#    omega = myBlinder.paramToFreq(R) unblind version\n",
    "    \n",
    "    fit_val=norm * exp(-time/life) * (1 + asym*cos(omega*time + phi))\n",
    "    \n",
    "    return fit_val"
   ]
  },
  {
   "cell_type": "code",
   "execution_count": 15,
   "id": "42d3df6a",
   "metadata": {},
   "outputs": [
    {
     "name": "stdout",
     "output_type": "stream",
     "text": [
      "initial paramteres value:\n",
      " (5282650000.0, 64409.1, 0.227642, 0.0, 2.21335)\n"
     ]
    }
   ],
   "source": [
    "norm0  = 5.28265e+09\n",
    "life0  = 6.44091e+04\n",
    "asym0  = 2.27642e-01\n",
    "R0     = 0.0\n",
    "phi0   = 2.21335e+00\n",
    "#norm0  = 5.30000e+09\n",
    "#life0  = 6.40000e+04\n",
    "#asym0  = 2.3e-01\n",
    "#R0     = 0.0\n",
    "#phi0   = 2.20000e+00\n",
    "init_params=(norm0,life0,asym0,R0,phi0)\n",
    "print(\"initial paramteres value:\\n\",init_params)"
   ]
  },
  {
   "cell_type": "code",
   "execution_count": 16,
   "id": "570bca0a",
   "metadata": {},
   "outputs": [],
   "source": [
    "y_val=np.empty(hist.GetNbinsX())\n",
    "y_err=np.empty(hist.GetNbinsX())\n",
    "x_val=np.empty(hist.GetNbinsX())\n",
    "for ibin in range (0,hist.GetNbinsX()):\n",
    "  y_val[ibin]=hist.GetBinContent(ibin)\n",
    "  y_err[ibin]=hist.GetBinError(ibin)\n",
    "  x_val[ibin]=hist.GetBinCenter(ibin)"
   ]
  },
  {
   "cell_type": "code",
   "execution_count": 20,
   "id": "15f37a21",
   "metadata": {},
   "outputs": [
    {
     "name": "stderr",
     "output_type": "stream",
     "text": [
      "/home/ritwika/.local/lib/python3.6/site-packages/scipy/optimize/minpack.py:755: RuntimeWarning: divide by zero encountered in true_divide\n",
      "  transform = 1.0 / sigma\n",
      "/home/ritwika/.local/lib/python3.6/site-packages/scipy/optimize/minpack.py:829: OptimizeWarning: Covariance of the parameters could not be estimated\n",
      "  category=OptimizeWarning)\n"
     ]
    },
    {
     "data": {
      "image/png": "[encoded data removed]",
      "text/plain": [
       "<Figure size 432x288 with 1 Axes>"
      ]
     },
     "metadata": {
      "needs_background": "light"
     },
     "output_type": "display_data"
    }
   ],
   "source": [
    "import scipy.optimize as opt\n",
    "f3=np.vectorize(fit_wiggle)\n",
    "results,_=opt.curve_fit(fit_wiggle, x_val, y_val, p0=init_params, sigma=y_err)\n",
    "#results5,_=opt.curve_fit(fit_wiggle,x_val,y_val,p0=init_params,sigma=y_err)\n",
    "#fit_wiggle(init_params)\n",
    "#y=objective1(10, 5.28265e+09, 6.44091e+04, 2.27642e-01, 0.0, 2.21335e+00)\n",
    "#results\n",
    "plt.plot(x_val, fit_wiggle(x_val, *results), 'r-', label='fit')\n",
    "plt.xlabel('x')\n",
    "plt.ylabel('y')\n",
    "plt.legend()\n",
    "plt.show()"
   ]
  },
  {
   "cell_type": "code",
   "execution_count": 24,
   "id": "4852ff7d",
   "metadata": {},
   "outputs": [
    {
     "data": {
      "text/plain": [
       "2100"
      ]
     },
     "execution_count": 24,
     "metadata": {},
     "output_type": "execute_result"
    }
   ],
   "source": [
    "len(y_val)"
   ]
  },
  {
   "cell_type": "code",
   "execution_count": 25,
   "id": "59abdfdc",
   "metadata": {},
   "outputs": [
    {
     "data": {
      "text/plain": [
       "2100"
      ]
     },
     "execution_count": 25,
     "metadata": {},
     "output_type": "execute_result"
    }
   ],
   "source": [
    "len(y_err)"
   ]
  },
  {
   "cell_type": "code",
   "execution_count": 26,
   "id": "37e014af",
   "metadata": {},
   "outputs": [
    {
     "data": {
      "text/plain": [
       "2100"
      ]
     },
     "execution_count": 26,
     "metadata": {},
     "output_type": "execute_result"
    }
   ],
   "source": [
    "hist.GetNbinsX()"
   ]
  },
  {
   "cell_type": "code",
   "execution_count": 27,
   "id": "be941b08",
   "metadata": {},
   "outputs": [
    {
     "data": {
      "text/plain": [
       "2100"
      ]
     },
     "execution_count": 27,
     "metadata": {},
     "output_type": "execute_result"
    }
   ],
   "source": [
    "len(x_val)"
   ]
  },
  {
   "cell_type": "code",
   "execution_count": 29,
   "id": "ed2d1482",
   "metadata": {},
   "outputs": [
    {
     "name": "stderr",
     "output_type": "stream",
     "text": [
      "/home/ritwika/.local/lib/python3.6/site-packages/scipy/optimize/minpack.py:829: OptimizeWarning: Covariance of the parameters could not be estimated\n",
      "  category=OptimizeWarning)\n"
     ]
    }
   ],
   "source": [
    "popt, _ = opt.curve_fit(objective, x_values, y_values)"
   ]
  },
  {
   "cell_type": "code",
   "execution_count": 30,
   "id": "33c07006",
   "metadata": {},
   "outputs": [
    {
     "data": {
      "text/plain": [
       "array([ 2.00000000e+00, -2.18070006e-12,  1.00000000e+00])"
      ]
     },
     "execution_count": 30,
     "metadata": {},
     "output_type": "execute_result"
    }
   ],
   "source": [
    "popt"
   ]
  },
  {
   "cell_type": "code",
   "execution_count": 31,
   "id": "43fba5dd",
   "metadata": {},
   "outputs": [
    {
     "data": {
      "text/plain": [
       "array([[inf, inf, inf],\n",
       "       [inf, inf, inf],\n",
       "       [inf, inf, inf]])"
      ]
     },
     "execution_count": 31,
     "metadata": {},
     "output_type": "execute_result"
    }
   ],
   "source": [
    "_"
   ]
  },
  {
   "cell_type": "code",
   "execution_count": 35,
   "id": "2ad2faa3",
   "metadata": {},
   "outputs": [
    {
     "data": {
      "text/plain": [
       "array([-7.43649281e+04,  1.57624794e+10,  1.00000000e+00])"
      ]
     },
     "execution_count": 35,
     "metadata": {},
     "output_type": "execute_result"
    }
   ],
   "source": [
    "results"
   ]
  },
  {
   "cell_type": "code",
   "execution_count": null,
   "id": "54e77b35",
   "metadata": {},
   "outputs": [],
   "source": []
  }
 ],
 "metadata": {
  "kernelspec": {
   "display_name": "Python 3",
   "language": "python",
   "name": "python3"
  },
  "language_info": {
   "codemirror_mode": {
    "name": "ipython",
    "version": 3
   },
   "file_extension": ".py",
   "mimetype": "text/x-python",
   "name": "python",
   "nbconvert_exporter": "python",
   "pygments_lexer": "ipython3",
   "version": "3.6.9"
  }
 },
 "nbformat": 4,
 "nbformat_minor": 5
}
