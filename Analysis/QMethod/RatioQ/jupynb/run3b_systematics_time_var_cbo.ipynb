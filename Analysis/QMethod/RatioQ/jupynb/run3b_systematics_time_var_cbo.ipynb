{
 "cells": [
  {
   "cell_type": "code",
   "execution_count": 1,
   "id": "1b6cffdb",
   "metadata": {},
   "outputs": [
    {
     "name": "stdout",
     "output_type": "stream",
     "text": [
      "Welcome to JupyROOT 6.24/06\n"
     ]
    }
   ],
   "source": [
    "import numpy as np\n",
    "import ROOT\n",
    "from math import exp as expo\n",
    "from math import cos as cosine\n",
    "exp=np.vectorize(expo)\n",
    "cos=np.vectorize(cosine)\n",
    "import matplotlib.pylab as plt\n",
    "from matplotlib.pyplot import figure\n",
    "from BlindersPy3 import Blinders\n",
    "from BlindersPy3 import FitType\n",
    "import scipy.optimize as opt"
   ]
  },
  {
   "cell_type": "code",
   "execution_count": 2,
   "id": "740a700c",
   "metadata": {},
   "outputs": [],
   "source": [
    "file = ROOT.TFile.Open(\"run3b_Ta_2_start.root\")\n",
    "#direc = file.Get(\"QFillByFillAnalyzerDB\")\n",
    "hist = ROOT.TH1D()\n",
    "hist = file.Get(\"calo_histogram_sum_ratio\")\n",
    "hcov = ROOT.TH2D()\n",
    "hcov = file.Get(\"hcov\")"
   ]
  },
  {
   "cell_type": "code",
   "execution_count": 3,
   "id": "b3055fac",
   "metadata": {},
   "outputs": [
    {
     "name": "stdout",
     "output_type": "stream",
     "text": [
      " + ++++++++++++++++++++++++++++++++++++++++++++++++++++++++++++++++++++ +\n",
      " +                                                                      +\n",
      " +           You have chose to blind your fitting according to          +\n",
      " +                omega_ref * (1 + (R +/- deltaR) *10^{-6})             +\n",
      " +                                                                      +\n",
      " + ++++++++++++++++++++++++++++++++++++++++++++++++++++++++++++++++++++ +\n"
     ]
    }
   ],
   "source": [
    "getBlinded = Blinders(FitType.Omega_a, \"Ritwika's new  Blinding\")"
   ]
  },
  {
   "cell_type": "code",
   "execution_count": 4,
   "id": "cd76e7d8",
   "metadata": {},
   "outputs": [],
   "source": [
    "fit_start=32100\n",
    "fit_stop=305000\n",
    "fit_range=hist.FindBin(fit_stop)-hist.FindBin(fit_start)+1\n",
    "\n",
    "T_a_true=4365.411\n",
    "nbinshift=int((0.5*T_a_true)/hist.GetBinWidth(1))\n",
    "T_a=2*nbinshift*hist.GetBinWidth(1)\n",
    "\n",
    "y_val=np.empty(fit_range)\n",
    "y_err=np.empty(fit_range)\n",
    "x_val=np.empty(fit_range)\n",
    "\n",
    "for ibin in range (0,fit_range):\n",
    "    y_val[ibin]=hist.GetBinContent(ibin+hist.FindBin(fit_start))\n",
    "    y_err[ibin]=hist.GetBinError(ibin+hist.FindBin(fit_start))\n",
    "    x_val[ibin]=hist.GetBinCenter(ibin+hist.FindBin(fit_start))\n",
    "\n",
    "y_cov = np.empty(shape=(fit_range,fit_range))\n",
    "\n",
    "for irow in range (0, fit_range):\n",
    "      for icol in range(0, fit_range):\n",
    "            y_cov[irow][icol]=hcov.GetBinContent(irow+hist.FindBin(fit_start),icol+hist.FindBin(fit_start))"
   ]
  },
  {
   "cell_type": "code",
   "execution_count": 5,
   "id": "980f0e2a",
   "metadata": {},
   "outputs": [
    {
     "name": "stdout",
     "output_type": "stream",
     "text": [
      "8.584710680186347e-09\n"
     ]
    }
   ],
   "source": [
    "print(y_cov[0][0])\n",
    "mat=np.linalg.eigvalsh(y_cov)\n",
    "for irow in range (0, fit_range):\n",
    "    if mat[irow]<=0:\n",
    "        print(irow,\"\\n\")"
   ]
  },
  {
   "cell_type": "code",
   "execution_count": 6,
   "id": "9be710cc",
   "metadata": {},
   "outputs": [],
   "source": [
    "def fit_func(time: np.double,\n",
    "             asym: np.double = 0.0, \n",
    "             R: np.double = 0.0, \n",
    "             phi: np.double = 0.0,\n",
    "             asym_cbo = 0.0,\n",
    "             tau_cbo = 0.0,\n",
    "             omega_cbo = 0.0,\n",
    "             phi_cbo = 0.0,\n",
    "             asym_cbo_A = 0.0,\n",
    "             phi_cbo_A=0.0,\n",
    "             A_cbo_phi= 0.0,\n",
    "             phi_cbo_phi=0.0,\n",
    "             asym_vw= 0.0,\n",
    "             tau_vw = 0.0,\n",
    "             omega_vw = 0.0,\n",
    "             phi_vw = 0.0,\n",
    "             asym_vbo= 0.0,\n",
    "             tau_vbo = 0.0,\n",
    "             omega_vbo = 0.0,\n",
    "             phi_vbo = 0.0,\n",
    "             asym_2cbo= 0.0,\n",
    "             phi_2cbo = 0.0,\n",
    "             tau_rlx = 0.0,\n",
    "             A_cbovw = 0.0,\n",
    "             phi_cbovw = 0.0)-> np.double:\n",
    "    \n",
    "    tau_cbovw = 34200\n",
    "    omega_cbovw = 0.01204\n",
    "      \n",
    "     \n",
    "    Ncbo=(1 + asym_cbo*exp(-time/tau_cbo)*cos(omega_cbo*time - phi_cbo))\n",
    "    Ncbof=(1+ asym_cbo*exp(-(time + T_a/2)/tau_cbo)*cos(omega_cbo*(time + T_a/2) - phi_cbo))\n",
    "    Ncbob=(1+ asym_cbo*exp(-(time - T_a/2)/tau_cbo)*cos(omega_cbo*(time - T_a/2) - phi_cbo))\n",
    "    \n",
    "    Acbo=(1+ asym_cbo_A*exp(-time/tau_cbo)*cos(omega_cbo*time - phi_cbo_A));\n",
    "    Acbof=(1+ asym_cbo_A*exp(-(time + T_a/2)/tau_cbo)*cos(omega_cbo*(time + T_a/2) - phi_cbo_A))\n",
    "    Acbob=(1+ asym_cbo_A*exp(-(time - T_a/2)/tau_cbo)*cos(omega_cbo*(time - T_a/2) - phi_cbo_A))\n",
    "    \n",
    "    phicbo=(A_cbo_phi*exp(-time/tau_cbo)*cos(omega_cbo*time - phi_cbo_phi))\n",
    "    phicbof=(A_cbo_phi*exp(-(time + T_a/2)/tau_cbo)*cos(omega_cbo*(time + T_a/2) - phi_cbo_phi))\n",
    "    phicbob=(A_cbo_phi*exp(-(time - T_a/2)/tau_cbo)*cos(omega_cbo*(time - T_a/2) - phi_cbo_phi))\n",
    "    \n",
    "    Nvw=(1+ asym_vw*exp(-time/tau_vw)*cos(omega_vw*time - phi_vw))\n",
    "    Nvwf=(1+ asym_vw*exp(-(time + T_a/2)/tau_vw)*cos(omega_vw*(time + T_a/2) - phi_vw))\n",
    "    Nvwb=(1+ asym_vw*exp(-(time - T_a/2)/tau_vw)*cos(omega_vw*(time - T_a/2) - phi_vw))\n",
    "    \n",
    "    Nvbo=(1+ asym_vbo*exp(-time/tau_vbo)*cos(omega_vbo*time - phi_vbo))\n",
    "    Nvbof=(1+ asym_vbo*exp(-(time + T_a/2)/tau_vbo)*cos(omega_vbo*(time + T_a/2) - phi_vbo))\n",
    "    Nvbob=(1+ asym_vbo*exp(-(time - T_a/2)/tau_vbo)*cos(omega_vbo*(time - T_a/2) - phi_vbo))\n",
    "    \n",
    "    N2cbo=(asym_2cbo*exp(-2*time/tau_cbo)*cos(2*omega_cbo*time - phi_2cbo))\n",
    "    N2cbof=(asym_2cbo*exp(-2*(time + T_a/2)/tau_cbo)*cos(2*omega_cbo*(time + T_a/2) - phi_2cbo))\n",
    "    N2cbob=(asym_2cbo*exp(-2*(time - T_a/2)/tau_cbo)*cos(2*omega_cbo*(time - T_a/2) - phi_2cbo))\n",
    "    \n",
    "    Ncbovw=(1+ A_cbovw*exp(-time/tau_cbovw)*cos(omega_cbovw*time - phi_cbovw))\n",
    "    Ncbovwf=(1+ A_cbovw*exp(-(time + T_a/2)/tau_cbovw)*cos(omega_cbovw*(time + T_a/2) - phi_cbovw))\n",
    "    Ncbovwb=(1+ A_cbovw*exp(-(time - T_a/2)/tau_cbovw)*cos(omega_cbovw*(time - T_a/2) - phi_cbovw))\n",
    "\n",
    "    \n",
    "    Ncbo=Ncbo+N2cbo\n",
    "    Ncbof=Ncbof+N2cbof\n",
    "    Ncbob=Ncbob+N2cbob\n",
    "\n",
    "    \n",
    "    f=(1+ asym*exp(-time/tau_rlx)*Acbo*cos((getBlinded.paramToFreq(R)/1000.)*time - phi - phicbo))\n",
    "\n",
    "    ff=(1+ asym*exp(-(time+T_a/2)/tau_rlx)*Acbof*cos((getBlinded.paramToFreq(R)/1000.)*(time + T_a/2) - phi - phicbof))\n",
    "\n",
    "    fb=(1+ asym*exp(-(time-T_a/2)/tau_rlx)*Acbob*cos((getBlinded.paramToFreq(R)/1000.)*(time - T_a/2) - phi - phicbob))\n",
    "\n",
    "    \n",
    "    return (2*f*Ncbo*Nvw*Nvbo*Ncbovw - ff*Ncbof*Nvwf*Nvbof*Ncbovwf - fb*Ncbob*Nvwb*Nvbob*Ncbovwb)/(2*f*Ncbo*Nvw*Nvbo*Ncbovw + ff*Ncbof*Nvwf*Nvbof*Ncbovwf + fb*Ncbob*Nvwb*Nvbob*Ncbovwb)"
   ]
  },
  {
   "cell_type": "code",
   "execution_count": 7,
   "id": "1a4b85fc",
   "metadata": {},
   "outputs": [],
   "source": [
    "p_init=[0.2282,\n",
    "        0.000000,\n",
    "        4.02000e+00,\n",
    "        2.42604e-03,\n",
    "        204100,\n",
    "        2.331e-03,\n",
    "        2.500e+00,\n",
    "        0.0004,\n",
    "        3.1,\n",
    "        6.39026e-05,\n",
    "        3.5,\n",
    "        0.0007,\n",
    "        57300,\n",
    "        0.0139,\n",
    "        2.7,\n",
    "        0.0004,\n",
    "        19000,\n",
    "        0.01405,\n",
    "        1.9,\n",
    "        1.10668e-04,\n",
    "        3.06805,\n",
    "        7.7000e+08,\n",
    "        0.00014,\n",
    "        4.2]"
   ]
  },
  {
   "cell_type": "code",
   "execution_count": 8,
   "id": "ba616b79",
   "metadata": {},
   "outputs": [],
   "source": [
    "pars2, cov2 = opt.curve_fit(f=fit_func, xdata=x_val, ydata=y_val, p0=p_init, sigma=y_err)"
   ]
  },
  {
   "cell_type": "code",
   "execution_count": 9,
   "id": "5c8c7476",
   "metadata": {},
   "outputs": [],
   "source": [
    "p_init=pars2"
   ]
  },
  {
   "cell_type": "code",
   "execution_count": 10,
   "id": "2d9b568c",
   "metadata": {},
   "outputs": [],
   "source": [
    "pars_final, cov_final = opt.curve_fit(f=fit_func, xdata=x_val, ydata=y_val, p0=p_init, sigma=y_cov)"
   ]
  },
  {
   "cell_type": "code",
   "execution_count": 11,
   "id": "4fa5f1ce",
   "metadata": {},
   "outputs": [],
   "source": [
    "stdevs = np.sqrt(np.diag(cov_final))"
   ]
  },
  {
   "cell_type": "code",
   "execution_count": 12,
   "id": "9e7dea33",
   "metadata": {},
   "outputs": [
    {
     "name": "stdout",
     "output_type": "stream",
     "text": [
      "0.22824164961761012        +-   2.1418700773563937e-05   \n",
      "\n",
      "-33.975539246996355        +-   0.6162034852815675   \n",
      "\n",
      "3.9967119013732058        +-   9.517981370129617e-05   \n",
      "\n",
      "-0.0011397999643081198        +-   3.548204276298545e-05   \n",
      "\n",
      "206597.1359514754        +-   16362.578974703241   \n",
      "\n",
      "0.002331203972183627        +-   3.8194353715130773e-07   \n",
      "\n",
      "2.580512637161825        +-   0.030911253722114878   \n",
      "\n",
      "-0.00040184599958893675        +-   0.00010221376595032468   \n",
      "\n",
      "2.252046018915445        +-   0.2527038843360059   \n",
      "\n",
      "8.46407517734437e-05        +-   0.00010225596233584189   \n",
      "\n",
      "1.6099340395671389        +-   1.2140901322989848   \n",
      "\n",
      "-0.0005774006901239168        +-   8.671587111574459e-05   \n",
      "\n",
      "65687.74878163364        +-   10167.73944510369   \n",
      "\n",
      "0.013897951992850122        +-   2.363061293497946e-06   \n",
      "\n",
      "2.4917431560562733        +-   0.15083450534139115   \n",
      "\n",
      "0.0019733677941326452        +-   0.00036789816579737715   \n",
      "\n",
      "25764.55638171633        +-   2709.3323996564463   \n",
      "\n",
      "0.014042868409794027        +-   4.1134337506083265e-06   \n",
      "\n",
      "1.6010501413336613        +-   0.18854522830736883   \n",
      "\n",
      "3.297328792030291e-05        +-   2.2578078506029036e-05   \n",
      "\n",
      "3.675322241154477        +-   0.6835835476934207   \n",
      "\n",
      "544840505.9309006        +-   258584097.7150313   \n",
      "\n",
      "0.0006105130676797968        +-   0.0004048240481332179   \n",
      "\n",
      "-22.56642292301623        +-   0.6635244122800399   \n",
      "\n"
     ]
    }
   ],
   "source": [
    "for ipar in range(0,24):\n",
    "    print(pars_final[ipar],\"       +-  \",stdevs[ipar],\"  \\n\")"
   ]
  },
  {
   "cell_type": "code",
   "execution_count": 13,
   "id": "86f470e2",
   "metadata": {},
   "outputs": [
    {
     "data": {
      "text/plain": [
       "2.9305494505494507"
      ]
     },
     "execution_count": 13,
     "metadata": {},
     "output_type": "execute_result"
    }
   ],
   "source": [
    "# Calculate the residuals\n",
    "res = (y_val - fit_func(x_val, *pars_final))/y_err\n",
    "fou=abs(np.fft.fft(res))\n",
    "xfft=np.empty(fit_range)\n",
    "xfft= np.linspace(0,6.667,num=fit_range)\n",
    "xfft[800]"
   ]
  },
  {
   "cell_type": "code",
   "execution_count": 14,
   "id": "ec3552b1",
   "metadata": {},
   "outputs": [
    {
     "data": {
      "text/plain": [
       "0.9755857052572194"
      ]
     },
     "execution_count": 14,
     "metadata": {},
     "output_type": "execute_result"
    }
   ],
   "source": [
    "chi2=np.dot((np.transpose(y_val-fit_func(x_val, *pars_final))),(np.dot((np.linalg.inv(y_cov)),(y_val-fit_func(x_val, *pars_final)))))\n",
    "ndf=fit_range-len(pars_final)\n",
    "red_chi2=chi2/ndf\n",
    "red_chi2"
   ]
  },
  {
   "cell_type": "code",
   "execution_count": 15,
   "id": "39d83609",
   "metadata": {},
   "outputs": [],
   "source": [
    "def fit_func_cbot(time: np.double,\n",
    "             asym: np.double = 0.0, \n",
    "             R: np.double = 0.0, \n",
    "             phi: np.double = 0.0,\n",
    "             asym_cbo = 0.0,\n",
    "             tau_cbo = 0.0,\n",
    "             omega_cbo = 0.0,\n",
    "             phi_cbo = 0.0,\n",
    "             asym_cbo_A = 0.0,\n",
    "             phi_cbo_A=0.0,\n",
    "             A_cbo_phi= 0.0,\n",
    "             phi_cbo_phi=0.0,\n",
    "             asym_vw= 0.0,\n",
    "             tau_vw = 0.0,\n",
    "             omega_vw = 0.0,\n",
    "             phi_vw = 0.0,\n",
    "             asym_vbo= 0.0,\n",
    "             tau_vbo = 0.0,\n",
    "             omega_vbo = 0.0,\n",
    "             phi_vbo = 0.0,\n",
    "             asym_2cbo= 0.0,\n",
    "             phi_2cbo = 0.0,\n",
    "             tau_rlx = 0.0,\n",
    "             A_cbovw = 0.0,\n",
    "             phi_cbovw = 0.0,\n",
    "             A_cbot = 0.0)->np.double:\n",
    "             #tau_cbot = 0.0)-> np.double:\n",
    "            \n",
    "    #A_cbot=-0.006\n",
    "    tau_cbot=24400              \n",
    "    \n",
    "    tau_cbovw = 34200\n",
    "    omega_cbovw = 0.01204\n",
    "    \n",
    "    omega_cbot=omega_cbo*(1+A_cbot*exp(-time/tau_cbot))\n",
    "    omega_cbotf=omega_cbo*(1+A_cbot*exp(-(time+T_a/2)/tau_cbot))\n",
    "    omega_cbotb=omega_cbo*(1+A_cbot*exp(-(time-T_a/2)/tau_cbot))\n",
    "    \n",
    "    Ncbo=(1 + asym_cbo*exp(-time/tau_cbo)*cos(omega_cbot*time - phi_cbo))\n",
    "    Ncbof=(1+ asym_cbo*exp(-(time + T_a/2)/tau_cbo)*cos(omega_cbotf*(time + T_a/2) - phi_cbo))\n",
    "    Ncbob=(1+ asym_cbo*exp(-(time - T_a/2)/tau_cbo)*cos(omega_cbotb*(time - T_a/2) - phi_cbo))\n",
    "    \n",
    "    Acbo=(1+ asym_cbo_A*exp(-time/tau_cbo)*cos(omega_cbo*time - phi_cbo_A));\n",
    "    Acbof=(1+ asym_cbo_A*exp(-(time + T_a/2)/tau_cbo)*cos(omega_cbo*(time + T_a/2) - phi_cbo_A))\n",
    "    Acbob=(1+ asym_cbo_A*exp(-(time - T_a/2)/tau_cbo)*cos(omega_cbo*(time - T_a/2) - phi_cbo_A))\n",
    "    \n",
    "    phicbo=(A_cbo_phi*exp(-time/tau_cbo)*cos(omega_cbo*time - phi_cbo_phi))\n",
    "    phicbof=(A_cbo_phi*exp(-(time + T_a/2)/tau_cbo)*cos(omega_cbo*(time + T_a/2) - phi_cbo_phi))\n",
    "    phicbob=(A_cbo_phi*exp(-(time - T_a/2)/tau_cbo)*cos(omega_cbo*(time - T_a/2) - phi_cbo_phi))\n",
    "    \n",
    "    Nvw=(1+ asym_vw*exp(-time/tau_vw)*cos(omega_vw*time - phi_vw))\n",
    "    Nvwf=(1+ asym_vw*exp(-(time + T_a/2)/tau_vw)*cos(omega_vw*(time + T_a/2) - phi_vw))\n",
    "    Nvwb=(1+ asym_vw*exp(-(time - T_a/2)/tau_vw)*cos(omega_vw*(time - T_a/2) - phi_vw))\n",
    "    \n",
    "    Nvbo=(1+ asym_vbo*exp(-time/tau_vbo)*cos(omega_vbo*time - phi_vbo))\n",
    "    Nvbof=(1+ asym_vbo*exp(-(time + T_a/2)/tau_vbo)*cos(omega_vbo*(time + T_a/2) - phi_vbo))\n",
    "    Nvbob=(1+ asym_vbo*exp(-(time - T_a/2)/tau_vbo)*cos(omega_vbo*(time - T_a/2) - phi_vbo))\n",
    "    \n",
    "    N2cbo=(asym_2cbo*exp(-(2*time)/tau_cbo)*cos(2*omega_cbot*time - phi_2cbo))\n",
    "    N2cbof=(asym_2cbo*exp(-2*(time + T_a/2)/tau_cbo)*cos(2*omega_cbotf*(time + T_a/2) - phi_2cbo))\n",
    "    N2cbob=(asym_2cbo*exp(-2*(time - T_a/2)/tau_cbo)*cos(2*omega_cbotb*(time - T_a/2) - phi_2cbo))\n",
    "    \n",
    "    Ncbovw=(1+ A_cbovw*exp(-time/tau_cbovw)*cos(omega_cbovw*time - phi_cbovw))\n",
    "    Ncbovwf=(1+ A_cbovw*exp(-(time + T_a/2)/tau_cbovw)*cos(omega_cbovw*(time + T_a/2) - phi_cbovw))\n",
    "    Ncbovwb=(1+ A_cbovw*exp(-(time - T_a/2)/tau_cbovw)*cos(omega_cbovw*(time - T_a/2) - phi_cbovw))\n",
    "\n",
    "    \n",
    "    Ncbo=Ncbo+N2cbo\n",
    "    Ncbof=Ncbof+N2cbof\n",
    "    Ncbob=Ncbob+N2cbob\n",
    "\n",
    "    \n",
    "    f=(1+ asym*exp(-time/tau_rlx)*Acbo*cos((getBlinded.paramToFreq(R)/1000.)*time - phi - phicbo))\n",
    "\n",
    "    ff=(1+ asym*exp(-(time+T_a/2)/tau_rlx)*Acbof*cos((getBlinded.paramToFreq(R)/1000.)*(time + T_a/2) - phi - phicbof))\n",
    "\n",
    "    fb=(1+ asym*exp(-(time-T_a/2)/tau_rlx)*Acbob*cos((getBlinded.paramToFreq(R)/1000.)*(time - T_a/2) - phi - phicbob))\n",
    "\n",
    "    \n",
    "    return (2*f*Ncbo*Nvw*Nvbo*Ncbovw - ff*Ncbof*Nvwf*Nvbof*Ncbovwf - fb*Ncbob*Nvwb*Nvbob*Ncbovwb)/(2*f*Ncbo*Nvw*Nvbo*Ncbovw + ff*Ncbof*Nvwf*Nvbof*Ncbovwf + fb*Ncbob*Nvwb*Nvbob*Ncbovwb)"
   ]
  },
  {
   "cell_type": "code",
   "execution_count": 16,
   "id": "8386ef9d",
   "metadata": {},
   "outputs": [],
   "source": [
    "p_init_cbot=[0.2282,\n",
    "        0.000000,\n",
    "        4.02000e+00,\n",
    "        2.42604e-03,\n",
    "        204100,\n",
    "        2.331e-03,\n",
    "        2.500e+00,\n",
    "        0.0004,\n",
    "        3.1,\n",
    "        6.39026e-05,\n",
    "        3.5,\n",
    "        0.0007,\n",
    "        57300,\n",
    "        0.0139,\n",
    "        2.7,\n",
    "        0.0004,\n",
    "        19000,\n",
    "        0.01405,\n",
    "        1.9,\n",
    "        1.10668e-04,\n",
    "        3.06805,\n",
    "        7.7000e+08,\n",
    "        0.00014,\n",
    "        4.2,\n",
    "        -0.006]\n",
    "        #54000]"
   ]
  },
  {
   "cell_type": "code",
   "execution_count": 17,
   "id": "e21e9780",
   "metadata": {},
   "outputs": [],
   "source": [
    "pars3, cov3 = opt.curve_fit(f=fit_func_cbot, xdata=x_val, ydata=y_val, p0=p_init_cbot, sigma=y_err)"
   ]
  },
  {
   "cell_type": "code",
   "execution_count": 18,
   "id": "6922907a",
   "metadata": {},
   "outputs": [],
   "source": [
    "p_init_cbot_cbot=pars3"
   ]
  },
  {
   "cell_type": "code",
   "execution_count": 19,
   "id": "c06024a0",
   "metadata": {},
   "outputs": [],
   "source": [
    "pars_final_cbot, cov_final_cbot = opt.curve_fit(f=fit_func_cbot, xdata=x_val, ydata=y_val, p0=p_init_cbot, sigma=y_cov)"
   ]
  },
  {
   "cell_type": "code",
   "execution_count": 20,
   "id": "3ad76d5b",
   "metadata": {},
   "outputs": [
    {
     "name": "stdout",
     "output_type": "stream",
     "text": [
      "0.22824240196625614   +-   2.141841097971964e-05   \n",
      "\n",
      "-33.97558733768026   +-   0.6160321289386885   \n",
      "\n",
      "3.996712136606161   +-   9.515400926121868e-05   \n",
      "\n",
      "-0.0011398697540462926   +-   3.546047751033285e-05   \n",
      "\n",
      "206579.1030884061   +-   16350.53259791743   \n",
      "\n",
      "0.002332287367889598   +-   8.774638236898216e-07   \n",
      "\n",
      "2.744070434920724   +-   0.12117229328437891   \n",
      "\n",
      "-0.00040138286836077265   +-   0.0001021892822863238   \n",
      "\n",
      "2.325402806225628   +-   0.2579269955786849   \n",
      "\n",
      "9.20596405826615e-05   +-   0.0001022854049958807   \n",
      "\n",
      "1.692599459887812   +-   1.1172541262208338   \n",
      "\n",
      "-0.0005784382292448014   +-   8.695483065948295e-05   \n",
      "\n",
      "65550.96073712505   +-   10139.973802158685   \n",
      "\n",
      "0.013897925843462382   +-   2.3664617888624223e-06   \n",
      "\n",
      "2.4900947371366886   +-   0.15098124181580289   \n",
      "\n",
      "0.0019775907467112427   +-   0.0003690048210790647   \n",
      "\n",
      "25732.469777967348   +-   2705.4824293832626   \n",
      "\n",
      "0.014042803026870351   +-   4.118117306278727e-06   \n",
      "\n",
      "1.5975952586372626   +-   0.1887227852932084   \n",
      "\n",
      "3.339708816787551e-05   +-   2.258105805369585e-05   \n",
      "\n",
      "3.9702969232852836   +-   0.7118537869521303   \n",
      "\n",
      "537958987.0031258   +-   252061512.06928584   \n",
      "\n",
      "-0.0006096865061400957   +-   0.0004047606030003903   \n",
      "\n",
      "-6.8646321079695225   +-   0.6642375315688513   \n",
      "\n",
      "0.0075450359581697895   +-   0.005343282308442944   \n",
      "\n"
     ]
    }
   ],
   "source": [
    "stdevs_cbot = np.sqrt(np.diag(cov_final_cbot))\n",
    "for ipar in range(0,25):\n",
    "    print(pars_final_cbot[ipar],\"  +-  \",stdevs_cbot[ipar],\"  \\n\")"
   ]
  },
  {
   "cell_type": "code",
   "execution_count": 21,
   "id": "05163e64",
   "metadata": {},
   "outputs": [],
   "source": [
    "# Calculate the residuals\n",
    "res_cbot = (y_val - fit_func_cbot(x_val, *pars_final_cbot))/y_err"
   ]
  },
  {
   "cell_type": "code",
   "execution_count": 22,
   "id": "91176d03",
   "metadata": {},
   "outputs": [
    {
     "data": {
      "text/plain": [
       "2.9081788440567067"
      ]
     },
     "execution_count": 22,
     "metadata": {},
     "output_type": "execute_result"
    }
   ],
   "source": [
    "fou_cbot=abs(np.fft.fft(res))\n",
    "xfft_cbot= np.linspace(0,6.667,num=1835)\n",
    "xfft_cbot[800]"
   ]
  },
  {
   "cell_type": "code",
   "execution_count": 23,
   "id": "c80e5f7c",
   "metadata": {},
   "outputs": [],
   "source": [
    "chi2_cbot=np.dot((np.transpose(y_val-fit_func_cbot(x_val, *pars_final_cbot))),(np.dot((np.linalg.inv(y_cov)),(y_val-fit_func_cbot(x_val, *pars_final_cbot)))))"
   ]
  },
  {
   "cell_type": "code",
   "execution_count": 24,
   "id": "a7bf6841",
   "metadata": {},
   "outputs": [
    {
     "data": {
      "text/plain": [
       "0.9749777641361027"
      ]
     },
     "execution_count": 24,
     "metadata": {},
     "output_type": "execute_result"
    }
   ],
   "source": [
    "ndf=fit_range-len(pars_final_cbot)\n",
    "red_chi2=chi2_cbot/ndf\n",
    "red_chi2"
   ]
  },
  {
   "cell_type": "code",
   "execution_count": 25,
   "id": "61715caf",
   "metadata": {},
   "outputs": [
    {
     "data": {
      "text/plain": [
       "-4.809068390443372e-05"
      ]
     },
     "execution_count": 25,
     "metadata": {},
     "output_type": "execute_result"
    }
   ],
   "source": [
    "pars_final_cbot[1]-pars_final[1]"
   ]
  },
  {
   "cell_type": "code",
   "execution_count": null,
   "id": "e4af7ae5",
   "metadata": {},
   "outputs": [],
   "source": []
  },
  {
   "cell_type": "code",
   "execution_count": null,
   "id": "cd84687d",
   "metadata": {},
   "outputs": [],
   "source": []
  },
  {
   "cell_type": "code",
   "execution_count": null,
   "id": "c218050d",
   "metadata": {},
   "outputs": [],
   "source": []
  },
  {
   "cell_type": "code",
   "execution_count": null,
   "id": "f023ec20",
   "metadata": {},
   "outputs": [],
   "source": []
  }
 ],
 "metadata": {
  "kernelspec": {
   "display_name": "Python 3",
   "language": "python",
   "name": "python3"
  },
  "language_info": {
   "codemirror_mode": {
    "name": "ipython",
    "version": 3
   },
   "file_extension": ".py",
   "mimetype": "text/x-python",
   "name": "python",
   "nbconvert_exporter": "python",
   "pygments_lexer": "ipython3",
   "version": "3.6.9"
  }
 },
 "nbformat": 4,
 "nbformat_minor": 5
}
