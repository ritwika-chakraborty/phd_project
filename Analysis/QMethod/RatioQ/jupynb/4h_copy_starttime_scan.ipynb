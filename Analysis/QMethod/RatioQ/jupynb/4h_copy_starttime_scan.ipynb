{
 "cells": [
  {
   "cell_type": "code",
   "execution_count": 65,
   "id": "dacffc82",
   "metadata": {},
   "outputs": [],
   "source": [
    "import numpy as np\n",
    "import ROOT\n",
    "from math import exp as expo\n",
    "from math import cos as cosine\n",
    "exp=np.vectorize(expo)\n",
    "cos=np.vectorize(cosine)\n",
    "import matplotlib.pylab as plt\n",
    "from matplotlib.pyplot import figure\n",
    "from BlindersPy3 import Blinders\n",
    "from BlindersPy3 import FitType\n",
    "import scipy.optimize as opt"
   ]
  },
  {
   "cell_type": "code",
   "execution_count": 66,
   "id": "127e1e67",
   "metadata": {},
   "outputs": [],
   "source": [
    "file = ROOT.TFile.Open(\"4h_copy_ratio_FR.root\")\n",
    "#direc = file.Get(\"QFillByFillAnalyzerDB\")\n",
    "hist = ROOT.TH1D()\n",
    "hist = file.Get(\"calo_histogram_sum_ratio\")\n",
    "hcov = ROOT.TH2D()\n",
    "hcov = file.Get(\"hcov\")"
   ]
  },
  {
   "cell_type": "code",
   "execution_count": 67,
   "id": "0f793d17",
   "metadata": {},
   "outputs": [
    {
     "name": "stdout",
     "output_type": "stream",
     "text": [
      " + ++++++++++++++++++++++++++++++++++++++++++++++++++++++++++++++++++++ +\n",
      " +                                                                      +\n",
      " +           You have chose to blind your fitting according to          +\n",
      " +                omega_ref * (1 + (R +/- deltaR) *10^{-6})             +\n",
      " +                                                                      +\n",
      " + ++++++++++++++++++++++++++++++++++++++++++++++++++++++++++++++++++++ +\n"
     ]
    }
   ],
   "source": [
    "getBlinded = Blinders(FitType.Omega_a, \"Ritwika's new  Blinding\")"
   ]
  },
  {
   "cell_type": "code",
   "execution_count": 68,
   "id": "bddeb0cd",
   "metadata": {},
   "outputs": [],
   "source": [
    "fit_start=30000\n",
    "fit_stop=300000\n",
    "\n",
    "\n",
    "T_a_true=4365.411\n",
    "nbinshift=int((0.5*T_a_true)/hist.GetBinWidth(1))\n",
    "T_a=2*nbinshift*hist.GetBinWidth(1)\n",
    "\n",
    "rval=np.empty(75)\n",
    "drval=np.empty(75)\n",
    "fit_st=np.empty(75)\n",
    "kband2p=np.empty(75)\n",
    "kband2m=np.empty(75)"
   ]
  },
  {
   "cell_type": "code",
   "execution_count": 69,
   "id": "8f0adc1e",
   "metadata": {},
   "outputs": [],
   "source": [
    "def fit_func(time: np.double,\n",
    "             asym: np.double = 0.0, \n",
    "             R: np.double = 0.0, \n",
    "             phi: np.double = 0.0,\n",
    "             asym_cbo = 0.0,\n",
    "             tau_cbo = 0.0,\n",
    "             omega_cbo = 0.0,\n",
    "             phi_cbo = 0.0,\n",
    "             asym_cbo_A = 0.0,\n",
    "             phi_cbo_A=0.0,\n",
    "             A_cbo_phi= 0.0,\n",
    "             phi_cbo_phi=0.0,\n",
    "             asym_vw= 0.0,\n",
    "             tau_vw = 0.0,\n",
    "             omega_vw = 0.0,\n",
    "             phi_vw = 0.0,\n",
    "             asym_vbo= 0.0,\n",
    "             tau_vbo = 0.0,\n",
    "             omega_vbo = 0.0,\n",
    "             phi_vbo = 0.0,\n",
    "             asym_2cbo= 0.0,\n",
    "             tau_2cbo = 0.0,\n",
    "             omega_2cbo = 0.0,\n",
    "             phi_2cbo = 0.0)-> np.double:\n",
    "    \n",
    "    Ncbo=(1 + asym_cbo*exp(-time/tau_cbo)*cos(omega_cbo*time + phi_cbo))\n",
    "    Ncbof=(1+ asym_cbo*exp(-(time + T_a/2)/tau_cbo)*cos(omega_cbo*(time + T_a/2) + phi_cbo))\n",
    "    Ncbob=(1+ asym_cbo*exp(-(time - T_a/2)/tau_cbo)*cos(omega_cbo*(time - T_a/2) + phi_cbo))\n",
    "    Acbo=(1+ asym_cbo_A*exp(-time/tau_cbo)*cos(omega_cbo*time + phi_cbo_A));\n",
    "    Acbof=(1+ asym_cbo_A*exp(-(time + T_a/2)/tau_cbo)*cos(omega_cbo*(time + T_a/2) + phi_cbo_A))\n",
    "    Acbob=(1+ asym_cbo_A*exp(-(time - T_a/2)/tau_cbo)*cos(omega_cbo*(time - T_a/2) + phi_cbo_A))\n",
    "    phicbo=(A_cbo_phi*exp(-time/tau_cbo)*cos(omega_cbo*time + phi_cbo_phi))\n",
    "    phicbof=(A_cbo_phi*exp(-(time + T_a/2)/tau_cbo)*cos(omega_cbo*(time + T_a/2) + phi_cbo_phi))\n",
    "    phicbob=(A_cbo_phi*exp(-(time - T_a/2)/tau_cbo)*cos(omega_cbo*(time - T_a/2) + phi_cbo_phi))\n",
    "    Nvw=(1+ asym_vw*exp(-time/tau_vw)*cos(omega_vw*time + phi_vw))\n",
    "    Nvwf=(1+ asym_vw*exp(-(time + T_a/2)/tau_vw)*cos(omega_vw*(time + T_a/2) + phi_vw))\n",
    "    Nvwb=(1+ asym_vw*exp(-(time - T_a/2)/tau_vw)*cos(omega_vw*(time - T_a/2) + phi_vw))\n",
    "    Nvbo=(1+ asym_vbo*exp(-time/tau_vbo)*cos(omega_vbo*time + phi_vbo))\n",
    "    Nvbof=(1+ asym_vbo*exp(-(time + T_a/2)/tau_vbo)*cos(omega_vbo*(time + T_a/2) + phi_vbo))\n",
    "    Nvbob=(1+ asym_vbo*exp(-(time - T_a/2)/tau_vbo)*cos(omega_vbo*(time - T_a/2) + phi_vbo))\n",
    "    N2cbo=(asym_2cbo*exp(-time/tau_2cbo)*cos(omega_2cbo*time + phi_2cbo))\n",
    "    N2cbof=(asym_2cbo*exp(-(time + T_a/2)/tau_2cbo)*cos(omega_2cbo*(time + T_a/2) + phi_2cbo))\n",
    "    N2cbob=(asym_2cbo*exp(-(time - T_a/2)/tau_2cbo)*cos(omega_2cbo*(time - T_a/2) + phi_2cbo))\n",
    "    \n",
    "    Ncbo=Ncbo+N2cbo\n",
    "    Ncbof=Ncbof+N2cbof\n",
    "    Ncbob=Ncbob+N2cbob\n",
    "\n",
    "    \n",
    "    f=(1+ asym*Acbo*cos((getBlinded.paramToFreq(R)/1000.)*time + phi + phicbo))\n",
    "\n",
    "    ff=(1+ asym*Acbof*cos((getBlinded.paramToFreq(R)/1000.)*(time + T_a/2) + phi + phicbof))\n",
    "\n",
    "    fb=(1+ asym*Acbob*cos((getBlinded.paramToFreq(R)/1000.)*(time - T_a/2) + phi + phicbob))\n",
    "\n",
    "    \n",
    "    return (2*f*Ncbo*Nvw*Nvbo - ff*Ncbof*Nvwf*Nvbof - fb*Ncbob*Nvwb*Nvbob)/(2*f*Ncbo*Nvw*Nvbo + ff*Ncbof*Nvwf*Nvbof + fb*Ncbob*Nvwb*Nvbob)"
   ]
  },
  {
   "cell_type": "code",
   "execution_count": 70,
   "id": "988a7b09",
   "metadata": {},
   "outputs": [],
   "source": [
    "p_init=[2.28839e-01,\n",
    "        0.000000,\n",
    "        2.26873e+00,\n",
    "        2.42604e-03,\n",
    "        2.54062e+05,\n",
    "        2.34062e-03,\n",
    "        5.56481e-01,\n",
    "        6.91318e-04,\n",
    "        -5.78075e+00,\n",
    "        6.39026e-05,\n",
    "        3.52887e+01,\n",
    "        2.36536e-04,\n",
    "        1.38419e+05,\n",
    "        1.39311e-02,\n",
    "        2.73495e-01,\n",
    "        -1.00112e-03,\n",
    "        3.48295e+04,\n",
    "        1.40369e-02,\n",
    "        -1.99555e+01,\n",
    "        1.10668e-04,\n",
    "        1.70775e+05,\n",
    "        4.69116e-03,\n",
    "        3.06805e+00]"
   ]
  },
  {
   "cell_type": "code",
   "execution_count": 71,
   "id": "aa6f80d8",
   "metadata": {},
   "outputs": [
    {
     "name": "stdout",
     "output_type": "stream",
     "text": [
      "CPU times: user 9min 40s, sys: 2min 41s, total: 12min 22s\n",
      "Wall time: 9min 49s\n"
     ]
    }
   ],
   "source": [
    "%%time\n",
    "for ist in range (0,75):\n",
    "    fit_range=hist.FindBin(fit_stop)-hist.FindBin(fit_start)+1\n",
    "    y_val=np.empty(fit_range)\n",
    "    y_err=np.empty(fit_range)\n",
    "    x_val=np.empty(fit_range)\n",
    "    y_cov = np.empty(shape=(fit_range,fit_range))\n",
    "    \n",
    "    for ibin in range (0,fit_range):\n",
    "        y_val[ibin]=hist.GetBinContent(ibin+hist.FindBin(fit_start))\n",
    "        y_err[ibin]=hist.GetBinError(ibin+hist.FindBin(fit_start))\n",
    "        x_val[ibin]=hist.GetBinCenter(ibin+hist.FindBin(fit_start))\n",
    "        \n",
    "    for irow in range (0, fit_range):\n",
    "        for icol in range(0, fit_range):\n",
    "            y_cov[irow][icol]=hcov.GetBinContent(irow+hist.FindBin(fit_start),icol+hist.FindBin(fit_start))\n",
    "            \n",
    "    pars2, cov2 = opt.curve_fit(f=fit_func, xdata=x_val, ydata=y_val, p0=p_init, sigma=y_cov)  \n",
    "    \n",
    "    stdevs=np.sqrt(np.diag(cov2))\n",
    "    \n",
    "    fit_st[ist]=fit_start\n",
    "    rval[ist]=pars2[1]\n",
    "    drval[ist]=stdevs[1]\n",
    "    p_init=pars2  \n",
    "    fit_start=fit_start+1000"
   ]
  },
  {
   "cell_type": "code",
   "execution_count": 72,
   "id": "d8bdfea3",
   "metadata": {},
   "outputs": [
    {
     "data": {
      "image/png": "[encoded data removed]",
      "text/plain": [
       "<Figure size 576x216 with 1 Axes>"
      ]
     },
     "metadata": {
      "needs_background": "light"
     },
     "output_type": "display_data"
    }
   ],
   "source": [
    "plt.errorbar(fit_st, rval, yerr=drval, fmt=\"o\")\n",
    "plt.rcParams[\"figure.figsize\"] = (8,3)"
   ]
  },
  {
   "cell_type": "code",
   "execution_count": 73,
   "id": "ece99792",
   "metadata": {},
   "outputs": [
    {
     "data": {
      "text/plain": [
       "array([-44.54123379, -44.42840876, -44.41985899, -44.24941762,\n",
       "       -44.30869528, -44.32349783, -44.2948026 , -44.32027652,\n",
       "       -44.31681723, -44.37443833, -44.36705684, -44.35627867,\n",
       "       -44.40987459, -44.40390217, -44.45749773, -44.49134981,\n",
       "       -44.38656823, -44.29039338, -44.18387575, -44.27724839,\n",
       "       -44.36602656, -44.35809866, -44.4017708 , -44.25287396,\n",
       "       -44.15431526, -44.1109574 , -44.21386241, -44.28345573,\n",
       "       -44.31579438, -44.2512157 , -44.26268352, -44.30706906,\n",
       "       -44.34218353, -44.37740027, -44.32815232, -44.35337017,\n",
       "       -44.27754276, -44.26741048, -44.3073806 , -44.31327334,\n",
       "       -44.3664164 , -44.44720301, -44.21049855, -44.17734916,\n",
       "       -44.08306128, -43.97069915, -44.08441917, -43.8329345 ,\n",
       "       -43.76760762, -43.64401795, -43.57384391, -43.59056427,\n",
       "       -43.60561214, -43.59564297, -43.58920416, -43.47743389,\n",
       "       -43.36558543, -43.40772844, -43.52920307, -43.70041323,\n",
       "       -43.70288642, -43.85152741, -43.8950074 , -43.92264826,\n",
       "       -43.92333062, -43.90697378, -43.69584787, -43.76794951,\n",
       "       -43.94830783, -44.011885  , -44.10264939, -43.73354626,\n",
       "       -43.81836249, -43.66348164, -43.75422159])"
      ]
     },
     "execution_count": 73,
     "metadata": {},
     "output_type": "execute_result"
    }
   ],
   "source": [
    "rval"
   ]
  },
  {
   "cell_type": "code",
   "execution_count": 74,
   "id": "4a90d7a1",
   "metadata": {},
   "outputs": [
    {
     "data": {
      "text/plain": [
       "array([0.49664533, 0.50009684, 0.50235497, 0.50872636, 0.51027304,\n",
       "       0.51712874, 0.51851265, 0.52757658, 0.52955037, 0.53487478,\n",
       "       0.53978793, 0.5463452 , 0.55189673, 0.55536922, 0.56236956,\n",
       "       0.56413628, 0.57493635, 0.57548686, 0.5834287 , 0.58515998,\n",
       "       0.59541467, 0.59846271, 0.60437013, 0.60965122, 0.61460105,\n",
       "       0.62403879, 0.62746854, 0.6342915 , 0.63592204, 0.64852293,\n",
       "       0.65084279, 0.66117343, 0.66490443, 0.67460517, 0.68164342,\n",
       "       0.68830022, 0.69597946, 0.70019516, 0.7113522 , 0.71430528,\n",
       "       0.72535961, 0.72688559, 0.73884252, 0.74353661, 0.75396613,\n",
       "       0.7573733 , 0.76794841, 0.77628378, 0.78167938, 0.79145859,\n",
       "       0.79675576, 0.81084692, 0.81511496, 0.82708502, 0.8304385 ,\n",
       "       0.84532256, 0.8510226 , 0.86209816, 0.87117943, 0.88196808,\n",
       "       0.89479088, 0.90112531, 0.91152718, 0.91618804, 0.93346335,\n",
       "       0.93781667, 0.95137779, 0.95574471, 0.97500824, 0.98257203,\n",
       "       0.99564663, 1.00423299, 1.01300691, 1.03173437, 1.03737709])"
      ]
     },
     "execution_count": 74,
     "metadata": {},
     "output_type": "execute_result"
    }
   ],
   "source": [
    "drval"
   ]
  },
  {
   "cell_type": "code",
   "execution_count": 75,
   "id": "ffc99a20",
   "metadata": {},
   "outputs": [],
   "source": [
    "kband2p[0]=rval[0]\n",
    "kband2m[0]=rval[0]"
   ]
  },
  {
   "cell_type": "code",
   "execution_count": 76,
   "id": "34060d07",
   "metadata": {},
   "outputs": [],
   "source": [
    "for ist in range (1,75):\n",
    "    kband2p[ist]=kband2p[0]+np.sqrt(np.absolute(drval[ist]*drval[ist]-drval[0]*drval[0]))\n",
    "    kband2m[ist]=kband2m[0]-np.sqrt(np.absolute(drval[ist]*drval[ist]-drval[0]*drval[0]))"
   ]
  },
  {
   "cell_type": "code",
   "execution_count": 82,
   "id": "217ab291",
   "metadata": {},
   "outputs": [
    {
     "data": {
      "image/png": "[encoded data removed]",
      "text/plain": [
       "<Figure size 576x216 with 1 Axes>"
      ]
     },
     "metadata": {
      "needs_background": "light"
     },
     "output_type": "display_data"
    },
    {
     "data": {
      "text/plain": [
       "<Figure size 576x216 with 0 Axes>"
      ]
     },
     "metadata": {},
     "output_type": "display_data"
    }
   ],
   "source": [
    "plt.errorbar(fit_st, rval, yerr=drval, fmt=\"o\")\n",
    "plt.xlabel(\"fit start time [ns]\")\n",
    "plt.ylabel(\"blind R [ppm]\")\n",
    "plt.plot(fit_st, kband2p, linestyle='solid', linewidth=1, color='red')\n",
    "plt.plot(fit_st, kband2m, linestyle='solid', linewidth=1, color='red')\n",
    "plt.show()\n",
    "plt.rcParams[\"figure.figsize\"] = (8,3)\n",
    "plt.savefig('run2_starttime_4hist_copy_FR.png',dpi=300, bbox_inches='tight')"
   ]
  },
  {
   "cell_type": "code",
   "execution_count": null,
   "id": "5c2e54ad",
   "metadata": {},
   "outputs": [],
   "source": [
    "2"
   ]
  }
 ],
 "metadata": {
  "kernelspec": {
   "display_name": "Python 3",
   "language": "python",
   "name": "python3"
  },
  "language_info": {
   "codemirror_mode": {
    "name": "ipython",
    "version": 3
   },
   "file_extension": ".py",
   "mimetype": "text/x-python",
   "name": "python",
   "nbconvert_exporter": "python",
   "pygments_lexer": "ipython3",
   "version": "3.6.9"
  }
 },
 "nbformat": 4,
 "nbformat_minor": 5
}
