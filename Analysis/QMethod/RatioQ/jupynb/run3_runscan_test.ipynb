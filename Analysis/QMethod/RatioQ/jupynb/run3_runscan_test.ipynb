{
 "cells": [
  {
   "cell_type": "code",
   "execution_count": 1,
   "id": "77a6320d",
   "metadata": {},
   "outputs": [
    {
     "name": "stdout",
     "output_type": "stream",
     "text": [
      "Welcome to JupyROOT 6.24/06\n"
     ]
    }
   ],
   "source": [
    "import numpy as np\n",
    "import ROOT\n",
    "from math import exp as expo\n",
    "from math import cos as cosine\n",
    "from math import sin as sine\n",
    "sin=np.vectorize(sine)\n",
    "exp=np.vectorize(expo)\n",
    "cos=np.vectorize(cosine)\n",
    "import matplotlib.pylab as plt\n",
    "from matplotlib.pyplot import figure\n",
    "from BlindersPy3 import Blinders\n",
    "from BlindersPy3 import FitType\n",
    "import scipy.optimize as opt"
   ]
  },
  {
   "cell_type": "code",
   "execution_count": 2,
   "id": "b44a65f5",
   "metadata": {},
   "outputs": [],
   "source": [
    "file_1 = ROOT.TFile.Open(\"run3B_NE_305stop.root\")\n",
    "hist_1 = ROOT.TH1D()\n",
    "hcov_1 = ROOT.TH2D()\n",
    "hist_1 = file_1.Get(\"calo_histogram_sum_ratio\")\n",
    "hcov_1 = file_1.Get(\"hcov\")\n",
    "file_2 = ROOT.TFile.Open(\"run3C_NE_305stop.root\")\n",
    "hist_2 = ROOT.TH1D()\n",
    "hcov_2 = ROOT.TH2D()\n",
    "hist_2 = file_2.Get(\"calo_histogram_sum_ratio\")\n",
    "hcov_2 = file_2.Get(\"hcov\")\n",
    "file_3 = ROOT.TFile.Open(\"run3D_NE_305stop.root\")\n",
    "hist_3 = ROOT.TH1D()\n",
    "hcov_3 = ROOT.TH2D()\n",
    "hist_3 = file_3.Get(\"calo_histogram_sum_ratio\")\n",
    "hcov_3 = file_3.Get(\"hcov\")\n",
    "file_4 = ROOT.TFile.Open(\"run3E_NE_305stop.root\")\n",
    "hist_4 = ROOT.TH1D()\n",
    "hcov_4 = ROOT.TH2D()\n",
    "hist_4 = file_4.Get(\"calo_histogram_sum_ratio\")\n",
    "hcov_4 = file_4.Get(\"hcov\")\n",
    "file_5 = ROOT.TFile.Open(\"run3F_NE_305stop.root\")\n",
    "hist_5 = ROOT.TH1D()\n",
    "hcov_5 = ROOT.TH2D()\n",
    "hist_5 = file_5.Get(\"calo_histogram_sum_ratio\")\n",
    "hcov_5 = file_5.Get(\"hcov\")\n",
    "file_6 = ROOT.TFile.Open(\"run3G_NE_305stop.root\")\n",
    "hist_6 = ROOT.TH1D()\n",
    "hcov_6 = ROOT.TH2D()\n",
    "hist_6 = file_6.Get(\"calo_histogram_sum_ratio\")\n",
    "hcov_6 = file_6.Get(\"hcov\")\n",
    "file_7 = ROOT.TFile.Open(\"run3I_NE_305stop.root\")\n",
    "hist_7 = ROOT.TH1D()\n",
    "hcov_7 = ROOT.TH2D()\n",
    "hist_7 = file_7.Get(\"calo_histogram_sum_ratio\")\n",
    "hcov_7 = file_7.Get(\"hcov\")\n",
    "file_8 = ROOT.TFile.Open(\"run3J_NE_305stop.root\")\n",
    "hist_8 = ROOT.TH1D()\n",
    "hcov_8 = ROOT.TH2D()\n",
    "hist_8 = file_8.Get(\"calo_histogram_sum_ratio\")\n",
    "hcov_8 = file_8.Get(\"hcov\")\n",
    "file_9 = ROOT.TFile.Open(\"run3K_NE_305stop.root\")\n",
    "hist_9 = ROOT.TH1D()\n",
    "hcov_9 = ROOT.TH2D()\n",
    "hist_9 = file_9.Get(\"calo_histogram_sum_ratio\")\n",
    "hcov_9 = file_9.Get(\"hcov\")\n",
    "file_10 = ROOT.TFile.Open(\"run3L_NE_305stop.root\")\n",
    "hist_10 = ROOT.TH1D()\n",
    "hcov_10 = ROOT.TH2D()\n",
    "hist_10 = file_10.Get(\"calo_histogram_sum_ratio\")\n",
    "hcov_10 = file_10.Get(\"hcov\")\n",
    "file_11 = ROOT.TFile.Open(\"run3M_NE_305stop.root\")\n",
    "hist_11 = ROOT.TH1D()\n",
    "hcov_11 = ROOT.TH2D()\n",
    "hist_11 = file_11.Get(\"calo_histogram_sum_ratio\")\n",
    "hcov_11 = file_11.Get(\"hcov\")\n",
    "file_12 = ROOT.TFile.Open(\"run3N_NE_305stop.root\")\n",
    "hist_12 = ROOT.TH1D()\n",
    "hcov_12 = ROOT.TH2D()\n",
    "hist_12 = file_12.Get(\"calo_histogram_sum_ratio\")\n",
    "hcov_12 = file_12.Get(\"hcov\")\n",
    "file_13 = ROOT.TFile.Open(\"run3O_NE_305stop.root\")\n",
    "hist_13 = ROOT.TH1D()\n",
    "hcov_13 = ROOT.TH2D()\n",
    "hist_13 = file_13.Get(\"calo_histogram_sum_ratio\")\n",
    "hcov_13 = file_13.Get(\"hcov\")"
   ]
  },
  {
   "cell_type": "code",
   "execution_count": 3,
   "id": "3dc8e579",
   "metadata": {},
   "outputs": [],
   "source": [
    "fit_start=30000\n",
    "fit_stop=305000\n",
    "fit_range=hist_1.FindBin(fit_stop)-hist_1.FindBin(fit_start)+1\n",
    "y_val=np.empty(shape=(13,fit_range))\n",
    "y_err=np.empty(shape=(13,fit_range))\n",
    "x_val=np.empty(shape=(13,fit_range))\n",
    "y_cov=np.empty(shape=(13,fit_range,fit_range))  "
   ]
  },
  {
   "cell_type": "code",
   "execution_count": 4,
   "id": "ac3e125e",
   "metadata": {},
   "outputs": [
    {
     "name": "stdout",
     "output_type": "stream",
     "text": [
      "CPU times: user 1min 21s, sys: 18.3 s, total: 1min 40s\n",
      "Wall time: 1min 40s\n"
     ]
    }
   ],
   "source": [
    "%%time\n",
    "for ibin in range (0,fit_range):\n",
    "    y_val[0][ibin]=hist_1.GetBinContent(ibin+hist_1.FindBin(fit_start))\n",
    "    y_err[0][ibin]=hist_1.GetBinError(ibin+hist_1.FindBin(fit_start))\n",
    "    x_val[0][ibin]=hist_1.GetBinCenter(ibin+hist_1.FindBin(fit_start))\n",
    "\n",
    "for irow in range (0, fit_range):\n",
    "    for icol in range(0, fit_range):\n",
    "        y_cov[0][irow][icol]=hcov_1.GetBinContent(irow+hist_1.FindBin(fit_start),icol+hist_1.FindBin(fit_start))\n",
    "        \n",
    "\n",
    "for ibin in range (0,fit_range):\n",
    "    y_val[1][ibin]=hist_2.GetBinContent(ibin+hist_2.FindBin(fit_start))\n",
    "    y_err[1][ibin]=hist_2.GetBinError(ibin+hist_2.FindBin(fit_start))\n",
    "    x_val[1][ibin]=hist_2.GetBinCenter(ibin+hist_2.FindBin(fit_start))\n",
    "\n",
    "for irow in range (0, fit_range):\n",
    "    for icol in range(0, fit_range):\n",
    "        y_cov[1][irow][icol]=hcov_2.GetBinContent(irow+hist_2.FindBin(fit_start),icol+hist_2.FindBin(fit_start))\n",
    "        \n",
    "\n",
    "for ibin in range (0,fit_range):\n",
    "    y_val[2][ibin]=hist_3.GetBinContent(ibin+hist_3.FindBin(fit_start))\n",
    "    y_err[2][ibin]=hist_3.GetBinError(ibin+hist_3.FindBin(fit_start))\n",
    "    x_val[2][ibin]=hist_3.GetBinCenter(ibin+hist_3.FindBin(fit_start))\n",
    "\n",
    "for irow in range (0, fit_range):\n",
    "    for icol in range(0, fit_range):\n",
    "        y_cov[2][irow][icol]=hcov_3.GetBinContent(irow+hist_3.FindBin(fit_start),icol+hist_3.FindBin(fit_start))\n",
    "        \n",
    "\n",
    "for ibin in range (0,fit_range):\n",
    "    y_val[3][ibin]=hist_4.GetBinContent(ibin+hist_4.FindBin(fit_start))\n",
    "    y_err[3][ibin]=hist_4.GetBinError(ibin+hist_4.FindBin(fit_start))\n",
    "    x_val[3][ibin]=hist_4.GetBinCenter(ibin+hist_4.FindBin(fit_start))\n",
    "\n",
    "for irow in range (0, fit_range):\n",
    "    for icol in range(0, fit_range):\n",
    "        y_cov[3][irow][icol]=hcov_4.GetBinContent(irow+hist_4.FindBin(fit_start),icol+hist_4.FindBin(fit_start))\n",
    "        \n",
    "\n",
    "for ibin in range (0,fit_range):\n",
    "    y_val[4][ibin]=hist_5.GetBinContent(ibin+hist_5.FindBin(fit_start))\n",
    "    y_err[4][ibin]=hist_5.GetBinError(ibin+hist_5.FindBin(fit_start))\n",
    "    x_val[4][ibin]=hist_5.GetBinCenter(ibin+hist_5.FindBin(fit_start))\n",
    "\n",
    "for irow in range (0, fit_range):\n",
    "    for icol in range(0, fit_range):\n",
    "        y_cov[4][irow][icol]=hcov_5.GetBinContent(irow+hist_5.FindBin(fit_start),icol+hist_5.FindBin(fit_start))\n",
    "        \n",
    "\n",
    "for ibin in range (0,fit_range):\n",
    "    y_val[5][ibin]=hist_6.GetBinContent(ibin+hist_6.FindBin(fit_start))\n",
    "    y_err[5][ibin]=hist_6.GetBinError(ibin+hist_6.FindBin(fit_start))\n",
    "    x_val[5][ibin]=hist_6.GetBinCenter(ibin+hist_6.FindBin(fit_start))\n",
    "\n",
    "for irow in range (0, fit_range):\n",
    "    for icol in range(0, fit_range):\n",
    "        y_cov[5][irow][icol]=hcov_6.GetBinContent(irow+hist_6.FindBin(fit_start),icol+hist_6.FindBin(fit_start))\n",
    "\n",
    "\n",
    "for ibin in range (0,fit_range):\n",
    "    y_val[6][ibin]=hist_7.GetBinContent(ibin+hist_7.FindBin(fit_start))\n",
    "    y_err[6][ibin]=hist_7.GetBinError(ibin+hist_7.FindBin(fit_start))\n",
    "    x_val[6][ibin]=hist_7.GetBinCenter(ibin+hist_7.FindBin(fit_start))\n",
    "\n",
    "for irow in range (0, fit_range):\n",
    "    for icol in range(0, fit_range):\n",
    "        y_cov[6][irow][icol]=hcov_7.GetBinContent(irow+hist_7.FindBin(fit_start),icol+hist_7.FindBin(fit_start))\n",
    "        \n",
    "\n",
    "for ibin in range (0,fit_range):\n",
    "    y_val[7][ibin]=hist_8.GetBinContent(ibin+hist_8.FindBin(fit_start))\n",
    "    y_err[7][ibin]=hist_8.GetBinError(ibin+hist_8.FindBin(fit_start))\n",
    "    x_val[7][ibin]=hist_8.GetBinCenter(ibin+hist_8.FindBin(fit_start))\n",
    "\n",
    "for irow in range (0, fit_range):\n",
    "    for icol in range(0, fit_range):\n",
    "        y_cov[7][irow][icol]=hcov_8.GetBinContent(irow+hist_8.FindBin(fit_start),icol+hist_8.FindBin(fit_start))\n",
    "        \n",
    "\n",
    "for ibin in range (0,fit_range):\n",
    "    y_val[8][ibin]=hist_9.GetBinContent(ibin+hist_9.FindBin(fit_start))\n",
    "    y_err[8][ibin]=hist_9.GetBinError(ibin+hist_9.FindBin(fit_start))\n",
    "    x_val[8][ibin]=hist_9.GetBinCenter(ibin+hist_9.FindBin(fit_start))\n",
    "\n",
    "for irow in range (0, fit_range):\n",
    "    for icol in range(0, fit_range):\n",
    "        y_cov[8][irow][icol]=hcov_10.GetBinContent(irow+hist_10.FindBin(fit_start),icol+hist_10.FindBin(fit_start))\n",
    "        \n",
    "\n",
    "for ibin in range (0,fit_range):\n",
    "    y_val[9][ibin]=hist_10.GetBinContent(ibin+hist_10.FindBin(fit_start))\n",
    "    y_err[9][ibin]=hist_10.GetBinError(ibin+hist_10.FindBin(fit_start))\n",
    "    x_val[9][ibin]=hist_10.GetBinCenter(ibin+hist_10.FindBin(fit_start))\n",
    "\n",
    "for irow in range (0, fit_range):\n",
    "    for icol in range(0, fit_range):\n",
    "        y_cov[9][irow][icol]=hcov_10.GetBinContent(irow+hist_10.FindBin(fit_start),icol+hist_10.FindBin(fit_start))\n",
    "        \n",
    "\n",
    "for ibin in range (0,fit_range):\n",
    "    y_val[10][ibin]=hist_11.GetBinContent(ibin+hist_11.FindBin(fit_start))\n",
    "    y_err[10][ibin]=hist_11.GetBinError(ibin+hist_11.FindBin(fit_start))\n",
    "    x_val[10][ibin]=hist_11.GetBinCenter(ibin+hist_11.FindBin(fit_start))\n",
    "\n",
    "for irow in range (0, fit_range):\n",
    "    for icol in range(0, fit_range):\n",
    "        y_cov[10][irow][icol]=hcov_11.GetBinContent(irow+hist_11.FindBin(fit_start),icol+hist_11.FindBin(fit_start))\n",
    "        \n",
    "\n",
    "for ibin in range (0,fit_range):\n",
    "    y_val[11][ibin]=hist_12.GetBinContent(ibin+hist_12.FindBin(fit_start))\n",
    "    y_err[11][ibin]=hist_12.GetBinError(ibin+hist_12.FindBin(fit_start))\n",
    "    x_val[11][ibin]=hist_12.GetBinCenter(ibin+hist_12.FindBin(fit_start))\n",
    "\n",
    "for irow in range (0, fit_range):\n",
    "    for icol in range(0, fit_range):\n",
    "        y_cov[11][irow][icol]=hcov_12.GetBinContent(irow+hist_12.FindBin(fit_start),icol+hist_12.FindBin(fit_start))\n",
    "        \n",
    "        \n",
    "for ibin in range (0,fit_range):\n",
    "    y_val[12][ibin]=hist_13.GetBinContent(ibin+hist_13.FindBin(fit_start))\n",
    "    y_err[12][ibin]=hist_13.GetBinError(ibin+hist_13.FindBin(fit_start))\n",
    "    x_val[12][ibin]=hist_13.GetBinCenter(ibin+hist_13.FindBin(fit_start))\n",
    "\n",
    "for irow in range (0, fit_range):\n",
    "    for icol in range(0, fit_range):\n",
    "        y_cov[12][irow][icol]=hcov_13.GetBinContent(irow+hist_13.FindBin(fit_start),icol+hist_13.FindBin(fit_start))"
   ]
  },
  {
   "cell_type": "code",
   "execution_count": 5,
   "id": "bb2e9e33",
   "metadata": {},
   "outputs": [
    {
     "name": "stdout",
     "output_type": "stream",
     "text": [
      " + ++++++++++++++++++++++++++++++++++++++++++++++++++++++++++++++++++++ +\n",
      " +                                                                      +\n",
      " +           You have chose to blind your fitting according to          +\n",
      " +                omega_ref * (1 + (R +/- deltaR) *10^{-6})             +\n",
      " +                                                                      +\n",
      " + ++++++++++++++++++++++++++++++++++++++++++++++++++++++++++++++++++++ +\n"
     ]
    }
   ],
   "source": [
    "getBlinded = Blinders(FitType.Omega_a, \"Ritwika's new  Blinding\")"
   ]
  },
  {
   "cell_type": "code",
   "execution_count": 6,
   "id": "55ef9479",
   "metadata": {},
   "outputs": [],
   "source": [
    "T_a_true=4365.411\n",
    "nbinshift=int((0.5*T_a_true)/hist_2.GetBinWidth(1))\n",
    "T_a=2*nbinshift*hist_2.GetBinWidth(1)\n",
    "\n",
    "asym=np.empty(13)\n",
    "dasym=np.empty(13)\n",
    "rval=np.empty(13)\n",
    "drval=np.empty(13)\n",
    "phi=np.empty(13)\n",
    "dphi=np.empty(13)\n",
    "A_cbo=np.empty(13)\n",
    "dA_cbo=np.empty(13)\n",
    "tau_cbo=np.empty(13)\n",
    "dtau_cbo=np.empty(13)\n",
    "omega_cbo=np.empty(13)\n",
    "domega_cbo=np.empty(13)\n",
    "phi_cbo=np.empty(13)\n",
    "dphi_cbo=np.empty(13)\n",
    "A_cbo_A=np.empty(13)\n",
    "dA_cbo_A=np.empty(13)\n",
    "phi_cbo_A=np.empty(13)\n",
    "dphi_cbo_A=np.empty(13)\n",
    "A_cbo_phi=np.empty(13)\n",
    "dA_cbo_phi=np.empty(13)\n",
    "phi_cbo_phi=np.empty(13)\n",
    "dphi_cbo_phi=np.empty(13)\n",
    "A_vw=np.empty(13)\n",
    "dA_vw=np.empty(13)\n",
    "tau_vw=np.empty(13)\n",
    "dtau_vw=np.empty(13)\n",
    "omega_vw=np.empty(13)\n",
    "domega_vw=np.empty(13)\n",
    "phi_vw=np.empty(13)\n",
    "dphi_vw=np.empty(13)\n",
    "A_y=np.empty(13)\n",
    "dA_y=np.empty(13)\n",
    "tau_y=np.empty(13)\n",
    "dtau_y=np.empty(13)\n",
    "omega_y=np.empty(13)\n",
    "domega_y=np.empty(13)\n",
    "phi_y=np.empty(13)\n",
    "dphi_y=np.empty(13)\n",
    "A_2cbo=np.empty(13)\n",
    "dA_2cbo=np.empty(13)\n",
    "tau_2cbo=np.empty(13)\n",
    "dtau_2cbo=np.empty(13)\n",
    "omega_2cbo=np.empty(13)\n",
    "domega_2cbo=np.empty(13)\n",
    "phi_2cbo=np.empty(13)\n",
    "dphi_2cbo=np.empty(13)\n",
    "A_cbot=np.empty(13)\n",
    "dA_cbot=np.empty(13)\n",
    "calonum=np.empty(13)\n",
    "red_chi2=np.empty(13)\n"
   ]
  },
  {
   "cell_type": "code",
   "execution_count": 7,
   "id": "8400ebd9",
   "metadata": {},
   "outputs": [],
   "source": [
    "def fit_func3(time: np.double,\n",
    "              asym: np.double = 0.0, \n",
    "              R: np.double = 0.0, \n",
    "              phi: np.double = 0.0)-> np.double:\n",
    "    \n",
    "    f=(1+ asym*cos((getBlinded.paramToFreq(R)/1000.)*time - phi))\n",
    "\n",
    "    ff=(1+ asym*cos((getBlinded.paramToFreq(R)/1000.)*(time + T_a/2) - phi))\n",
    "\n",
    "    fb=(1+ asym*cos((getBlinded.paramToFreq(R)/1000.)*(time - T_a/2) - phi))\n",
    "\n",
    "    \n",
    "    return (2*f - ff - fb)/(2*f + ff + fb) "
   ]
  },
  {
   "cell_type": "code",
   "execution_count": 8,
   "id": "6d11b867",
   "metadata": {},
   "outputs": [],
   "source": [
    "def fit_func7(time: np.double,\n",
    "              asym: np.double = 0.0, \n",
    "              R: np.double = 0.0, \n",
    "              phi: np.double = 0.0,\n",
    "              asym_cbo = 0.0,\n",
    "              tau_cbo = 0.0,\n",
    "              omega_cbo = 0.0,\n",
    "              phi_cbo = 0.0)-> np.double:\n",
    "    \n",
    "    Ncbo=(1 + asym_cbo*exp(-time/tau_cbo)*cos(omega_cbo*time - phi_cbo))\n",
    "    Ncbof=(1+ asym_cbo*exp(-(time + T_a/2)/tau_cbo)*cos(omega_cbo*(time + T_a/2) - phi_cbo))\n",
    "    Ncbob=(1+ asym_cbo*exp(-(time - T_a/2)/tau_cbo)*cos(omega_cbo*(time - T_a/2) - phi_cbo))\n",
    "\n",
    "    f=(1+ asym*cos((getBlinded.paramToFreq(R)/1000.)*time - phi))\n",
    "\n",
    "    ff=(1+ asym*cos((getBlinded.paramToFreq(R)/1000.)*(time + T_a/2) - phi))\n",
    "\n",
    "    fb=(1+ asym*cos((getBlinded.paramToFreq(R)/1000.)*(time - T_a/2) - phi))\n",
    "\n",
    "    \n",
    "    return (2*f*Ncbo - ff*Ncbof - fb*Ncbob)/(2*f*Ncbo + ff*Ncbof + fb*Ncbob)"
   ]
  },
  {
   "cell_type": "code",
   "execution_count": 9,
   "id": "00823ae7",
   "metadata": {},
   "outputs": [],
   "source": [
    "def fit_func11(time: np.double,\n",
    "               asym: np.double = 0.0, \n",
    "               R: np.double = 0.0, \n",
    "               phi: np.double = 0.0,\n",
    "               asym_cbo = 0.0,\n",
    "               tau_cbo = 0.0,\n",
    "               omega_cbo = 0.0,\n",
    "               phi_cbo = 0.0,\n",
    "               asym_cbo_A = 0.0,\n",
    "               phi_cbo_A=0.0,\n",
    "               A_cbo_phi= 0.0,\n",
    "               phi_cbo_phi=0.0)-> np.double:\n",
    "    \n",
    "    Ncbo=(1 + asym_cbo*exp(-time/tau_cbo)*cos(omega_cbo*time - phi_cbo))\n",
    "    Ncbof=(1+ asym_cbo*exp(-(time + T_a/2)/tau_cbo)*cos(omega_cbo*(time + T_a/2) - phi_cbo))\n",
    "    Ncbob=(1+ asym_cbo*exp(-(time - T_a/2)/tau_cbo)*cos(omega_cbo*(time - T_a/2) - phi_cbo))\n",
    "    Acbo=(1+ asym_cbo_A*exp(-time/tau_cbo)*cos(omega_cbo*time - phi_cbo_A));\n",
    "    Acbof=(1+ asym_cbo_A*exp(-(time + T_a/2)/tau_cbo)*cos(omega_cbo*(time + T_a/2) - phi_cbo_A))\n",
    "    Acbob=(1+ asym_cbo_A*exp(-(time - T_a/2)/tau_cbo)*cos(omega_cbo*(time - T_a/2) - phi_cbo_A))\n",
    "    phicbo=(A_cbo_phi*exp(-time/tau_cbo)*cos(omega_cbo*time - phi_cbo_phi))\n",
    "    phicbof=(A_cbo_phi*exp(-(time + T_a/2)/tau_cbo)*cos(omega_cbo*(time + T_a/2) - phi_cbo_phi))\n",
    "    phicbob=(A_cbo_phi*exp(-(time - T_a/2)/tau_cbo)*cos(omega_cbo*(time - T_a/2) - phi_cbo_phi))\n",
    "\n",
    "\n",
    "    f=(1+ asym*Acbo*cos((getBlinded.paramToFreq(R)/1000.)*time - phi - phicbo))\n",
    "\n",
    "    ff=(1+ asym*Acbof*cos((getBlinded.paramToFreq(R)/1000.)*(time + T_a/2) - phi - phicbof))\n",
    "\n",
    "    fb=(1+ asym*Acbob*cos((getBlinded.paramToFreq(R)/1000.)*(time - T_a/2) - phi - phicbob))\n",
    "\n",
    "    \n",
    "    return (2*f*Ncbo - ff*Ncbof - fb*Ncbob)/(2*f*Ncbo + ff*Ncbof + fb*Ncbob)"
   ]
  },
  {
   "cell_type": "code",
   "execution_count": 10,
   "id": "46c11d82",
   "metadata": {},
   "outputs": [],
   "source": [
    "def fit_func15(time: np.double,\n",
    "               asym: np.double = 0.0, \n",
    "               R: np.double = 0.0, \n",
    "               phi: np.double = 0.0,\n",
    "               asym_cbo = 0.0,\n",
    "               tau_cbo = 0.0,\n",
    "               omega_cbo = 0.0,\n",
    "               phi_cbo = 0.0,\n",
    "               asym_cbo_A = 0.0,\n",
    "               phi_cbo_A=0.0,\n",
    "               A_cbo_phi= 0.0,\n",
    "               phi_cbo_phi=0.0,\n",
    "               asym_2cbo= 0.0,\n",
    "               phi_2cbo = 0.0)-> np.double:\n",
    "    \n",
    "    Ncbo=(1 + asym_cbo*exp(-time/tau_cbo)*cos(omega_cbo*time - phi_cbo))\n",
    "    Ncbof=(1+ asym_cbo*exp(-(time + T_a/2)/tau_cbo)*cos(omega_cbo*(time + T_a/2) - phi_cbo))\n",
    "    Ncbob=(1+ asym_cbo*exp(-(time - T_a/2)/tau_cbo)*cos(omega_cbo*(time - T_a/2) - phi_cbo))\n",
    "    Acbo=(1+ asym_cbo_A*exp(-time/tau_cbo)*cos(omega_cbo*time - phi_cbo_A));\n",
    "    Acbof=(1+ asym_cbo_A*exp(-(time + T_a/2)/tau_cbo)*cos(omega_cbo*(time + T_a/2) - phi_cbo_A))\n",
    "    Acbob=(1+ asym_cbo_A*exp(-(time - T_a/2)/tau_cbo)*cos(omega_cbo*(time - T_a/2) - phi_cbo_A))\n",
    "    phicbo=(A_cbo_phi*exp(-time/tau_cbo)*cos(omega_cbo*time - phi_cbo_phi))\n",
    "    phicbof=(A_cbo_phi*exp(-(time + T_a/2)/tau_cbo)*cos(omega_cbo*(time + T_a/2) - phi_cbo_phi))\n",
    "    phicbob=(A_cbo_phi*exp(-(time - T_a/2)/tau_cbo)*cos(omega_cbo*(time - T_a/2) - phi_cbo_phi))\n",
    "    N2cbo=(asym_2cbo*exp(-time/(tau_cbo/2))*cos(2*omega_cbo*time - phi_2cbo))\n",
    "    N2cbof=(asym_2cbo*exp(-(time + T_a/2)/(tau_cbo/2))*cos(2*omega_cbo*(time + T_a/2) - phi_2cbo))\n",
    "    N2cbob=(asym_2cbo*exp(-(time - T_a/2)/(tau_cbo/2))*cos(2*omega_cbo*(time - T_a/2) - phi_2cbo))\n",
    "\n",
    "    Ncbo=Ncbo+N2cbo\n",
    "    Ncbof=Ncbof+N2cbof\n",
    "    Ncbob=Ncbob+N2cbob\n",
    "\n",
    "    f=(1+ asym*Acbo*cos((getBlinded.paramToFreq(R)/1000.)*time - phi - phicbo))\n",
    "\n",
    "    ff=(1+ asym*Acbof*cos((getBlinded.paramToFreq(R)/1000.)*(time + T_a/2) - phi - phicbof))\n",
    "\n",
    "    fb=(1+ asym*Acbob*cos((getBlinded.paramToFreq(R)/1000.)*(time - T_a/2) - phi - phicbob))\n",
    "\n",
    "    \n",
    "    return (2*f*Ncbo - ff*Ncbof - fb*Ncbob)/(2*f*Ncbo + ff*Ncbof + fb*Ncbob)"
   ]
  },
  {
   "cell_type": "code",
   "execution_count": 11,
   "id": "6b76d9bc",
   "metadata": {},
   "outputs": [],
   "source": [
    "def fit_func19(time: np.double,\n",
    "               asym: np.double = 0.0, \n",
    "               R: np.double = 0.0, \n",
    "               phi: np.double = 0.0,\n",
    "               asym_cbo = 0.0,\n",
    "               tau_cbo = 0.0,\n",
    "               omega_cbo = 0.0,\n",
    "               phi_cbo = 0.0,\n",
    "               asym_cbo_A = 0.0,\n",
    "               phi_cbo_A=0.0,\n",
    "               A_cbo_phi= 0.0,\n",
    "               phi_cbo_phi=0.0,\n",
    "               asym_2cbo= 0.0,\n",
    "               phi_2cbo = 0.0,\n",
    "               asym_vw= 0.0,\n",
    "               phi_vw = 0.0)-> np.double:\n",
    "    \n",
    "    tau_vw = 85310\n",
    "    omega_vw = 0.013891\n",
    "\n",
    "    \n",
    "    Ncbo=(1 + asym_cbo*exp(-time/tau_cbo)*cos(omega_cbo*time - phi_cbo))\n",
    "    Ncbof=(1+ asym_cbo*exp(-(time + T_a/2)/tau_cbo)*cos(omega_cbo*(time + T_a/2) - phi_cbo))\n",
    "    Ncbob=(1+ asym_cbo*exp(-(time - T_a/2)/tau_cbo)*cos(omega_cbo*(time - T_a/2) - phi_cbo))\n",
    "    Acbo=(1+ asym_cbo_A*exp(-time/tau_cbo)*cos(omega_cbo*time - phi_cbo_A));\n",
    "    Acbof=(1+ asym_cbo_A*exp(-(time + T_a/2)/tau_cbo)*cos(omega_cbo*(time + T_a/2) - phi_cbo_A))\n",
    "    Acbob=(1+ asym_cbo_A*exp(-(time - T_a/2)/tau_cbo)*cos(omega_cbo*(time - T_a/2) - phi_cbo_A))\n",
    "    phicbo=(A_cbo_phi*exp(-time/tau_cbo)*cos(omega_cbo*time - phi_cbo_phi))\n",
    "    phicbof=(A_cbo_phi*exp(-(time + T_a/2)/tau_cbo)*cos(omega_cbo*(time + T_a/2) - phi_cbo_phi))\n",
    "    phicbob=(A_cbo_phi*exp(-(time - T_a/2)/tau_cbo)*cos(omega_cbo*(time - T_a/2) - phi_cbo_phi))\n",
    "    N2cbo=(asym_2cbo*exp(-time/(tau_cbo/2))*cos(2*omega_cbo*time - phi_2cbo))\n",
    "    N2cbof=(asym_2cbo*exp(-(time + T_a/2)/(tau_cbo/2))*cos(2*omega_cbo*(time + T_a/2) - phi_2cbo))\n",
    "    N2cbob=(asym_2cbo*exp(-(time - T_a/2)/(tau_cbo/2))*cos(2*omega_cbo*(time - T_a/2) - phi_2cbo))\n",
    "    Nvw=(1+ asym_vw*exp(-time/tau_vw)*cos(omega_vw*time - phi_vw))\n",
    "    Nvwf=(1+ asym_vw*exp(-(time + T_a/2)/tau_vw)*cos(omega_vw*(time + T_a/2) - phi_vw))\n",
    "    Nvwb=(1+ asym_vw*exp(-(time - T_a/2)/tau_vw)*cos(omega_vw*(time - T_a/2) - phi_vw))\n",
    "\n",
    "    \n",
    "    Ncbo=Ncbo+N2cbo\n",
    "    Ncbof=Ncbof+N2cbof\n",
    "    Ncbob=Ncbob+N2cbob\n",
    "\n",
    "    f=(1+ asym*Acbo*cos((getBlinded.paramToFreq(R)/1000.)*time - phi - phicbo))\n",
    "\n",
    "    ff=(1+ asym*Acbof*cos((getBlinded.paramToFreq(R)/1000.)*(time + T_a/2) - phi - phicbof))\n",
    "\n",
    "    fb=(1+ asym*Acbob*cos((getBlinded.paramToFreq(R)/1000.)*(time - T_a/2) - phi - phicbob))\n",
    "\n",
    "    \n",
    "    return (2*f*Ncbo*Nvw - ff*Ncbof*Nvwf - fb*Ncbob*Nvwb)/(2*f*Ncbo*Nvw + ff*Ncbof*Nvwf + fb*Ncbob*Nvwb)"
   ]
  },
  {
   "cell_type": "code",
   "execution_count": 12,
   "id": "ab5f16f6",
   "metadata": {},
   "outputs": [],
   "source": [
    "def fit_func23(time: np.double,\n",
    "               asym: np.double = 0.0, \n",
    "               R: np.double = 0.0, \n",
    "               phi: np.double = 0.0,\n",
    "               asym_cbo = 0.0,\n",
    "               tau_cbo = 0.0,\n",
    "               omega_cbo = 0.0,\n",
    "               phi_cbo = 0.0,\n",
    "               asym_cbo_A = 0.0,\n",
    "               phi_cbo_A=0.0,\n",
    "               A_cbo_phi= 0.0,\n",
    "               phi_cbo_phi=0.0,\n",
    "               asym_2cbo= 0.0,\n",
    "               phi_2cbo = 0.0,\n",
    "               asym_vw= 0.0,\n",
    "               phi_vw = 0.0,\n",
    "               asym_vbo= 0.0,\n",
    "               phi_vbo = 0.0)-> np.double:\n",
    "    \n",
    "    tau_vw = 85310\n",
    "    omega_vw = 0.013891\n",
    "    \n",
    "    tau_vbo = 15470\n",
    "    omega_vbo = 0.014094\n",
    "\n",
    "    \n",
    "    Ncbo=(1 + asym_cbo*exp(-time/tau_cbo)*cos(omega_cbo*time - phi_cbo))\n",
    "    Ncbof=(1+ asym_cbo*exp(-(time + T_a/2)/tau_cbo)*cos(omega_cbo*(time + T_a/2) - phi_cbo))\n",
    "    Ncbob=(1+ asym_cbo*exp(-(time - T_a/2)/tau_cbo)*cos(omega_cbo*(time - T_a/2) - phi_cbo))\n",
    "    Acbo=(1+ asym_cbo_A*exp(-time/tau_cbo)*cos(omega_cbo*time - phi_cbo_A));\n",
    "    Acbof=(1+ asym_cbo_A*exp(-(time + T_a/2)/tau_cbo)*cos(omega_cbo*(time + T_a/2) - phi_cbo_A))\n",
    "    Acbob=(1+ asym_cbo_A*exp(-(time - T_a/2)/tau_cbo)*cos(omega_cbo*(time - T_a/2) - phi_cbo_A))\n",
    "    phicbo=(A_cbo_phi*exp(-time/tau_cbo)*cos(omega_cbo*time - phi_cbo_phi))\n",
    "    phicbof=(A_cbo_phi*exp(-(time + T_a/2)/tau_cbo)*cos(omega_cbo*(time + T_a/2) - phi_cbo_phi))\n",
    "    phicbob=(A_cbo_phi*exp(-(time - T_a/2)/tau_cbo)*cos(omega_cbo*(time - T_a/2) - phi_cbo_phi))\n",
    "    N2cbo=(asym_2cbo*exp(-time/(tau_cbo/2))*cos(2*omega_cbo*time - phi_2cbo))\n",
    "    N2cbof=(asym_2cbo*exp(-(time + T_a/2)/(tau_cbo/2))*cos(2*omega_cbo*(time + T_a/2) - phi_2cbo))\n",
    "    N2cbob=(asym_2cbo*exp(-(time - T_a/2)/(tau_cbo/2))*cos(2*omega_cbo*(time - T_a/2) - phi_2cbo))\n",
    "    Nvw=(1+ asym_vw*exp(-time/tau_vw)*cos(omega_vw*time - phi_vw))\n",
    "    Nvwf=(1+ asym_vw*exp(-(time + T_a/2)/tau_vw)*cos(omega_vw*(time + T_a/2) - phi_vw))\n",
    "    Nvwb=(1+ asym_vw*exp(-(time - T_a/2)/tau_vw)*cos(omega_vw*(time - T_a/2) - phi_vw))\n",
    "    Nvbo=(1+ asym_vbo*exp(-time/tau_vbo)*cos(omega_vbo*time - phi_vbo))\n",
    "    Nvbof=(1+ asym_vbo*exp(-(time + T_a/2)/tau_vbo)*cos(omega_vbo*(time + T_a/2) - phi_vbo))\n",
    "    Nvbob=(1+ asym_vbo*exp(-(time - T_a/2)/tau_vbo)*cos(omega_vbo*(time - T_a/2) - phi_vbo))\n",
    "\n",
    "\n",
    "    \n",
    "    Ncbo=Ncbo+N2cbo\n",
    "    Ncbof=Ncbof+N2cbof\n",
    "    Ncbob=Ncbob+N2cbob\n",
    "\n",
    "    f=(1+ asym*Acbo*cos((getBlinded.paramToFreq(R)/1000.)*time - phi - phicbo))\n",
    "\n",
    "    ff=(1+ asym*Acbof*cos((getBlinded.paramToFreq(R)/1000.)*(time + T_a/2) - phi - phicbof))\n",
    "\n",
    "    fb=(1+ asym*Acbob*cos((getBlinded.paramToFreq(R)/1000.)*(time - T_a/2) - phi - phicbob))\n",
    "\n",
    "    \n",
    "    return (2*f*Ncbo*Nvw*Nvbo - ff*Ncbof*Nvwf*Nvbof - fb*Ncbob*Nvwb*Nvbob)/(2*f*Ncbo*Nvw*Nvbo + ff*Ncbof*Nvwf*Nvbof + fb*Ncbob*Nvwb*Nvbob)"
   ]
  },
  {
   "cell_type": "code",
   "execution_count": 13,
   "id": "d4a2b9c5",
   "metadata": {},
   "outputs": [],
   "source": [
    "def fit_func24(time: np.double,\n",
    "               asym: np.double = 0.0, \n",
    "               R: np.double = 0.0, \n",
    "               phi: np.double = 0.0,\n",
    "               asym_cbo = 0.0,\n",
    "               tau_cbo = 0.0,\n",
    "               omega_cbo = 0.0,\n",
    "               phi_cbo = 0.0,\n",
    "               asym_cbo_A = 0.0,\n",
    "               phi_cbo_A=0.0,\n",
    "               A_cbo_phi= 0.0,\n",
    "               phi_cbo_phi=0.0,\n",
    "               asym_2cbo= 0.0,\n",
    "               phi_2cbo = 0.0,\n",
    "               asym_vw= 0.0,\n",
    "               phi_vw = 0.0,\n",
    "               asym_vbo= 0.0,\n",
    "               phi_vbo = 0.0,\n",
    "               A_cbot = 0.0)-> np.double:\n",
    "    \n",
    "    \n",
    "    tau_vw = 85310\n",
    "    omega_vw = 0.013891\n",
    "    \n",
    "    tau_vbo = 15470\n",
    "    omega_vbo = 0.014094\n",
    "    \n",
    "    tau_cbot= 24200\n",
    "    \n",
    "    omega_cbot=omega_cbo*(1+A_cbot*exp(-time/tau_cbot))\n",
    "    omega_cbotf=omega_cbo*(1+A_cbot*exp(-(time+T_a/2)/tau_cbot))\n",
    "    omega_cbotb=omega_cbo*(1+A_cbot*exp(-(time-T_a/2)/tau_cbot))\n",
    "\n",
    "    \n",
    "    Ncbo=(1 + asym_cbo*exp(-time/tau_cbo)*cos(omega_cbot*time - phi_cbo))\n",
    "    Ncbof=(1+ asym_cbo*exp(-(time + T_a/2)/tau_cbo)*cos(omega_cbotf*(time + T_a/2) - phi_cbo))\n",
    "    Ncbob=(1+ asym_cbo*exp(-(time - T_a/2)/tau_cbo)*cos(omega_cbotb*(time - T_a/2) - phi_cbo))\n",
    "    \n",
    "    Acbo=(1+ asym_cbo_A*exp(-time/tau_cbo)*cos(omega_cbot*time - phi_cbo_A));\n",
    "    Acbof=(1+ asym_cbo_A*exp(-(time + T_a/2)/tau_cbo)*cos(omega_cbotf*(time + T_a/2) - phi_cbo_A))\n",
    "    Acbob=(1+ asym_cbo_A*exp(-(time - T_a/2)/tau_cbo)*cos(omega_cbotb*(time - T_a/2) - phi_cbo_A))\n",
    "    \n",
    "    phicbo=(A_cbo_phi*exp(-time/tau_cbo)*cos(omega_cbot*time - phi_cbo_phi))\n",
    "    phicbof=(A_cbo_phi*exp(-(time + T_a/2)/tau_cbo)*cos(omega_cbotf*(time + T_a/2) - phi_cbo_phi))\n",
    "    phicbob=(A_cbo_phi*exp(-(time - T_a/2)/tau_cbo)*cos(omega_cbotb*(time - T_a/2) - phi_cbo_phi))\n",
    "    \n",
    "    N2cbo=(asym_2cbo*exp(-time/(tau_cbo/2))*cos(2*omega_cbot*time - phi_2cbo))\n",
    "    N2cbof=(asym_2cbo*exp(-(time + T_a/2)/(tau_cbo/2))*cos(2*omega_cbotf*(time + T_a/2) - phi_2cbo))\n",
    "    N2cbob=(asym_2cbo*exp(-(time - T_a/2)/(tau_cbo/2))*cos(2*omega_cbotb*(time - T_a/2) - phi_2cbo))\n",
    "    \n",
    "    Nvw=(1+ asym_vw*exp(-time/tau_vw)*cos(omega_vw*time - phi_vw))\n",
    "    Nvwf=(1+ asym_vw*exp(-(time + T_a/2)/tau_vw)*cos(omega_vw*(time + T_a/2) - phi_vw))\n",
    "    Nvwb=(1+ asym_vw*exp(-(time - T_a/2)/tau_vw)*cos(omega_vw*(time - T_a/2) - phi_vw))\n",
    "    \n",
    "    Nvbo=(1+ asym_vbo*exp(-time/tau_vbo)*cos(omega_vbo*time - phi_vbo))\n",
    "    Nvbof=(1+ asym_vbo*exp(-(time + T_a/2)/tau_vbo)*cos(omega_vbo*(time + T_a/2) - phi_vbo))\n",
    "    Nvbob=(1+ asym_vbo*exp(-(time - T_a/2)/tau_vbo)*cos(omega_vbo*(time - T_a/2) - phi_vbo))\n",
    "\n",
    "\n",
    "    \n",
    "    Ncbo=Ncbo+N2cbo\n",
    "    Ncbof=Ncbof+N2cbof\n",
    "    Ncbob=Ncbob+N2cbob\n",
    "\n",
    "    f=(1+ asym*Acbo*cos((getBlinded.paramToFreq(R)/1000.)*time - phi - phicbo))\n",
    "\n",
    "    ff=(1+ asym*Acbof*cos((getBlinded.paramToFreq(R)/1000.)*(time + T_a/2) - phi - phicbof))\n",
    "\n",
    "    fb=(1+ asym*Acbob*cos((getBlinded.paramToFreq(R)/1000.)*(time - T_a/2) - phi - phicbob))\n",
    "\n",
    "    \n",
    "    return (2*f*Ncbo*Nvw*Nvbo - ff*Ncbof*Nvwf*Nvbof - fb*Ncbob*Nvwb*Nvbob)/(2*f*Ncbo*Nvw*Nvbo + ff*Ncbof*Nvwf*Nvbof + fb*Ncbob*Nvwb*Nvbob)"
   ]
  },
  {
   "cell_type": "code",
   "execution_count": 14,
   "id": "693f3ec2",
   "metadata": {},
   "outputs": [],
   "source": [
    "p_init3=[2.28839e-01,\n",
    "        0.000000,\n",
    "        4.02055e+00]"
   ]
  },
  {
   "cell_type": "code",
   "execution_count": 22,
   "id": "0c93ea6a",
   "metadata": {},
   "outputs": [],
   "source": [
    "p_init=[2.28839e-01,\n",
    "        0.000000,\n",
    "        4.02000e+00,\n",
    "        2.42604e-03,\n",
    "        2.54062e+05,\n",
    "        2.330e-03,\n",
    "        5.56481e-01,\n",
    "        6.91318e-04,\n",
    "        -5.78075e+00,\n",
    "        6.39026e-05,\n",
    "        3.52887e+01,\n",
    "        2.36536e-04,\n",
    "        #1.38419e+05,\n",
    "        #1.389e-02,\n",
    "        2.73495e-01,\n",
    "        -1.00112e-03,\n",
    "        #3.48295e+04,\n",
    "        #1.407e-02,\n",
    "        -1.99555e+01,\n",
    "        1.10668e-04,\n",
    "        3.06805e+00,\n",
    "        0.0047]"
   ]
  },
  {
   "cell_type": "code",
   "execution_count": 15,
   "id": "42d7ab1a",
   "metadata": {},
   "outputs": [
    {
     "name": "stdout",
     "output_type": "stream",
     "text": [
      "CPU times: user 8.92 s, sys: 2.44 s, total: 11.4 s\n",
      "Wall time: 6.05 s\n"
     ]
    }
   ],
   "source": [
    "%%time\n",
    "for icalo in range(8,9): \n",
    "    pars3, cov3 = opt.curve_fit(f=fit_func3, xdata=x_val[icalo], ydata=y_val[icalo], p0=p_init3, sigma=y_err[icalo]) \n",
    "    \n",
    "    p_init7=[pars3[0],\n",
    "             pars3[1],\n",
    "             pars3[2],\n",
    "             0.02,\n",
    "             228960,\n",
    "             0.002329,\n",
    "             0.5]\n",
    "    \n",
    "    pars7, cov7 = opt.curve_fit(f=fit_func7, xdata=x_val[icalo], ydata=y_val[icalo], p0=p_init7, sigma=y_err[icalo])\n",
    "    \n",
    "    p_init11=[pars7[0],\n",
    "              pars7[1],\n",
    "              pars7[2],\n",
    "              pars7[3],\n",
    "              pars7[4],\n",
    "              pars7[5],\n",
    "              pars7[6],\n",
    "              0.02,\n",
    "              1.1,\n",
    "              0.003,\n",
    "              1.2]\n",
    "    \n",
    "    pars11, cov11 = opt.curve_fit(f=fit_func11, xdata=x_val[icalo], ydata=y_val[icalo], p0=p_init11, sigma=y_err[icalo])\n",
    "    \n",
    "    p_init15=[pars11[0],\n",
    "              pars11[1],\n",
    "              pars11[2],\n",
    "              pars11[3],\n",
    "              pars11[4],\n",
    "              pars11[5],\n",
    "              pars11[6],\n",
    "              pars11[7],\n",
    "              pars11[8],\n",
    "              pars11[9],\n",
    "              pars11[10],\n",
    "              0.001,\n",
    "              0.3]\n",
    "    \n",
    "    pars15, cov15 = opt.curve_fit(f=fit_func15, xdata=x_val[icalo], ydata=y_val[icalo], p0=p_init15, sigma=y_err[icalo])\n",
    "\n",
    "    p_init19=[pars15[0],\n",
    "              pars15[1],\n",
    "              pars15[2],\n",
    "              pars15[3],\n",
    "              pars15[4],\n",
    "              pars15[5],\n",
    "              pars15[6],\n",
    "              pars15[7],\n",
    "              pars15[8],\n",
    "              pars15[9],\n",
    "              pars15[10],\n",
    "              pars15[11],\n",
    "              pars15[12],\n",
    "              0.0005,\n",
    "              3.5]\n",
    "    \n",
    "    pars19, cov19 = opt.curve_fit(f=fit_func19, xdata=x_val[icalo], ydata=y_val[icalo], p0=p_init19, sigma=y_err[icalo])\n",
    "\n",
    "    p_init23=[pars19[0],\n",
    "              pars19[1],\n",
    "              pars19[2],\n",
    "              pars19[3],\n",
    "              pars19[4],\n",
    "              pars19[5],\n",
    "              pars19[6],\n",
    "              pars19[7],\n",
    "              pars19[8],\n",
    "              pars19[9],\n",
    "              pars19[10],\n",
    "              pars19[11],\n",
    "              pars19[12],\n",
    "              pars19[13],\n",
    "              pars19[14],\n",
    "              0.001,\n",
    "              4.2]\n",
    "    \n",
    "    pars23, cov23 = opt.curve_fit(f=fit_func23, xdata=x_val[icalo], ydata=y_val[icalo], p0=p_init23, sigma=y_err[icalo])\n",
    "    \n",
    "    p_init24=[pars23[0],\n",
    "              pars23[1],\n",
    "              pars23[2],\n",
    "              pars23[3],\n",
    "              pars23[4],\n",
    "              pars23[5],\n",
    "              pars23[6],\n",
    "              pars23[7],\n",
    "              pars23[8],\n",
    "              pars23[9],\n",
    "              pars23[10],\n",
    "              pars23[11],\n",
    "              pars23[12],\n",
    "              pars23[13],\n",
    "              pars23[14],\n",
    "              pars23[15],\n",
    "              pars23[16],\n",
    "              #-0.002\n",
    "              0.006]\n",
    "              #16400]\n",
    "    \n",
    "    pars24, cov24 = opt.curve_fit(f=fit_func24, xdata=x_val[icalo], ydata=y_val[icalo], p0=p_init24, sigma=y_err[icalo])\n",
    "\n",
    "\n",
    "    p_init_final=pars24\n",
    "    \n",
    "    pars2, cov_final = opt.curve_fit(f=fit_func24, xdata=x_val[icalo], ydata=y_val[icalo], p0=p_init_final, sigma=y_cov[icalo])\n",
    "    \n",
    "    \n",
    "    stdevs=np.sqrt(np.diag(cov_final))\n",
    "    \n",
    "    chi2=np.dot((np.transpose(y_val[icalo]-fit_func24(x_val[icalo], *pars2))),(np.dot((np.linalg.inv(y_cov[icalo])),(y_val[icalo]-fit_func24(x_val[icalo], *pars2)))))\n",
    "    red_chi2[icalo]=chi2/(fit_range-len(pars2))\n",
    "    calonum[icalo]=icalo+1\n",
    "    \n",
    "    asym[icalo]=pars2[0]\n",
    "    dasym[icalo]=stdevs[0]\n",
    "    rval[icalo]=pars2[1]\n",
    "    drval[icalo]=stdevs[1]\n",
    "    phi[icalo]=pars2[2]\n",
    "    dphi[icalo]=stdevs[2]\n",
    "    A_cbo[icalo]=pars2[3]\n",
    "    dA_cbo[icalo]=stdevs[3]\n",
    "    tau_cbo[icalo]=pars2[4]\n",
    "    dtau_cbo[icalo]=stdevs[4]\n",
    "    omega_cbo[icalo]=pars2[5]\n",
    "    domega_cbo[icalo]=stdevs[5]\n",
    "    phi_cbo[icalo]=pars2[6]\n",
    "    dphi_cbo[icalo]=stdevs[6]\n",
    "    A_cbo_A[icalo]=pars2[7]\n",
    "    dA_cbo_A[icalo]=stdevs[7]\n",
    "    phi_cbo_A[icalo]=pars2[8]\n",
    "    dphi_cbo_A[icalo]=stdevs[8]\n",
    "    A_cbo_phi[icalo]=pars2[9]\n",
    "    dA_cbo_phi[icalo]=stdevs[9]\n",
    "    phi_cbo_phi[icalo]=pars2[10]\n",
    "    dphi_cbo_phi[icalo]=stdevs[10]\n",
    "    A_2cbo[icalo]=pars2[11]\n",
    "    dA_2cbo[icalo]=stdevs[11]\n",
    "    phi_2cbo[icalo]=pars2[12]\n",
    "    dphi_2cbo[icalo]=stdevs[12]\n",
    "    A_y[icalo]=pars2[13]\n",
    "    dA_y[icalo]=stdevs[13]\n",
    "    phi_y[icalo]=pars2[14]\n",
    "    dphi_y[icalo]=stdevs[14]\n",
    "    A_vw[icalo]=pars2[15]\n",
    "    dA_vw[icalo]=stdevs[15]\n",
    "    phi_vw[icalo]=pars2[16]\n",
    "    dphi_vw[icalo]=stdevs[16]\n",
    "    A_cbot[icalo]=pars2[17]    \n",
    "    dA_cbot[icalo]=stdevs[17]"
   ]
  },
  {
   "cell_type": "code",
   "execution_count": 23,
   "id": "acd196e3",
   "metadata": {},
   "outputs": [],
   "source": [
    "for icalo in range(8,9):\n",
    "    pars24, cov24 = opt.curve_fit(f=fit_func24, xdata=x_val[icalo], ydata=y_val[icalo], p0=p_init, sigma=y_err[icalo])\n",
    "\n",
    "\n",
    "    p_init_final=pars24\n",
    "    \n",
    "    pars2, cov_final = opt.curve_fit(f=fit_func24, xdata=x_val[icalo], ydata=y_val[icalo], p0=p_init_final, sigma=y_cov[icalo])\n",
    "    \n",
    "    \n",
    "    stdevs=np.sqrt(np.diag(cov_final))\n",
    "    \n",
    "    chi2=np.dot((np.transpose(y_val[icalo]-fit_func24(x_val[icalo], *pars2))),(np.dot((np.linalg.inv(y_cov[icalo])),(y_val[icalo]-fit_func24(x_val[icalo], *pars2)))))\n",
    "    red_chi2[icalo]=chi2/(fit_range-len(pars2))\n",
    "    calonum[icalo]=icalo+1\n",
    "    \n",
    "    asym[icalo]=pars2[0]\n",
    "    dasym[icalo]=stdevs[0]\n",
    "    rval[icalo]=pars2[1]\n",
    "    drval[icalo]=stdevs[1]\n",
    "    phi[icalo]=pars2[2]\n",
    "    dphi[icalo]=stdevs[2]"
   ]
  },
  {
   "cell_type": "code",
   "execution_count": 24,
   "id": "06e6e89e",
   "metadata": {},
   "outputs": [
    {
     "data": {
      "text/plain": [
       "1262.3960143388094"
      ]
     },
     "execution_count": 24,
     "metadata": {},
     "output_type": "execute_result"
    }
   ],
   "source": [
    "chi2"
   ]
  },
  {
   "cell_type": "code",
   "execution_count": 16,
   "id": "6b117795",
   "metadata": {},
   "outputs": [
    {
     "data": {
      "text/plain": [
       "array([3.08116134e-05, 1.70375171e+00, 2.59559575e-04, 9.27881550e-05,\n",
       "       2.98740023e+04, 1.56490243e-06, 2.15048557e-01, 2.76819556e-04,\n",
       "       5.88381863e-01, 2.77329403e-04, 6.29354049e+00, 6.09930507e-05,\n",
       "       7.56001199e-01, 5.95963710e-05, 2.15994920e-01, 5.14147159e-04,\n",
       "       1.03695596e-01, 9.50967449e-03])"
      ]
     },
     "execution_count": 16,
     "metadata": {},
     "output_type": "execute_result"
    }
   ],
   "source": [
    "stdevs"
   ]
  },
  {
   "cell_type": "code",
   "execution_count": 17,
   "id": "dde0c359",
   "metadata": {
    "scrolled": false
   },
   "outputs": [
    {
     "data": {
      "image/png": "[encoded data removed]",
      "text/plain": [
       "<Figure size 1080x576 with 1 Axes>"
      ]
     },
     "metadata": {
      "needs_background": "light"
     },
     "output_type": "display_data"
    }
   ],
   "source": [
    "plt.figure(figsize=(15,8))\n",
    "plt.rc('xtick', labelsize=20) \n",
    "plt.rc('ytick', labelsize=20) \n",
    "plt.errorbar(calonum, rval, yerr=drval, fmt=\"o\")\n",
    "plt.xlabel('Run',fontsize=25)\n",
    "plt.ylabel('R [ppm]',fontsize=25)\n",
    "plt.show()\n",
    "#plt.savefig('run2_caloscan_R.jpg')"
   ]
  },
  {
   "cell_type": "code",
   "execution_count": 18,
   "id": "0fab15be",
   "metadata": {},
   "outputs": [
    {
     "data": {
      "image/png": "[encoded data removed]",
      "text/plain": [
       "<Figure size 864x576 with 1 Axes>"
      ]
     },
     "metadata": {
      "needs_background": "light"
     },
     "output_type": "display_data"
    }
   ],
   "source": [
    "plt.figure(figsize=(12,8))\n",
    "plt.rc('xtick', labelsize=20) \n",
    "plt.rc('ytick', labelsize=20) \n",
    "plt.errorbar(calonum, red_chi2, yerr=0, fmt=\"o\")\n",
    "plt.xlabel('Run',fontsize=25)\n",
    "plt.ylabel('chi2/ndf',fontsize=25)\n",
    "plt.show()"
   ]
  },
  {
   "cell_type": "code",
   "execution_count": 19,
   "id": "3a0aaa0d",
   "metadata": {},
   "outputs": [
    {
     "data": {
      "text/plain": [
       "array([ 6.64442721e-316,  0.00000000e+000,  0.00000000e+000,\n",
       "        0.00000000e+000,  1.83569577e-316,  3.45845952e-323,\n",
       "        8.17967536e-307,  6.91719994e-310, -3.51626258e+001,\n",
       "        0.00000000e+000,  2.12199579e-314,  6.65072714e-316,\n",
       "        1.83580565e-316])"
      ]
     },
     "execution_count": 19,
     "metadata": {},
     "output_type": "execute_result"
    }
   ],
   "source": [
    "rval"
   ]
  },
  {
   "cell_type": "code",
   "execution_count": 20,
   "id": "2568433a",
   "metadata": {},
   "outputs": [
    {
     "data": {
      "text/plain": [
       "array([6.68232956e-316, 0.00000000e+000, 1.83569340e-316, 0.00000000e+000,\n",
       "       6.64442959e-316, 2.47032823e-323, 2.44985944e-312, 0.00000000e+000,\n",
       "       1.70375171e+000, 0.00000000e+000, 2.12199579e-314, 1.83432306e-316,\n",
       "       2.90667169e-316])"
      ]
     },
     "execution_count": 20,
     "metadata": {},
     "output_type": "execute_result"
    }
   ],
   "source": [
    "drval"
   ]
  },
  {
   "cell_type": "code",
   "execution_count": 21,
   "id": "bc67fe10",
   "metadata": {},
   "outputs": [
    {
     "data": {
      "text/plain": [
       "array([6.91728578e-310, 6.91728578e-310,             nan,             nan,\n",
       "       6.91720070e-310, 9.88131292e-324, 0.00000000e+000,             nan,\n",
       "       6.94769405e-001, 2.12199566e-314, 6.91720070e-310, 0.00000000e+000,\n",
       "                   nan])"
      ]
     },
     "execution_count": 21,
     "metadata": {},
     "output_type": "execute_result"
    }
   ],
   "source": [
    "red_chi2"
   ]
  },
  {
   "cell_type": "code",
   "execution_count": 22,
   "id": "94cbcbdf",
   "metadata": {},
   "outputs": [],
   "source": [
    "dataset=[\"3B\",\"3C\",\"3D\",\"3E\",\"3F\",\"3G\",\"3I\",\"3J\",\"3K\",\"3L\",\"3M\",\"3N\",\"3O\"]"
   ]
  },
  {
   "cell_type": "code",
   "execution_count": 23,
   "id": "913c1e61",
   "metadata": {},
   "outputs": [
    {
     "data": {
      "image/png": "[encoded data removed]",
      "text/plain": [
       "<Figure size 864x576 with 1 Axes>"
      ]
     },
     "metadata": {
      "needs_background": "light"
     },
     "output_type": "display_data"
    }
   ],
   "source": [
    "plt.figure(figsize=(12,8))\n",
    "plt.rc('xtick', labelsize=20) \n",
    "plt.rc('ytick', labelsize=20) \n",
    "plt.errorbar(dataset, rval, yerr=drval, fmt=\"o\")\n",
    "plt.xlabel('Dataset',fontsize=25)\n",
    "plt.ylabel('R [ppm]',fontsize=25)\n",
    "plt.show()"
   ]
  },
  {
   "cell_type": "code",
   "execution_count": 24,
   "id": "a7a6ee92",
   "metadata": {},
   "outputs": [
    {
     "data": {
      "image/png": "[encoded data removed]",
      "text/plain": [
       "<Figure size 1800x1584 with 10 Axes>"
      ]
     },
     "metadata": {
      "needs_background": "light"
     },
     "output_type": "display_data"
    }
   ],
   "source": [
    "plt.figure(figsize=(25,22))\n",
    "\n",
    "ax1 = plt.subplot2grid((5,2), (0,0))\n",
    "# fist line:\n",
    "#plt.subplot(521)\n",
    "plt.rc('xtick', labelsize=16) \n",
    "plt.rc('ytick', labelsize=16) \n",
    "plt.errorbar(dataset, asym, yerr=dasym, fmt=\"o\")\n",
    "plt.ylabel('A',fontsize=16)\n",
    "plt.rcParams[\"axes.formatter.useoffset\"] = False\n",
    "\n",
    "ax2 = plt.subplot2grid((5,2), (0,1))\n",
    "#plt.subplot(522)\n",
    "plt.rc('xtick', labelsize=16) \n",
    "plt.rc('ytick', labelsize=16) \n",
    "plt.errorbar(dataset, phi, yerr=dphi, fmt=\"o\")\n",
    "#plt.xlabel('Calo index',fontsize=22)\n",
    "plt.ylabel('phi',fontsize=16)\n",
    "plt.rcParams[\"axes.formatter.useoffset\"] = False\n",
    "\n",
    "ax3 = plt.subplot2grid((5,2), (1,0))\n",
    "#plt.subplot(523)\n",
    "plt.rc('xtick', labelsize=16) \n",
    "plt.rc('ytick', labelsize=16) \n",
    "plt.errorbar(dataset, tau_cbo, yerr=dtau_cbo, fmt=\"o\")\n",
    "plt.ylabel('tau_cbo',fontsize=16)\n",
    "plt.rcParams[\"axes.formatter.useoffset\"] = False\n",
    " \n",
    "ax4 = plt.subplot2grid((5,2), (1,1))\n",
    "#plt.subplot(524)\n",
    "plt.rc('xtick', labelsize=16) \n",
    "plt.rc('ytick', labelsize=16) \n",
    "plt.errorbar(dataset, omega_cbo, yerr=domega_cbo, fmt=\"o\")\n",
    "#plt.xlabel('Calo index',fontsize=18)\n",
    "plt.ylabel('omega_cbo',fontsize=16)\n",
    "plt.rcParams[\"axes.formatter.useoffset\"] = False\n",
    "\n",
    "ax5 = plt.subplot2grid((5,2), (2,0))\n",
    "#plt.subplot(525)\n",
    "plt.rc('xtick', labelsize=16) \n",
    "plt.rc('ytick', labelsize=16) \n",
    "plt.errorbar(dataset, A_cbo, yerr=dA_cbo, fmt=\"o\")\n",
    "plt.ylabel('A_cbo',fontsize=16)\n",
    "plt.rcParams[\"axes.formatter.useoffset\"] = False\n",
    "\n",
    "ax6 = plt.subplot2grid((5,2), (2,1))\n",
    "#plt.subplot(526)\n",
    "plt.rc('xtick', labelsize=16) \n",
    "plt.rc('ytick', labelsize=16) \n",
    "plt.errorbar(dataset, phi_cbo, yerr=dphi_cbo, fmt=\"o\")\n",
    "#plt.xlabel('Calo index',fontsize=18)\n",
    "plt.ylabel('phi_cbo',fontsize=16)\n",
    "plt.rcParams[\"axes.formatter.useoffset\"] = False\n",
    "\n",
    "ax7 = plt.subplot2grid((5,2), (3,0))\n",
    "#plt.subplot(527)\n",
    "plt.rc('xtick', labelsize=16) \n",
    "plt.rc('ytick', labelsize=16) \n",
    "plt.errorbar(dataset, np.abs(A_vw), yerr=dA_vw, fmt=\"o\")\n",
    "plt.ylabel('A_vw',fontsize=16)\n",
    "plt.rcParams[\"axes.formatter.useoffset\"] = False\n",
    "\n",
    "ax8 = plt.subplot2grid((5,2), (3,1))\n",
    "#plt.subplot(528)\n",
    "plt.rc('xtick', labelsize=16) \n",
    "plt.rc('ytick', labelsize=16) \n",
    "plt.errorbar(dataset, phi_vw, yerr=dphi_vw, fmt=\"o\")\n",
    "#plt.xlabel('Calo index',fontsize=18)\n",
    "plt.ylabel('phi_vw',fontsize=16)\n",
    "plt.rcParams[\"axes.formatter.useoffset\"] = False\n",
    "\n",
    "ax9 = plt.subplot2grid((5,2), (4,0))\n",
    "plt.rc('xtick', labelsize=16) \n",
    "plt.rc('ytick', labelsize=16) \n",
    "plt.errorbar(dataset, np.abs(A_y), yerr=dA_y, fmt=\"o\")\n",
    "plt.xlabel('dataset',fontsize=16)\n",
    "plt.ylabel('A_y',fontsize=18)\n",
    "plt.rcParams[\"axes.formatter.useoffset\"] = False\n",
    "\n",
    "ax10 = plt.subplot2grid((5,2), (4,1))\n",
    "plt.rc('xtick', labelsize=16) \n",
    "plt.rc('ytick', labelsize=16) \n",
    "plt.errorbar(dataset, phi_y, yerr=dphi_y, fmt=\"o\")\n",
    "plt.xlabel('dataset',fontsize=16)\n",
    "plt.ylabel('phi_y',fontsize=16)\n",
    "plt.rcParams[\"axes.formatter.useoffset\"] = False"
   ]
  },
  {
   "cell_type": "code",
   "execution_count": 25,
   "id": "a8c74d86",
   "metadata": {},
   "outputs": [
    {
     "data": {
      "text/plain": [
       "array([0.22949471, 0.22938173, 0.22944361, 0.22949891, 0.2293411 ,\n",
       "       0.22951681, 0.22935524, 0.22932051, 0.22931547, 0.22945505,\n",
       "       0.22892733, 0.22801807, 0.22844916])"
      ]
     },
     "execution_count": 25,
     "metadata": {},
     "output_type": "execute_result"
    }
   ],
   "source": [
    "asym"
   ]
  },
  {
   "cell_type": "code",
   "execution_count": 26,
   "id": "b78a9fab",
   "metadata": {},
   "outputs": [
    {
     "data": {
      "text/plain": [
       "array([1.97932363e-05, 3.46802618e-05, 1.37931010e-05, 2.15352985e-05,\n",
       "       2.96725595e-05, 1.93414536e-05, 2.02348579e-05, 2.36384304e-05,\n",
       "       3.08116134e-05, 3.55708289e-05, 1.96070702e-05, 1.48511672e-05,\n",
       "       1.63098958e-05])"
      ]
     },
     "execution_count": 26,
     "metadata": {},
     "output_type": "execute_result"
    }
   ],
   "source": [
    "dasym"
   ]
  },
  {
   "cell_type": "code",
   "execution_count": 27,
   "id": "3c8e6a38",
   "metadata": {},
   "outputs": [
    {
     "data": {
      "text/plain": [
       "array([-36.38867578, -35.3924405 , -35.70755401, -34.51026008,\n",
       "       -35.09149594, -32.94279847, -36.21232665, -36.13623321,\n",
       "       -35.16262578, -35.32638903, -35.17098666, -34.81782754,\n",
       "       -32.83677164])"
      ]
     },
     "execution_count": 27,
     "metadata": {},
     "output_type": "execute_result"
    }
   ],
   "source": [
    "rval"
   ]
  },
  {
   "cell_type": "code",
   "execution_count": 28,
   "id": "e586b979",
   "metadata": {},
   "outputs": [
    {
     "data": {
      "text/plain": [
       "array([1.09521337, 1.91914799, 0.76210298, 1.18945046, 1.63954683,\n",
       "       1.06806659, 1.11838928, 1.30670116, 1.70375171, 1.96631007,\n",
       "       1.08722713, 0.82546764, 0.90511975])"
      ]
     },
     "execution_count": 28,
     "metadata": {},
     "output_type": "execute_result"
    }
   ],
   "source": [
    "drval"
   ]
  },
  {
   "cell_type": "code",
   "execution_count": 29,
   "id": "d7ef572a",
   "metadata": {},
   "outputs": [
    {
     "data": {
      "text/plain": [
       "array([4.01552234, 4.01483875, 4.04159719, 4.03722856, 4.03087395,\n",
       "       4.01306095, 4.02053694, 4.01408046, 4.00349947, 4.00692354,\n",
       "       4.009928  , 3.99879508, 3.99394821])"
      ]
     },
     "execution_count": 29,
     "metadata": {},
     "output_type": "execute_result"
    }
   ],
   "source": [
    "phi"
   ]
  },
  {
   "cell_type": "code",
   "execution_count": 30,
   "id": "8581cc95",
   "metadata": {},
   "outputs": [
    {
     "data": {
      "text/plain": [
       "array([0.00016643, 0.00029189, 0.00011609, 0.00018123, 0.0002499 ,\n",
       "       0.00016278, 0.0001704 , 0.00019911, 0.00025956, 0.00029946,\n",
       "       0.0001654 , 0.00012585, 0.00013796])"
      ]
     },
     "execution_count": 30,
     "metadata": {},
     "output_type": "execute_result"
    }
   ],
   "source": [
    "dphi"
   ]
  },
  {
   "cell_type": "code",
   "execution_count": 31,
   "id": "7870760c",
   "metadata": {},
   "outputs": [
    {
     "data": {
      "text/plain": [
       "array([0.00209401, 0.00208014, 0.0020599 , 0.00185415, 0.00188587,\n",
       "       0.00177387, 0.00171032, 0.00181013, 0.00175768, 0.00192146,\n",
       "       0.0016392 , 0.00118122, 0.0010607 ])"
      ]
     },
     "execution_count": 31,
     "metadata": {},
     "output_type": "execute_result"
    }
   ],
   "source": [
    "A_cbo"
   ]
  },
  {
   "cell_type": "code",
   "execution_count": 32,
   "id": "34715cee",
   "metadata": {},
   "outputs": [
    {
     "data": {
      "text/plain": [
       "array([5.57656386e-05, 9.95529554e-05, 4.15818181e-05, 6.21474852e-05,\n",
       "       8.23801414e-05, 5.25418693e-05, 5.67379246e-05, 7.05600388e-05,\n",
       "       9.27881550e-05, 1.11282291e-04, 5.41918158e-05, 4.59815340e-05,\n",
       "       4.74664254e-05])"
      ]
     },
     "execution_count": 32,
     "metadata": {},
     "output_type": "execute_result"
    }
   ],
   "source": [
    "dA_cbo"
   ]
  },
  {
   "cell_type": "code",
   "execution_count": 33,
   "id": "673f51ed",
   "metadata": {},
   "outputs": [
    {
     "data": {
      "text/plain": [
       "array([249130.43764967, 237623.54020809, 209687.02292423, 235805.72394095,\n",
       "       264088.36207272, 280559.1009467 , 254126.11649199, 213662.56821783,\n",
       "       211787.2915226 , 193066.8319519 , 268250.33043189, 199509.04890698,\n",
       "       231515.14425571])"
      ]
     },
     "execution_count": 33,
     "metadata": {},
     "output_type": "execute_result"
    }
   ],
   "source": [
    "tau_cbo"
   ]
  },
  {
   "cell_type": "code",
   "execution_count": 34,
   "id": "fc9dda0a",
   "metadata": {},
   "outputs": [
    {
     "data": {
      "text/plain": [
       "array([20115.82940269, 33198.13409303, 11214.27495531, 22913.35733424,\n",
       "       36549.80960794, 27624.19369989, 25878.67123162, 22367.63926125,\n",
       "       29874.0023299 , 27848.2956519 , 28440.00079464, 19819.54590389,\n",
       "       29605.30128801])"
      ]
     },
     "execution_count": 34,
     "metadata": {},
     "output_type": "execute_result"
    }
   ],
   "source": [
    "dtau_cbo"
   ]
  },
  {
   "cell_type": "code",
   "execution_count": 35,
   "id": "f3510aa1",
   "metadata": {},
   "outputs": [
    {
     "data": {
      "text/plain": [
       "array([0.00233217, 0.00233202, 0.00232904, 0.00232799, 0.00232901,\n",
       "       0.00232832, 0.00233083, 0.00232936, 0.00232857, 0.00232733,\n",
       "       0.00232951, 0.00233449, 0.0023293 ])"
      ]
     },
     "execution_count": 35,
     "metadata": {},
     "output_type": "execute_result"
    }
   ],
   "source": [
    "omega_cbo"
   ]
  },
  {
   "cell_type": "code",
   "execution_count": 36,
   "id": "210a71b4",
   "metadata": {},
   "outputs": [
    {
     "data": {
      "text/plain": [
       "array([7.40494943e-07, 1.35258102e-06, 6.00942427e-07, 9.48091006e-07,\n",
       "       1.18263745e-06, 7.85360346e-07, 9.10307582e-07, 1.15110316e-06,\n",
       "       1.56490243e-06, 1.79090535e-06, 8.89586370e-07, 1.18390490e-06,\n",
       "       1.27511615e-06])"
      ]
     },
     "execution_count": 36,
     "metadata": {},
     "output_type": "execute_result"
    }
   ],
   "source": [
    "domega_cbo"
   ]
  },
  {
   "cell_type": "code",
   "execution_count": 37,
   "id": "9eda4fab",
   "metadata": {},
   "outputs": [
    {
     "data": {
      "text/plain": [
       "array([-0.12492573, -0.06152767, -0.16022158, -0.53077849, -0.4146477 ,\n",
       "       -0.48644987, -0.27003121, -0.42078853, -0.61118313, -0.70566845,\n",
       "       -0.73614574, -0.08286451, -0.821537  ])"
      ]
     },
     "execution_count": 37,
     "metadata": {},
     "output_type": "execute_result"
    }
   ],
   "source": [
    "phi_cbo"
   ]
  },
  {
   "cell_type": "code",
   "execution_count": 38,
   "id": "483f122c",
   "metadata": {},
   "outputs": [
    {
     "data": {
      "text/plain": [
       "array([0.1036341 , 0.18839589, 0.08244896, 0.13202961, 0.16686922,\n",
       "       0.11149287, 0.12781269, 0.15817408, 0.21504856, 0.24312086,\n",
       "       0.12557409, 0.16150745, 0.177233  ])"
      ]
     },
     "execution_count": 38,
     "metadata": {},
     "output_type": "execute_result"
    }
   ],
   "source": [
    "dphi_cbo"
   ]
  },
  {
   "cell_type": "code",
   "execution_count": 39,
   "id": "a45603c4",
   "metadata": {},
   "outputs": [
    {
     "data": {
      "text/plain": [
       "array([ 2.24721985e-04, -1.43171574e-04,  4.49153217e-04,  4.97880187e-04,\n",
       "        3.86384765e-04, -6.77283857e-04,  9.87536840e-05, -7.24827452e-04,\n",
       "        5.02809627e-04,  2.38672615e-04, -6.64267557e-04, -4.00236975e-04,\n",
       "       -3.04476976e-04])"
      ]
     },
     "execution_count": 39,
     "metadata": {},
     "output_type": "execute_result"
    }
   ],
   "source": [
    "A_cbo_A"
   ]
  },
  {
   "cell_type": "code",
   "execution_count": 40,
   "id": "fbba6d02",
   "metadata": {},
   "outputs": [
    {
     "data": {
      "text/plain": [
       "array([0.00016877, 0.00029765, 0.0001237 , 0.0001869 , 0.00024952,\n",
       "       0.00016042, 0.00017096, 0.00021244, 0.00027682, 0.00032745,\n",
       "       0.0001652 , 0.00013723, 0.00014312])"
      ]
     },
     "execution_count": 40,
     "metadata": {},
     "output_type": "execute_result"
    }
   ],
   "source": [
    "dA_cbo_A"
   ]
  },
  {
   "cell_type": "code",
   "execution_count": 41,
   "id": "632609ee",
   "metadata": {},
   "outputs": [
    {
     "data": {
      "text/plain": [
       "array([-0.26649315,  4.39579554,  0.43782426, -0.29257782, -0.5873171 ,\n",
       "        2.21707681,  0.45577775,  2.18472781, -0.32234888,  0.12526239,\n",
       "        2.53898435,  2.7909514 ,  1.90455416])"
      ]
     },
     "execution_count": 41,
     "metadata": {},
     "output_type": "execute_result"
    }
   ],
   "source": [
    "phi_cbo_A"
   ]
  },
  {
   "cell_type": "code",
   "execution_count": 42,
   "id": "5f347340",
   "metadata": {},
   "outputs": [
    {
     "data": {
      "text/plain": [
       "array([0.75336599, 2.10249763, 0.28768595, 0.39607376, 0.66356863,\n",
       "       0.26054804, 1.73909799, 0.33201714, 0.58838186, 1.39754635,\n",
       "       0.27643537, 0.37758374, 0.50084093])"
      ]
     },
     "execution_count": 42,
     "metadata": {},
     "output_type": "execute_result"
    }
   ],
   "source": [
    "dphi_cbo_A"
   ]
  },
  {
   "cell_type": "code",
   "execution_count": 43,
   "id": "662c57fb",
   "metadata": {},
   "outputs": [
    {
     "data": {
      "text/plain": [
       "array([-1.52647025e-04, -8.79402852e-05,  9.52886470e-05, -2.90532024e-04,\n",
       "        2.08915940e-04,  1.72424275e-04, -1.35661907e-04,  2.84576949e-04,\n",
       "       -4.48104135e-05, -1.00423382e-04,  2.83620407e-04,  8.19372692e-05,\n",
       "        1.78857258e-04])"
      ]
     },
     "execution_count": 43,
     "metadata": {},
     "output_type": "execute_result"
    }
   ],
   "source": [
    "A_cbo_phi"
   ]
  },
  {
   "cell_type": "code",
   "execution_count": 44,
   "id": "feb77de9",
   "metadata": {},
   "outputs": [
    {
     "data": {
      "text/plain": [
       "array([0.00016997, 0.00030086, 0.00012628, 0.00018769, 0.00025141,\n",
       "       0.00016061, 0.00017515, 0.00021618, 0.00027733, 0.00033537,\n",
       "       0.00016751, 0.00013967, 0.00014377])"
      ]
     },
     "execution_count": 44,
     "metadata": {},
     "output_type": "execute_result"
    }
   ],
   "source": [
    "dA_cbo_phi"
   ]
  },
  {
   "cell_type": "code",
   "execution_count": 45,
   "id": "14e8d353",
   "metadata": {},
   "outputs": [
    {
     "data": {
      "text/plain": [
       "array([  0.05766293,   2.86615753,   0.4748808 ,   2.4965187 ,\n",
       "        -0.18466159,   1.86740639,   0.75022282,   0.68306663,\n",
       "         2.50217639, -12.32492509,   0.51511375,   1.39613513,\n",
       "         1.6504044 ])"
      ]
     },
     "execution_count": 45,
     "metadata": {},
     "output_type": "execute_result"
    }
   ],
   "source": [
    "phi_cbo_phi"
   ]
  },
  {
   "cell_type": "code",
   "execution_count": 46,
   "id": "7f86505f",
   "metadata": {},
   "outputs": [
    {
     "data": {
      "text/plain": [
       "array([1.1222219 , 3.48674267, 1.31213665, 0.66822121, 1.22253841,\n",
       "       0.94876056, 1.27678739, 0.76206321, 6.29354049, 3.29192793,\n",
       "       0.59660089, 1.67964473, 0.83158717])"
      ]
     },
     "execution_count": 46,
     "metadata": {},
     "output_type": "execute_result"
    }
   ],
   "source": [
    "dphi_cbo_phi"
   ]
  },
  {
   "cell_type": "code",
   "execution_count": 47,
   "id": "db2ef3a1",
   "metadata": {},
   "outputs": [
    {
     "data": {
      "text/plain": [
       "array([ 0.00063892, -0.00057023, -0.00054803, -0.00056544, -0.00062331,\n",
       "       -0.00052606, -0.00045482, -0.00038018, -0.00027515, -0.00036419,\n",
       "       -0.00031978,  0.00043214,  0.0004207 ])"
      ]
     },
     "execution_count": 47,
     "metadata": {},
     "output_type": "execute_result"
    }
   ],
   "source": [
    "A_y"
   ]
  },
  {
   "cell_type": "code",
   "execution_count": 48,
   "id": "406ad1fb",
   "metadata": {},
   "outputs": [
    {
     "data": {
      "text/plain": [
       "array([3.82464185e-05, 6.70259101e-05, 2.66520753e-05, 4.16069981e-05,\n",
       "       5.73938857e-05, 3.74011680e-05, 3.90996775e-05, 4.56972134e-05,\n",
       "       5.95963710e-05, 6.87113138e-05, 3.78113921e-05, 2.87425405e-05,\n",
       "       3.15794532e-05])"
      ]
     },
     "execution_count": 48,
     "metadata": {},
     "output_type": "execute_result"
    }
   ],
   "source": [
    "dA_y"
   ]
  },
  {
   "cell_type": "code",
   "execution_count": 49,
   "id": "7b67a994",
   "metadata": {},
   "outputs": [
    {
     "data": {
      "text/plain": [
       "array([5.5192879 , 2.45728618, 2.9549493 , 2.96000378, 2.58480946,\n",
       "       2.78835493, 2.80486457, 2.73629523, 2.39867271, 2.83828557,\n",
       "       3.40130958, 5.48679112, 5.32702928])"
      ]
     },
     "execution_count": 49,
     "metadata": {},
     "output_type": "execute_result"
    }
   ],
   "source": [
    "phi_y"
   ]
  },
  {
   "cell_type": "code",
   "execution_count": 50,
   "id": "d9241322",
   "metadata": {},
   "outputs": [
    {
     "data": {
      "text/plain": [
       "array([0.05968935, 0.11723793, 0.04865277, 0.07361615, 0.09190944,\n",
       "       0.07105359, 0.08592479, 0.12008147, 0.21599492, 0.18862077,\n",
       "       0.11858152, 0.06630381, 0.07480441])"
      ]
     },
     "execution_count": 50,
     "metadata": {},
     "output_type": "execute_result"
    }
   ],
   "source": [
    "dphi_y"
   ]
  },
  {
   "cell_type": "code",
   "execution_count": 51,
   "id": "5d4b5b33",
   "metadata": {},
   "outputs": [
    {
     "data": {
      "text/plain": [
       "array([ 0.00434895,  0.00332143, -0.00420813,  0.00392647, -0.00440009,\n",
       "       -0.00417851,  0.00481018,  0.00481811,  0.00493153,  0.00534938,\n",
       "        0.0055651 ,  0.00484783,  0.00439966])"
      ]
     },
     "execution_count": 51,
     "metadata": {},
     "output_type": "execute_result"
    }
   ],
   "source": [
    "A_vw"
   ]
  },
  {
   "cell_type": "code",
   "execution_count": 52,
   "id": "311c67d3",
   "metadata": {},
   "outputs": [
    {
     "data": {
      "text/plain": [
       "array([0.00033078, 0.00057963, 0.00022899, 0.0003578 , 0.00049138,\n",
       "       0.00032093, 0.00033773, 0.00039466, 0.00051415, 0.00059403,\n",
       "       0.00032628, 0.00024885, 0.00027362])"
      ]
     },
     "execution_count": 52,
     "metadata": {},
     "output_type": "execute_result"
    }
   ],
   "source": [
    "dA_vw"
   ]
  },
  {
   "cell_type": "code",
   "execution_count": 53,
   "id": "607394ee",
   "metadata": {},
   "outputs": [
    {
     "data": {
      "text/plain": [
       "array([ 3.66391801,  3.63832797, -0.50501266,  2.76110937, -0.85348861,\n",
       "       -0.57936094,  3.23745448,  3.19549211,  3.23329029,  3.31209247,\n",
       "        2.97240539,  3.50981959,  3.75542172])"
      ]
     },
     "execution_count": 53,
     "metadata": {},
     "output_type": "execute_result"
    }
   ],
   "source": [
    "phi_vw"
   ]
  },
  {
   "cell_type": "code",
   "execution_count": 54,
   "id": "57ae02b1",
   "metadata": {},
   "outputs": [
    {
     "data": {
      "text/plain": [
       "array([0.07517301, 0.17249849, 0.05488338, 0.09166954, 0.11307208,\n",
       "       0.07755666, 0.06982311, 0.08154246, 0.1036956 , 0.11026362,\n",
       "       0.05866817, 0.05080714, 0.06144435])"
      ]
     },
     "execution_count": 54,
     "metadata": {},
     "output_type": "execute_result"
    }
   ],
   "source": [
    "dphi_vw"
   ]
  },
  {
   "cell_type": "code",
   "execution_count": 55,
   "id": "6ea3a4f2",
   "metadata": {},
   "outputs": [
    {
     "data": {
      "text/plain": [
       "array([-1.62657370e-04, -1.40640821e-04, -1.76806956e-04, -1.03211105e-04,\n",
       "       -5.59524675e-05, -8.24588402e-05, -1.35190877e-04, -1.83172934e-04,\n",
       "       -9.74652188e-05, -1.53561157e-04,  8.93288932e-05, -3.35814750e-05,\n",
       "       -2.22604496e-05])"
      ]
     },
     "execution_count": 55,
     "metadata": {},
     "output_type": "execute_result"
    }
   ],
   "source": [
    "A_2cbo"
   ]
  },
  {
   "cell_type": "code",
   "execution_count": 56,
   "id": "d6bd85d4",
   "metadata": {},
   "outputs": [
    {
     "data": {
      "text/plain": [
       "array([3.62597646e-05, 6.48322851e-05, 2.77107311e-05, 4.03249657e-05,\n",
       "       5.23294292e-05, 3.32624748e-05, 3.67712611e-05, 4.73153732e-05,\n",
       "       6.09930507e-05, 7.46598947e-05, 3.43504438e-05, 3.02036778e-05,\n",
       "       3.06458068e-05])"
      ]
     },
     "execution_count": 56,
     "metadata": {},
     "output_type": "execute_result"
    }
   ],
   "source": [
    "dA_2cbo"
   ]
  },
  {
   "cell_type": "code",
   "execution_count": 57,
   "id": "63a6266b",
   "metadata": {},
   "outputs": [
    {
     "data": {
      "text/plain": [
       "array([ 0.55461375,  0.58252179,  0.39966782, -0.61253464, -0.01728116,\n",
       "        0.14638824,  1.05607867,  0.23552605, -0.38658559, -0.14027374,\n",
       "        1.57678475,  1.50041249, -0.86803153])"
      ]
     },
     "execution_count": 57,
     "metadata": {},
     "output_type": "execute_result"
    }
   ],
   "source": [
    "phi_2cbo"
   ]
  },
  {
   "cell_type": "code",
   "execution_count": 58,
   "id": "e68ce623",
   "metadata": {},
   "outputs": [
    {
     "data": {
      "text/plain": [
       "array([0.30227458, 0.59204737, 0.2261728 , 0.46922926, 0.98995791,\n",
       "       0.45988359, 0.37030006, 0.40491368, 0.7560012 , 0.68409603,\n",
       "       0.45808459, 0.95540337, 1.41812224])"
      ]
     },
     "execution_count": 58,
     "metadata": {},
     "output_type": "execute_result"
    }
   ],
   "source": [
    "dphi_2cbo"
   ]
  },
  {
   "cell_type": "code",
   "execution_count": 59,
   "id": "6ad79ae0",
   "metadata": {},
   "outputs": [
    {
     "data": {
      "text/plain": [
       "array([ 0.01189425,  0.01537969,  0.00791575, -0.00333831,  0.00287304,\n",
       "       -0.00407004,  0.00954287,  0.00438297, -0.00323354, -0.00505984,\n",
       "        0.00525712,  0.02147682, -0.01089759])"
      ]
     },
     "execution_count": 59,
     "metadata": {},
     "output_type": "execute_result"
    }
   ],
   "source": [
    "A_cbot"
   ]
  },
  {
   "cell_type": "code",
   "execution_count": 60,
   "id": "7995708f",
   "metadata": {},
   "outputs": [
    {
     "data": {
      "text/plain": [
       "array([0.00464422, 0.00840891, 0.00363742, 0.00590992, 0.00755173,\n",
       "       0.00507571, 0.0057509 , 0.00698204, 0.00950967, 0.010642  ,\n",
       "       0.00567582, 0.00706548, 0.00791926])"
      ]
     },
     "execution_count": 60,
     "metadata": {},
     "output_type": "execute_result"
    }
   ],
   "source": [
    "dA_cbot"
   ]
  },
  {
   "cell_type": "code",
   "execution_count": 61,
   "id": "4149a5a9",
   "metadata": {},
   "outputs": [
    {
     "data": {
      "text/plain": [
       "array([0.89069233, 0.87551503, 0.94324421, 0.94422465, 0.89222291,\n",
       "       0.87003365, 0.90504897, 0.90405931, 0.6947694 , 0.92584923,\n",
       "       0.89238171, 1.03030141, 0.94198011])"
      ]
     },
     "execution_count": 61,
     "metadata": {},
     "output_type": "execute_result"
    }
   ],
   "source": [
    "red_chi2"
   ]
  },
  {
   "cell_type": "code",
   "execution_count": 62,
   "id": "324e3289",
   "metadata": {},
   "outputs": [
    {
     "data": {
      "text/plain": [
       "array([1618.38795578, 1590.81081427, 1713.87472935, 1715.65619399,\n",
       "       1621.16903032, 1580.85113863, 1644.47397155, 1642.67576262,\n",
       "       1262.39600853, 1682.26805846, 1621.45757537, 1872.05765779,\n",
       "       1711.57786696])"
      ]
     },
     "execution_count": 62,
     "metadata": {},
     "output_type": "execute_result"
    }
   ],
   "source": [
    "(fit_range-len(pars2))*red_chi2"
   ]
  },
  {
   "cell_type": "code",
   "execution_count": 63,
   "id": "13ffd0c7",
   "metadata": {},
   "outputs": [
    {
     "data": {
      "text/plain": [
       "1817"
      ]
     },
     "execution_count": 63,
     "metadata": {},
     "output_type": "execute_result"
    }
   ],
   "source": [
    "fit_range-len(pars2)"
   ]
  },
  {
   "cell_type": "code",
   "execution_count": null,
   "id": "861db061",
   "metadata": {},
   "outputs": [],
   "source": []
  },
  {
   "cell_type": "code",
   "execution_count": null,
   "id": "9fcfccc9",
   "metadata": {},
   "outputs": [],
   "source": []
  }
 ],
 "metadata": {
  "kernelspec": {
   "display_name": "Python 3",
   "language": "python",
   "name": "python3"
  },
  "language_info": {
   "codemirror_mode": {
    "name": "ipython",
    "version": 3
   },
   "file_extension": ".py",
   "mimetype": "text/x-python",
   "name": "python",
   "nbconvert_exporter": "python",
   "pygments_lexer": "ipython3",
   "version": "3.6.9"
  }
 },
 "nbformat": 4,
 "nbformat_minor": 5
}
