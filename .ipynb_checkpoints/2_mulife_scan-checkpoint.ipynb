{
 "cells": [
  {
   "cell_type": "code",
   "execution_count": 1,
   "id": "77a6320d",
   "metadata": {},
   "outputs": [
    {
     "name": "stdout",
     "output_type": "stream",
     "text": [
      "Welcome to JupyROOT 6.24/06\n"
     ]
    }
   ],
   "source": [
    "import numpy as np\n",
    "import ROOT\n",
    "from math import exp as expo\n",
    "from math import cos as cosine\n",
    "from math import sin as sine\n",
    "sin=np.vectorize(sine)\n",
    "exp=np.vectorize(expo)\n",
    "cos=np.vectorize(cosine)\n",
    "import matplotlib.pylab as plt\n",
    "from matplotlib.pyplot import figure\n",
    "from BlindersPy3 import Blinders\n",
    "from BlindersPy3 import FitType\n",
    "import scipy.optimize as opt"
   ]
  },
  {
   "cell_type": "code",
   "execution_count": 2,
   "id": "b44a65f5",
   "metadata": {},
   "outputs": [],
   "source": [
    "file_1 = ROOT.TFile.Open(\"run3a_NE_mulife_64000.root\")\n",
    "hist_1 = ROOT.TH1D()\n",
    "hcov_1 = ROOT.TH2D()\n",
    "hist_1 = file_1.Get(\"calo_histogram_sum_ratio\")\n",
    "hcov_1 = file_1.Get(\"hcov\")\n",
    "\n",
    "file_2 = ROOT.TFile.Open(\"run3a_NE_mulife_64050.root\")\n",
    "hist_2 = ROOT.TH1D()\n",
    "hcov_2 = ROOT.TH2D()\n",
    "hist_2 = file_2.Get(\"calo_histogram_sum_ratio\")\n",
    "hcov_2 = file_2.Get(\"hcov\")\n",
    "\n",
    "file_3 = ROOT.TFile.Open(\"run3a_NE_mulife_64100.root\")\n",
    "hist_3 = ROOT.TH1D()\n",
    "hcov_3 = ROOT.TH2D()\n",
    "hist_3 = file_3.Get(\"calo_histogram_sum_ratio\")\n",
    "hcov_3 = file_3.Get(\"hcov\")\n",
    "\n",
    "file_4 = ROOT.TFile.Open(\"run3a_NE_mulife_64150.root\")\n",
    "hist_4 = ROOT.TH1D()\n",
    "hcov_4 = ROOT.TH2D()\n",
    "hist_4 = file_4.Get(\"calo_histogram_sum_ratio\")\n",
    "hcov_4 = file_4.Get(\"hcov\")\n",
    "\n",
    "file_5 = ROOT.TFile.Open(\"run3a_NE_mulife_64200.root\")\n",
    "hist_5 = ROOT.TH1D()\n",
    "hcov_5 = ROOT.TH2D()\n",
    "hist_5 = file_5.Get(\"calo_histogram_sum_ratio\")\n",
    "hcov_5 = file_5.Get(\"hcov\")\n",
    "\n",
    "file_6 = ROOT.TFile.Open(\"run3a_NE_mulife_64250.root\")\n",
    "hist_6 = ROOT.TH1D()\n",
    "hcov_6 = ROOT.TH2D()\n",
    "hist_6 = file_6.Get(\"calo_histogram_sum_ratio\")\n",
    "hcov_6 = file_6.Get(\"hcov\")\n",
    "\n",
    "file_7 = ROOT.TFile.Open(\"run3a_NE_mulife_64300.root\")\n",
    "hist_7 = ROOT.TH1D()\n",
    "hcov_7 = ROOT.TH2D()\n",
    "hist_7 = file_7.Get(\"calo_histogram_sum_ratio\")\n",
    "hcov_7 = file_7.Get(\"hcov\")\n",
    "\n",
    "file_8 = ROOT.TFile.Open(\"run3a_NE_mulife_64350.root\")\n",
    "hist_8 = ROOT.TH1D()\n",
    "hcov_8 = ROOT.TH2D()\n",
    "hist_8 = file_8.Get(\"calo_histogram_sum_ratio\")\n",
    "hcov_8 = file_8.Get(\"hcov\")\n",
    "\n",
    "file_9 = ROOT.TFile.Open(\"run3a_NE_mulife_64400.root\")\n",
    "hist_9 = ROOT.TH1D()\n",
    "hcov_9 = ROOT.TH2D()\n",
    "hist_9 = file_9.Get(\"calo_histogram_sum_ratio\")\n",
    "hcov_9 = file_9.Get(\"hcov\")\n",
    "\n",
    "file_10 = ROOT.TFile.Open(\"run3a_NE_mulife_64450.root\")\n",
    "hist_10 = ROOT.TH1D()\n",
    "hcov_10 = ROOT.TH2D()\n",
    "hist_10 = file_10.Get(\"calo_histogram_sum_ratio\")\n",
    "hcov_10 = file_10.Get(\"hcov\")\n",
    "\n",
    "file_11 = ROOT.TFile.Open(\"run3a_NE_mulife_64500.root\")\n",
    "hist_11 = ROOT.TH1D()\n",
    "hcov_11 = ROOT.TH2D()\n",
    "hist_11 = file_11.Get(\"calo_histogram_sum_ratio\")\n",
    "hcov_11 = file_11.Get(\"hcov\")\n",
    "\n",
    "file_12 = ROOT.TFile.Open(\"run3a_NE_mulife_64550.root\")\n",
    "hist_12 = ROOT.TH1D()\n",
    "hcov_12 = ROOT.TH2D()\n",
    "hist_12 = file_12.Get(\"calo_histogram_sum_ratio\")\n",
    "hcov_12 = file_12.Get(\"hcov\")\n",
    "\n",
    "file_13 = ROOT.TFile.Open(\"run3a_NE_mulife_64600.root\")\n",
    "hist_13 = ROOT.TH1D()\n",
    "hcov_13 = ROOT.TH2D()\n",
    "hist_13 = file_13.Get(\"calo_histogram_sum_ratio\")\n",
    "hcov_13 = file_13.Get(\"hcov\")\n",
    "\n",
    "file_14 = ROOT.TFile.Open(\"run3a_NE_mulife_64650.root\")\n",
    "hist_14 = ROOT.TH1D()\n",
    "hcov_14 = ROOT.TH2D()\n",
    "hist_14 = file_14.Get(\"calo_histogram_sum_ratio\")\n",
    "hcov_14 = file_14.Get(\"hcov\")\n",
    "\n",
    "file_15 = ROOT.TFile.Open(\"run3a_NE_mulife_64700.root\")\n",
    "hist_15 = ROOT.TH1D()\n",
    "hcov_15 = ROOT.TH2D()\n",
    "hist_15 = file_15.Get(\"calo_histogram_sum_ratio\")\n",
    "hcov_15 = file_15.Get(\"hcov\")\n",
    "\n",
    "file_16 = ROOT.TFile.Open(\"run3a_NE_mulife_64750.root\")\n",
    "hist_16 = ROOT.TH1D()\n",
    "hcov_16 = ROOT.TH2D()\n",
    "hist_16 = file_16.Get(\"calo_histogram_sum_ratio\")\n",
    "hcov_16 = file_16.Get(\"hcov\")\n",
    "\n",
    "file_17 = ROOT.TFile.Open(\"run3a_NE_mulife_64800.root\")\n",
    "hist_17 = ROOT.TH1D()\n",
    "hcov_17 = ROOT.TH2D()\n",
    "hist_17 = file_17.Get(\"calo_histogram_sum_ratio\")\n",
    "hcov_17 = file_17.Get(\"hcov\")\n",
    "\n",
    "file_18 = ROOT.TFile.Open(\"run3a_NE_mulife_64850.root\")\n",
    "hist_18 = ROOT.TH1D()\n",
    "hcov_18 = ROOT.TH2D()\n",
    "hist_18 = file_18.Get(\"calo_histogram_sum_ratio\")\n",
    "hcov_18 = file_18.Get(\"hcov\")\n",
    "\n",
    "file_19 = ROOT.TFile.Open(\"run3a_NE_mulife_64900.root\")\n",
    "hist_19 = ROOT.TH1D()\n",
    "hcov_19 = ROOT.TH2D()\n",
    "hist_19 = file_19.Get(\"calo_histogram_sum_ratio\")\n",
    "hcov_19 = file_19.Get(\"hcov\")\n",
    "\n",
    "file_20 = ROOT.TFile.Open(\"run3a_NE_mulife_64950.root\")\n",
    "hist_20 = ROOT.TH1D()\n",
    "hcov_20 = ROOT.TH2D()\n",
    "hist_20 = file_20.Get(\"calo_histogram_sum_ratio\")\n",
    "hcov_20 = file_20.Get(\"hcov\")\n",
    "\n",
    "file_21 = ROOT.TFile.Open(\"run3a_NE_mulife_65000.root\")\n",
    "hist_21 = ROOT.TH1D()\n",
    "hcov_21 = ROOT.TH2D()\n",
    "hist_21 = file_20.Get(\"calo_histogram_sum_ratio\")\n",
    "hcov_21 = file_20.Get(\"hcov\")"
   ]
  },
  {
   "cell_type": "code",
   "execution_count": 3,
   "id": "3dc8e579",
   "metadata": {},
   "outputs": [],
   "source": [
    "fit_start=30000\n",
    "fit_stop=305000\n",
    "fit_range=hist_1.FindBin(fit_stop)-hist_1.FindBin(fit_start)+1\n",
    "y_val=np.empty(shape=(21,fit_range))\n",
    "y_err=np.empty(shape=(21,fit_range))\n",
    "x_val=np.empty(shape=(21,fit_range))\n",
    "y_cov=np.empty(shape=(21,fit_range,fit_range))  "
   ]
  },
  {
   "cell_type": "code",
   "execution_count": 4,
   "id": "ac3e125e",
   "metadata": {},
   "outputs": [
    {
     "name": "stdout",
     "output_type": "stream",
     "text": [
      "CPU times: user 2min 34s, sys: 33 s, total: 3min 7s\n",
      "Wall time: 3min 7s\n"
     ]
    }
   ],
   "source": [
    "%%time\n",
    "for ibin in range (0,fit_range):\n",
    "    y_val[0][ibin]=hist_1.GetBinContent(ibin+hist_1.FindBin(fit_start))\n",
    "    y_err[0][ibin]=hist_1.GetBinError(ibin+hist_1.FindBin(fit_start))\n",
    "    x_val[0][ibin]=hist_1.GetBinCenter(ibin+hist_1.FindBin(fit_start))\n",
    "\n",
    "for irow in range (0, fit_range):\n",
    "    for icol in range(0, fit_range):\n",
    "        y_cov[0][irow][icol]=hcov_1.GetBinContent(irow+hist_1.FindBin(fit_start),icol+hist_1.FindBin(fit_start))\n",
    "        \n",
    "\n",
    "for ibin in range (0,fit_range):\n",
    "    y_val[1][ibin]=hist_2.GetBinContent(ibin+hist_2.FindBin(fit_start))\n",
    "    y_err[1][ibin]=hist_2.GetBinError(ibin+hist_2.FindBin(fit_start))\n",
    "    x_val[1][ibin]=hist_2.GetBinCenter(ibin+hist_2.FindBin(fit_start))\n",
    "\n",
    "for irow in range (0, fit_range):\n",
    "    for icol in range(0, fit_range):\n",
    "        y_cov[1][irow][icol]=hcov_2.GetBinContent(irow+hist_2.FindBin(fit_start),icol+hist_2.FindBin(fit_start))\n",
    "        \n",
    "\n",
    "for ibin in range (0,fit_range):\n",
    "    y_val[2][ibin]=hist_3.GetBinContent(ibin+hist_3.FindBin(fit_start))\n",
    "    y_err[2][ibin]=hist_3.GetBinError(ibin+hist_3.FindBin(fit_start))\n",
    "    x_val[2][ibin]=hist_3.GetBinCenter(ibin+hist_3.FindBin(fit_start))\n",
    "\n",
    "for irow in range (0, fit_range):\n",
    "    for icol in range(0, fit_range):\n",
    "        y_cov[2][irow][icol]=hcov_3.GetBinContent(irow+hist_3.FindBin(fit_start),icol+hist_3.FindBin(fit_start))\n",
    "        \n",
    "\n",
    "for ibin in range (0,fit_range):\n",
    "    y_val[3][ibin]=hist_4.GetBinContent(ibin+hist_4.FindBin(fit_start))\n",
    "    y_err[3][ibin]=hist_4.GetBinError(ibin+hist_4.FindBin(fit_start))\n",
    "    x_val[3][ibin]=hist_4.GetBinCenter(ibin+hist_4.FindBin(fit_start))\n",
    "\n",
    "for irow in range (0, fit_range):\n",
    "    for icol in range(0, fit_range):\n",
    "        y_cov[3][irow][icol]=hcov_4.GetBinContent(irow+hist_4.FindBin(fit_start),icol+hist_4.FindBin(fit_start))\n",
    "        \n",
    "\n",
    "for ibin in range (0,fit_range):\n",
    "    y_val[4][ibin]=hist_5.GetBinContent(ibin+hist_5.FindBin(fit_start))\n",
    "    y_err[4][ibin]=hist_5.GetBinError(ibin+hist_5.FindBin(fit_start))\n",
    "    x_val[4][ibin]=hist_5.GetBinCenter(ibin+hist_5.FindBin(fit_start))\n",
    "\n",
    "for irow in range (0, fit_range):\n",
    "    for icol in range(0, fit_range):\n",
    "        y_cov[4][irow][icol]=hcov_5.GetBinContent(irow+hist_5.FindBin(fit_start),icol+hist_5.FindBin(fit_start))\n",
    "        \n",
    "\n",
    "for ibin in range (0,fit_range):\n",
    "    y_val[5][ibin]=hist_6.GetBinContent(ibin+hist_6.FindBin(fit_start))\n",
    "    y_err[5][ibin]=hist_6.GetBinError(ibin+hist_6.FindBin(fit_start))\n",
    "    x_val[5][ibin]=hist_6.GetBinCenter(ibin+hist_6.FindBin(fit_start))\n",
    "\n",
    "for irow in range (0, fit_range):\n",
    "    for icol in range(0, fit_range):\n",
    "        y_cov[5][irow][icol]=hcov_6.GetBinContent(irow+hist_6.FindBin(fit_start),icol+hist_6.FindBin(fit_start))\n",
    "\n",
    "\n",
    "for ibin in range (0,fit_range):\n",
    "    y_val[6][ibin]=hist_7.GetBinContent(ibin+hist_7.FindBin(fit_start))\n",
    "    y_err[6][ibin]=hist_7.GetBinError(ibin+hist_7.FindBin(fit_start))\n",
    "    x_val[6][ibin]=hist_7.GetBinCenter(ibin+hist_7.FindBin(fit_start))\n",
    "\n",
    "for irow in range (0, fit_range):\n",
    "    for icol in range(0, fit_range):\n",
    "        y_cov[6][irow][icol]=hcov_7.GetBinContent(irow+hist_7.FindBin(fit_start),icol+hist_7.FindBin(fit_start))\n",
    "        \n",
    "\n",
    "for ibin in range (0,fit_range):\n",
    "    y_val[7][ibin]=hist_8.GetBinContent(ibin+hist_8.FindBin(fit_start))\n",
    "    y_err[7][ibin]=hist_8.GetBinError(ibin+hist_8.FindBin(fit_start))\n",
    "    x_val[7][ibin]=hist_8.GetBinCenter(ibin+hist_8.FindBin(fit_start))\n",
    "\n",
    "for irow in range (0, fit_range):\n",
    "    for icol in range(0, fit_range):\n",
    "        y_cov[7][irow][icol]=hcov_8.GetBinContent(irow+hist_8.FindBin(fit_start),icol+hist_8.FindBin(fit_start))\n",
    "        \n",
    "\n",
    "for ibin in range (0,fit_range):\n",
    "    y_val[8][ibin]=hist_9.GetBinContent(ibin+hist_9.FindBin(fit_start))\n",
    "    y_err[8][ibin]=hist_9.GetBinError(ibin+hist_9.FindBin(fit_start))\n",
    "    x_val[8][ibin]=hist_9.GetBinCenter(ibin+hist_9.FindBin(fit_start))\n",
    "\n",
    "for irow in range (0, fit_range):\n",
    "    for icol in range(0, fit_range):\n",
    "        y_cov[8][irow][icol]=hcov_9.GetBinContent(irow+hist_9.FindBin(fit_start),icol+hist_9.FindBin(fit_start))\n",
    "        \n",
    "\n",
    "for ibin in range (0,fit_range):\n",
    "    y_val[9][ibin]=hist_10.GetBinContent(ibin+hist_10.FindBin(fit_start))\n",
    "    y_err[9][ibin]=hist_10.GetBinError(ibin+hist_10.FindBin(fit_start))\n",
    "    x_val[9][ibin]=hist_10.GetBinCenter(ibin+hist_10.FindBin(fit_start))\n",
    "\n",
    "for irow in range (0, fit_range):\n",
    "    for icol in range(0, fit_range):\n",
    "        y_cov[9][irow][icol]=hcov_10.GetBinContent(irow+hist_10.FindBin(fit_start),icol+hist_10.FindBin(fit_start))\n",
    "        \n",
    "\n",
    "for ibin in range (0,fit_range):\n",
    "    y_val[10][ibin]=hist_11.GetBinContent(ibin+hist_11.FindBin(fit_start))\n",
    "    y_err[10][ibin]=hist_11.GetBinError(ibin+hist_11.FindBin(fit_start))\n",
    "    x_val[10][ibin]=hist_11.GetBinCenter(ibin+hist_11.FindBin(fit_start))\n",
    "\n",
    "for irow in range (0, fit_range):\n",
    "    for icol in range(0, fit_range):\n",
    "        y_cov[10][irow][icol]=hcov_11.GetBinContent(irow+hist_11.FindBin(fit_start),icol+hist_11.FindBin(fit_start))\n",
    "        \n",
    "\n",
    "for ibin in range (0,fit_range):\n",
    "    y_val[11][ibin]=hist_12.GetBinContent(ibin+hist_12.FindBin(fit_start))\n",
    "    y_err[11][ibin]=hist_12.GetBinError(ibin+hist_12.FindBin(fit_start))\n",
    "    x_val[11][ibin]=hist_12.GetBinCenter(ibin+hist_12.FindBin(fit_start))\n",
    "\n",
    "for irow in range (0, fit_range):\n",
    "    for icol in range(0, fit_range):\n",
    "        y_cov[11][irow][icol]=hcov_12.GetBinContent(irow+hist_12.FindBin(fit_start),icol+hist_12.FindBin(fit_start))\n",
    "        \n",
    "        \n",
    "for ibin in range (0,fit_range):\n",
    "    y_val[12][ibin]=hist_13.GetBinContent(ibin+hist_13.FindBin(fit_start))\n",
    "    y_err[12][ibin]=hist_13.GetBinError(ibin+hist_13.FindBin(fit_start))\n",
    "    x_val[12][ibin]=hist_13.GetBinCenter(ibin+hist_13.FindBin(fit_start))\n",
    "\n",
    "for irow in range (0, fit_range):\n",
    "    for icol in range(0, fit_range):\n",
    "        y_cov[12][irow][icol]=hcov_13.GetBinContent(irow+hist_13.FindBin(fit_start),icol+hist_13.FindBin(fit_start))\n",
    "        \n",
    "for ibin in range (0,fit_range):\n",
    "    y_val[13][ibin]=hist_14.GetBinContent(ibin+hist_14.FindBin(fit_start))\n",
    "    y_err[13][ibin]=hist_14.GetBinError(ibin+hist_14.FindBin(fit_start))\n",
    "    x_val[13][ibin]=hist_14.GetBinCenter(ibin+hist_14.FindBin(fit_start))\n",
    "\n",
    "for irow in range (0, fit_range):\n",
    "    for icol in range(0, fit_range):\n",
    "        y_cov[13][irow][icol]=hcov_14.GetBinContent(irow+hist_14.FindBin(fit_start),icol+hist_14.FindBin(fit_start))\n",
    "        \n",
    "\n",
    "for ibin in range (0,fit_range):\n",
    "    y_val[14][ibin]=hist_15.GetBinContent(ibin+hist_15.FindBin(fit_start))\n",
    "    y_err[14][ibin]=hist_15.GetBinError(ibin+hist_15.FindBin(fit_start))\n",
    "    x_val[14][ibin]=hist_15.GetBinCenter(ibin+hist_15.FindBin(fit_start))\n",
    "\n",
    "for irow in range (0, fit_range):\n",
    "    for icol in range(0, fit_range):\n",
    "        y_cov[14][irow][icol]=hcov_15.GetBinContent(irow+hist_15.FindBin(fit_start),icol+hist_15.FindBin(fit_start))\n",
    "        \n",
    "\n",
    "for ibin in range (0,fit_range):\n",
    "    y_val[15][ibin]=hist_16.GetBinContent(ibin+hist_16.FindBin(fit_start))\n",
    "    y_err[15][ibin]=hist_16.GetBinError(ibin+hist_16.FindBin(fit_start))\n",
    "    x_val[15][ibin]=hist_16.GetBinCenter(ibin+hist_16.FindBin(fit_start))\n",
    "\n",
    "for irow in range (0, fit_range):\n",
    "    for icol in range(0, fit_range):\n",
    "        y_cov[15][irow][icol]=hcov_16.GetBinContent(irow+hist_16.FindBin(fit_start),icol+hist_16.FindBin(fit_start))\n",
    "\n",
    "\n",
    "for ibin in range (0,fit_range):\n",
    "    y_val[16][ibin]=hist_17.GetBinContent(ibin+hist_17.FindBin(fit_start))\n",
    "    y_err[16][ibin]=hist_17.GetBinError(ibin+hist_17.FindBin(fit_start))\n",
    "    x_val[16][ibin]=hist_17.GetBinCenter(ibin+hist_17.FindBin(fit_start))\n",
    "\n",
    "for irow in range (0, fit_range):\n",
    "    for icol in range(0, fit_range):\n",
    "        y_cov[16][irow][icol]=hcov_17.GetBinContent(irow+hist_17.FindBin(fit_start),icol+hist_17.FindBin(fit_start))\n",
    "        \n",
    "\n",
    "for ibin in range (0,fit_range):\n",
    "    y_val[17][ibin]=hist_18.GetBinContent(ibin+hist_18.FindBin(fit_start))\n",
    "    y_err[17][ibin]=hist_18.GetBinError(ibin+hist_18.FindBin(fit_start))\n",
    "    x_val[17][ibin]=hist_18.GetBinCenter(ibin+hist_18.FindBin(fit_start))\n",
    "\n",
    "for irow in range (0, fit_range):\n",
    "    for icol in range(0, fit_range):\n",
    "        y_cov[17][irow][icol]=hcov_18.GetBinContent(irow+hist_18.FindBin(fit_start),icol+hist_18.FindBin(fit_start))\n",
    "        \n",
    "\n",
    "for ibin in range (0,fit_range):\n",
    "    y_val[18][ibin]=hist_19.GetBinContent(ibin+hist_19.FindBin(fit_start))\n",
    "    y_err[18][ibin]=hist_19.GetBinError(ibin+hist_19.FindBin(fit_start))\n",
    "    x_val[18][ibin]=hist_19.GetBinCenter(ibin+hist_19.FindBin(fit_start))\n",
    "\n",
    "for irow in range (0, fit_range):\n",
    "    for icol in range(0, fit_range):\n",
    "        y_cov[18][irow][icol]=hcov_19.GetBinContent(irow+hist_19.FindBin(fit_start),icol+hist_19.FindBin(fit_start))\n",
    "        \n",
    "\n",
    "for ibin in range (0,fit_range):\n",
    "    y_val[19][ibin]=hist_20.GetBinContent(ibin+hist_20.FindBin(fit_start))\n",
    "    y_err[19][ibin]=hist_20.GetBinError(ibin+hist_20.FindBin(fit_start))\n",
    "    x_val[19][ibin]=hist_20.GetBinCenter(ibin+hist_20.FindBin(fit_start))\n",
    "\n",
    "for irow in range (0, fit_range):\n",
    "    for icol in range(0, fit_range):\n",
    "        y_cov[19][irow][icol]=hcov_20.GetBinContent(irow+hist_20.FindBin(fit_start),icol+hist_20.FindBin(fit_start))\n",
    "        \n",
    "\n",
    "for ibin in range (0,fit_range):\n",
    "    y_val[20][ibin]=hist_21.GetBinContent(ibin+hist_21.FindBin(fit_start))\n",
    "    y_err[20][ibin]=hist_21.GetBinError(ibin+hist_21.FindBin(fit_start))\n",
    "    x_val[20][ibin]=hist_21.GetBinCenter(ibin+hist_21.FindBin(fit_start))\n",
    "\n",
    "for irow in range (0, fit_range):\n",
    "    for icol in range(0, fit_range):\n",
    "        y_cov[20][irow][icol]=hcov_21.GetBinContent(irow+hist_21.FindBin(fit_start),icol+hist_21.FindBin(fit_start))\n",
    "        "
   ]
  },
  {
   "cell_type": "code",
   "execution_count": 5,
   "id": "bb2e9e33",
   "metadata": {},
   "outputs": [
    {
     "name": "stdout",
     "output_type": "stream",
     "text": [
      " + ++++++++++++++++++++++++++++++++++++++++++++++++++++++++++++++++++++ +\n",
      " +                                                                      +\n",
      " +           You have chose to blind your fitting according to          +\n",
      " +                omega_ref * (1 + (R +/- deltaR) *10^{-6})             +\n",
      " +                                                                      +\n",
      " + ++++++++++++++++++++++++++++++++++++++++++++++++++++++++++++++++++++ +\n"
     ]
    }
   ],
   "source": [
    "getBlinded = Blinders(FitType.Omega_a, \"Ritwika's new  Blinding\")"
   ]
  },
  {
   "cell_type": "code",
   "execution_count": 6,
   "id": "55ef9479",
   "metadata": {},
   "outputs": [],
   "source": [
    "T_a_true=4365.411\n",
    "nbinshift=int((0.5*T_a_true)/hist_2.GetBinWidth(1))\n",
    "T_a=2*nbinshift*hist_2.GetBinWidth(1)\n",
    "\n",
    "asym=np.empty(21)\n",
    "dasym=np.empty(21)\n",
    "rval=np.empty(21)\n",
    "drval=np.empty(21)\n",
    "phi=np.empty(21)\n",
    "dphi=np.empty(21)\n",
    "\n",
    "calonum=np.empty(21)\n",
    "red_chi2=np.empty(21)\n"
   ]
  },
  {
   "cell_type": "code",
   "execution_count": 7,
   "id": "84ee54d5",
   "metadata": {},
   "outputs": [],
   "source": [
    "def fit_func(time: np.double,\n",
    "             asym: np.double = 0.0, \n",
    "             R: np.double = 0.0, \n",
    "             phi: np.double = 0.0,\n",
    "             asym_cbo = 0.0,\n",
    "             tau_cbo = 0.0,\n",
    "             omega_cbo = 0.0,\n",
    "             phi_cbo = 0.0,\n",
    "             asym_cbo_A = 0.0,\n",
    "             phi_cbo_A=0.0,\n",
    "             A_cbo_phi= 0.0,\n",
    "             phi_cbo_phi=0.0,\n",
    "             asym_vw= 0.0,\n",
    "             tau_vw = 0.0,\n",
    "             omega_vw = 0.0,\n",
    "             phi_vw = 0.0,\n",
    "             asym_vbo= 0.0,\n",
    "             tau_vbo = 0.0,\n",
    "             omega_vbo = 0.0,\n",
    "             phi_vbo = 0.0,\n",
    "             asym_2cbo= 0.0,\n",
    "             phi_2cbo = 0.0,\n",
    "             tau_rlx = 0.0,\n",
    "             A_cbot = 0.0,\n",
    "             tau_cbot = 0.0,\n",
    "             A_cbovw = 0.0,\n",
    "             phi_cbovw = 0.0)-> np.double:\n",
    "    \n",
    "    tau_cbovw = 17680,\n",
    "    omega_cbovw = 0.012,\n",
    "    \n",
    "    omega_cbot=omega_cbo*(1+A_cbot*exp(-time/tau_cbot))\n",
    "    omega_cbotf=omega_cbo*(1+A_cbot*exp(-(time+T_a/2)/tau_cbot))\n",
    "    omega_cbotb=omega_cbo*(1+A_cbot*exp(-(time-T_a/2)/tau_cbot))\n",
    "    \n",
    "    Ncbo=(1 + asym_cbo*exp(-time/tau_cbo)*cos(omega_cbot*time - phi_cbo))\n",
    "    Ncbof=(1+ asym_cbo*exp(-(time + T_a/2)/tau_cbo)*cos(omega_cbotf*(time + T_a/2) - phi_cbo))\n",
    "    Ncbob=(1+ asym_cbo*exp(-(time - T_a/2)/tau_cbo)*cos(omega_cbotb*(time - T_a/2) - phi_cbo))\n",
    "    \n",
    "    Acbo=(1+ asym_cbo_A*exp(-time/tau_cbo)*cos(omega_cbot*time - phi_cbo_A));\n",
    "    Acbof=(1+ asym_cbo_A*exp(-(time + T_a/2)/tau_cbo)*cos(omega_cbotf*(time + T_a/2) - phi_cbo_A))\n",
    "    Acbob=(1+ asym_cbo_A*exp(-(time - T_a/2)/tau_cbo)*cos(omega_cbotb*(time - T_a/2) - phi_cbo_A))\n",
    "    \n",
    "    phicbo=(A_cbo_phi*exp(-time/tau_cbo)*cos(omega_cbot*time - phi_cbo_phi))\n",
    "    phicbof=(A_cbo_phi*exp(-(time + T_a/2)/tau_cbo)*cos(omega_cbotf*(time + T_a/2) - phi_cbo_phi))\n",
    "    phicbob=(A_cbo_phi*exp(-(time - T_a/2)/tau_cbo)*cos(omega_cbotb*(time - T_a/2) - phi_cbo_phi))\n",
    "    \n",
    "    Nvw=(1+ asym_vw*exp(-time/tau_vw)*cos(omega_vw*time - phi_vw))\n",
    "    Nvwf=(1+ asym_vw*exp(-(time + T_a/2)/tau_vw)*cos(omega_vw*(time + T_a/2) - phi_vw))\n",
    "    Nvwb=(1+ asym_vw*exp(-(time - T_a/2)/tau_vw)*cos(omega_vw*(time - T_a/2) - phi_vw))\n",
    "    \n",
    "    Nvbo=(1+ asym_vbo*exp(-time/tau_vbo)*cos(omega_vbo*time - phi_vbo))\n",
    "    Nvbof=(1+ asym_vbo*exp(-(time + T_a/2)/tau_vbo)*cos(omega_vbo*(time + T_a/2) - phi_vbo))\n",
    "    Nvbob=(1+ asym_vbo*exp(-(time - T_a/2)/tau_vbo)*cos(omega_vbo*(time - T_a/2) - phi_vbo))\n",
    "    \n",
    "    N2cbo=(asym_2cbo*exp(-2*time/tau_cbo)*cos(2*omega_cbot*time - phi_2cbo))\n",
    "    N2cbof=(asym_2cbo*exp(-2*(time + T_a/2)/tau_cbo)*cos(2*omega_cbotf*(time + T_a/2) - phi_2cbo))\n",
    "    N2cbob=(asym_2cbo*exp(-2*(time - T_a/2)/tau_cbo)*cos(2*omega_cbotb*(time - T_a/2) - phi_2cbo))\n",
    "    \n",
    "    Ncbovw=(1+ A_cbovw*exp(-time/tau_cbovw)*cos(omega_cbovw*time - phi_cbovw))\n",
    "    Ncbovwf=(1+ A_cbovw*exp(-(time + T_a/2)/tau_cbovw)*cos(omega_cbovw*(time + T_a/2) - phi_cbovw))\n",
    "    Ncbovwb=(1+ A_cbovw*exp(-(time - T_a/2)/tau_cbovw)*cos(omega_cbovw*(time - T_a/2) - phi_cbovw))\n",
    "\n",
    "    \n",
    "    Ncbo=Ncbo+N2cbo\n",
    "    Ncbof=Ncbof+N2cbof\n",
    "    Ncbob=Ncbob+N2cbob\n",
    "\n",
    "    \n",
    "    f=(1+ asym*exp(-time/tau_rlx)*Acbo*cos((getBlinded.paramToFreq(R)/1000.)*time - phi - phicbo))\n",
    "\n",
    "    ff=(1+ asym*exp(-(time+T_a/2)/tau_rlx)*Acbof*cos((getBlinded.paramToFreq(R)/1000.)*(time + T_a/2) - phi - phicbof))\n",
    "\n",
    "    fb=(1+ asym*exp(-(time-T_a/2)/tau_rlx)*Acbob*cos((getBlinded.paramToFreq(R)/1000.)*(time - T_a/2) - phi - phicbob))\n",
    "\n",
    "    \n",
    "    return (2*f*Ncbo*Nvw*Nvbo*Ncbovw - ff*Ncbof*Nvwf*Nvbof*Ncbovwf - fb*Ncbob*Nvwb*Nvbob*Ncbovwb)/(2*f*Ncbo*Nvw*Nvbo*Ncbovw + ff*Ncbof*Nvwf*Nvbof*Ncbovwf + fb*Ncbob*Nvwb*Nvbob*Ncbovwb)"
   ]
  },
  {
   "cell_type": "code",
   "execution_count": 8,
   "id": "ac13f1d9",
   "metadata": {},
   "outputs": [],
   "source": [
    "p_init=[2.28839e-01,\n",
    "        0.000000,\n",
    "        4.02000e+00,\n",
    "        2.42604e-03,\n",
    "        2.54062e+05,\n",
    "        2.330e-03,\n",
    "        5.56481e-01,\n",
    "        6.91318e-04,\n",
    "        -5.78075e+00,\n",
    "        6.39026e-05,\n",
    "        3.52887e+01,\n",
    "        2.36536e-04,\n",
    "        1.38419e+05,\n",
    "        1.389e-02,\n",
    "        2.73495e-01,\n",
    "        -1.00112e-03,\n",
    "        3.48295e+04,\n",
    "        1.407e-02,\n",
    "        -1.99555e+01,\n",
    "        1.10668e-04,\n",
    "        3.06805e+00,\n",
    "        3.7000e+08,\n",
    "        0.0047,\n",
    "        23100,\n",
    "        0.00014,\n",
    "        4.2]"
   ]
  },
  {
   "cell_type": "code",
   "execution_count": 9,
   "id": "42d7ab1a",
   "metadata": {},
   "outputs": [
    {
     "name": "stdout",
     "output_type": "stream",
     "text": [
      "CPU times: user 3min, sys: 31.3 s, total: 3min 31s\n",
      "Wall time: 2min 4s\n"
     ]
    }
   ],
   "source": [
    "%%time\n",
    "for icalo in range(0,21): \n",
    "    \n",
    "    p_init_final=p_init\n",
    "    \n",
    "    pars2, cov_final = opt.curve_fit(f=fit_func, xdata=x_val[icalo], ydata=y_val[icalo], p0=p_init_final, sigma=y_cov[icalo])\n",
    "    \n",
    "    \n",
    "    stdevs=np.sqrt(np.diag(cov_final))\n",
    "    \n",
    "    chi2=np.dot((np.transpose(y_val[icalo]-fit_func(x_val[icalo], *pars2))),(np.dot((np.linalg.inv(y_cov[icalo])),(y_val[icalo]-fit_func(x_val[icalo], *pars2)))))\n",
    "    red_chi2[icalo]=chi2/(fit_range-len(pars2))\n",
    "    calonum[icalo]=icalo+1\n",
    "    \n",
    "    asym[icalo]=pars2[0]\n",
    "    dasym[icalo]=stdevs[0]\n",
    "    rval[icalo]=pars2[1]\n",
    "    drval[icalo]=stdevs[1]\n",
    "    phi[icalo]=pars2[2]\n",
    "    dphi[icalo]=stdevs[2]\n",
    "    \n",
    "    \n",
    "    p_init_final=pars2    \n",
    "    \n"
   ]
  },
  {
   "cell_type": "code",
   "execution_count": 10,
   "id": "6b117795",
   "metadata": {},
   "outputs": [],
   "source": [
    "thresh=[64.00,64.05,64.10,64.15,64.20,64.25,64.30,64.35,64.40,64.45,64.50,64.55,64.60,64.65,64.70,64.75,64.80,64.85,64.90,64.95,65]"
   ]
  },
  {
   "cell_type": "code",
   "execution_count": 11,
   "id": "dde0c359",
   "metadata": {
    "scrolled": false
   },
   "outputs": [
    {
     "data": {
      "image/png": "[encoded data removed]",
      "text/plain": [
       "<Figure size 1080x576 with 1 Axes>"
      ]
     },
     "metadata": {
      "needs_background": "light"
     },
     "output_type": "display_data"
    }
   ],
   "source": [
    "plt.figure(figsize=(15,8))\n",
    "plt.rc('xtick', labelsize=20) \n",
    "plt.rc('ytick', labelsize=20) \n",
    "plt.errorbar(thresh, rval, yerr=drval, fmt=\"o\")\n",
    "plt.xlabel('Muon lifetime [µs]',fontsize=25)\n",
    "plt.ylabel('R [ppm]',fontsize=25)\n",
    "plt.show()\n",
    "#plt.savefig('run2_caloscan_R.jpg')"
   ]
  },
  {
   "cell_type": "code",
   "execution_count": 12,
   "id": "1bf072b8",
   "metadata": {},
   "outputs": [
    {
     "data": {
      "image/png": "[encoded data removed]",
      "text/plain": [
       "<Figure size 1080x576 with 1 Axes>"
      ]
     },
     "metadata": {
      "needs_background": "light"
     },
     "output_type": "display_data"
    }
   ],
   "source": [
    "plt.figure(figsize=(15,8))\n",
    "plt.rc('xtick', labelsize=20) \n",
    "plt.rc('ytick', labelsize=20) \n",
    "plt.errorbar(thresh, rval, yerr=0, fmt=\"o\")\n",
    "plt.xlabel('Muon lifetime [µs]',fontsize=25)\n",
    "plt.ylabel('R [ppm]',fontsize=25)\n",
    "plt.show()"
   ]
  },
  {
   "cell_type": "code",
   "execution_count": 13,
   "id": "0fab15be",
   "metadata": {},
   "outputs": [
    {
     "data": {
      "image/png": "[encoded data removed]",
      "text/plain": [
       "<Figure size 864x576 with 1 Axes>"
      ]
     },
     "metadata": {
      "needs_background": "light"
     },
     "output_type": "display_data"
    }
   ],
   "source": [
    "plt.figure(figsize=(12,8))\n",
    "plt.rc('xtick', labelsize=20) \n",
    "plt.rc('ytick', labelsize=20) \n",
    "plt.errorbar(thresh, red_chi2, yerr=0, fmt=\"o\")\n",
    "plt.xlabel('Muon lifetime [µs]',fontsize=25)\n",
    "plt.ylabel('chi2/ndf',fontsize=25)\n",
    "plt.show()"
   ]
  },
  {
   "cell_type": "code",
   "execution_count": 14,
   "id": "3a0aaa0d",
   "metadata": {},
   "outputs": [
    {
     "data": {
      "text/plain": [
       "array([-35.3063429 , -35.30597802, -35.30622227, -35.30656744,\n",
       "       -35.30669473, -35.30678945, -35.30723296, -35.30727683,\n",
       "       -35.30749286, -35.30817089, -35.30811432, -35.30843505,\n",
       "       -35.30895758, -35.30876405, -35.30904884, -35.30953913,\n",
       "       -35.30987352, -35.31020707, -35.31045713, -35.31033148,\n",
       "       -35.31033148])"
      ]
     },
     "execution_count": 14,
     "metadata": {},
     "output_type": "execute_result"
    }
   ],
   "source": [
    "rval"
   ]
  },
  {
   "cell_type": "code",
   "execution_count": 15,
   "id": "bc67fe10",
   "metadata": {},
   "outputs": [
    {
     "data": {
      "text/plain": [
       "array([0.38480632, 0.38476221, 0.38495532, 0.38471216, 0.38480523,\n",
       "       0.38466778, 0.38465429, 0.38463631, 0.38461671, 0.38471928,\n",
       "       0.38471651, 0.38459714, 0.38470904, 0.38459052, 0.38481892,\n",
       "       0.38460795, 0.38471206, 0.38462493, 0.38485107, 0.38464478,\n",
       "       0.38464478])"
      ]
     },
     "execution_count": 15,
     "metadata": {},
     "output_type": "execute_result"
    }
   ],
   "source": [
    "drval"
   ]
  },
  {
   "cell_type": "code",
   "execution_count": 16,
   "id": "32e6b801",
   "metadata": {},
   "outputs": [
    {
     "data": {
      "image/png": "[encoded data removed]",
      "text/plain": [
       "<Figure size 1080x576 with 1 Axes>"
      ]
     },
     "metadata": {
      "needs_background": "light"
     },
     "output_type": "display_data"
    }
   ],
   "source": [
    "plt.figure(figsize=(15,8))\n",
    "plt.rc('xtick', labelsize=20) \n",
    "plt.rc('ytick', labelsize=20) \n",
    "plt.errorbar(thresh, asym, yerr=dasym, fmt=\"o\")\n",
    "plt.xlabel('Muon lifetime [µs]',fontsize=25)\n",
    "plt.ylabel('A',fontsize=25)\n",
    "plt.show()"
   ]
  },
  {
   "cell_type": "code",
   "execution_count": 17,
   "id": "94cbcbdf",
   "metadata": {},
   "outputs": [
    {
     "data": {
      "image/png": "[encoded data removed]",
      "text/plain": [
       "<Figure size 864x576 with 1 Axes>"
      ]
     },
     "metadata": {
      "needs_background": "light"
     },
     "output_type": "display_data"
    }
   ],
   "source": [
    "plt.figure(figsize=(12,8))\n",
    "plt.rc('xtick', labelsize=20) \n",
    "plt.rc('ytick', labelsize=20) \n",
    "plt.errorbar(thresh, drval, yerr=0, fmt=\"o\")\n",
    "plt.xlabel('Muon lifetime [µs]',fontsize=25)\n",
    "plt.ylabel('dR [ppm]',fontsize=25)\n",
    "plt.show()"
   ]
  },
  {
   "cell_type": "code",
   "execution_count": null,
   "id": "b78a9fab",
   "metadata": {},
   "outputs": [],
   "source": []
  },
  {
   "cell_type": "code",
   "execution_count": null,
   "id": "3c8e6a38",
   "metadata": {},
   "outputs": [],
   "source": []
  },
  {
   "cell_type": "code",
   "execution_count": null,
   "id": "e586b979",
   "metadata": {},
   "outputs": [],
   "source": []
  }
 ],
 "metadata": {
  "kernelspec": {
   "display_name": "Python 3",
   "language": "python",
   "name": "python3"
  },
  "language_info": {
   "codemirror_mode": {
    "name": "ipython",
    "version": 3
   },
   "file_extension": ".py",
   "mimetype": "text/x-python",
   "name": "python",
   "nbconvert_exporter": "python",
   "pygments_lexer": "ipython3",
   "version": "3.6.9"
  }
 },
 "nbformat": 4,
 "nbformat_minor": 5
}
