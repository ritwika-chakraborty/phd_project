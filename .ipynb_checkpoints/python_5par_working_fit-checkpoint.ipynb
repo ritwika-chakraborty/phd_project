{
 "cells": [
  {
   "cell_type": "code",
   "execution_count": 240,
   "id": "f97957bd",
   "metadata": {},
   "outputs": [],
   "source": [
    "import numpy as np\n",
    "import ROOT\n",
    "from math import exp as expo\n",
    "from math import cos as cosine\n",
    "exp=np.vectorize(expo)\n",
    "cos=np.vectorize(cosine)\n",
    "import matplotlib.pylab as plt\n",
    "from matplotlib.pyplot import figure\n",
    "from BlindersPy3 import Blinders\n",
    "from BlindersPy3 import FitType\n",
    "import scipy.optimize as opt"
   ]
  },
  {
   "cell_type": "code",
   "execution_count": 241,
   "id": "b4733163",
   "metadata": {},
   "outputs": [],
   "source": [
    "file=ROOT.TFile(\"run2_thresh300_fbfDQC.root\")\n",
    "file = ROOT.TFile.Open(\"run2_thresh300_fbfDQC.root\")\n",
    "direc = file.Get(\"QFillByFillAnalyzerDB\")\n",
    "hist = ROOT.TH1D()\n",
    "hist = direc.Get(\"qHist1D_sig_22_0\")"
   ]
  },
  {
   "cell_type": "code",
   "execution_count": 6,
   "id": "abcf645b",
   "metadata": {},
   "outputs": [
    {
     "name": "stdout",
     "output_type": "stream",
     "text": [
      " + ++++++++++++++++++++++++++++++++++++++++++++++++++++++++++++++++++++ +\n",
      " +                                                                      +\n",
      " +           You have chose to blind your fitting according to          +\n",
      " +                omega_ref * (1 + (R +/- deltaR) *10^{-6})             +\n",
      " +                                                                      +\n",
      " + ++++++++++++++++++++++++++++++++++++++++++++++++++++++++++++++++++++ +\n"
     ]
    }
   ],
   "source": [
    "getBlinded = Blinders(FitType.Omega_a, \"Ritwika's new  Blinding\")"
   ]
  },
  {
   "cell_type": "code",
   "execution_count": 242,
   "id": "68be7db2",
   "metadata": {},
   "outputs": [],
   "source": [
    "rawBinToNs = 1.25\n",
    "inject_time = 104800\n",
    "binwidth=hist.GetBinWidth(1)\n",
    "nbins=hist.GetNbinsX()\n",
    "binlowedge=hist.GetBinLowEdge(1)\n",
    "binhighedge=hist.GetBinLowEdge(nbins)+binwidth\n",
    "hist.SetBins(nbins, rawBinToNs*(binlowedge-inject_time), rawBinToNs*(binhighedge-inject_time))\n",
    "\n",
    "\n",
    "hist.Rebin(8)\n",
    "\n",
    "\n",
    "fit_start=30000\n",
    "fit_stop=300000\n",
    "fit_range=hist.FindBin(fit_stop)-hist.FindBin(fit_start)+1\n",
    "\n",
    "y_val=np.empty(fit_range)\n",
    "y_err=np.empty(fit_range)\n",
    "x_val=np.empty(fit_range)\n",
    "for ibin in range (0,fit_range):\n",
    "  y_val[ibin]=hist.GetBinContent(ibin+hist.FindBin(fit_start))\n",
    "  y_err[ibin]=hist.GetBinError(ibin+hist.FindBin(fit_start))\n",
    "  x_val[ibin]=hist.GetBinCenter(ibin+hist.FindBin(fit_start))"
   ]
  },
  {
   "cell_type": "code",
   "execution_count": 243,
   "id": "fb61edde",
   "metadata": {},
   "outputs": [],
   "source": [
    "# Function to calculate the exponential with constants a and b\n",
    "def exponential(x, a, b):\n",
    "    return a*np.exp(b*x)\n",
    "\n",
    "def fit_func(time: np.double, norm: np.double=1.0, life: np.double=1.0, asym: np.double=0.0, R: np.double=0.0, phi: np.double=0.0)-> np.double:\n",
    "    return norm*np.exp(-time/life)*(1+asym*np.cos((getBlinded.paramToFreq(R)/1000.)*time + phi))\n",
    "  "
   ]
  },
  {
   "cell_type": "code",
   "execution_count": 244,
   "id": "2debec28",
   "metadata": {},
   "outputs": [],
   "source": [
    "p_init=[5.28265e+09, 6.44091e+04,2.27642e-01,0.000000,2.21335e+00]\n",
    "#p_init=[5282659999.9989,64667.25009360975, 0.13096797454649656, 0, 0]\n",
    "Initial_model = fit_func(x_val, *p_init)"
   ]
  },
  {
   "cell_type": "code",
   "execution_count": 245,
   "id": "6482cefd",
   "metadata": {},
   "outputs": [],
   "source": [
    "#pars, cov = opt.curve_fit(f=fit_func, xdata=x_val, ydata=y_val, p0=p_init, sigma=y_err)\n",
    "pars2, cov2 = opt.curve_fit(f=fit_func, xdata=x_val, ydata=y_val, p0=p_init, sigma=y_err)"
   ]
  },
  {
   "cell_type": "code",
   "execution_count": 246,
   "id": "601a3ab6",
   "metadata": {},
   "outputs": [
    {
     "data": {
      "text/plain": [
       "array([ 5.28292853e+09,  6.44075966e+04,  2.27653029e-01, -2.80088603e+01,\n",
       "        2.21294606e+00])"
      ]
     },
     "execution_count": 246,
     "metadata": {},
     "output_type": "execute_result"
    }
   ],
   "source": [
    "pars2"
   ]
  },
  {
   "cell_type": "code",
   "execution_count": 247,
   "id": "5d629b42",
   "metadata": {},
   "outputs": [
    {
     "data": {
      "image/png": "[encoded data removed]",
      "text/plain": [
       "<Figure size 432x288 with 1 Axes>"
      ]
     },
     "metadata": {
      "needs_background": "light"
     },
     "output_type": "display_data"
    }
   ],
   "source": [
    "# Plot the noisy exponential data\n",
    "plt.scatter(x_val, y_val, s=0.1, color='#00b3b3', label='Data')\n",
    "plt.plot(x_val, fit_func(x_val, *pars2), linestyle='--', linewidth=1, color='red')\n",
    "plt.ylim([0.0, 6000000000])\n",
    "#plt.xlim([100000,150000])\n",
    "plt.show()"
   ]
  },
  {
   "cell_type": "code",
   "execution_count": 248,
   "id": "08a7b569",
   "metadata": {
    "scrolled": true
   },
   "outputs": [],
   "source": [
    "# Get the standard deviations of the parameters (square roots of the # diagonal of the covariance)\n",
    "stdevs = np.sqrt(np.diag(cov2))\n",
    "# Calculate the residuals\n",
    "res = (y_val - fit_func(x_val, *pars2))/y_err"
   ]
  },
  {
   "cell_type": "code",
   "execution_count": 249,
   "id": "ca383666",
   "metadata": {},
   "outputs": [
    {
     "data": {
      "text/plain": [
       "(100000.0, 150000.0)"
      ]
     },
     "execution_count": 249,
     "metadata": {},
     "output_type": "execute_result"
    },
    {
     "data": {
      "image/png": "[encoded data removed]",
      "text/plain": [
       "<Figure size 432x288 with 1 Axes>"
      ]
     },
     "metadata": {
      "needs_background": "light"
     },
     "output_type": "display_data"
    }
   ],
   "source": [
    "# Plot the noisy exponential data\n",
    "plt.plot(x_val, res, linestyle='dotted', linewidth=2, color='black')\n",
    "plt.xlim([100000,150000])"
   ]
  },
  {
   "cell_type": "code",
   "execution_count": 250,
   "id": "0a30dd8d",
   "metadata": {},
   "outputs": [
    {
     "data": {
      "text/plain": [
       "array([[ 3.81984874e+12, -2.39774314e+07,  2.60661624e+01,\n",
       "        -2.03832380e+05,  4.73413323e+01],\n",
       "       [-2.39774314e+07,  2.05856317e+02, -6.63948818e-05,\n",
       "         8.55926711e-01, -2.34029319e-04],\n",
       "       [ 2.60661624e+01, -6.63948818e-05,  6.85862675e-08,\n",
       "         1.40996008e-05, -2.90495992e-09],\n",
       "       [-2.03832380e+05,  8.55926711e-01,  1.40996008e-05,\n",
       "         2.16381402e+02, -2.83370371e-02],\n",
       "       [ 4.73413323e+01, -2.34029319e-04, -2.90495992e-09,\n",
       "        -2.83370371e-02,  5.08531348e-06]])"
      ]
     },
     "execution_count": 250,
     "metadata": {},
     "output_type": "execute_result"
    }
   ],
   "source": [
    "cov2"
   ]
  },
  {
   "cell_type": "code",
   "execution_count": 251,
   "id": "455c51cc",
   "metadata": {},
   "outputs": [
    {
     "data": {
      "text/plain": [
       "array([1.95444333e+06, 1.43476938e+01, 2.61889800e-04, 1.47099083e+01,\n",
       "       2.25506396e-03])"
      ]
     },
     "execution_count": 251,
     "metadata": {},
     "output_type": "execute_result"
    }
   ],
   "source": [
    "stdevs"
   ]
  },
  {
   "cell_type": "code",
   "execution_count": null,
   "id": "5aa9467b",
   "metadata": {},
   "outputs": [],
   "source": []
  },
  {
   "cell_type": "code",
   "execution_count": null,
   "id": "f004aa2e",
   "metadata": {},
   "outputs": [],
   "source": []
  },
  {
   "cell_type": "code",
   "execution_count": null,
   "id": "139aa963",
   "metadata": {},
   "outputs": [],
   "source": []
  },
  {
   "cell_type": "code",
   "execution_count": null,
   "id": "3c9754f3",
   "metadata": {},
   "outputs": [],
   "source": []
  },
  {
   "cell_type": "code",
   "execution_count": null,
   "id": "62141665",
   "metadata": {},
   "outputs": [],
   "source": []
  },
  {
   "cell_type": "code",
   "execution_count": null,
   "id": "d2407088",
   "metadata": {},
   "outputs": [],
   "source": []
  },
  {
   "cell_type": "code",
   "execution_count": null,
   "id": "8cd9f178",
   "metadata": {},
   "outputs": [],
   "source": []
  },
  {
   "cell_type": "code",
   "execution_count": null,
   "id": "47873417",
   "metadata": {},
   "outputs": [],
   "source": []
  }
 ],
 "metadata": {
  "kernelspec": {
   "display_name": "Python 3",
   "language": "python",
   "name": "python3"
  },
  "language_info": {
   "codemirror_mode": {
    "name": "ipython",
    "version": 3
   },
   "file_extension": ".py",
   "mimetype": "text/x-python",
   "name": "python",
   "nbconvert_exporter": "python",
   "pygments_lexer": "ipython3",
   "version": "3.6.9"
  }
 },
 "nbformat": 4,
 "nbformat_minor": 5
}
