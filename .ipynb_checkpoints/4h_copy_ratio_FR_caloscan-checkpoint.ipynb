{
 "cells": [
  {
   "cell_type": "code",
   "execution_count": 138,
   "id": "24d7e9fa",
   "metadata": {},
   "outputs": [],
   "source": [
    "import numpy as np\n",
    "import ROOT\n",
    "from math import exp as expo\n",
    "from math import cos as cosine\n",
    "exp=np.vectorize(expo)\n",
    "cos=np.vectorize(cosine)\n",
    "import matplotlib.pylab as plt\n",
    "from matplotlib.pyplot import figure\n",
    "from BlindersPy3 import Blinders\n",
    "from BlindersPy3 import FitType\n",
    "import scipy.optimize as opt"
   ]
  },
  {
   "cell_type": "code",
   "execution_count": 141,
   "id": "0cdd4ae0",
   "metadata": {},
   "outputs": [],
   "source": [
    "file = ROOT.TFile.Open(\"4h_copy_ratio_FR_caloscan_cov.root\")\n",
    "hist_tmp = ROOT.TH1D()\n",
    "hist_tmp = file.Get(\"hcalo_ratio_1\")"
   ]
  },
  {
   "cell_type": "code",
   "execution_count": 142,
   "id": "9914b27c",
   "metadata": {},
   "outputs": [],
   "source": [
    "fit_start=30000\n",
    "fit_stop=300000\n",
    "fit_range=hist_tmp.FindBin(fit_stop)-hist_tmp.FindBin(fit_start)+1\n",
    "y_val=np.empty(shape=(24,fit_range))\n",
    "y_err=np.empty(shape=(24,fit_range))\n",
    "x_val=np.empty(shape=(24,fit_range))\n",
    "y_cov=np.empty(shape=(24,fit_range,fit_range))    "
   ]
  },
  {
   "cell_type": "code",
   "execution_count": 143,
   "id": "6a680bf4",
   "metadata": {},
   "outputs": [
    {
     "name": "stdout",
     "output_type": "stream",
     "text": [
      "CPU times: user 2min 50s, sys: 35.9 s, total: 3min 25s\n",
      "Wall time: 3min 25s\n"
     ]
    }
   ],
   "source": [
    "%%time\n",
    "for icalo in range(0,24):\n",
    "    hist = ROOT.TH1D()\n",
    "    hcov = ROOT.TH2D()\n",
    "    hist = file.Get(\"hcalo_ratio_\"+str(icalo+1))\n",
    "    for ibin in range (0,fit_range):\n",
    "        y_val[icalo][ibin]=hist.GetBinContent(ibin+hist.FindBin(fit_start))\n",
    "        y_err[icalo][ibin]=hist.GetBinError(ibin+hist.FindBin(fit_start))\n",
    "        x_val[icalo][ibin]=hist.GetBinCenter(ibin+hist.FindBin(fit_start))\n",
    "        \n",
    "    hcov = file.Get(\"hcov_\"+str(icalo+1))\n",
    "    for irow in range (0, fit_range):\n",
    "        for icol in range(0, fit_range):\n",
    "            y_cov[icalo][irow][icol]=hcov.GetBinContent(irow+hist.FindBin(fit_start),icol+hist.FindBin(fit_start))\n",
    "            \n",
    "    hist.Reset()\n",
    "    hcov.Reset()"
   ]
  },
  {
   "cell_type": "code",
   "execution_count": 145,
   "id": "0db18c96",
   "metadata": {},
   "outputs": [
    {
     "data": {
      "text/plain": [
       "1.335316446795678e-06"
      ]
     },
     "execution_count": 145,
     "metadata": {},
     "output_type": "execute_result"
    }
   ],
   "source": [
    "y_cov[0][1000][1000]"
   ]
  },
  {
   "cell_type": "code",
   "execution_count": 146,
   "id": "3dac9d4d",
   "metadata": {},
   "outputs": [
    {
     "name": "stdout",
     "output_type": "stream",
     "text": [
      " + ++++++++++++++++++++++++++++++++++++++++++++++++++++++++++++++++++++ +\n",
      " +                                                                      +\n",
      " +           You have chose to blind your fitting according to          +\n",
      " +                omega_ref * (1 + (R +/- deltaR) *10^{-6})             +\n",
      " +                                                                      +\n",
      " + ++++++++++++++++++++++++++++++++++++++++++++++++++++++++++++++++++++ +\n"
     ]
    }
   ],
   "source": [
    "getBlinded = Blinders(FitType.Omega_a, \"Ritwika's new  Blinding\")\n"
   ]
  },
  {
   "cell_type": "code",
   "execution_count": 147,
   "id": "95f40710",
   "metadata": {},
   "outputs": [],
   "source": [
    "T_a_true=4365.411\n",
    "nbinshift=int((0.5*T_a_true)/hist.GetBinWidth(1))\n",
    "T_a=2*nbinshift*hist.GetBinWidth(1)\n",
    "\n",
    "asym=np.empty(24)\n",
    "dasym=np.empty(24)\n",
    "rval=np.empty(24)\n",
    "drval=np.empty(24)\n",
    "phi=np.empty(24)\n",
    "dphi=np.empty(24)\n",
    "A_cbo=np.empty(24)\n",
    "dA_cbo=np.empty(24)\n",
    "tau_cbo=np.empty(24)\n",
    "dtau_cbo=np.empty(24)\n",
    "omega_cbo=np.empty(24)\n",
    "domega_cbo=np.empty(24)\n",
    "phi_cbo=np.empty(24)\n",
    "dphi_cbo=np.empty(24)\n",
    "A_cbo_A=np.empty(24)\n",
    "dA_cbo_A=np.empty(24)\n",
    "phi_cbo_A=np.empty(24)\n",
    "dphi_cbo_A=np.empty(24)\n",
    "A_cbo_phi=np.empty(24)\n",
    "dA_cbo_phi=np.empty(24)\n",
    "phi_cbo_phi=np.empty(24)\n",
    "dphi_cbo_phi=np.empty(24)\n",
    "A_vw=np.empty(24)\n",
    "dA_vw=np.empty(24)\n",
    "tau_vw=np.empty(24)\n",
    "dtau_vw=np.empty(24)\n",
    "omega_vw=np.empty(24)\n",
    "domega_vw=np.empty(24)\n",
    "phi_vw=np.empty(24)\n",
    "dphi_vw=np.empty(24)\n",
    "A_y=np.empty(24)\n",
    "dA_y=np.empty(24)\n",
    "tau_y=np.empty(24)\n",
    "dtau_y=np.empty(24)\n",
    "omega_y=np.empty(24)\n",
    "domega_y=np.empty(24)\n",
    "phi_y=np.empty(24)\n",
    "dphi_y=np.empty(24)\n",
    "A_2cbo=np.empty(24)\n",
    "dA_2cbo=np.empty(24)\n",
    "tau_2cbo=np.empty(24)\n",
    "dtau_2cbo=np.empty(24)\n",
    "omega_2cbo=np.empty(24)\n",
    "domega_2cbo=np.empty(24)\n",
    "phi_2cbo=np.empty(24)\n",
    "dphi_2cbo=np.empty(24)\n",
    "calonum=np.empty(24)\n"
   ]
  },
  {
   "cell_type": "code",
   "execution_count": 148,
   "id": "0cb18dcd",
   "metadata": {},
   "outputs": [],
   "source": [
    "def fit_func(time: np.double,\n",
    "             asym: np.double = 0.0, \n",
    "             R: np.double = 0.0, \n",
    "             phi: np.double = 0.0,\n",
    "             asym_cbo = 0.0,\n",
    "             tau_cbo = 0.0,\n",
    "             omega_cbo = 0.0,\n",
    "             phi_cbo = 0.0,\n",
    "             asym_cbo_A = 0.0,\n",
    "             phi_cbo_A=0.0,\n",
    "             A_cbo_phi= 0.0,\n",
    "             phi_cbo_phi=0.0,\n",
    "             asym_vw= 0.0,\n",
    "             tau_vw = 0.0,\n",
    "             omega_vw = 0.0,\n",
    "             phi_vw = 0.0,\n",
    "             asym_vbo= 0.0,\n",
    "             tau_vbo = 0.0,\n",
    "             omega_vbo = 0.0,\n",
    "             phi_vbo = 0.0,\n",
    "             asym_2cbo= 0.0,\n",
    "             tau_2cbo = 0.0,\n",
    "             omega_2cbo = 0.0,\n",
    "             phi_2cbo = 0.0)-> np.double:\n",
    "    \n",
    "    Ncbo=(1 + asym_cbo*exp(-time/tau_cbo)*cos(omega_cbo*time + phi_cbo))\n",
    "    Ncbof=(1+ asym_cbo*exp(-(time + T_a/2)/tau_cbo)*cos(omega_cbo*(time + T_a/2) + phi_cbo))\n",
    "    Ncbob=(1+ asym_cbo*exp(-(time - T_a/2)/tau_cbo)*cos(omega_cbo*(time - T_a/2) + phi_cbo))\n",
    "    Acbo=(1+ asym_cbo_A*exp(-time/tau_cbo)*cos(omega_cbo*time + phi_cbo_A));\n",
    "    Acbof=(1+ asym_cbo_A*exp(-(time + T_a/2)/tau_cbo)*cos(omega_cbo*(time + T_a/2) + phi_cbo_A))\n",
    "    Acbob=(1+ asym_cbo_A*exp(-(time - T_a/2)/tau_cbo)*cos(omega_cbo*(time - T_a/2) + phi_cbo_A))\n",
    "    phicbo=(A_cbo_phi*exp(-time/tau_cbo)*cos(omega_cbo*time + phi_cbo_phi))\n",
    "    phicbof=(A_cbo_phi*exp(-(time + T_a/2)/tau_cbo)*cos(omega_cbo*(time + T_a/2) + phi_cbo_phi))\n",
    "    phicbob=(A_cbo_phi*exp(-(time - T_a/2)/tau_cbo)*cos(omega_cbo*(time - T_a/2) + phi_cbo_phi))\n",
    "    Nvw=(1+ asym_vw*exp(-time/tau_vw)*cos(omega_vw*time + phi_vw))\n",
    "    Nvwf=(1+ asym_vw*exp(-(time + T_a/2)/tau_vw)*cos(omega_vw*(time + T_a/2) + phi_vw))\n",
    "    Nvwb=(1+ asym_vw*exp(-(time - T_a/2)/tau_vw)*cos(omega_vw*(time - T_a/2) + phi_vw))\n",
    "    Nvbo=(1+ asym_vbo*exp(-time/tau_vbo)*cos(omega_vbo*time + phi_vbo))\n",
    "    Nvbof=(1+ asym_vbo*exp(-(time + T_a/2)/tau_vbo)*cos(omega_vbo*(time + T_a/2) + phi_vbo))\n",
    "    Nvbob=(1+ asym_vbo*exp(-(time - T_a/2)/tau_vbo)*cos(omega_vbo*(time - T_a/2) + phi_vbo))\n",
    "    N2cbo=(asym_2cbo*exp(-time/tau_2cbo)*cos(omega_2cbo*time + phi_2cbo))\n",
    "    N2cbof=(asym_2cbo*exp(-(time + T_a/2)/tau_2cbo)*cos(omega_2cbo*(time + T_a/2) + phi_2cbo))\n",
    "    N2cbob=(asym_2cbo*exp(-(time - T_a/2)/tau_2cbo)*cos(omega_2cbo*(time - T_a/2) + phi_2cbo))\n",
    "    \n",
    "    Ncbo=Ncbo+N2cbo\n",
    "    Ncbof=Ncbof+N2cbof\n",
    "    Ncbob=Ncbob+N2cbob\n",
    "\n",
    "    \n",
    "    f=(1+ asym*Acbo*cos((getBlinded.paramToFreq(R)/1000.)*time + phi + phicbo))\n",
    "\n",
    "    ff=(1+ asym*Acbof*cos((getBlinded.paramToFreq(R)/1000.)*(time + T_a/2) + phi + phicbof))\n",
    "\n",
    "    fb=(1+ asym*Acbob*cos((getBlinded.paramToFreq(R)/1000.)*(time - T_a/2) + phi + phicbob))\n",
    "\n",
    "    \n",
    "    return (2*f*Ncbo*Nvw*Nvbo - ff*Ncbof*Nvwf*Nvbof - fb*Ncbob*Nvwb*Nvbob)/(2*f*Ncbo*Nvw*Nvbo + ff*Ncbof*Nvwf*Nvbof + fb*Ncbob*Nvwb*Nvbob)"
   ]
  },
  {
   "cell_type": "code",
   "execution_count": 149,
   "id": "bc2b9ebe",
   "metadata": {},
   "outputs": [],
   "source": [
    "p_init=[2.28839e-01,\n",
    "        0.000000,\n",
    "        2.26873e+00,\n",
    "        2.42604e-03,\n",
    "        2.54062e+05,\n",
    "        2.34062e-03,\n",
    "        5.56481e-01,\n",
    "        6.91318e-04,\n",
    "        -5.78075e+00,\n",
    "        6.39026e-05,\n",
    "        3.52887e+01,\n",
    "        2.36536e-04,\n",
    "        1.38419e+05,\n",
    "        1.39311e-02,\n",
    "        2.73495e-01,\n",
    "        -1.00112e-03,\n",
    "        3.48295e+04,\n",
    "        1.40369e-02,\n",
    "        -1.99555e+01,\n",
    "        1.10668e-04,\n",
    "        1.70775e+05,\n",
    "        4.69116e-03,\n",
    "        3.06805e+00]"
   ]
  },
  {
   "cell_type": "code",
   "execution_count": 150,
   "id": "961876db",
   "metadata": {},
   "outputs": [
    {
     "ename": "RuntimeError",
     "evalue": "Optimal parameters not found: Number of calls to function has reached maxfev = 4800.",
     "output_type": "error",
     "traceback": [
      "\u001b[0;31m---------------------------------------------------------------------------\u001b[0m",
      "\u001b[0;31mRuntimeError\u001b[0m                              Traceback (most recent call last)",
      "\u001b[0;32m<timed exec>\u001b[0m in \u001b[0;36m<module>\u001b[0;34m\u001b[0m\n",
      "\u001b[0;32m~/.local/lib/python3.6/site-packages/scipy/optimize/minpack.py\u001b[0m in \u001b[0;36mcurve_fit\u001b[0;34m(f, xdata, ydata, p0, sigma, absolute_sigma, check_finite, bounds, method, jac, **kwargs)\u001b[0m\n\u001b[1;32m    787\u001b[0m         \u001b[0mcost\u001b[0m \u001b[0;34m=\u001b[0m \u001b[0mnp\u001b[0m\u001b[0;34m.\u001b[0m\u001b[0msum\u001b[0m\u001b[0;34m(\u001b[0m\u001b[0minfodict\u001b[0m\u001b[0;34m[\u001b[0m\u001b[0;34m'fvec'\u001b[0m\u001b[0;34m]\u001b[0m \u001b[0;34m**\u001b[0m \u001b[0;36m2\u001b[0m\u001b[0;34m)\u001b[0m\u001b[0;34m\u001b[0m\u001b[0;34m\u001b[0m\u001b[0m\n\u001b[1;32m    788\u001b[0m         \u001b[0;32mif\u001b[0m \u001b[0mier\u001b[0m \u001b[0;32mnot\u001b[0m \u001b[0;32min\u001b[0m \u001b[0;34m[\u001b[0m\u001b[0;36m1\u001b[0m\u001b[0;34m,\u001b[0m \u001b[0;36m2\u001b[0m\u001b[0;34m,\u001b[0m \u001b[0;36m3\u001b[0m\u001b[0;34m,\u001b[0m \u001b[0;36m4\u001b[0m\u001b[0;34m]\u001b[0m\u001b[0;34m:\u001b[0m\u001b[0;34m\u001b[0m\u001b[0;34m\u001b[0m\u001b[0m\n\u001b[0;32m--> 789\u001b[0;31m             \u001b[0;32mraise\u001b[0m \u001b[0mRuntimeError\u001b[0m\u001b[0;34m(\u001b[0m\u001b[0;34m\"Optimal parameters not found: \"\u001b[0m \u001b[0;34m+\u001b[0m \u001b[0merrmsg\u001b[0m\u001b[0;34m)\u001b[0m\u001b[0;34m\u001b[0m\u001b[0;34m\u001b[0m\u001b[0m\n\u001b[0m\u001b[1;32m    790\u001b[0m     \u001b[0;32melse\u001b[0m\u001b[0;34m:\u001b[0m\u001b[0;34m\u001b[0m\u001b[0;34m\u001b[0m\u001b[0m\n\u001b[1;32m    791\u001b[0m         \u001b[0;31m# Rename maxfev (leastsq) to max_nfev (least_squares), if specified.\u001b[0m\u001b[0;34m\u001b[0m\u001b[0;34m\u001b[0m\u001b[0;34m\u001b[0m\u001b[0m\n",
      "\u001b[0;31mRuntimeError\u001b[0m: Optimal parameters not found: Number of calls to function has reached maxfev = 4800."
     ]
    }
   ],
   "source": [
    "%%time\n",
    "for icalo in range(0,24): \n",
    "    pars2, cov2 = opt.curve_fit(f=fit_func, xdata=x_val[icalo], ydata=y_val[icalo], p0=p_init, sigma=y_cov[icalo])  \n",
    "    \n",
    "    stdevs=np.sqrt(np.diag(cov2))\n",
    "    \n",
    "    calonum[icalo]=icalo+1\n",
    "    \n",
    "    asym[icalo]=pars2[0]\n",
    "    dasym[icalo]=stdevs[0]\n",
    "    rval[icalo]=pars2[1]\n",
    "    drval[icalo]=stdevs[1]\n",
    "    phi[icalo]=pars2[2]\n",
    "    dphi[icalo]=stdevs[2]\n",
    "    A_cbo[icalo]=pars2[3]\n",
    "    dA_cbo[icalo]=stdevs[3]\n",
    "    tau_cbo[icalo]=pars2[4]\n",
    "    dtau_cbo[icalo]=stdevs[4]\n",
    "    omega_cbo[icalo]=pars2[5]\n",
    "    domega_cbo[icalo]=stdevs[5]\n",
    "    phi_cbo[icalo]=pars2[6]\n",
    "    dphi_cbo[icalo]=stdevs[6]\n",
    "    A_cbo_A[icalo]=pars2[7]\n",
    "    dA_cbo_A[icalo]=stdevs[7]\n",
    "    phi_cbo_A[icalo]=pars2[8]\n",
    "    dphi_cbo_A[icalo]=stdevs[8]\n",
    "    A_cbo_phi[icalo]=pars2[9]\n",
    "    dA_cbo_phi[icalo]=stdevs[9]\n",
    "    phi_cbo_phi[icalo]=pars2[10]\n",
    "    dphi_cbo_phi[icalo]=stdevs[10]\n",
    "    A_vw[icalo]=pars2[11]\n",
    "    dA_vw[icalo]=stdevs[11]\n",
    "    tau_vw[icalo]=pars2[12]\n",
    "    dtau_vw[icalo]=stdevs[12]\n",
    "    omega_vw[icalo]=pars2[13]\n",
    "    domega_vw[icalo]=stdevs[13]\n",
    "    phi_vw[icalo]=pars2[14]\n",
    "    dphi_vw[icalo]=stdevs[14]\n",
    "    A_y[icalo]=pars2[15]\n",
    "    dA_y[icalo]=stdevs[15]\n",
    "    tau_y[icalo]=pars2[16]\n",
    "    dtau_y[icalo]=stdevs[16]\n",
    "    omega_y[icalo]=pars2[17]\n",
    "    domega_y[icalo]=stdevs[17]\n",
    "    phi_y[icalo]=pars2[18]\n",
    "    dphi_y[icalo]=stdevs[18]\n",
    "    A_2cbo[icalo]=pars2[19]\n",
    "    dA_2cbo[icalo]=stdevs[19]\n",
    "    tau_2cbo[icalo]=pars2[20]\n",
    "    dtau_2cbo[icalo]=stdevs[20]\n",
    "    omega_2cbo[icalo]=pars2[21]\n",
    "    domega_2cbo[icalo]=stdevs[21]\n",
    "    phi_2cbo[icalo]=pars2[22]\n",
    "    dphi_2cbo[icalo]=stdevs[22]\n",
    "     \n",
    "    p_init=pars2  \n"
   ]
  },
  {
   "cell_type": "code",
   "execution_count": 151,
   "id": "9a78bb6a",
   "metadata": {},
   "outputs": [
    {
     "data": {
      "text/plain": [
       "1.335316446795678e-06"
      ]
     },
     "execution_count": 151,
     "metadata": {},
     "output_type": "execute_result"
    }
   ],
   "source": [
    "y_cov[0][1000][1000]"
   ]
  },
  {
   "cell_type": "code",
   "execution_count": 152,
   "id": "83c54163",
   "metadata": {},
   "outputs": [
    {
     "data": {
      "text/plain": [
       "1.317183910254879e-06"
      ]
     },
     "execution_count": 152,
     "metadata": {},
     "output_type": "execute_result"
    }
   ],
   "source": [
    "y_cov[5][1000][1000]"
   ]
  },
  {
   "cell_type": "code",
   "execution_count": null,
   "id": "069f5bea",
   "metadata": {},
   "outputs": [],
   "source": []
  }
 ],
 "metadata": {
  "kernelspec": {
   "display_name": "Python 3",
   "language": "python",
   "name": "python3"
  },
  "language_info": {
   "codemirror_mode": {
    "name": "ipython",
    "version": 3
   },
   "file_extension": ".py",
   "mimetype": "text/x-python",
   "name": "python",
   "nbconvert_exporter": "python",
   "pygments_lexer": "ipython3",
   "version": "3.6.9"
  }
 },
 "nbformat": 4,
 "nbformat_minor": 5
}
