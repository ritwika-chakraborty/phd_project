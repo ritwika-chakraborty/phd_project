{
 "cells": [
  {
   "cell_type": "code",
   "execution_count": 12,
   "id": "c8a0e8c3",
   "metadata": {},
   "outputs": [],
   "source": [
    "import numpy as np\n",
    "import ROOT\n",
    "from math import exp as expo\n",
    "from math import cos as cosine\n",
    "from math import sin as sine\n",
    "sin=np.vectorize(sine)\n",
    "exp=np.vectorize(expo)\n",
    "cos=np.vectorize(cosine)\n",
    "import matplotlib.pylab as plt\n",
    "from matplotlib.pyplot import figure\n",
    "from BlindersPy3 import Blinders\n",
    "from BlindersPy3 import FitType\n",
    "import scipy.optimize as opt"
   ]
  },
  {
   "cell_type": "code",
   "execution_count": 13,
   "id": "ad2e63cc",
   "metadata": {},
   "outputs": [],
   "source": [
    "calonum=[1,2,3,4,5,6,7,8,9,10,11,12,13,14,15,16,17,18,19,20,21,22,23,24]\n",
    "calonum_1=[1.1,2.1,3.1,4.1,5.1,6.1,7.1,8.1,9.1,10.1,11.1,12.1,13.1,14.1,15.1,16.1,17.1,18.1,19.1,20.1,21.1,22.1,23.1,24.1]\n",
    "rval3_2=[-35.082598, -30.633418, -29.953414, -31.763966, -31.137560, -32.566397, -38.305699, -39.961923, -50.186594, -49.125039, -52.047037, -53.822998, -54.953170, -62.409816, -59.286269, -56.699448, -58.496225, -62.021790, -62.882739, -55.958371, -42.352997, -36.268999, -32.903253, -34.641325]\n",
    "drval3_2=[2.6674159, 2.3864446, 2.5420112, 2.5637457, 2.5245845, 2.5721946, 2.5553755, 2.5731980, 2.7711862, 2.5654010, 2.6359709, 2.4759268, 2.4936923, 2.4342858, 2.5260218, 2.5691056, 2.5951173, 2.4465369, 2.5483531, 2.4272330, 2.5913025, 2.5535610, 2.6273825, 2.4451547]\n",
    "rval11_2=[-44.662157, -39.919737, -39.961466, -39.481716, -39.184386, -37.637788, -40.990283, -39.446968, -46.238521, -44.627056, -44.265832, -46.109472, -44.390447, -52.513374, -48.569163, -48.457728, -49.896537, -50.699009, -52.307073, -51.499553, -45.019321, -40.876045, -40.105139, -41.781941]\n",
    "drval11_2=[2.6732532, 2.3911210, 2.5465306, 2.5677382, 2.5281604, 2.5752730, 2.5581529, 2.5757749, 2.7739663, 2.5681425, 2.6388224, 2.4777870, 2.4956285, 2.4370564, 2.5298127, 2.5737145, 2.6005721, 2.4512207, 2.5537330, 2.4323024, 2.5971154, 2.5593481, 2.6334520, 2.4507959]\n",
    "rval_2=[-44.611762, -39.797635, -39.591349, -39.002666, -38.824193, -37.492450, -41.059374, -39.891801, -46.848521, -45.185720, -44.626191, -46.292490, -44.541370, -52.462244, -48.201238, -47.908068, -49.448844, -50.466139, -52.120148, -51.569193, -45.543862, -41.427790, -40.502180, -41.967643]\n",
    "drval_2=[2.6734779, 2.3913198, 2.5467496, 2.5679642, 2.5284035, 2.5755116, 2.5584615, 2.5761268, 2.7742887, 2.5684496, 2.6391106, 2.4780251, 2.4958629, 2.4372768, 2.5300270, 2.5739435, 2.6008398, 2.4514073, 2.5539899, 2.4325743, 2.5974158, 2.5595895, 2.6336749, 2.4510279]"
   ]
  },
  {
   "cell_type": "code",
   "execution_count": 14,
   "id": "0a905821",
   "metadata": {},
   "outputs": [],
   "source": [
    "rval3_3a=[-19.995842, -22.173975, -22.504136, -24.885597, -28.876544, -30.217916, -36.272769, -39.323614, -39.530778, -46.000149, -45.627379, -47.247406, -48.238953, -51.772648, -49.527676, -45.588674, -44.113913, -43.258486, -42.231156, -36.836448, -27.443360, -27.181385, -25.171801, -24.026940]\n",
    "drval3_3a=[2.0491197, 2.0416548, 2.1235653, 2.1636021, 2.1085492, 2.1241764, 2.1359022, 2.1477199, 2.1588313, 2.1760607, 2.2033871, 2.0404856, 2.0916064, 2.0249533, 2.1145341, 2.1469723, 2.1814489, 2.0359916, 2.1567387, 2.0193245, 2.1595395, 2.1372277, 2.2220532, 2.0286157]\n",
    "rval11_3a=[-31.142892, -31.517766, -30.375552, -29.903931, -33.675463, -31.696533, -35.245194, -35.477257, -34.440048, -39.268954, -36.979883, -36.976610, -35.716774, -41.750367, -41.157984, -40.076639, -39.832990, -35.704947, -36.762746, -36.258556, -32.845176, -33.513010, -34.156479, -34.280178]\n",
    "drval11_3a=[2.0529471, 2.0450416, 2.1267472, 2.1663468, 2.1109666, 2.1263127, 2.1379891, 2.1499413, 2.1611212, 2.1787822, 2.2061178, 2.0426000, 2.0938887, 2.0278221, 2.1184681, 2.1513515, 2.1862942, 2.0404911, 2.1616313, 2.0235568, 2.1643272, 2.1417676, 2.2267196, 2.0329200]\n",
    "rval_3a=[-31.103377, -31.394745, -30.013911, -29.747914, -33.444533, -31.553996, -35.291171, -35.752633, -34.572327, -39.274929, -36.901115, -36.937391, -35.842615, -41.625470, -40.913453, -40.049728, -40.029456, -35.824458, -37.116686, -36.445971, -33.190690, -33.691292, -34.230265, -34.300180]\n",
    "drval_3a=[2.0533006, 2.0453996, 2.1271324, 2.1667744, 2.1113605, 2.1267004, 2.1384077, 2.1503724, 2.1615210, 2.1791928, 2.2064714, 2.0429475, 2.0942495, 2.0281739, 2.1188285, 2.1517576, 2.1867136, 2.0408707, 2.1620322, 2.0239043, 2.1646843, 2.1421237, 2.2270769, 2.0332747]"
   ]
  },
  {
   "cell_type": "code",
   "execution_count": 15,
   "id": "1936865e",
   "metadata": {},
   "outputs": [],
   "source": [
    "rval3_3b=[-24.033384, -33.410953, -31.476923, -25.655059, -31.264776, -32.178153, -30.402719, -27.935735, -40.709605, -40.624761, -33.889678, -31.490418, -40.164181, -41.341479, -42.442709, -35.469290, -42.360919, -41.337446, -40.328571, -34.357792, -35.539382, -36.305385, -28.671269, -25.425553]\n",
    "drval3_3b=[3.3189631, 3.3053361, 3.4419463, 3.5200391, 3.4775476, 3.4366707, 3.4694298, 3.4748109, 3.4958257, 3.5319652, 3.5742694, 3.3060313, 3.3857910, 3.2789064, 3.4305783, 3.4843628, 3.5388013, 3.2955119, 3.4942642, 3.2702294, 3.5044005, 3.4653980, 3.6230132, 3.2840701]\n",
    "rval11_3b=[-29.024221, -37.468542, -35.186624, -27.873894, -33.865030, -32.567830, -29.759908, -26.237815, -38.588243, -38.241349, -29.558721, -27.103314, -34.382722, -36.782297, -38.782117, -33.299681, -40.255498, -37.602139, -37.115062, -33.335741, -38.018093, -39.548436, -32.528267, -29.307935]\n",
    "drval11_3b=[3.3249349, 3.3108668, 3.4486299, 3.5266557, 3.4835902, 3.4411633, 3.4749684, 3.4801649, 3.5017498, 3.5373568, 3.5811593, 3.3102985, 3.3903339, 3.2840094, 3.4370430, 3.4908613, 3.5472913, 3.3019092, 3.5014427, 3.2762493, 3.5115661, 3.4737533, 3.6308074, 3.2901376]\n",
    "rval_3b=[ -29.060227, -37.456217, -35.175659, -27.823691, -33.658460, -32.254655, -29.261891, -25.894652, -38.372138, -38.029981, -29.540497, -27.047597, -34.662802, -36.992088, -39.060969, -33.645018, -40.791444, -37.990151, -37.954081, -33.720524, -38.259532, -39.764790, -32.779928, -29.464927]\n",
    "drval_3b=[3.3256595, 3.3115888, 3.4495012, 3.5274553, 3.4843981, 3.4418879, 3.4757435, 3.4809065, 3.5025544, 3.5381766, 3.5820019, 3.3110138, 3.3911274, 3.2847837, 3.4378252, 3.4916954, 3.5482201, 3.3026671, 3.5022714, 3.2770628, 3.5123874, 3.4747338, 3.6316992, 3.2908688]"
   ]
  },
  {
   "cell_type": "code",
   "execution_count": 16,
   "id": "d691ce95",
   "metadata": {},
   "outputs": [],
   "source": [
    "rval3_2_FR=[-37.950572, -34.214337, -33.385085, -35.220031, -34.694423, -35.086926, -40.506630, -41.288308, -50.769647, -48.895668, -50.418031, -50.926803, -50.651370, -58.937283, -55.887822, -53.076818, -55.072940, -58.465074, -60.322432, -54.419515, -41.967883, -36.649930, -34.728586, -37.340025]\n",
    "drval3_2_FR=[2.3377335, 2.0945636, 2.2279503, 2.2464222, 2.2129578, 2.2541138, 2.2402629, 2.2555997, 2.4279899, 2.2498316, 2.3112307, 2.1737749, 2.1905244, 2.1392522, 2.2184349, 2.2559703, 2.2787920, 2.1486689, 2.2386965, 2.1328699, 2.2739405, 2.2401831, 2.3029670, 2.1457599]\n",
    "rval11_2_FR=[-46.732430, -42.845765, -43.533333, -43.461517, -43.367038, -40.968058, -44.065668, -41.679809, -47.565910, -45.400903, -43.566298, -44.987418, -42.175789, -50.199814, -45.681245, -44.758705, -46.286862, -46.935783, -50.187154, -48.980525, -43.785815, -40.441907, -41.169885, -43.028845]\n",
    "drval11_2_FR=[2.3429838, 2.0988592, 2.2321670, 2.2501931, 2.2163208, 2.2569936, 2.2428563, 2.2579795, 2.4304070, 2.2522280, 2.3136025, 2.1752294, 2.1919054, 2.1414383, 2.2214392, 2.2597658, 2.2833230, 2.1523275, 1.6406147, 2.1371342, 2.2791011, 2.2453700, 2.3084339, 2.1507256]\n",
    "rval_2_FR=[-46.650397, -42.692886, -43.090200, -42.801175, -42.951434, -40.773040, -44.122916, -42.069090, -48.191754, -46.034348, -44.010173, -45.183546, -42.279457, -50.138934, -45.339752, -44.105977, -45.679302, -46.610262, -48.609203, -49.006812, -44.295337, -41.046030, -41.558796, -43.167045]\n",
    "drval_2_FR=[2.3432431, 2.0991027, 2.2324074, 2.2504511, 2.2165943, 2.2573041, 2.2431799, 2.2583440, 2.4307672, 2.2525475, 2.3139127, 2.1754848, 2.1921333, 2.1416342, 2.2216673, 2.2599902, 2.2835885, 2.1525873, 2.2432353, 2.1374037, 2.2794163, 2.2456661, 2.3086952, 2.1509935]"
   ]
  },
  {
   "cell_type": "code",
   "execution_count": 17,
   "id": "b10c2ce7",
   "metadata": {},
   "outputs": [],
   "source": [
    "rval3_3a_FR=[-22.849316, -25.181988, -25.376771, -27.776513, -30.989013, -32.614780, -37.862295, -39.999262, -39.706584, -44.666086, -44.022921, -43.676144, -44.670519, -48.047095, -46.299917, -42.689536, -41.856934, -41.264377, -41.414777, -36.629940, -27.118624, -28.038196, -26.959613, -27.087356]\n",
    "drval3_3a_FR=[1.7974566, 1.7913009, 1.8612281, 1.8957541, 1.8484196, 1.8624382, 1.8729349, 1.8831972, 1.8933301, 1.9085965, 1.9324897, 1.7920581, 1.8374352, 1.7796252, 1.8569296, 1.8848559, 1.9148268, 1.7886127, 1.8935945, 1.7736527, 1.8942384, 1.8742970, 1.9468832, 1.7799994]\n",
    "rval11_3a_FR=[-33.323824, -34.406142, -33.679703, -33.476400, -36.596441, -34.960146, -37.731072, -36.875962, -35.315873, -38.593364, -35.980283, -34.859239, -33.563663, -38.648034, -37.860275, -36.748579, -36.973116, -32.921557, -34.686189, -34.964915, -31.899962, -33.879337, -35.607234, -36.248038]\n",
    "drval11_3a_FR=[1.8009372, 1.7944531, 1.8642087, 1.8983234, 1.8509685, 1.8644109, 1.8748392, 1.8851539, 1.8953032, 1.9108608, 1.9347011, 1.7936439, 1.8390686, 1.7818603, 1.8601568, 1.8885192, 1.9189561, 1.7922964, 1.8976147, 1.7773060, 1.8985163, 1.8784051, 1.9511427, 1.7838436]\n",
    "rval_3a_FR=[-33.410652, -34.312982, -33.330162, -33.342194, -36.434519, -34.862599, -37.862645, -37.281008, -35.620260, -38.722748, -36.002693, -34.852653, -33.674078, -38.555303, -37.601691, -36.645179, -37.128482, -33.052510, -35.072506, -35.214472, -32.409206, -34.216169, -35.849113, -36.407724]\n",
    "drval_3a_FR=[1.8013503, 1.7948642, 1.8646403, 1.8987781, 1.8514061, 1.8648257, 1.8752789, 1.8855886, 1.8957273, 1.9112751, 1.9350802, 1.7940078, 1.8394448, 1.7822403, 1.8605675, 1.8889698, 1.9193658, 1.7926803, 1.8980490, 1.7777175, 1.8989503, 1.8788053, 1.9515319, 1.7842573]"
   ]
  },
  {
   "cell_type": "code",
   "execution_count": 18,
   "id": "5c0727ad",
   "metadata": {},
   "outputs": [],
   "source": [
    "rval3_3b_FR=[ -22.361063, -31.510117, -30.578177, -25.445462, -31.452075, -32.533928, -31.834053, -30.427598, -43.429947, -43.404008, -36.530110, -33.358238, -41.944100, -42.068788, -43.327635, -35.812660, -41.597836, -39.815673, -38.578878, -32.264092, -32.978150, -33.916892, -25.532188, -23.354594]\n",
    "drval3_3b_FR=[ 2.9148569, 2.9033211, 3.0200413, 3.0866964, 3.0496471, 3.0135546, 3.0422406, 3.0456617, 3.0636798, 3.0945254, 3.1313780, 2.8996638, 2.9699591, 2.8776441, 3.0087489, 3.0560871, 3.1037984, 2.8938360, 3.0673932, 2.8732999, 3.0760043, 3.0421310, 3.1779622, 2.8849857]\n",
    "rval11_3b_FR=[-26.904353, -35.393603, -34.442916, -27.935282, -34.335363, -33.241236, -31.455385, -28.867883, -41.357757, -41.069770, -32.216183, -29.495772, -36.776290, -37.754702, -39.531296, -33.466282, -39.361685, -35.882347, -34.939884, -30.806915, -35.302792, -36.952409, -29.316710, -26.713860]\n",
    "drval11_3b_FR=[2.9201395, 2.9082689, 3.0262058, 3.0927835, 3.0551929, 3.0178409, 3.0475821, 3.0507918, 3.0695181, 3.0998372, 3.1378234, 2.9035194, 2.9739705, 2.8820297, 3.0144967, 3.0616998, 3.1109121, 2.8991408, 3.0732544, 2.8783589, 3.0822617, 3.0495567, 3.1850825, 2.8903052]\n",
    "rval_3b_FR=[-27.047595, -35.501416, -34.542297, -27.995344, -34.220373, -33.120046, -31.037208, -28.534219, -41.056420, -40.716548, -32.030245, -29.319394, -36.787722, -37.804700, -39.694176, -33.623941, -39.733181, -36.185538, -35.646035, -31.177437, -35.629081, -37.246626, -29.704429, -27.030635]\n",
    "drval_3b_FR=[2.9209239, 2.9090811, 3.0271639, 3.0936880, 3.0560678, 3.0186640, 3.0484583, 3.0516816, 3.0704006, 3.1006882, 3.1387453, 2.9042795, 2.9747822, 2.8828329, 3.0153203, 3.0625343, 3.1118010, 2.8999225, 3.0741020, 2.8791368, 3.0830851, 3.0505880, 3.1860355, 2.8910875]"
   ]
  },
  {
   "cell_type": "code",
   "execution_count": 19,
   "id": "31f17f60",
   "metadata": {},
   "outputs": [],
   "source": [
    "def fit_Rwave(x: np.double,\n",
    "              amp: np.double = 0.0, \n",
    "              phase: np.double = 0.0, \n",
    "              offset: np.double = 0.0)-> np.double:\n",
    "    \n",
    "    Romega=0.2618\n",
    "    \n",
    "    return amp*sin(Romega*x+phase)+offset"
   ]
  },
  {
   "cell_type": "code",
   "execution_count": 20,
   "id": "10893f16",
   "metadata": {},
   "outputs": [],
   "source": [
    "p_0=[1.0,1.5,-45]"
   ]
  },
  {
   "cell_type": "code",
   "execution_count": 21,
   "id": "1077f615",
   "metadata": {},
   "outputs": [
    {
     "ename": "TypeError",
     "evalue": "can't multiply sequence by non-int of type 'float'",
     "output_type": "error",
     "traceback": [
      "\u001b[0;31m---------------------------------------------------------------------------\u001b[0m",
      "\u001b[0;31mTypeError\u001b[0m                                 Traceback (most recent call last)",
      "\u001b[0;32m<ipython-input-21-af65e93f8a13>\u001b[0m in \u001b[0;36m<module>\u001b[0;34m\u001b[0m\n\u001b[1;32m      6\u001b[0m \u001b[0mplt\u001b[0m\u001b[0;34m.\u001b[0m\u001b[0mrc\u001b[0m\u001b[0;34m(\u001b[0m\u001b[0;34m'ytick'\u001b[0m\u001b[0;34m,\u001b[0m \u001b[0mlabelsize\u001b[0m\u001b[0;34m=\u001b[0m\u001b[0;36m20\u001b[0m\u001b[0;34m)\u001b[0m\u001b[0;34m\u001b[0m\u001b[0;34m\u001b[0m\u001b[0m\n\u001b[1;32m      7\u001b[0m \u001b[0mplt\u001b[0m\u001b[0;34m.\u001b[0m\u001b[0merrorbar\u001b[0m\u001b[0;34m(\u001b[0m\u001b[0mcalonum\u001b[0m\u001b[0;34m,\u001b[0m \u001b[0mrval11_2\u001b[0m\u001b[0;34m,\u001b[0m \u001b[0myerr\u001b[0m\u001b[0;34m=\u001b[0m\u001b[0mdrval11_2\u001b[0m\u001b[0;34m,\u001b[0m \u001b[0mfmt\u001b[0m\u001b[0;34m=\u001b[0m\u001b[0;34m\"o\"\u001b[0m\u001b[0;34m,\u001b[0m\u001b[0mlabel\u001b[0m\u001b[0;34m=\u001b[0m\u001b[0;34m\"FR\"\u001b[0m\u001b[0;34m)\u001b[0m\u001b[0;34m\u001b[0m\u001b[0;34m\u001b[0m\u001b[0m\n\u001b[0;32m----> 8\u001b[0;31m \u001b[0mplt\u001b[0m\u001b[0;34m.\u001b[0m\u001b[0mplot\u001b[0m\u001b[0;34m(\u001b[0m\u001b[0mcalonum\u001b[0m\u001b[0;34m,\u001b[0m \u001b[0mfit_Rwave\u001b[0m\u001b[0;34m(\u001b[0m\u001b[0mcalonum\u001b[0m\u001b[0;34m,\u001b[0m \u001b[0;34m*\u001b[0m\u001b[0mrwave_p_2\u001b[0m\u001b[0;34m)\u001b[0m\u001b[0;34m,\u001b[0m \u001b[0mlinestyle\u001b[0m\u001b[0;34m=\u001b[0m\u001b[0;34m'solid'\u001b[0m\u001b[0;34m,\u001b[0m \u001b[0mlinewidth\u001b[0m\u001b[0;34m=\u001b[0m\u001b[0;36m1\u001b[0m\u001b[0;34m,\u001b[0m \u001b[0mcolor\u001b[0m\u001b[0;34m=\u001b[0m\u001b[0;34m'red'\u001b[0m\u001b[0;34m)\u001b[0m\u001b[0;34m\u001b[0m\u001b[0;34m\u001b[0m\u001b[0m\n\u001b[0m\u001b[1;32m      9\u001b[0m \u001b[0mplt\u001b[0m\u001b[0;34m.\u001b[0m\u001b[0merrorbar\u001b[0m\u001b[0;34m(\u001b[0m\u001b[0mcalonum_1\u001b[0m\u001b[0;34m,\u001b[0m \u001b[0mrval11_2_FR\u001b[0m\u001b[0;34m,\u001b[0m \u001b[0myerr\u001b[0m\u001b[0;34m=\u001b[0m\u001b[0mdrval11_2_FR\u001b[0m\u001b[0;34m,\u001b[0m \u001b[0mfmt\u001b[0m\u001b[0;34m=\u001b[0m\u001b[0;34m\"o\"\u001b[0m\u001b[0;34m,\u001b[0m\u001b[0mlabel\u001b[0m\u001b[0;34m=\u001b[0m\u001b[0;34m\"noFR\"\u001b[0m\u001b[0;34m)\u001b[0m\u001b[0;34m\u001b[0m\u001b[0;34m\u001b[0m\u001b[0m\n\u001b[1;32m     10\u001b[0m \u001b[0mplt\u001b[0m\u001b[0;34m.\u001b[0m\u001b[0mplot\u001b[0m\u001b[0;34m(\u001b[0m\u001b[0mcalonum\u001b[0m\u001b[0;34m,\u001b[0m \u001b[0mfit_Rwave\u001b[0m\u001b[0;34m(\u001b[0m\u001b[0mcalonum_1\u001b[0m\u001b[0;34m,\u001b[0m \u001b[0;34m*\u001b[0m\u001b[0mrwave_p_2_FR\u001b[0m\u001b[0;34m)\u001b[0m\u001b[0;34m,\u001b[0m \u001b[0mlinestyle\u001b[0m\u001b[0;34m=\u001b[0m\u001b[0;34m'solid'\u001b[0m\u001b[0;34m,\u001b[0m \u001b[0mlinewidth\u001b[0m\u001b[0;34m=\u001b[0m\u001b[0;36m1\u001b[0m\u001b[0;34m,\u001b[0m \u001b[0mcolor\u001b[0m\u001b[0;34m=\u001b[0m\u001b[0;34m'red'\u001b[0m\u001b[0;34m)\u001b[0m\u001b[0;34m\u001b[0m\u001b[0;34m\u001b[0m\u001b[0m\n",
      "\u001b[0;32m<ipython-input-19-53aa0fddcac6>\u001b[0m in \u001b[0;36mfit_Rwave\u001b[0;34m(x, amp, phase, offset)\u001b[0m\n\u001b[1;32m      6\u001b[0m     \u001b[0mRomega\u001b[0m\u001b[0;34m=\u001b[0m\u001b[0;36m0.2618\u001b[0m\u001b[0;34m\u001b[0m\u001b[0;34m\u001b[0m\u001b[0m\n\u001b[1;32m      7\u001b[0m \u001b[0;34m\u001b[0m\u001b[0m\n\u001b[0;32m----> 8\u001b[0;31m     \u001b[0;32mreturn\u001b[0m \u001b[0mamp\u001b[0m\u001b[0;34m*\u001b[0m\u001b[0msin\u001b[0m\u001b[0;34m(\u001b[0m\u001b[0mRomega\u001b[0m\u001b[0;34m*\u001b[0m\u001b[0mx\u001b[0m\u001b[0;34m+\u001b[0m\u001b[0mphase\u001b[0m\u001b[0;34m)\u001b[0m\u001b[0;34m+\u001b[0m\u001b[0moffset\u001b[0m\u001b[0;34m\u001b[0m\u001b[0;34m\u001b[0m\u001b[0m\n\u001b[0m",
      "\u001b[0;31mTypeError\u001b[0m: can't multiply sequence by non-int of type 'float'"
     ]
    },
    {
     "data": {
      "image/png": "[encoded data removed]",
      "text/plain": [
       "<Figure size 864x576 with 1 Axes>"
      ]
     },
     "metadata": {
      "needs_background": "light"
     },
     "output_type": "display_data"
    }
   ],
   "source": [
    "rwave_p_2, rwave_cov_2 = opt.curve_fit(f=fit_Rwave, xdata=calonum, ydata=rval11_2, p0=p_0, sigma=drval11_2)\n",
    "rwave_p_2_FR, rwave_cov_2_FR = opt.curve_fit(f=fit_Rwave, xdata=calonum, ydata=rval11_2_FR, p0=p_0, sigma=drval11_2_FR)\n",
    "\n",
    "plt.figure(figsize=(12,8)) \n",
    "plt.rc('xtick', labelsize=20) \n",
    "plt.rc('ytick', labelsize=20) \n",
    "plt.errorbar(calonum, rval11_2, yerr=drval11_2, fmt=\"o\",label=\"FR\") \n",
    "plt.plot(calonum, fit_Rwave(calonum, *rwave_p_2), linestyle='solid', linewidth=1, color='red')\n",
    "plt.errorbar(calonum_1, rval11_2_FR, yerr=drval11_2_FR, fmt=\"o\",label=\"noFR\")\n",
    "plt.plot(calonum, fit_Rwave(calonum_1, *rwave_p_2_FR), linestyle='solid', linewidth=1, color='red')"
   ]
  },
  {
   "cell_type": "code",
   "execution_count": null,
   "id": "4bef7e07",
   "metadata": {},
   "outputs": [],
   "source": [
    "plt.figure(figsize=(12,8))\n",
    "plt.rc('xtick', labelsize=20) \n",
    "plt.rc('ytick', labelsize=20) \n",
    "plt.errorbar(calonum, rval3_2_FR-rval3_2, yerr=0, fmt=\"-o\", color='black',label='FR - noFR')\n",
    "plt.errorbar(calonum, rval11_2-rval3_2, yerr=0, fmt=\"-o\", color='blue',label='FR,CB0 - FR')\n",
    "plt.errorbar(calonum, rval_2-rval11_2, yerr=0, fmt=\"-o\", color='red',label='FR,CBO,vert - FR,CBO')\n",
    "plt.legend(loc=2, prop={'size': 22})\n",
    "plt.show()"
   ]
  },
  {
   "cell_type": "code",
   "execution_count": null,
   "id": "a85bed34",
   "metadata": {},
   "outputs": [],
   "source": [
    "p_0=[1.0,1.5,-34]"
   ]
  },
  {
   "cell_type": "code",
   "execution_count": null,
   "id": "88763b47",
   "metadata": {},
   "outputs": [],
   "source": [
    "rwave_p_3a, rwave_cov_3a = opt.curve_fit(f=fit_Rwave, xdata=calonum, ydata=rval11_3a, p0=p_0, sigma=drval11_3a)\n",
    "rwave_p_3a_FR, rwave_cov_3a_FR = opt.curve_fit(f=fit_Rwave, xdata=calonum, ydata=rval11_3a_FR, p0=p_0, sigma=drval11_3a_FR)\n",
    "\n",
    "plt.figure(figsize=(12,8)) \n",
    "plt.rc('xtick', labelsize=20) \n",
    "plt.rc('ytick', labelsize=20) \n",
    "plt.errorbar(calonum, rval11_3a, yerr=drval11_3a, fmt=\"o\",label=\"FR\") \n",
    "plt.plot(calonum, fit_Rwave(calonum, *rwave_p_3a), linestyle='solid', linewidth=1, color='red')\n",
    "plt.errorbar(calonum_1, rval11_3a_FR, yerr=drval11_3a_FR, fmt=\"o\",label=\"noFR\")\n",
    "plt.plot(calonum, fit_Rwave(calonum_1, *rwave_p_3a_FR), linestyle='solid', linewidth=1, color='red')"
   ]
  },
  {
   "cell_type": "code",
   "execution_count": null,
   "id": "aabe2c26",
   "metadata": {},
   "outputs": [],
   "source": [
    "plt.figure(figsize=(12,8))\n",
    "plt.rc('xtick', labelsize=20) \n",
    "plt.rc('ytick', labelsize=20) \n",
    "plt.errorbar(calonum, rval3_3a_FR-rval3_3a, yerr=0, fmt=\"-o\", color='black',label='FR - noFR')\n",
    "plt.errorbar(calonum, rval11_3a-rval3_3a, yerr=0, fmt=\"-o\", color='blue',label='FR,CB0 - FR')\n",
    "plt.errorbar(calonum, rval_3a-rval11_3a, yerr=0, fmt=\"-o\", color='red',label='FR,CBO,vert - FR,CBO')\n",
    "plt.legend(loc=2, prop={'size': 22})\n",
    "plt.show()"
   ]
  },
  {
   "cell_type": "code",
   "execution_count": null,
   "id": "c911d2c9",
   "metadata": {},
   "outputs": [],
   "source": [
    "p_0=[1.0,1.5,-34]"
   ]
  },
  {
   "cell_type": "code",
   "execution_count": null,
   "id": "27273ce8",
   "metadata": {},
   "outputs": [],
   "source": [
    "rwave_p_3a, rwave_cov_3a = opt.curve_fit(f=fit_Rwave, xdata=calonum, ydata=rval11_3a, p0=p_0, sigma=drval11_3a)\n",
    "rwave_p_3a_FR, rwave_cov_3a_FR = opt.curve_fit(f=fit_Rwave, xdata=calonum, ydata=rval11_3a_FR, p0=p_0, sigma=drval11_3a_FR)\n",
    "\n",
    "plt.figure(figsize=(12,8)) \n",
    "plt.rc('xtick', labelsize=20) \n",
    "plt.rc('ytick', labelsize=20) \n",
    "plt.errorbar(calonum, rval11_3a, yerr=drval11_3a, fmt=\"o\",label=\"FR\") \n",
    "plt.plot(calonum, fit_Rwave(calonum, *rwave_p_3a), linestyle='solid', linewidth=1, color='red')\n",
    "plt.errorbar(calonum_1, rval11_3a_FR, yerr=drval11_3a_FR, fmt=\"o\",label=\"noFR\")\n",
    "plt.plot(calonum, fit_Rwave(calonum_1, *rwave_p_3a_FR), linestyle='solid', linewidth=1, color='red')"
   ]
  },
  {
   "cell_type": "code",
   "execution_count": null,
   "id": "3498b395",
   "metadata": {},
   "outputs": [],
   "source": [
    "plt.figure(figsize=(12,8))\n",
    "plt.rc('xtick', labelsize=20) \n",
    "plt.rc('ytick', labelsize=20) \n",
    "plt.errorbar(calonum, rval3_3a_FR-rval3_3a, yerr=0, fmt=\"-o\", color='black',label='FR - noFR')\n",
    "plt.errorbar(calonum, rval11_3a-rval3_3a, yerr=0, fmt=\"-o\", color='blue',label='FR,CB0 - FR')\n",
    "plt.errorbar(calonum, rval_3a-rval11_3a, yerr=0, fmt=\"-o\", color='red',label='FR,CBO,vert - FR,CBO')\n",
    "plt.legend(loc=2, prop={'size': 22})\n",
    "plt.show()"
   ]
  }
 ],
 "metadata": {
  "kernelspec": {
   "display_name": "Python 3",
   "language": "python",
   "name": "python3"
  },
  "language_info": {
   "codemirror_mode": {
    "name": "ipython",
    "version": 3
   },
   "file_extension": ".py",
   "mimetype": "text/x-python",
   "name": "python",
   "nbconvert_exporter": "python",
   "pygments_lexer": "ipython3",
   "version": "3.6.9"
  }
 },
 "nbformat": 4,
 "nbformat_minor": 5
}
