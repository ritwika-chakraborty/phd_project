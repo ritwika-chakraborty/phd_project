{
 "cells": [
  {
   "cell_type": "code",
   "execution_count": 1,
   "id": "7d0760d0",
   "metadata": {},
   "outputs": [
    {
     "name": "stdout",
     "output_type": "stream",
     "text": [
      "Welcome to JupyROOT 6.24/06\n"
     ]
    }
   ],
   "source": [
    "import numpy as np\n",
    "import ROOT\n",
    "from math import exp as expo\n",
    "from math import cos as cosine\n",
    "from math import sin as sine\n",
    "sin=np.vectorize(sine)\n",
    "exp=np.vectorize(expo)\n",
    "cos=np.vectorize(cosine)\n",
    "import matplotlib.pylab as plt\n",
    "from matplotlib.pyplot import figure\n",
    "from BlindersPy3 import Blinders\n",
    "from BlindersPy3 import FitType\n",
    "import scipy.optimize as opt"
   ]
  },
  {
   "cell_type": "code",
   "execution_count": 2,
   "id": "009e1c41",
   "metadata": {},
   "outputs": [],
   "source": [
    "#file = ROOT.TFile.Open(\"run3no_4hcopy_ratio_noFR_percalo_cov_mat_temp.root\")\n",
    "file = ROOT.TFile.Open(\"run3no_4hcopy_ratio_noFR_percalo_cov_mat_tim.root\")\n",
    "hist_tmp = ROOT.TH1D()\n",
    "hist_tmp = file.Get(\"hcalo_ratio_1\")"
   ]
  },
  {
   "cell_type": "code",
   "execution_count": 3,
   "id": "a963dbc8",
   "metadata": {},
   "outputs": [],
   "source": [
    "fit_start=30000\n",
    "fit_stop=300000\n",
    "fit_range=hist_tmp.FindBin(fit_stop)-hist_tmp.FindBin(fit_start)+1\n",
    "y_val=np.empty(shape=(24,fit_range))\n",
    "y_err=np.empty(shape=(24,fit_range))\n",
    "x_val=np.empty(shape=(24,fit_range))\n",
    "y_cov=np.empty(shape=(24,fit_range,fit_range))  "
   ]
  },
  {
   "cell_type": "code",
   "execution_count": 4,
   "id": "409cf571",
   "metadata": {},
   "outputs": [
    {
     "name": "stdout",
     "output_type": "stream",
     "text": [
      "CPU times: user 2min 51s, sys: 36.6 s, total: 3min 28s\n",
      "Wall time: 3min 28s\n"
     ]
    }
   ],
   "source": [
    "%%time\n",
    "for icalo in range(0,24):\n",
    "    hist = ROOT.TH1D()\n",
    "    hcov = ROOT.TH2D()\n",
    "    hist = file.Get(\"hcalo_ratio_\"+str(icalo+1))\n",
    "    for ibin in range (0,fit_range):\n",
    "        y_val[icalo][ibin]=hist.GetBinContent(ibin+hist.FindBin(fit_start))\n",
    "        y_err[icalo][ibin]=hist.GetBinError(ibin+hist.FindBin(fit_start))\n",
    "        x_val[icalo][ibin]=hist.GetBinCenter(ibin+hist.FindBin(fit_start))\n",
    "        \n",
    "    hcov = file.Get(\"hcov_\"+str(icalo+1))\n",
    "    for irow in range (0, fit_range):\n",
    "        for icol in range(0, fit_range):\n",
    "            y_cov[icalo][irow][icol]=hcov.GetBinContent(irow+hist.FindBin(fit_start),icol+hist.FindBin(fit_start))\n",
    "            \n",
    "    hist.Reset()\n",
    "    hcov.Reset()"
   ]
  },
  {
   "cell_type": "code",
   "execution_count": 5,
   "id": "a5286a57",
   "metadata": {},
   "outputs": [],
   "source": [
    "for icalo in range(0,24):\n",
    "    mat=np.linalg.eigvalsh(y_cov[icalo])\n",
    "    for irow in range (0, fit_range):\n",
    "        if mat[irow]<=0:\n",
    "            print(icalo,irow,\"\\n\")"
   ]
  },
  {
   "cell_type": "code",
   "execution_count": 6,
   "id": "cb143716",
   "metadata": {},
   "outputs": [
    {
     "name": "stdout",
     "output_type": "stream",
     "text": [
      " + ++++++++++++++++++++++++++++++++++++++++++++++++++++++++++++++++++++ +\n",
      " +                                                                      +\n",
      " +           You have chose to blind your fitting according to          +\n",
      " +                omega_ref * (1 + (R +/- deltaR) *10^{-6})             +\n",
      " +                                                                      +\n",
      " + ++++++++++++++++++++++++++++++++++++++++++++++++++++++++++++++++++++ +\n"
     ]
    }
   ],
   "source": [
    "getBlinded = Blinders(FitType.Omega_a, \"Ritwika's new  Blinding\")"
   ]
  },
  {
   "cell_type": "code",
   "execution_count": 7,
   "id": "1c36e7e2",
   "metadata": {},
   "outputs": [],
   "source": [
    "T_a_true=4365.411\n",
    "nbinshift=int((0.5*T_a_true)/hist.GetBinWidth(1))\n",
    "T_a=2*nbinshift*hist.GetBinWidth(1)\n",
    "\n",
    "asym=np.empty(24)\n",
    "dasym=np.empty(24)\n",
    "rval=np.empty(24)\n",
    "drval=np.empty(24)\n",
    "phi=np.empty(24)\n",
    "dphi=np.empty(24)\n",
    "A_cbo=np.empty(24)\n",
    "dA_cbo=np.empty(24)\n",
    "tau_cbo=np.empty(24)\n",
    "dtau_cbo=np.empty(24)\n",
    "omega_cbo=np.empty(24)\n",
    "domega_cbo=np.empty(24)\n",
    "phi_cbo=np.empty(24)\n",
    "dphi_cbo=np.empty(24)\n",
    "A_cbo_A=np.empty(24)\n",
    "dA_cbo_A=np.empty(24)\n",
    "phi_cbo_A=np.empty(24)\n",
    "dphi_cbo_A=np.empty(24)\n",
    "A_cbo_phi=np.empty(24)\n",
    "dA_cbo_phi=np.empty(24)\n",
    "phi_cbo_phi=np.empty(24)\n",
    "dphi_cbo_phi=np.empty(24)\n",
    "A_vw=np.empty(24)\n",
    "dA_vw=np.empty(24)\n",
    "tau_vw=np.empty(24)\n",
    "dtau_vw=np.empty(24)\n",
    "omega_vw=np.empty(24)\n",
    "domega_vw=np.empty(24)\n",
    "phi_vw=np.empty(24)\n",
    "dphi_vw=np.empty(24)\n",
    "A_y=np.empty(24)\n",
    "dA_y=np.empty(24)\n",
    "tau_y=np.empty(24)\n",
    "dtau_y=np.empty(24)\n",
    "omega_y=np.empty(24)\n",
    "domega_y=np.empty(24)\n",
    "phi_y=np.empty(24)\n",
    "dphi_y=np.empty(24)\n",
    "A_2cbo=np.empty(24)\n",
    "dA_2cbo=np.empty(24)\n",
    "tau_2cbo=np.empty(24)\n",
    "dtau_2cbo=np.empty(24)\n",
    "omega_2cbo=np.empty(24)\n",
    "domega_2cbo=np.empty(24)\n",
    "phi_2cbo=np.empty(24)\n",
    "dphi_2cbo=np.empty(24)\n",
    "calonum=np.empty(24)\n",
    "rval3=np.empty(24)\n",
    "drval3=np.empty(24)\n",
    "rval7=np.empty(24)\n",
    "drval7=np.empty(24)\n",
    "rval11=np.empty(24)\n",
    "drval11=np.empty(24)\n",
    "rval15=np.empty(24)\n",
    "drval15=np.empty(24)\n",
    "rval19=np.empty(24)\n",
    "drval19=np.empty(24)\n",
    "rval23=np.empty(24)\n",
    "drval23=np.empty(24)\n",
    "rval27=np.empty(24)\n",
    "drval27=np.empty(24)"
   ]
  },
  {
   "cell_type": "code",
   "execution_count": 8,
   "id": "9bfa2aac",
   "metadata": {},
   "outputs": [],
   "source": [
    "def fit_func3(time: np.double,\n",
    "              asym: np.double = 0.0, \n",
    "              R: np.double = 0.0, \n",
    "              phi: np.double = 0.0)-> np.double:\n",
    "    \n",
    "    f=(1+ asym*cos((getBlinded.paramToFreq(R)/1000.)*time - phi))\n",
    "\n",
    "    ff=(1+ asym*cos((getBlinded.paramToFreq(R)/1000.)*(time + T_a/2) - phi))\n",
    "\n",
    "    fb=(1+ asym*cos((getBlinded.paramToFreq(R)/1000.)*(time - T_a/2) - phi))\n",
    "\n",
    "    \n",
    "    return (2*f - ff - fb)/(2*f + ff + fb) "
   ]
  },
  {
   "cell_type": "code",
   "execution_count": 9,
   "id": "45879f7b",
   "metadata": {},
   "outputs": [],
   "source": [
    "def fit_func7(time: np.double,\n",
    "              asym: np.double = 0.0, \n",
    "              R: np.double = 0.0, \n",
    "              phi: np.double = 0.0,\n",
    "              asym_cbo = 0.0,\n",
    "              tau_cbo = 0.0,\n",
    "              omega_cbo = 0.0,\n",
    "              phi_cbo = 0.0)-> np.double:\n",
    "    \n",
    "    Ncbo=(1 + asym_cbo*exp(-time/tau_cbo)*cos(omega_cbo*time - phi_cbo))\n",
    "    Ncbof=(1+ asym_cbo*exp(-(time + T_a/2)/tau_cbo)*cos(omega_cbo*(time + T_a/2) - phi_cbo))\n",
    "    Ncbob=(1+ asym_cbo*exp(-(time - T_a/2)/tau_cbo)*cos(omega_cbo*(time - T_a/2) - phi_cbo))\n",
    "\n",
    "    f=(1+ asym*cos((getBlinded.paramToFreq(R)/1000.)*time - phi))\n",
    "\n",
    "    ff=(1+ asym*cos((getBlinded.paramToFreq(R)/1000.)*(time + T_a/2) - phi))\n",
    "\n",
    "    fb=(1+ asym*cos((getBlinded.paramToFreq(R)/1000.)*(time - T_a/2) - phi))\n",
    "\n",
    "    \n",
    "    return (2*f*Ncbo - ff*Ncbof - fb*Ncbob)/(2*f*Ncbo + ff*Ncbof + fb*Ncbob)"
   ]
  },
  {
   "cell_type": "code",
   "execution_count": 10,
   "id": "012f86b5",
   "metadata": {},
   "outputs": [],
   "source": [
    "def fit_func11(time: np.double,\n",
    "               asym: np.double = 0.0, \n",
    "               R: np.double = 0.0, \n",
    "               phi: np.double = 0.0,\n",
    "               asym_cbo = 0.0,\n",
    "               tau_cbo = 0.0,\n",
    "               omega_cbo = 0.0,\n",
    "               phi_cbo = 0.0,\n",
    "               asym_cbo_A = 0.0,\n",
    "               phi_cbo_A=0.0,\n",
    "               A_cbo_phi= 0.0,\n",
    "               phi_cbo_phi=0.0)-> np.double:\n",
    "    \n",
    "    Ncbo=(1 + asym_cbo*exp(-time/tau_cbo)*cos(omega_cbo*time - phi_cbo))\n",
    "    Ncbof=(1+ asym_cbo*exp(-(time + T_a/2)/tau_cbo)*cos(omega_cbo*(time + T_a/2) - phi_cbo))\n",
    "    Ncbob=(1+ asym_cbo*exp(-(time - T_a/2)/tau_cbo)*cos(omega_cbo*(time - T_a/2) - phi_cbo))\n",
    "    Acbo=(1+ asym_cbo_A*exp(-time/tau_cbo)*cos(omega_cbo*time - phi_cbo_A));\n",
    "    Acbof=(1+ asym_cbo_A*exp(-(time + T_a/2)/tau_cbo)*cos(omega_cbo*(time + T_a/2) - phi_cbo_A))\n",
    "    Acbob=(1+ asym_cbo_A*exp(-(time - T_a/2)/tau_cbo)*cos(omega_cbo*(time - T_a/2) - phi_cbo_A))\n",
    "    phicbo=(A_cbo_phi*exp(-time/tau_cbo)*cos(omega_cbo*time - phi_cbo_phi))\n",
    "    phicbof=(A_cbo_phi*exp(-(time + T_a/2)/tau_cbo)*cos(omega_cbo*(time + T_a/2) - phi_cbo_phi))\n",
    "    phicbob=(A_cbo_phi*exp(-(time - T_a/2)/tau_cbo)*cos(omega_cbo*(time - T_a/2) - phi_cbo_phi))\n",
    "\n",
    "\n",
    "    f=(1+ asym*Acbo*cos((getBlinded.paramToFreq(R)/1000.)*time - phi - phicbo))\n",
    "\n",
    "    ff=(1+ asym*Acbof*cos((getBlinded.paramToFreq(R)/1000.)*(time + T_a/2) - phi - phicbof))\n",
    "\n",
    "    fb=(1+ asym*Acbob*cos((getBlinded.paramToFreq(R)/1000.)*(time - T_a/2) - phi - phicbob))\n",
    "\n",
    "    \n",
    "    return (2*f*Ncbo - ff*Ncbof - fb*Ncbob)/(2*f*Ncbo + ff*Ncbof + fb*Ncbob)"
   ]
  },
  {
   "cell_type": "code",
   "execution_count": 11,
   "id": "c282d103",
   "metadata": {},
   "outputs": [],
   "source": [
    "def fit_func15(time: np.double,\n",
    "               asym: np.double = 0.0, \n",
    "               R: np.double = 0.0, \n",
    "               phi: np.double = 0.0,\n",
    "               asym_cbo = 0.0,\n",
    "               tau_cbo = 0.0,\n",
    "               omega_cbo = 0.0,\n",
    "               phi_cbo = 0.0,\n",
    "               asym_cbo_A = 0.0,\n",
    "               phi_cbo_A=0.0,\n",
    "               A_cbo_phi= 0.0,\n",
    "               phi_cbo_phi=0.0,\n",
    "               asym_2cbo= 0.0,\n",
    "               phi_2cbo = 0.0)-> np.double:\n",
    "    \n",
    "    Ncbo=(1 + asym_cbo*exp(-time/tau_cbo)*cos(omega_cbo*time - phi_cbo))\n",
    "    Ncbof=(1+ asym_cbo*exp(-(time + T_a/2)/tau_cbo)*cos(omega_cbo*(time + T_a/2) - phi_cbo))\n",
    "    Ncbob=(1+ asym_cbo*exp(-(time - T_a/2)/tau_cbo)*cos(omega_cbo*(time - T_a/2) - phi_cbo))\n",
    "    Acbo=(1+ asym_cbo_A*exp(-time/tau_cbo)*cos(omega_cbo*time - phi_cbo_A));\n",
    "    Acbof=(1+ asym_cbo_A*exp(-(time + T_a/2)/tau_cbo)*cos(omega_cbo*(time + T_a/2) - phi_cbo_A))\n",
    "    Acbob=(1+ asym_cbo_A*exp(-(time - T_a/2)/tau_cbo)*cos(omega_cbo*(time - T_a/2) - phi_cbo_A))\n",
    "    phicbo=(A_cbo_phi*exp(-time/tau_cbo)*cos(omega_cbo*time - phi_cbo_phi))\n",
    "    phicbof=(A_cbo_phi*exp(-(time + T_a/2)/tau_cbo)*cos(omega_cbo*(time + T_a/2) - phi_cbo_phi))\n",
    "    phicbob=(A_cbo_phi*exp(-(time - T_a/2)/tau_cbo)*cos(omega_cbo*(time - T_a/2) - phi_cbo_phi))\n",
    "    N2cbo=(asym_2cbo*exp(-time/(tau_cbo/2))*cos(2*omega_cbo*time - phi_2cbo))\n",
    "    N2cbof=(asym_2cbo*exp(-(time + T_a/2)/(tau_cbo/2))*cos(2*omega_cbo*(time + T_a/2) - phi_2cbo))\n",
    "    N2cbob=(asym_2cbo*exp(-(time - T_a/2)/(tau_cbo/2))*cos(2*omega_cbo*(time - T_a/2) - phi_2cbo))\n",
    "\n",
    "    Ncbo=Ncbo+N2cbo\n",
    "    Ncbof=Ncbof+N2cbof\n",
    "    Ncbob=Ncbob+N2cbob\n",
    "\n",
    "    f=(1+ asym*Acbo*cos((getBlinded.paramToFreq(R)/1000.)*time - phi - phicbo))\n",
    "\n",
    "    ff=(1+ asym*Acbof*cos((getBlinded.paramToFreq(R)/1000.)*(time + T_a/2) - phi - phicbof))\n",
    "\n",
    "    fb=(1+ asym*Acbob*cos((getBlinded.paramToFreq(R)/1000.)*(time - T_a/2) - phi - phicbob))\n",
    "\n",
    "    \n",
    "    return (2*f*Ncbo - ff*Ncbof - fb*Ncbob)/(2*f*Ncbo + ff*Ncbof + fb*Ncbob)"
   ]
  },
  {
   "cell_type": "code",
   "execution_count": 12,
   "id": "c039fcc0",
   "metadata": {},
   "outputs": [],
   "source": [
    "def fit_func19(time: np.double,\n",
    "               asym: np.double = 0.0, \n",
    "               R: np.double = 0.0, \n",
    "               phi: np.double = 0.0,\n",
    "               asym_cbo = 0.0,\n",
    "               tau_cbo = 0.0,\n",
    "               omega_cbo = 0.0,\n",
    "               phi_cbo = 0.0,\n",
    "               asym_cbo_A = 0.0,\n",
    "               phi_cbo_A=0.0,\n",
    "               A_cbo_phi= 0.0,\n",
    "               phi_cbo_phi=0.0,\n",
    "               asym_2cbo= 0.0,\n",
    "               phi_2cbo = 0.0,\n",
    "               asym_vw= 0.0,\n",
    "               phi_vw = 0.0)-> np.double:\n",
    "    \n",
    "    tau_vw = 75360\n",
    "    omega_vw = 0.01389\n",
    "\n",
    "    \n",
    "    Ncbo=(1 + asym_cbo*exp(-time/tau_cbo)*cos(omega_cbo*time - phi_cbo))\n",
    "    Ncbof=(1+ asym_cbo*exp(-(time + T_a/2)/tau_cbo)*cos(omega_cbo*(time + T_a/2) - phi_cbo))\n",
    "    Ncbob=(1+ asym_cbo*exp(-(time - T_a/2)/tau_cbo)*cos(omega_cbo*(time - T_a/2) - phi_cbo))\n",
    "    Acbo=(1+ asym_cbo_A*exp(-time/tau_cbo)*cos(omega_cbo*time - phi_cbo_A));\n",
    "    Acbof=(1+ asym_cbo_A*exp(-(time + T_a/2)/tau_cbo)*cos(omega_cbo*(time + T_a/2) - phi_cbo_A))\n",
    "    Acbob=(1+ asym_cbo_A*exp(-(time - T_a/2)/tau_cbo)*cos(omega_cbo*(time - T_a/2) - phi_cbo_A))\n",
    "    phicbo=(A_cbo_phi*exp(-time/tau_cbo)*cos(omega_cbo*time - phi_cbo_phi))\n",
    "    phicbof=(A_cbo_phi*exp(-(time + T_a/2)/tau_cbo)*cos(omega_cbo*(time + T_a/2) - phi_cbo_phi))\n",
    "    phicbob=(A_cbo_phi*exp(-(time - T_a/2)/tau_cbo)*cos(omega_cbo*(time - T_a/2) - phi_cbo_phi))\n",
    "    N2cbo=(asym_2cbo*exp(-time/(tau_cbo/2))*cos(2*omega_cbo*time - phi_2cbo))\n",
    "    N2cbof=(asym_2cbo*exp(-(time + T_a/2)/(tau_cbo/2))*cos(2*omega_cbo*(time + T_a/2) - phi_2cbo))\n",
    "    N2cbob=(asym_2cbo*exp(-(time - T_a/2)/(tau_cbo/2))*cos(2*omega_cbo*(time - T_a/2) - phi_2cbo))\n",
    "    Nvw=(1+ asym_vw*exp(-time/tau_vw)*cos(omega_vw*time - phi_vw))\n",
    "    Nvwf=(1+ asym_vw*exp(-(time + T_a/2)/tau_vw)*cos(omega_vw*(time + T_a/2) - phi_vw))\n",
    "    Nvwb=(1+ asym_vw*exp(-(time - T_a/2)/tau_vw)*cos(omega_vw*(time - T_a/2) - phi_vw))\n",
    "\n",
    "    \n",
    "    Ncbo=Ncbo+N2cbo\n",
    "    Ncbof=Ncbof+N2cbof\n",
    "    Ncbob=Ncbob+N2cbob\n",
    "\n",
    "    f=(1+ asym*Acbo*cos((getBlinded.paramToFreq(R)/1000.)*time - phi - phicbo))\n",
    "\n",
    "    ff=(1+ asym*Acbof*cos((getBlinded.paramToFreq(R)/1000.)*(time + T_a/2) - phi - phicbof))\n",
    "\n",
    "    fb=(1+ asym*Acbob*cos((getBlinded.paramToFreq(R)/1000.)*(time - T_a/2) - phi - phicbob))\n",
    "\n",
    "    \n",
    "    return (2*f*Ncbo*Nvw - ff*Ncbof*Nvwf - fb*Ncbob*Nvwb)/(2*f*Ncbo*Nvw + ff*Ncbof*Nvwf + fb*Ncbob*Nvwb)"
   ]
  },
  {
   "cell_type": "code",
   "execution_count": 13,
   "id": "be3de1c8",
   "metadata": {},
   "outputs": [],
   "source": [
    "def fit_func23(time: np.double,\n",
    "               asym: np.double = 0.0, \n",
    "               R: np.double = 0.0, \n",
    "               phi: np.double = 0.0,\n",
    "               asym_cbo = 0.0,\n",
    "               tau_cbo = 0.0,\n",
    "               omega_cbo = 0.0,\n",
    "               phi_cbo = 0.0,\n",
    "               asym_cbo_A = 0.0,\n",
    "               phi_cbo_A=0.0,\n",
    "               A_cbo_phi= 0.0,\n",
    "               phi_cbo_phi=0.0,\n",
    "               asym_2cbo= 0.0,\n",
    "               phi_2cbo = 0.0,\n",
    "               asym_vw= 0.0,\n",
    "               phi_vw = 0.0,\n",
    "               asym_vbo= 0.0,\n",
    "               phi_vbo = 0.0)-> np.double:\n",
    "    \n",
    "    tau_vw = 75360\n",
    "    omega_vw = 0.01389\n",
    "    \n",
    "    tau_vbo = 5500\n",
    "    omega_vbo = 0.0140986\n",
    "\n",
    "    \n",
    "    Ncbo=(1 + asym_cbo*exp(-time/tau_cbo)*cos(omega_cbo*time - phi_cbo))\n",
    "    Ncbof=(1+ asym_cbo*exp(-(time + T_a/2)/tau_cbo)*cos(omega_cbo*(time + T_a/2) - phi_cbo))\n",
    "    Ncbob=(1+ asym_cbo*exp(-(time - T_a/2)/tau_cbo)*cos(omega_cbo*(time - T_a/2) - phi_cbo))\n",
    "    Acbo=(1+ asym_cbo_A*exp(-time/tau_cbo)*cos(omega_cbo*time - phi_cbo_A));\n",
    "    Acbof=(1+ asym_cbo_A*exp(-(time + T_a/2)/tau_cbo)*cos(omega_cbo*(time + T_a/2) - phi_cbo_A))\n",
    "    Acbob=(1+ asym_cbo_A*exp(-(time - T_a/2)/tau_cbo)*cos(omega_cbo*(time - T_a/2) - phi_cbo_A))\n",
    "    phicbo=(A_cbo_phi*exp(-time/tau_cbo)*cos(omega_cbo*time - phi_cbo_phi))\n",
    "    phicbof=(A_cbo_phi*exp(-(time + T_a/2)/tau_cbo)*cos(omega_cbo*(time + T_a/2) - phi_cbo_phi))\n",
    "    phicbob=(A_cbo_phi*exp(-(time - T_a/2)/tau_cbo)*cos(omega_cbo*(time - T_a/2) - phi_cbo_phi))\n",
    "    N2cbo=(asym_2cbo*exp(-time/(tau_cbo/2))*cos(2*omega_cbo*time - phi_2cbo))\n",
    "    N2cbof=(asym_2cbo*exp(-(time + T_a/2)/(tau_cbo/2))*cos(2*omega_cbo*(time + T_a/2) - phi_2cbo))\n",
    "    N2cbob=(asym_2cbo*exp(-(time - T_a/2)/(tau_cbo/2))*cos(2*omega_cbo*(time - T_a/2) - phi_2cbo))\n",
    "    Nvw=(1+ asym_vw*exp(-time/tau_vw)*cos(omega_vw*time - phi_vw))\n",
    "    Nvwf=(1+ asym_vw*exp(-(time + T_a/2)/tau_vw)*cos(omega_vw*(time + T_a/2) - phi_vw))\n",
    "    Nvwb=(1+ asym_vw*exp(-(time - T_a/2)/tau_vw)*cos(omega_vw*(time - T_a/2) - phi_vw))\n",
    "    Nvbo=(1+ asym_vbo*exp(-time/tau_vbo)*cos(omega_vbo*time - phi_vbo))\n",
    "    Nvbof=(1+ asym_vbo*exp(-(time + T_a/2)/tau_vbo)*cos(omega_vbo*(time + T_a/2) - phi_vbo))\n",
    "    Nvbob=(1+ asym_vbo*exp(-(time - T_a/2)/tau_vbo)*cos(omega_vbo*(time - T_a/2) - phi_vbo))\n",
    "\n",
    "\n",
    "    \n",
    "    Ncbo=Ncbo+N2cbo\n",
    "    Ncbof=Ncbof+N2cbof\n",
    "    Ncbob=Ncbob+N2cbob\n",
    "\n",
    "    f=(1+ asym*Acbo*cos((getBlinded.paramToFreq(R)/1000.)*time - phi - phicbo))\n",
    "\n",
    "    ff=(1+ asym*Acbof*cos((getBlinded.paramToFreq(R)/1000.)*(time + T_a/2) - phi - phicbof))\n",
    "\n",
    "    fb=(1+ asym*Acbob*cos((getBlinded.paramToFreq(R)/1000.)*(time - T_a/2) - phi - phicbob))\n",
    "\n",
    "    \n",
    "    return (2*f*Ncbo*Nvw*Nvbo - ff*Ncbof*Nvwf*Nvbof - fb*Ncbob*Nvwb*Nvbob)/(2*f*Ncbo*Nvw*Nvbo + ff*Ncbof*Nvwf*Nvbof + fb*Ncbob*Nvwb*Nvbob)"
   ]
  },
  {
   "cell_type": "code",
   "execution_count": 14,
   "id": "2d6fef06",
   "metadata": {},
   "outputs": [],
   "source": [
    "def fit_func27(time: np.double,\n",
    "               asym: np.double = 0.0, \n",
    "               R: np.double = 0.0, \n",
    "               phi: np.double = 0.0,\n",
    "               asym_cbo = 0.0,\n",
    "               tau_cbo = 0.0,\n",
    "               omega_cbo = 0.0,\n",
    "               phi_cbo = 0.0,\n",
    "               asym_cbo_A = 0.0,\n",
    "               phi_cbo_A=0.0,\n",
    "               A_cbo_phi= 0.0,\n",
    "               phi_cbo_phi=0.0,\n",
    "               asym_2cbo= 0.0,\n",
    "               phi_2cbo = 0.0,\n",
    "               asym_vw= 0.0,\n",
    "               phi_vw = 0.0,\n",
    "               asym_vbo= 0.0,\n",
    "               phi_vbo = 0.0,\n",
    "               asym_new= 0.0,\n",
    "               phi_new = 0.0,)-> np.double:\n",
    "    \n",
    "    tau_vw = 75360\n",
    "    omega_vw = 0.01389\n",
    "    \n",
    "    tau_vbo = 5500\n",
    "    omega_vbo = 0.0140986\n",
    "    \n",
    "    tau_new = 28000\n",
    "    omega_new = 0.01428\n",
    "\n",
    "    \n",
    "    Ncbo=(1 + asym_cbo*exp(-time/tau_cbo)*cos(omega_cbo*time - phi_cbo))\n",
    "    Ncbof=(1+ asym_cbo*exp(-(time + T_a/2)/tau_cbo)*cos(omega_cbo*(time + T_a/2) - phi_cbo))\n",
    "    Ncbob=(1+ asym_cbo*exp(-(time - T_a/2)/tau_cbo)*cos(omega_cbo*(time - T_a/2) - phi_cbo))\n",
    "    Acbo=(1+ asym_cbo_A*exp(-time/tau_cbo)*cos(omega_cbo*time - phi_cbo_A));\n",
    "    Acbof=(1+ asym_cbo_A*exp(-(time + T_a/2)/tau_cbo)*cos(omega_cbo*(time + T_a/2) - phi_cbo_A))\n",
    "    Acbob=(1+ asym_cbo_A*exp(-(time - T_a/2)/tau_cbo)*cos(omega_cbo*(time - T_a/2) - phi_cbo_A))\n",
    "    phicbo=(A_cbo_phi*exp(-time/tau_cbo)*cos(omega_cbo*time - phi_cbo_phi))\n",
    "    phicbof=(A_cbo_phi*exp(-(time + T_a/2)/tau_cbo)*cos(omega_cbo*(time + T_a/2) - phi_cbo_phi))\n",
    "    phicbob=(A_cbo_phi*exp(-(time - T_a/2)/tau_cbo)*cos(omega_cbo*(time - T_a/2) - phi_cbo_phi))\n",
    "    N2cbo=(asym_2cbo*exp(-time/(tau_cbo/2))*cos(2*omega_cbo*time - phi_2cbo))\n",
    "    N2cbof=(asym_2cbo*exp(-(time + T_a/2)/(tau_cbo/2))*cos(2*omega_cbo*(time + T_a/2) - phi_2cbo))\n",
    "    N2cbob=(asym_2cbo*exp(-(time - T_a/2)/(tau_cbo/2))*cos(2*omega_cbo*(time - T_a/2) - phi_2cbo))\n",
    "    Nvw=(1+ asym_vw*exp(-time/tau_vw)*cos(omega_vw*time - phi_vw))\n",
    "    Nvwf=(1+ asym_vw*exp(-(time + T_a/2)/tau_vw)*cos(omega_vw*(time + T_a/2) - phi_vw))\n",
    "    Nvwb=(1+ asym_vw*exp(-(time - T_a/2)/tau_vw)*cos(omega_vw*(time - T_a/2) - phi_vw))\n",
    "    Nvbo=(1+ asym_vbo*exp(-time/tau_vbo)*cos(omega_vbo*time - phi_vbo))\n",
    "    Nvbof=(1+ asym_vbo*exp(-(time + T_a/2)/tau_vbo)*cos(omega_vbo*(time + T_a/2) - phi_vbo))\n",
    "    Nvbob=(1+ asym_vbo*exp(-(time - T_a/2)/tau_vbo)*cos(omega_vbo*(time - T_a/2) - phi_vbo))\n",
    "    Nnew=(1+ asym_new*exp(-time/tau_new)*cos(omega_new*time - phi_new))\n",
    "    Nnewf=(1+ asym_new*exp(-(time + T_a/2)/tau_new)*cos(omega_new*(time + T_a/2) - phi_new))\n",
    "    Nnewb=(1+ asym_new*exp(-(time - T_a/2)/tau_new)*cos(omega_new*(time - T_a/2) - phi_new))\n",
    "\n",
    "\n",
    "\n",
    "    \n",
    "    Ncbo=Ncbo+N2cbo\n",
    "    Ncbof=Ncbof+N2cbof\n",
    "    Ncbob=Ncbob+N2cbob\n",
    "\n",
    "    f=(1+ asym*Acbo*cos((getBlinded.paramToFreq(R)/1000.)*time - phi - phicbo))\n",
    "\n",
    "    ff=(1+ asym*Acbof*cos((getBlinded.paramToFreq(R)/1000.)*(time + T_a/2) - phi - phicbof))\n",
    "\n",
    "    fb=(1+ asym*Acbob*cos((getBlinded.paramToFreq(R)/1000.)*(time - T_a/2) - phi - phicbob))\n",
    "\n",
    "    \n",
    "    return (2*f*Ncbo*Nvw*Nvbo*Nnew - ff*Ncbof*Nvwf*Nvbof*Nnewf - fb*Ncbob*Nvwb*Nvbob*Nnewb)/(2*f*Ncbo*Nvw*Nvbo*Nnew + ff*Ncbof*Nvwf*Nvbof*Nnewf + fb*Ncbob*Nvwb*Nvbob*Nnewb)"
   ]
  },
  {
   "cell_type": "code",
   "execution_count": 15,
   "id": "ea83a6e3",
   "metadata": {},
   "outputs": [],
   "source": [
    "p_init3=[2.28839e-01,\n",
    "        0.000000,\n",
    "        4.02055e+00]"
   ]
  },
  {
   "cell_type": "code",
   "execution_count": 16,
   "id": "9ff4246a",
   "metadata": {},
   "outputs": [
    {
     "name": "stdout",
     "output_type": "stream",
     "text": [
      "CPU times: user 17.3 s, sys: 12.9 s, total: 30.2 s\n",
      "Wall time: 4 s\n"
     ]
    }
   ],
   "source": [
    "%%time\n",
    "for icalo in range(0,24): \n",
    "    pars3, cov3 = opt.curve_fit(f=fit_func3, xdata=x_val[icalo], ydata=y_val[icalo], p0=p_init3, sigma=y_cov[icalo]) \n",
    "    \n",
    "    stdevs3=np.sqrt(np.diag(cov3))\n",
    "    calonum[icalo]=icalo+1\n",
    "    rval3[icalo]=pars3[1]\n",
    "    drval3[icalo]=stdevs3[1]"
   ]
  },
  {
   "cell_type": "code",
   "execution_count": 17,
   "id": "04a6c589",
   "metadata": {},
   "outputs": [],
   "source": [
    "    p_init7=[pars3[0],\n",
    "             pars3[1],\n",
    "             pars3[2],\n",
    "             0.02,\n",
    "             230000,\n",
    "             0.002329,\n",
    "             1.99+(icalo*(6.28/24))]"
   ]
  },
  {
   "cell_type": "code",
   "execution_count": 18,
   "id": "887fcc77",
   "metadata": {},
   "outputs": [
    {
     "name": "stderr",
     "output_type": "stream",
     "text": [
      "/home/ritwika/.local/lib/python3.6/site-packages/scipy/optimize/minpack.py:829: OptimizeWarning: Covariance of the parameters could not be estimated\n",
      "  category=OptimizeWarning)\n"
     ]
    },
    {
     "name": "stdout",
     "output_type": "stream",
     "text": [
      "CPU times: user 27.5 s, sys: 13.4 s, total: 40.9 s\n",
      "Wall time: 13 s\n"
     ]
    }
   ],
   "source": [
    "%%time\n",
    "for icalo in range(0,24): \n",
    "    pars7, cov7 = opt.curve_fit(f=fit_func7, xdata=x_val[icalo], ydata=y_val[icalo], p0=p_init7, sigma=y_cov[icalo]) \n",
    "    \n",
    "    stdevs7=np.sqrt(np.diag(cov7))\n",
    "    calonum[icalo]=icalo+1\n",
    "    rval7[icalo]=pars7[1]\n",
    "    drval7[icalo]=stdevs7[1]"
   ]
  },
  {
   "cell_type": "code",
   "execution_count": 19,
   "id": "c6a6296a",
   "metadata": {},
   "outputs": [],
   "source": [
    "    p_init11=[pars7[0],\n",
    "              pars7[1],\n",
    "              pars7[2],\n",
    "              pars7[3],\n",
    "              pars7[4],\n",
    "              pars7[5],\n",
    "              pars7[6],\n",
    "              0.017,\n",
    "              1.1,\n",
    "              0.0027,\n",
    "              0.99]\n"
   ]
  },
  {
   "cell_type": "code",
   "execution_count": 20,
   "id": "2bdf8cea",
   "metadata": {},
   "outputs": [
    {
     "name": "stdout",
     "output_type": "stream",
     "text": [
      "CPU times: user 37.4 s, sys: 13.9 s, total: 51.3 s\n",
      "Wall time: 23.5 s\n"
     ]
    }
   ],
   "source": [
    "%%time\n",
    "for icalo in range(0,24): \n",
    "    pars11, cov11 = opt.curve_fit(f=fit_func11, xdata=x_val[icalo], ydata=y_val[icalo], p0=p_init11, sigma=y_cov[icalo]) \n",
    "    \n",
    "    stdevs11=np.sqrt(np.diag(cov11))\n",
    "    calonum[icalo]=icalo+1\n",
    "    rval11[icalo]=pars11[1]\n",
    "    drval11[icalo]=stdevs11[1]"
   ]
  },
  {
   "cell_type": "code",
   "execution_count": 21,
   "id": "9cf5af91",
   "metadata": {},
   "outputs": [
    {
     "data": {
      "text/plain": [
       "array([-28.29564677, -35.20860338, -34.01231991, -26.29385633,\n",
       "       -32.43068755, -31.04833641, -28.36309672, -24.74179154,\n",
       "       -37.70996319, -37.66937351, -30.81828356, -28.24132514,\n",
       "       -36.33907484, -38.44671211, -39.42515174, -33.67579442,\n",
       "       -42.63093689, -39.81997902, -38.30727572, -35.71334949,\n",
       "       -38.37666921, -37.61791818, -32.02499517, -28.83274531])"
      ]
     },
     "execution_count": 21,
     "metadata": {},
     "output_type": "execute_result"
    }
   ],
   "source": [
    "rval11"
   ]
  },
  {
   "cell_type": "code",
   "execution_count": 22,
   "id": "4cd52843",
   "metadata": {},
   "outputs": [
    {
     "data": {
      "text/plain": [
       "array([4.18885827, 3.84165763, 3.92416832, 4.07405332, 4.14945655,\n",
       "       4.17533463, 4.13849551, 4.01933764, 4.08100903, 4.34723943,\n",
       "       4.23901582, 4.11201007, 5.21572288, 4.15445627, 4.22243427,\n",
       "       4.1316187 , 4.36924493, 4.30060946, 5.55693386, 4.10175674,\n",
       "       4.10133049, 3.91251301, 4.35322903, 4.09952565])"
      ]
     },
     "execution_count": 22,
     "metadata": {},
     "output_type": "execute_result"
    }
   ],
   "source": [
    "drval11"
   ]
  },
  {
   "cell_type": "code",
   "execution_count": 21,
   "id": "20e55266",
   "metadata": {},
   "outputs": [],
   "source": [
    "    p_init15=[pars11[0],\n",
    "              pars11[1],\n",
    "              pars11[2],\n",
    "              pars11[3],\n",
    "              pars11[4],\n",
    "              pars11[5],\n",
    "              pars11[6],\n",
    "              pars11[7],\n",
    "              pars11[8],\n",
    "              pars11[9],\n",
    "              pars11[10],\n",
    "              0.0007,\n",
    "              5.1]\n"
   ]
  },
  {
   "cell_type": "code",
   "execution_count": 22,
   "id": "f145518f",
   "metadata": {},
   "outputs": [
    {
     "name": "stdout",
     "output_type": "stream",
     "text": [
      "CPU times: user 52.5 s, sys: 13.8 s, total: 1min 6s\n",
      "Wall time: 39 s\n"
     ]
    }
   ],
   "source": [
    "%%time\n",
    "for icalo in range(0,24): \n",
    "    pars15, cov15 = opt.curve_fit(f=fit_func15, xdata=x_val[icalo], ydata=y_val[icalo], p0=p_init15, sigma=y_cov[icalo]) \n",
    "    \n",
    "    stdevs15=np.sqrt(np.diag(cov15))\n",
    "    calonum[icalo]=icalo+1\n",
    "    rval15[icalo]=pars15[1]\n",
    "    drval15[icalo]=stdevs15[1]"
   ]
  },
  {
   "cell_type": "code",
   "execution_count": 23,
   "id": "e7bb4160",
   "metadata": {},
   "outputs": [],
   "source": [
    "p_init19=[pars15[0],\n",
    "              pars15[1],\n",
    "              pars15[2],\n",
    "              pars15[3],\n",
    "              pars15[4],\n",
    "              pars15[5],\n",
    "              pars15[6],\n",
    "              pars15[7],\n",
    "              pars15[8],\n",
    "              pars15[9],\n",
    "              pars15[10],\n",
    "              pars15[11],\n",
    "              pars15[12],\n",
    "              0.0006,\n",
    "              5.1]\n"
   ]
  },
  {
   "cell_type": "code",
   "execution_count": 24,
   "id": "ef8d8258",
   "metadata": {},
   "outputs": [
    {
     "name": "stdout",
     "output_type": "stream",
     "text": [
      "CPU times: user 1min 7s, sys: 14.1 s, total: 1min 21s\n",
      "Wall time: 53.3 s\n"
     ]
    }
   ],
   "source": [
    "%%time\n",
    "for icalo in range(0,24): \n",
    "    pars19, cov19 = opt.curve_fit(f=fit_func19, xdata=x_val[icalo], ydata=y_val[icalo], p0=p_init19, sigma=y_cov[icalo]) \n",
    "    \n",
    "    stdevs19=np.sqrt(np.diag(cov19))\n",
    "    calonum[icalo]=icalo+1\n",
    "    rval19[icalo]=pars19[1]\n",
    "    drval19[icalo]=stdevs19[1]"
   ]
  },
  {
   "cell_type": "code",
   "execution_count": 25,
   "id": "d3418c7e",
   "metadata": {},
   "outputs": [],
   "source": [
    "p_init23=[pars19[0],\n",
    "              pars19[1],\n",
    "              pars19[2],\n",
    "              pars19[3],\n",
    "              pars19[4],\n",
    "              pars19[5],\n",
    "              pars19[6],\n",
    "              pars19[7],\n",
    "              pars19[8],\n",
    "              pars19[9],\n",
    "              pars19[10],\n",
    "              pars19[11],\n",
    "              pars19[12],\n",
    "              pars19[13],\n",
    "              pars19[14],\n",
    "              0.09,\n",
    "              3.9]\n"
   ]
  },
  {
   "cell_type": "code",
   "execution_count": 26,
   "id": "a1eec8e0",
   "metadata": {},
   "outputs": [
    {
     "name": "stdout",
     "output_type": "stream",
     "text": [
      "CPU times: user 1min 21s, sys: 14.3 s, total: 1min 35s\n",
      "Wall time: 1min 7s\n"
     ]
    }
   ],
   "source": [
    "%%time\n",
    "for icalo in range(0,24): \n",
    "    pars2, cov2 = opt.curve_fit(f=fit_func23, xdata=x_val[icalo], ydata=y_val[icalo], p0=p_init23, sigma=y_cov[icalo]) \n",
    "    \n",
    "    stdevs=np.sqrt(np.diag(cov2))\n",
    "    calonum[icalo]=icalo+1\n",
    "    rval23[icalo]=pars2[1]\n",
    "    drval23[icalo]=stdevs[1]\n",
    "    \n",
    "    asym[icalo]=pars2[0]\n",
    "    dasym[icalo]=stdevs[0]\n",
    "    rval[icalo]=pars2[1]\n",
    "    drval[icalo]=stdevs[1]\n",
    "    phi[icalo]=pars2[2]\n",
    "    dphi[icalo]=stdevs[2]\n",
    "    A_cbo[icalo]=pars2[3]\n",
    "    dA_cbo[icalo]=stdevs[3]\n",
    "    tau_cbo[icalo]=pars2[4]\n",
    "    dtau_cbo[icalo]=stdevs[4]\n",
    "    omega_cbo[icalo]=pars2[5]\n",
    "    domega_cbo[icalo]=stdevs[5]\n",
    "    phi_cbo[icalo]=pars2[6]\n",
    "    dphi_cbo[icalo]=stdevs[6]\n",
    "    A_cbo_A[icalo]=pars2[7]\n",
    "    dA_cbo_A[icalo]=stdevs[7]\n",
    "    phi_cbo_A[icalo]=pars2[8]\n",
    "    dphi_cbo_A[icalo]=stdevs[8]\n",
    "    A_cbo_phi[icalo]=pars2[9]\n",
    "    dA_cbo_phi[icalo]=stdevs[9]\n",
    "    phi_cbo_phi[icalo]=pars2[10]\n",
    "    dphi_cbo_phi[icalo]=stdevs[10]\n",
    "    A_2cbo[icalo]=pars2[11]\n",
    "    dA_2cbo[icalo]=stdevs[11]\n",
    "    phi_2cbo[icalo]=pars2[12]\n",
    "    dphi_2cbo[icalo]=stdevs[12]\n",
    "    A_y[icalo]=pars2[13]\n",
    "    dA_y[icalo]=stdevs[13]\n",
    "    phi_y[icalo]=pars2[14]\n",
    "    dphi_y[icalo]=stdevs[14]\n",
    "    A_vw[icalo]=pars2[15]\n",
    "    dA_vw[icalo]=stdevs[15]\n",
    "    phi_vw[icalo]=pars2[16]\n",
    "    dphi_vw[icalo]=stdevs[16]"
   ]
  },
  {
   "cell_type": "code",
   "execution_count": 27,
   "id": "bd043ba9",
   "metadata": {},
   "outputs": [],
   "source": [
    "def fit_Rwave(x: np.double,\n",
    "              amp: np.double = 0.0, \n",
    "              phase: np.double = 0.0, \n",
    "              offset: np.double = 0.0)-> np.double:\n",
    "    \n",
    "    Romega=0.2618\n",
    "    \n",
    "    return amp*sin(Romega*x+phase)+offset\n",
    "\n"
   ]
  },
  {
   "cell_type": "code",
   "execution_count": 28,
   "id": "a4617285",
   "metadata": {},
   "outputs": [
    {
     "data": {
      "image/png": "[encoded data removed]",
      "text/plain": [
       "<Figure size 864x576 with 1 Axes>"
      ]
     },
     "metadata": {
      "needs_background": "light"
     },
     "output_type": "display_data"
    },
    {
     "name": "stdout",
     "output_type": "stream",
     "text": [
      "chi2/ndf= 53.195005532576154 /21\n",
      "amplitude= 2.845657822079152  phase= 1.3497855082611117  offset= -33.129447645642216\n"
     ]
    }
   ],
   "source": [
    "p_0=[1.0,1.5,-35]\n",
    "\n",
    "rwave_p, rwave_cov = opt.curve_fit(f=fit_Rwave, xdata=calonum, ydata=rval3, p0=p_0, sigma=drval3)\n",
    "\n",
    "plt.figure(figsize=(12,8))\n",
    "plt.rc('xtick', labelsize=20) \n",
    "plt.rc('ytick', labelsize=20) \n",
    "plt.errorbar(calonum, rval3, yerr=drval3, fmt=\"o\")\n",
    "plt.plot(calonum, fit_Rwave(calonum, *rwave_p), linestyle='solid', linewidth=1, color='red')\n",
    "plt.xlabel('Calo index',fontsize=25)\n",
    "plt.ylabel('R [ppm]',fontsize=25)\n",
    "plt.show()\n",
    "chi2_1=np.empty(24)\n",
    "chi2_1=(fit_Rwave(calonum, *rwave_p)-rval3)*(fit_Rwave(calonum, *rwave_p)-rval)/(drval3*drval3)\n",
    "print('chi2/ndf=',sum(chi2_1),'/21')\n",
    "print('amplitude=',rwave_p[0],' phase=',rwave_p[1],' offset=',rwave_p[2])\n"
   ]
  },
  {
   "cell_type": "code",
   "execution_count": 29,
   "id": "fb12abf2",
   "metadata": {},
   "outputs": [
    {
     "data": {
      "image/png": "[encoded data removed]",
      "text/plain": [
       "<Figure size 864x576 with 1 Axes>"
      ]
     },
     "metadata": {
      "needs_background": "light"
     },
     "output_type": "display_data"
    },
    {
     "name": "stdout",
     "output_type": "stream",
     "text": [
      "chi2/ndf= 64.59646318646934 /21\n",
      "amplitude= 2.0388936749331923  phase= 1.3300565026639186  offset= -32.89597168565388\n"
     ]
    }
   ],
   "source": [
    "p_0=[1.0,1.5,-35]\n",
    "\n",
    "rwave_p, rwave_cov = opt.curve_fit(f=fit_Rwave, xdata=calonum, ydata=rval7, p0=p_0, sigma=drval7)\n",
    "\n",
    "plt.figure(figsize=(12,8))\n",
    "plt.rc('xtick', labelsize=20) \n",
    "plt.rc('ytick', labelsize=20) \n",
    "plt.errorbar(calonum, rval7, yerr=drval7, fmt=\"o\")\n",
    "plt.plot(calonum, fit_Rwave(calonum, *rwave_p), linestyle='solid', linewidth=1, color='red')\n",
    "plt.xlabel('Calo index',fontsize=25)\n",
    "plt.ylabel('R [ppm]',fontsize=25)\n",
    "plt.show()\n",
    "chi2_1=np.empty(24)\n",
    "chi2_1=(fit_Rwave(calonum, *rwave_p)-rval7)*(fit_Rwave(calonum, *rwave_p)-rval7)/(drval7*drval7)\n",
    "print('chi2/ndf=',sum(chi2_1),'/21')\n",
    "print('amplitude=',rwave_p[0],' phase=',rwave_p[1],' offset=',rwave_p[2])\n",
    "#plt.savefig('run3btom_caloscan_Rfit_sine.jpg')"
   ]
  },
  {
   "cell_type": "code",
   "execution_count": 30,
   "id": "d3775c6f",
   "metadata": {},
   "outputs": [
    {
     "data": {
      "image/png": "[encoded data removed]",
      "text/plain": [
       "<Figure size 864x576 with 1 Axes>"
      ]
     },
     "metadata": {
      "needs_background": "light"
     },
     "output_type": "display_data"
    },
    {
     "name": "stdout",
     "output_type": "stream",
     "text": [
      "chi2/ndf= 66.33753993892569 /21\n",
      "amplitude= 1.8886846556697108  phase= 1.3487326073818362  offset= -32.90028445086578\n"
     ]
    }
   ],
   "source": [
    "p_0=[1.0,1.5,-35]\n",
    "\n",
    "rwave_p, rwave_cov = opt.curve_fit(f=fit_Rwave, xdata=calonum, ydata=rval11, p0=p_0, sigma=drval11)\n",
    "\n",
    "plt.figure(figsize=(12,8))\n",
    "plt.rc('xtick', labelsize=20) \n",
    "plt.rc('ytick', labelsize=20) \n",
    "plt.errorbar(calonum, rval11, yerr=drval11, fmt=\"o\")\n",
    "plt.plot(calonum, fit_Rwave(calonum, *rwave_p), linestyle='solid', linewidth=1, color='red')\n",
    "plt.xlabel('Calo index',fontsize=25)\n",
    "plt.ylabel('R [ppm]',fontsize=25)\n",
    "plt.show()\n",
    "chi2_1=np.empty(24)\n",
    "chi2_1=(fit_Rwave(calonum, *rwave_p)-rval11)*(fit_Rwave(calonum, *rwave_p)-rval11)/(drval11*drval11)\n",
    "print('chi2/ndf=',sum(chi2_1),'/21')\n",
    "print('amplitude=',rwave_p[0],' phase=',rwave_p[1],' offset=',rwave_p[2])\n",
    "#plt.savefig('run3btom_caloscan_Rfit_sine.jpg')"
   ]
  },
  {
   "cell_type": "code",
   "execution_count": 31,
   "id": "fa57881e",
   "metadata": {},
   "outputs": [
    {
     "data": {
      "image/png": "[encoded data removed]",
      "text/plain": [
       "<Figure size 864x576 with 1 Axes>"
      ]
     },
     "metadata": {
      "needs_background": "light"
     },
     "output_type": "display_data"
    },
    {
     "name": "stdout",
     "output_type": "stream",
     "text": [
      "chi2/ndf= 67.19780929074527 /21\n",
      "amplitude= 1.9191241762494646  phase= 1.3484391909369051  offset= -32.909928114289265\n"
     ]
    }
   ],
   "source": [
    "p_0=[1.0,1.5,-35]\n",
    "\n",
    "rwave_p, rwave_cov = opt.curve_fit(f=fit_Rwave, xdata=calonum, ydata=rval15, p0=p_0, sigma=drval15)\n",
    "\n",
    "plt.figure(figsize=(12,8))\n",
    "plt.rc('xtick', labelsize=20) \n",
    "plt.rc('ytick', labelsize=20) \n",
    "plt.errorbar(calonum, rval15, yerr=drval15, fmt=\"o\")\n",
    "plt.plot(calonum, fit_Rwave(calonum, *rwave_p), linestyle='solid', linewidth=1, color='red')\n",
    "plt.xlabel('Calo index',fontsize=25)\n",
    "plt.ylabel('R [ppm]',fontsize=25)\n",
    "plt.show()\n",
    "chi2_1=np.empty(24)\n",
    "chi2_1=(fit_Rwave(calonum, *rwave_p)-rval15)*(fit_Rwave(calonum, *rwave_p)-rval15)/(drval15*drval15)\n",
    "print('chi2/ndf=',sum(chi2_1),'/21')\n",
    "print('amplitude=',rwave_p[0],' phase=',rwave_p[1],' offset=',rwave_p[2])\n",
    "#plt.savefig('run3btom_caloscan_Rfit_sine.jpg')"
   ]
  },
  {
   "cell_type": "code",
   "execution_count": 32,
   "id": "4c23da7a",
   "metadata": {},
   "outputs": [
    {
     "data": {
      "image/png": "[encoded data removed]",
      "text/plain": [
       "<Figure size 864x576 with 1 Axes>"
      ]
     },
     "metadata": {
      "needs_background": "light"
     },
     "output_type": "display_data"
    },
    {
     "name": "stdout",
     "output_type": "stream",
     "text": [
      "chi2/ndf= 67.40442696067895 /21\n",
      "amplitude= 1.9268022957006163  phase= 1.3319642267242147  offset= -32.900479262961014\n"
     ]
    }
   ],
   "source": [
    "p_0=[1.0,1.5,-35]\n",
    "\n",
    "rwave_p, rwave_cov = opt.curve_fit(f=fit_Rwave, xdata=calonum, ydata=rval19, p0=p_0, sigma=drval19)\n",
    "\n",
    "plt.figure(figsize=(12,8))\n",
    "plt.rc('xtick', labelsize=20) \n",
    "plt.rc('ytick', labelsize=20) \n",
    "plt.errorbar(calonum, rval19, yerr=drval19, fmt=\"o\")\n",
    "plt.plot(calonum, fit_Rwave(calonum, *rwave_p), linestyle='solid', linewidth=1, color='red')\n",
    "plt.xlabel('Calo index',fontsize=25)\n",
    "plt.ylabel('R [ppm]',fontsize=25)\n",
    "plt.show()\n",
    "chi2_1=np.empty(24)\n",
    "chi2_1=(fit_Rwave(calonum, *rwave_p)-rval19)*(fit_Rwave(calonum, *rwave_p)-rval19)/(drval19*drval19)\n",
    "print('chi2/ndf=',sum(chi2_1),'/21')\n",
    "print('amplitude=',rwave_p[0],' phase=',rwave_p[1],' offset=',rwave_p[2])\n",
    "#plt.savefig('run3btom_caloscan_Rfit_sine.jpg')"
   ]
  },
  {
   "cell_type": "code",
   "execution_count": 33,
   "id": "4896b784",
   "metadata": {},
   "outputs": [
    {
     "data": {
      "image/png": "[encoded data removed]",
      "text/plain": [
       "<Figure size 864x576 with 1 Axes>"
      ]
     },
     "metadata": {
      "needs_background": "light"
     },
     "output_type": "display_data"
    },
    {
     "name": "stdout",
     "output_type": "stream",
     "text": [
      "chi2/ndf= 68.39453224937736 /21\n",
      "amplitude= 2.0097815576022704  phase= 1.3548457496392654  offset= -32.91446831486367\n"
     ]
    }
   ],
   "source": [
    "p_0=[1.0,1.5,-35]\n",
    "\n",
    "rwave_p, rwave_cov = opt.curve_fit(f=fit_Rwave, xdata=calonum, ydata=rval, p0=p_0, sigma=drval)\n",
    "\n",
    "plt.figure(figsize=(12,8))\n",
    "plt.rc('xtick', labelsize=20) \n",
    "plt.rc('ytick', labelsize=20) \n",
    "plt.errorbar(calonum, rval, yerr=drval, fmt=\"o\")\n",
    "plt.plot(calonum, fit_Rwave(calonum, *rwave_p), linestyle='solid', linewidth=1, color='red')\n",
    "plt.xlabel('Calo index',fontsize=25)\n",
    "plt.ylabel('R [ppm]',fontsize=25)\n",
    "plt.show()\n",
    "chi2_1=np.empty(24)\n",
    "chi2_1=(fit_Rwave(calonum, *rwave_p)-rval)*(fit_Rwave(calonum, *rwave_p)-rval)/(drval*drval)\n",
    "print('chi2/ndf=',sum(chi2_1),'/21')\n",
    "print('amplitude=',rwave_p[0],' phase=',rwave_p[1],' offset=',rwave_p[2])\n",
    "#plt.savefig('run3btom_caloscan_Rfit_sine.jpg')"
   ]
  },
  {
   "cell_type": "code",
   "execution_count": 34,
   "id": "f9418424",
   "metadata": {},
   "outputs": [
    {
     "data": {
      "text/plain": [
       "array([-29.90901203, -29.2358089 , -35.8241054 , -30.78210948,\n",
       "       -30.66747694, -28.39294116, -31.76862095, -28.83434307,\n",
       "       -40.92371329, -39.66713417, -36.31599578, -30.50293757,\n",
       "       -31.58448814, -37.58680462, -42.83508869, -22.91201002,\n",
       "       -37.24317615, -30.52063165, -35.95509137, -27.08857274,\n",
       "       -32.60583529, -38.32296789, -27.42813081, -31.88084933])"
      ]
     },
     "execution_count": 34,
     "metadata": {},
     "output_type": "execute_result"
    }
   ],
   "source": [
    "rval11"
   ]
  },
  {
   "cell_type": "code",
   "execution_count": 35,
   "id": "5efeb6f4",
   "metadata": {},
   "outputs": [
    {
     "data": {
      "text/plain": [
       "array([2.57242598, 2.49891559, 2.61056751, 2.76419676, 2.82924261,\n",
       "       2.74404331, 2.72349696, 2.74631889, 2.838339  , 2.77033057,\n",
       "       2.84563481, 2.55452694, 2.82773391, 2.56044363, 2.80513976,\n",
       "       2.71665842, 2.75160518, 2.57024506, 2.78546265, 2.65068387,\n",
       "       2.70462419, 2.65356849, 4.51932381, 2.60319752])"
      ]
     },
     "execution_count": 35,
     "metadata": {},
     "output_type": "execute_result"
    }
   ],
   "source": [
    "drval11"
   ]
  },
  {
   "cell_type": "code",
   "execution_count": 36,
   "id": "bfa51f01",
   "metadata": {},
   "outputs": [
    {
     "data": {
      "text/plain": [
       "array([-28.96594727, -28.38807139, -35.15751447, -30.52195411,\n",
       "       -30.32234067, -28.4114601 , -31.99896426, -29.26332886,\n",
       "       -41.39887675, -40.09439342, -37.20998071, -31.21121106,\n",
       "       -32.71290433, -38.42484855, -43.51866308, -23.28162532,\n",
       "       -37.55452155, -31.32154672, -36.6806007 , -27.31006259,\n",
       "       -32.1966896 , -37.67501106, -26.75315602, -31.13825341])"
      ]
     },
     "execution_count": 36,
     "metadata": {},
     "output_type": "execute_result"
    }
   ],
   "source": [
    "rval3"
   ]
  },
  {
   "cell_type": "code",
   "execution_count": null,
   "id": "10a8de0e",
   "metadata": {},
   "outputs": [],
   "source": []
  }
 ],
 "metadata": {
  "kernelspec": {
   "display_name": "Python 3",
   "language": "python",
   "name": "python3"
  },
  "language_info": {
   "codemirror_mode": {
    "name": "ipython",
    "version": 3
   },
   "file_extension": ".py",
   "mimetype": "text/x-python",
   "name": "python",
   "nbconvert_exporter": "python",
   "pygments_lexer": "ipython3",
   "version": "3.6.9"
  }
 },
 "nbformat": 4,
 "nbformat_minor": 5
}
